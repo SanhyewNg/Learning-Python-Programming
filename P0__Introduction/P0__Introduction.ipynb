{
 "cells": [
  {
   "cell_type": "markdown",
   "metadata": {},
   "source": [
    "# Part 1. Introduction to Python\n",
    "\n",
    ":begin_tab:toc\n",
    " - [1. Python Installation, Configuration, and Running](1__Install-Config-Run/1__Install-Config-Run.ipynb)\n",
    "     - [1.1. Installing the Python Interpreter](1__Install-Config-Run/1_1__Install.ipynb)\n",
    "     - [1.2. Configuring Python](1__Install-Config-Run/1_2__Config.ipynb)\n",
    "     - [1.3. Running Python](1__Install-Config-Run/1_3__Running.ipynb)\n",
    " - [2. How Python Works](2__How-Work/2__How-Work.ipynb)\n",
    " - [3. A Python Q&A Session](3__QA/3__QA.ipynb)\n",
    "    \n",
    ":end_tab:"
   ]
  }
 ],
 "metadata": {
  "kernelspec": {
   "display_name": "Python 3",
   "language": "python",
   "name": "python3"
  },
  "language_info": {
   "codemirror_mode": {
    "name": "ipython",
    "version": 3
   },
   "file_extension": ".py",
   "mimetype": "text/x-python",
   "name": "python",
   "nbconvert_exporter": "python",
   "pygments_lexer": "ipython3",
   "version": "3.8.8"
  }
 },
 "nbformat": 4,
 "nbformat_minor": 4
}
