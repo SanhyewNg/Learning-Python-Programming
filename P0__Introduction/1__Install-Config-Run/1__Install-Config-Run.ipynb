{
 "cells": [
  {
   "cell_type": "markdown",
   "metadata": {
    "origin_pos": 0
   },
   "source": [
    "# 1. Python Installation, Configuration, and Running\n",
    "\n",
    "This chapter provides Python installation and configuration details for people new to these topics. Because it covers some peripheral topics such as environment variables and command-line arguments, though, this material probably merits at least a quick scan for most readers."
   ]
  }
 ],
 "metadata": {
  "language_info": {
   "name": "python"
  }
 },
 "nbformat": 4,
 "nbformat_minor": 4
}
