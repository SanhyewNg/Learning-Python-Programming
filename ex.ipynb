{
 "cells": [
  {
   "cell_type": "markdown",
   "metadata": {},
   "source": [
    "This is [an example](http://example.com/ \"Title\") inline link.\n",
    "\n",
    "[This link](http://example.net/) has no title attribute.\n",
    "\n",
    "\n",
    "<p>This is <a href=\"http://example.com/\" title=\"Title\">\n",
    "an example</a> inline link.</p>\n",
    "\n",
    "<p><a href=\"http://example.net/\">This link</a> has no\n",
    "title attribute.</p>"
   ]
  },
  {
   "cell_type": "markdown",
   "metadata": {},
   "source": [
    "See my [About](/about/) page for details.   \n",
    "\n",
    "This is [an example][id] reference-style link.\n",
    "\n",
    "[id]: http://example.com/  \"Optional Title Here\"\n",
    "[id]: http://example.com/  'Optional Title Here'\n",
    "[id]: http://example.com/  (Optional Title Here)"
   ]
  },
  {
   "cell_type": "code",
   "execution_count": null,
   "metadata": {},
   "outputs": [],
   "source": []
  }
 ],
 "metadata": {
  "language_info": {
   "name": "python"
  },
  "orig_nbformat": 4
 },
 "nbformat": 4,
 "nbformat_minor": 2
}
