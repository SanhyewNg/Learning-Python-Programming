{
 "cells": [
  {
   "cell_type": "markdown",
   "metadata": {
    "origin_pos": 0
   },
   "source": [
    "Python Notebook\n",
    "========================\n",
    "\n",
    "```eval_rst\n",
    ".. raw:: html\n",
    "   :file: frontpage.html\n",
    "```\n",
    "\n",
    ":begin_tab:toc\n",
    " - [Preface](Preface.ipynb)\n",
    "\n",
    ":end_tab:\n",
    "\n",
    ":begin_tab:toc \n",
    " - [Part 0. Introduction to Python](P0__Introduction/P0__Introduction.ipynb)\n",
    " - [Part 1. Python Basics: Language](P1__Basics/P1__Basics.ipynb)\n",
    " - [Part 2. Python Advanced: Project](P2__Advanced/P2__Advanced.ipynb)\n",
    " - [Part 3. Python Intermediate: Coding](P3__Intermediate/P3__Intermediate.ipynb)\n",
    ":end_tab:\n",
    "\n",
    ":begin_tab:toc\n",
    " - [Appendix](PA__Appendix/PA__Appendix.ipynb)\n",
    "\n",
    ":end_tab:\n"
   ]
  },
  {
   "cell_type": "markdown",
   "metadata": {},
   "source": []
  }
 ],
 "metadata": {
  "kernelspec": {
   "display_name": "Python 3",
   "language": "python",
   "name": "python3"
  },
  "language_info": {
   "codemirror_mode": {
    "name": "ipython",
    "version": 3
   },
   "file_extension": ".py",
   "mimetype": "text/x-python",
   "name": "python",
   "nbconvert_exporter": "python",
   "pygments_lexer": "ipython3",
   "version": "3.8.8"
  }
 },
 "nbformat": 4,
 "nbformat_minor": 4
}
