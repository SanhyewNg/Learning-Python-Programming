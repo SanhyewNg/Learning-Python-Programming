{
 "cells": [
  {
   "cell_type": "markdown",
   "metadata": {},
   "source": [
    "# Part 2. Python Basics: Language\n",
    "\n",
    ":begin_tab:toc\n",
    " - [1. Data Types and Operations](1__Types-Operations/1__Types-Operations.ipynb)\n",
    " - [2. Statements and Syntax](2__Statements-Syntax/2__Statements-Syntax.ipynb)\n",
    " - [3. Functions and Generators](3__Function-Generator/3__Function-Generator.ipynb)\n",
    " - [4. Modules and Packages](4__Module-Package/4__Module-Package.ipynb)\n",
    " - [5. Classes and OOP](5__Classes-OOP/5__Classes-OOP.ipynb)\n",
    " - [6. Decorators and Metaclasses](6__Deco-Meta/6__Deco-Meta.ipynb)\n",
    " - [7. Exceptions and Tools](7__Exception/7__Exception.ipynb)\n",
    " - [8. Documentation and Summary](8__Doc-Sum/8__Doc-Sum.ipynb)\n",
    "    \n",
    ":end_tab:"
   ]
  }
 ],
 "metadata": {
  "language_info": {
   "name": "python"
  },
  "orig_nbformat": 4
 },
 "nbformat": 4,
 "nbformat_minor": 2
}
