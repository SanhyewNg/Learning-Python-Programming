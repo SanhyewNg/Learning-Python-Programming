{
 "cells": [],
 "metadata": {
  "interpreter": {
   "hash": "c97461ed06fc3eed5ba645d4221719a96ff8e1e800c131564c8e628fd4e8725a"
  },
  "kernelspec": {
   "display_name": "Python 3.8.8 ('base')",
   "language": "python",
   "name": "python3"
  },
  "language_info": {
   "codemirror_mode": {
    "name": "ipython",
    "version": 3
   },
   "file_extension": ".py",
   "mimetype": "text/x-python",
   "name": "python",
   "nbconvert_exporter": "python",
   "pygments_lexer": "ipython3",
   "version": "3.8.8"
  },
  "orig_nbformat": 4
 },
 "nbformat": 4,
 "nbformat_minor": 2
}
