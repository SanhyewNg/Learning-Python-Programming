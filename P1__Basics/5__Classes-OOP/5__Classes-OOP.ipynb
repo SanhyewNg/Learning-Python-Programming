{
 "cells": [
  {
   "cell_type": "markdown",
   "metadata": {},
   "source": [
    "# Classes\n",
    "\n",
    "\n",
    "So far, we’ve been using the term “object” generically. Really, the code\n",
    "written up to this point has been *object-based*—we’ve passed objects around our scripts,\n",
    "used them in expressions, called their methods, and so on. For our code to qualify as\n",
    "being truly *object-oriented* (OO), though, our objects will generally need to also \n",
    "participate in something called an *inheritance hierarchy*.\n",
    "\n",
    "This chapter begins our exploration of the Python ***class***—a coding structure and device\n",
    "used to implement new kinds of objects in Python that support inheritance. Classes are\n",
    "Python’s main object-oriented programming (OOP) tool, so we’ll also look at OOP\n",
    "basics. OOP offers a different and often more\n",
    "effective way of programming, in which we factor code to minimize redundancy, and\n",
    "write new programs by *customizing* existing code instead of changing it in place.\n",
    "\n",
    "In Python, classes are created with a new statement: the `class`. As you’ll see, the objects\n",
    "defined with classes can look a lot like the built-in types.\n",
    "In fact, classes really just apply and extend the ideas we’ve already covered; roughly,\n",
    "they are packages of functions that use and process built-in object types. Classes,\n",
    "though, are designed to create and manage new objects, and support *inheritance*—a\n",
    "mechanism of code customization and reuse above and beyond anything we’ve seen\n",
    "so far.\n",
    "\n",
    "One note up front: in Python, OOP is entirely optional, and you don’t need to use\n",
    "classes just to get started. You can get plenty of work done with simpler constructs such\n",
    "as functions, or even simple top-level script code. Because using classes well requires\n",
    "some up-front planning, they tend to be of more interest to people who work in *strategic* \n",
    "mode (doing long-term product development) than to people who work in *tactical* mode \n",
    "(where time is in very short supply).\n",
    "\n",
    "Still, as you’ll see, classes turn out to be one of the most useful\n",
    "tools Python provides. When used well, classes can actually cut development time\n",
    "radically. They’re also employed in popular Python tools like the tkinter GUI API, so\n",
    "most Python programmers will usually find at least a working knowledge of class basics\n",
    "helpful.\n"
   ]
  },
  {
   "cell_type": "markdown",
   "metadata": {},
   "source": [
    "\n",
    "- [Class Coding Basics](5.1__Class-Coding-Basics.ipynb)\n",
    "- [Class Coding: A Realistic Example](5.2__A-Realistic-Example.ipynb)\n",
    "- [Class Coding Details](5.3__Class-Coding-Details.ipynb)\n",
    "- [Operator Overloading](5.4__Operator-Overloading.ipynb)\n",
    "- [Advanced Class Topics](5.5__Advanced-Class-Topics.ipynb)\n"
   ]
  }
 ],
 "metadata": {
  "language_info": {
   "name": "python"
  },
  "orig_nbformat": 4
 },
 "nbformat": 4,
 "nbformat_minor": 2
}
