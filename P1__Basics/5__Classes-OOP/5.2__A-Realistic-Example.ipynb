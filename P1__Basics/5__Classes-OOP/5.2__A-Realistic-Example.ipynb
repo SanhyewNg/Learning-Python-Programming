{
 "cells": [
  {
   "cell_type": "markdown",
   "metadata": {},
   "source": [
    "# Class Coding: A Realistic Example\n",
    "\n",
    "\n",
    "In this section, we’re going to build a set of classes that do\n",
    "something more concrete—recording and processing information about people. As\n",
    "you’ll see, what we call *instances* and *classes* in Python programming can often serve\n",
    "the same roles as *records* and *programs* in more traditional terms.\n",
    "\n",
    "Specifically, in this section we’re going to code two classes:\n",
    "\n",
    "  + `Person`—a class that creates and processes information about \n",
    "  \n",
    "  + `Manager`—a customization of `Person` that modifies inherited behavior\n",
    "\n",
    "Along the way, we’ll make instances of both classes and test out their functionality.\n",
    "When we’re done, I’ll show you a nice example use case for classes—we’ll store our\n",
    "instances in a *shelve* object-oriented database, to make them permanent. That way, you\n",
    "can use this code as a template for fleshing out a full-blown personal database written\n",
    "entirely in Python.\n",
    "\n",
    "Besides actual utility, though, our aim here is also *educational*: this section provides a\n",
    "tutorial on object-oriented programming in Python. Often, people grasp the last section’s \n",
    "class syntax on paper, but have trouble seeing how to get started when confronted\n",
    "with having to code a new class from scratch. Toward this end, we’ll take it one step\n",
    "at a time here, to help you learn the basics; we’ll build up the classes gradually, so you\n",
    "can see how their features come together in complete programs.\n",
    "\n",
    "In the end, our classes will still be relatively small in terms of code, but they will\n",
    "demonstrate *all* of the main ideas in Python’s OOP model. Despite its syntax details,\n",
    "Python’s class system really is largely just a matter of searching for an attribute in a tree\n",
    "of objects, along with a special first argument for functions."
   ]
  },
  {
   "cell_type": "markdown",
   "metadata": {},
   "source": [
    "## Step 1: Making Instances\n",
    "\n",
    "\n",
    "OK, so much for the design phase—let’s move on to implementation. Our first task is\n",
    "to start coding the main class, `Person`. In your favorite text editor, open a new file for\n",
    "the code we’ll be writing. It’s a fairly strong convention in Python to begin module\n",
    "names with a lowercase letter and class names with an uppercase letter; like the name\n",
    "of `self` arguments in methods, this is not required by the language, but it’s so common\n",
    "that deviating might be confusing to people who later read your code. To conform,\n",
    "we’ll call our new module file `person.py` and our class within it `Person`, like this:\n",
    "\n",
    "```python\n",
    "    # File person.py (start)\n",
    "\n",
    "    class Person:                           # Start a class\n",
    "```\n",
    "\n",
    "All our work will be done in this file until later in this section. We can code any number\n",
    "of functions and classes in a single module file in Python, and this one’s `person.py` name\n",
    "might not make much sense if we add unrelated components to it later. For now, we’ll\n",
    "assume everything in it will be `Person`-related. It probably should be anyhow—as we’ve\n",
    "learned, modules tend to work best when they have a single, *cohesive* purpose."
   ]
  },
  {
   "cell_type": "markdown",
   "metadata": {},
   "source": [
    "### Coding Constructors\n",
    "\n",
    "\n",
    "Now, the first thing we want to do with our `Person` class is record basic information\n",
    "about people—to fill out record fields, if you will. Of course, these are known as instance \n",
    "object *attributes* in Python-speak, and they generally are created by assignment\n",
    "to `self` attributes in a class’s method functions. The normal way to give instance attributes \n",
    "their first values is to assign them to `self` in the `__init__` ***constructor method***,\n",
    "which contains code run automatically by Python each time an instance is created. Let’s\n",
    "add one to our class:\n",
    "\n",
    "```python\n",
    "    # Add record field initialization\n",
    "\n",
    "    class Person:\n",
    "        def __init__(self, name, job, pay):         # Constructor takes three arguments\n",
    "            self.name = name                        # Fill out fields when created\n",
    "            self.job = job                          # self is the new instance object\n",
    "            self.pay = pay\n",
    "```\n",
    "\n",
    "This is a very common coding pattern: we pass in the data to be attached to an instance\n",
    "as arguments to the constructor method and assign them to `self` to retain them permanently. \n",
    "In OO terms, `self` is the newly created instance object, and `name`, `job`, and `pay` \n",
    "become *state information*—descriptive data saved on an object for later use. \n",
    "Although other techniques (such as enclosing scope reference closures) can save details,\n",
    "too, instance attributes make this very explicit and easy to understand.\n",
    "\n",
    "Notice that the argument names appear *twice* here. This code might even seem a bit\n",
    "redundant at first, but it’s not. The `job` argument, for example, is a local variable in the\n",
    "scope of the `__init__` function, but `self.job` is an attribute of the instance that’s the\n",
    "implied subject of the method call. They are two different variables, which happen to\n",
    "have the same name. By assigning the `job` local to the `self.job` attribute with\n",
    "`self.job=job`, we save the passed-in `job` on the instance for later use. As usual in Python,\n",
    "where a name is assigned, or what object it is assigned to, determines what it means.\n",
    "\n",
    "Speaking of arguments, there’s really nothing magical about `__init__`, apart from the\n",
    "fact that it’s called automatically when an instance is made and has a special first argument. \n",
    "Despite its weird name, it’s a normal function and supports all the features of\n",
    "functions we’ve already covered. We can, for example, provide *defaults* for some of its\n",
    "arguments, so they need not be provided in cases where their values aren’t available or\n",
    "useful.\n",
    "\n",
    "To demonstrate, let’s make the job argument optional—it will default to `None`, meaning\n",
    "the person being created is not (currently) employed. If `job` defaults to `None`, we’ll\n",
    "probably want to default `pay` to `0`, too, for consistency (unless some of the people you\n",
    "know manage to get paid without having jobs!). In fact, we have to specify a default\n",
    "for `pay` because according to Python’s syntax rules and [Chapter 18](), any arguments in\n",
    "a function’s header after the first default must all have defaults, too:"
   ]
  },
  {
   "cell_type": "code",
   "execution_count": 1,
   "metadata": {},
   "outputs": [],
   "source": [
    "# Add defaults for constructor arguments\n",
    "\n",
    "class Person:\n",
    "    def __init__(self, name, job=None, pay=0):  # Normal function args\n",
    "        self.name = name\n",
    "        self.job = job\n",
    "        self.pay = pay"
   ]
  },
  {
   "cell_type": "markdown",
   "metadata": {},
   "source": [
    "What this code means is that we’ll need to pass in a name when making `Person`s, but\n",
    "`job` and `pay` are now optional; they’ll default to `None` and `0` if omitted. The `self` \n",
    "argument, as usual, is filled in by Python automatically to refer to the instance object—\n",
    "assigning values to attributes of `self` attaches them to the new instance."
   ]
  },
  {
   "cell_type": "markdown",
   "metadata": {},
   "source": [
    "### Testing As You Go\n",
    "\n",
    "This class doesn’t do much yet—it essentially just fills out the fields of a new record—\n",
    "but it’s a real working class. At this point we could add more code to it for more features,\n",
    "but we won’t do that yet. As you’ve probably begun to appreciate already, programming\n",
    "in Python is really a matter of *incremental prototyping*—you write some code, test it,\n",
    "write more code, test again, and so on. Because Python provides both an interactive\n",
    "session and nearly immediate turnaround after code changes, it’s more natural to test\n",
    "as you go than to write a huge amount of code to test all at once.\n",
    "\n",
    "Before adding more features, then, let’s test what we’ve got so far by making a few\n",
    "instances of our class and displaying their attributes as created by the constructor. We\n",
    "could do this interactively, but as you’ve also probably surmised by now, interactive\n",
    "testing has its limits—it gets tedious to have to reimport modules and retype test cases\n",
    "each time you start a new testing session. More commonly, Python programmers use\n",
    "the interactive prompt for simple one-off tests but do more substantial testing by writing\n",
    "code at the bottom of the file that contains the objects to be tested, like this:\n",
    "\n",
    "```python\n",
    "    # Add incremental self-test code\n",
    "\n",
    "    class Person:\n",
    "        def __init__(self, name, job=None, pay=0):\n",
    "            self.name = name\n",
    "            self.job = job\n",
    "            self.pay = pay\n",
    "\n",
    "    bob = Person('Bob Smith')                           # Test the class\n",
    "    sue = Person('Sue Jones', job='dev', pay=100000)    # Runs __init__ automatically\n",
    "    print(bob.name, bob.pay)                            # Fetch attached attributes\n",
    "    print(sue.name, sue.pay)                            # sue's and bob's attrs differ\n",
    "```\n",
    "\n",
    "Notice here that the bob object accepts the defaults for `job` and `pay`, but `sue` provides\n",
    "values explicitly. Also note how we use *keyword arguments* when making `sue`; we could\n",
    "pass by position instead, but the keywords may help remind us later what the data is,\n",
    "and they allow us to pass the arguments in any left-to-right order we like. Again, despite\n",
    "its unusual name, `__init__` is a normal function, supporting everything you already\n",
    "know about functions—including both defaults and pass-by-name keyword arguments.\n",
    "\n",
    "When this file runs as a script, the test code at the bottom makes two instances of our\n",
    "class and prints two attributes of each (`name` and `pay`):"
   ]
  },
  {
   "cell_type": "code",
   "execution_count": 2,
   "metadata": {},
   "outputs": [
    {
     "name": "stdout",
     "output_type": "stream",
     "text": [
      "Bob Smith 0\n",
      "Sue Jones 100000\n"
     ]
    }
   ],
   "source": [
    "bob = Person('Bob Smith')                           # Test the class\n",
    "sue = Person('Sue Jones', job='dev', pay=100000)    # Runs __init__ automatically\n",
    "print(bob.name, bob.pay)                            # Fetch attached attributes\n",
    "print(sue.name, sue.pay)                            # sue's and bob's attrs differ"
   ]
  },
  {
   "cell_type": "markdown",
   "metadata": {},
   "source": [
    "Although this is fairly simple code, it’s already demonstrating something important.\n",
    "Notice that `bob`’s `name` is not `sue`’s, and `sue`’s pay is not `bob`’s. Each is an independent\n",
    "record of information. Technically, `bob` and `sue` are both *namespace objects*—like all\n",
    "class instances, they each have their own independent copy of the state information\n",
    "created by the class. Because each instance of a class has its own set of `self` attributes,\n",
    "classes are a natural for recording information for multiple objects this way; just like\n",
    "built-in types such as lists and dictionaries, classes serve as a sort of *object factory*.\n",
    "\n",
    "Other Python program structures, such as functions and modules, have no such concept. \n",
    "[Chapter 17]()’s closure functions come close in terms of per-call state, but don’t\n",
    "have the multiple methods, inheritance, and larger structure we get from classes."
   ]
  },
  {
   "cell_type": "markdown",
   "metadata": {},
   "source": [
    "## Step 2: Adding Behavior Methods\n",
    "\n",
    "\n",
    "Everything looks good so far—at this point, our class is essentially a record *factory*; \n",
    "it creates and fills out fields of records (attributes of instances, in more Pythonic terms).\n",
    "Even as limited as it is, though, we can still run some operations on its objects. Although\n",
    "classes add an extra layer of structure, they ultimately do most of their work by embedding \n",
    "and processing basic *core data types* like lists and strings. In other words, if\n",
    "you already know how to use Python’s simple core types, you already know much of\n",
    "the Python class story; classes are really just a minor structural extension.\n",
    "\n",
    "For example, the `name` field of our objects is a simple string, so we can extract last names\n",
    "from our objects by splitting on spaces and indexing. These are all core data type operations, \n",
    "which work whether their subjects are embedded in class instances or not:\n"
   ]
  },
  {
   "cell_type": "code",
   "execution_count": 3,
   "metadata": {},
   "outputs": [
    {
     "data": {
      "text/plain": [
       "['Bob', 'Smith']"
      ]
     },
     "execution_count": 3,
     "metadata": {},
     "output_type": "execute_result"
    }
   ],
   "source": [
    "name = 'Bob Smith'          # Simple string, outside class\n",
    "name.split()                # Extract last name"
   ]
  },
  {
   "cell_type": "code",
   "execution_count": 4,
   "metadata": {},
   "outputs": [
    {
     "data": {
      "text/plain": [
       "'Smith'"
      ]
     },
     "execution_count": 4,
     "metadata": {},
     "output_type": "execute_result"
    }
   ],
   "source": [
    "name.split()[-1]            # Or [1], if always just two parts"
   ]
  },
  {
   "cell_type": "markdown",
   "metadata": {},
   "source": [
    "Similarly, we can give an object a pay raise by updating its pay field—that is, by changing\n",
    "its state information in place with an assignment. This task also involves basic operations \n",
    "that work on Python’s core objects, regardless of whether they are standalone or\n",
    "embedded in a class structure (I’m formatting the result in the following to mask the\n",
    "fact that different Pythons print a different number of decimal digits):"
   ]
  },
  {
   "cell_type": "code",
   "execution_count": 5,
   "metadata": {},
   "outputs": [
    {
     "name": "stdout",
     "output_type": "stream",
     "text": [
      "110000.00\n"
     ]
    }
   ],
   "source": [
    "pay = 100000 # Simple variable, outside class\n",
    "pay *= 1.10 # Give a 10% raise\n",
    "print('%.2f' % pay)"
   ]
  },
  {
   "cell_type": "markdown",
   "metadata": {},
   "source": [
    "To apply these operations to the `Person` objects created by our script, simply do to\n",
    "`bob.name` and `sue.pay` what we just did to `name` and `pay`. The operations are the same,\n",
    "but the subjects are attached as attributes to objects created from our class:"
   ]
  },
  {
   "cell_type": "code",
   "execution_count": 6,
   "metadata": {},
   "outputs": [
    {
     "name": "stdout",
     "output_type": "stream",
     "text": [
      "Smith\n",
      "110000.00\n"
     ]
    }
   ],
   "source": [
    "print(bob.name.split()[-1]) # Extract object's last name\n",
    "sue.pay *= 1.10 # Give this object a raise\n",
    "print('%.2f' % sue.pay)"
   ]
  },
  {
   "cell_type": "markdown",
   "metadata": {},
   "source": [
    "We’ve added the last three lines here; when they’re run, we extract `bob`’s last name by\n",
    "using basic string and list operations on his name field, and give sue a `pay` raise by\n",
    "modifying her `pay` attribute in place with basic number operations. In a sense, sue is\n",
    "also a *mutable* object—her state changes in place just like a list after an `append` call.\n",
    "\n",
    "The preceding code works as planned, but if you show it to a veteran software developer\n",
    "he or she will probably tell you that its general approach is not a great idea in practice.\n",
    "Hardcoding operations like these *outside* of the class can lead to maintenance problems\n",
    "in the future.\n",
    "\n",
    "For example, what if you’ve hardcoded the last-name-extraction formula at many \n",
    "different places in your program? If you ever need to change the way it works (to support\n",
    "a new name structure, for instance), you’ll need to hunt down and update *every* occurrence. \n",
    "Similarly, if the pay-raise code ever changes (e.g., to require approval or database updates), \n",
    "you may have multiple copies to modify. Just finding all the appearances of such code may be \n",
    "problematic in larger programs—they may be scattered\n",
    "across many files, split into individual steps, and so on. In a prototype like this, frequent\n",
    "change is almost guaranteed."
   ]
  },
  {
   "cell_type": "markdown",
   "metadata": {},
   "source": [
    "### Coding Methods\n",
    "\n",
    "\n",
    "What we really want to do here is employ a software design concept known as ***encapsulation***—\n",
    "wrapping up operation logic behind interfaces, such that each operation is\n",
    "coded only once in our program. That way, if our needs change in the future, there is\n",
    "just one copy to update. Moreover, we’re free to change the single copy’s internals\n",
    "almost arbitrarily, without breaking the code that uses it.\n",
    "\n",
    "In Python terms, we want to code operations on objects in a class’s *methods*, instead\n",
    "of littering them throughout our program. In fact, this is one of the things that classes\n",
    "are very good at—*factoring* code to remove *redundancy* and thus optimize maintainability. \n",
    "As an added bonus, turning operations into methods enables them to be applied\n",
    "to any instance of the class, not just those that they’ve been hardcoded to process.\n",
    "\n",
    "This is all simpler in code than it may sound in theory. The following achieves encapsulation \n",
    "by moving the two operations from code outside the class to methods inside\n",
    "the class. While we’re at it, let’s change our self-test code at the bottom to use the new\n",
    "methods we’re creating, instead of hardcoding operations:"
   ]
  },
  {
   "cell_type": "code",
   "execution_count": 7,
   "metadata": {},
   "outputs": [],
   "source": [
    "# Add methods to encapsulate operations for maintainability\n",
    "\n",
    "class Person:\n",
    "    def __init__(self, name, job=None, pay=0):\n",
    "        self.name = name\n",
    "        self.job = job\n",
    "        self.pay = pay\n",
    "    def lastName(self):                             # Behavior methods\n",
    "        return self.name.split()[-1]                # self is implied subject\n",
    "    def giveRaise(self, percent):\n",
    "        self.pay = int(self.pay * (1 + percent))    # Must change here only"
   ]
  },
  {
   "cell_type": "markdown",
   "metadata": {},
   "source": [
    "As we’ve learned, *methods* are simply normal functions that are attached to classes and\n",
    "designed to process instances of those classes. The instance is the subject of the method\n",
    "call and is passed to the method’s `self` argument automatically.\n",
    "\n",
    "The transformation to the methods in this version is straightforward. The new `lastName` \n",
    "method, for example, simply does to `self` what the previous version hardcoded \n",
    "for `bob`, because `self` is the implied subject when the method is called. `lastName` also\n",
    "returns the result, because this operation is a called function now; it computes a value\n",
    "for its caller to use arbitrarily, even if it is just to be printed. Similarly, the new\n",
    "`giveRaise` method just does to `self` what we did to `sue` before."
   ]
  },
  {
   "cell_type": "code",
   "execution_count": 8,
   "metadata": {},
   "outputs": [
    {
     "name": "stdout",
     "output_type": "stream",
     "text": [
      "Bob Smith 0\n",
      "Sue Jones 100000\n",
      "Smith Jones\n",
      "110000\n"
     ]
    }
   ],
   "source": [
    "bob = Person('Bob Smith')\n",
    "sue = Person('Sue Jones', job='dev', pay=100000)\n",
    "print(bob.name, bob.pay)\n",
    "print(sue.name, sue.pay)\n",
    "print(bob.lastName(), sue.lastName()) # Use the new methods\n",
    "sue.giveRaise(.10) # instead of hardcoding\n",
    "print(sue.pay)"
   ]
  },
  {
   "cell_type": "markdown",
   "metadata": {},
   "source": [
    "A few coding details are worth pointing out here. First, notice that `sue`’s `pay` is now still\n",
    "an *integer* after a pay raise—we convert the math result back to an integer by calling\n",
    "the `int` built-in within the method. Changing the value to either `int` or `float` is probably\n",
    "not a significant concern for this demo: integer and floating-point objects have the same\n",
    "interfaces and can be mixed within expressions. Still, we may need to address truncation\n",
    "and rounding issues in a real system—money probably is significant to `Person`s!\n",
    "\n",
    "As we learned in [Chapter 5](), we might handle this by using the `round(N, 2)` built-in to\n",
    "round and retain cents, using the `decimal` type to fix precision, or storing monetary\n",
    "values as full floating-point numbers and displaying them with a `%.2f` or `{0:.2f}` formatting string to show cents as we did earlier. For now, we’ll simply truncate any cents\n",
    "with `int`. For another idea, also see the `money` function in the `formats.py` module of\n",
    "[Chapter 25](); you could import this tool to show pay with commas, cents, and currency\n",
    "signs.\n",
    "\n",
    "Second, notice that we’re also printing sue’s last name this time—because the last-name\n",
    "logic has been encapsulated in a method, we get to use it on *any instance* of the class.\n",
    "As we’ve seen, Python tells a method which instance to process by automatically passing \n",
    "it in to the first argument, usually called `self`. Specifically:\n",
    "\n",
    "  + In the first call, `bob.lastName()`, `bob` is the implied subject passed to `self`.\n",
    "\n",
    "  + In the second call, `sue.lastName()`, `sue` goes to `self` instead.\n",
    "\n",
    "Trace through these calls to see how the instance winds up in `self`—it’s a key concept.\n",
    "The net effect is that the method fetches the name of the implied subject each time.\n",
    "The same happens for `giveRaise`. We could, for example, give `bob` a raise by calling\n",
    "`giveRaise` for both instances this way, too. Unfortunately for `bob`, though, his zero\n",
    "starting pay will prevent him from getting a raise as the program is currently coded—\n",
    "nothing times anything is nothing, something we may want to address in a future 2.0\n",
    "release of our software.\n",
    "\n",
    "Finally, notice that the `giveRaise` method assumes that percent is passed in as a \n",
    "floatingpoint number between zero and one. That may be too radical an assumption in the real\n",
    "world (a 1000% raise would probably be a bug for most of us!); we’ll let it pass for this\n",
    "prototype, but we might want to test or at least document this in a future iteration of\n",
    "this code. Stay tuned for a rehash of this idea in a later section in this book, where we’ll\n",
    "code something called *function decorators* and explore Python’s `assert` statement—\n",
    "alternatives that can do the validity test for us automatically during development. In\n",
    "[Chapter 39], for example, we’ll write a tool that lets us validate with strange incantations\n",
    "like the following:\n",
    "\n",
    "```python\n",
    "    @rangetest(percent=(0.0, 1.0))                  # Use decorator to validate\n",
    "    def giveRaise(self, percent):\n",
    "        self.pay = int(self.pay * (1 + percent))\n",
    "```"
   ]
  },
  {
   "cell_type": "markdown",
   "metadata": {},
   "source": [
    "## Step 3: Operator Overloading\n",
    "\n",
    "\n",
    "At this point, we have a fairly full-featured class that generates and initializes instances,\n",
    "along with two new bits of behavior for processing instances in the form of methods.\n",
    "So far, so good.\n",
    "\n",
    "As it stands, though, testing is still a bit less convenient than it needs to be—to trace\n",
    "our objects, we have to manually fetch and print *individual attributes* (e.g., `bob.name`,\n",
    "`sue.pay`). It would be nice if displaying an instance all at once actually gave us some\n",
    "useful information. Unfortunately, the default display format for an instance object\n",
    "isn’t very good—it displays the object’s class name, and its address in memory (which\n",
    "is essentially useless in Python, except as a unique identifier)."
   ]
  },
  {
   "cell_type": "code",
   "execution_count": 9,
   "metadata": {},
   "outputs": [
    {
     "name": "stdout",
     "output_type": "stream",
     "text": [
      "<__main__.Person object at 0x000001F328794610>\n"
     ]
    }
   ],
   "source": [
    "print(sue) "
   ]
  },
  {
   "cell_type": "markdown",
   "metadata": {},
   "source": [
    "Here’s what you’ll get—the output says that sue is an “object” in 3.X, and an\n",
    "“instance” in 2.X as coded:"
   ]
  },
  {
   "cell_type": "markdown",
   "metadata": {},
   "source": [
    "### Providing Print Displays\n",
    "\n",
    "\n",
    "Fortunately, it’s easy to do better by employing *operator overloading*—coding methods\n",
    "in a class that intercept and process built-in operations when run on the class’s instances. \n",
    "Specifically, we can make use of what are probably the second most commonly\n",
    "used operator overloading methods in Python, after `__init__`: the `__repr__` method\n",
    "we’ll deploy here, and its `__str__` twin introduced in the preceding section.\n",
    "\n",
    "These methods are run automatically every time an instance is converted to its print\n",
    "string. Because that’s what printing an object does, the net transitive effect is that\n",
    "printing an object displays whatever is returned by the object’s `__str__` or `__repr__`\n",
    "method, if the object either defines one itself or inherits one from a superclass. \n",
    "Doubleunderscored names are inherited just like any other.\n",
    "\n",
    "Technically, `__str__` is preferred by `print` and `str`, and `__repr__` is used as a fallback\n",
    "for these roles and in all other contexts. Although the two can be used to \n",
    "different displays in different contexts, coding just `__repr__` alone suffices to give a\n",
    "single display in all cases—prints, nested appearances, and interactive echoes. This still\n",
    "allows clients to provide an alternative display with `__str__`, but for limited contexts\n",
    "only; since this is a self-contained example, this is a moot point here.\n",
    "\n",
    "The `__init__` constructor method we’ve already coded is, strictly speaking, operator\n",
    "overloading too—it is run automatically at construction time to initialize a newly \n",
    "created instance. Constructors are so common, though, that they almost seem like a special\n",
    "case. More focused methods like `__repr__` allow us to tap into specific operations and\n",
    "provide *specialized behavior* when our objects are used in those contexts.\n",
    "\n",
    "Let’s put this into code. The following extends our class to give a custom display that\n",
    "lists attributes when our class’s instances are displayed as a whole, instead of relying\n",
    "on the less useful default display:"
   ]
  },
  {
   "cell_type": "code",
   "execution_count": 10,
   "metadata": {},
   "outputs": [],
   "source": [
    "# Add __repr__ overload method for printing objects\n",
    "\n",
    "class Person:\n",
    "    def __init__(self, name, job=None, pay=0):\n",
    "        self.name = name\n",
    "        self.job = job\n",
    "        self.pay = pay\n",
    "    def lastName(self):\n",
    "        return self.name.split()[-1]\n",
    "    def giveRaise(self, percent):\n",
    "        self.pay = int(self.pay * (1 + percent))\n",
    "    def __repr__(self):                                     # Added method\n",
    "        return '[Person: %s, %s]' % (self.name, self.pay)   # String to print"
   ]
  },
  {
   "cell_type": "code",
   "execution_count": 11,
   "metadata": {},
   "outputs": [
    {
     "name": "stdout",
     "output_type": "stream",
     "text": [
      "[Person: Bob Smith, 0]\n",
      "[Person: Sue Jones, 100000]\n",
      "Smith Jones\n",
      "[Person: Sue Jones, 110000]\n"
     ]
    }
   ],
   "source": [
    "bob = Person('Bob Smith')\n",
    "sue = Person('Sue Jones', job='dev', pay=100000)\n",
    "print(bob)\n",
    "print(sue)\n",
    "print(bob.lastName(), sue.lastName())\n",
    "sue.giveRaise(.10)\n",
    "print(sue)"
   ]
  },
  {
   "cell_type": "markdown",
   "metadata": {},
   "source": [
    "Notice that we’re doing string `%` formatting to build the display string in `__repr__` here;\n",
    "at the bottom, classes use built-in type objects and operations like these to get their\n",
    "work done. Again, everything you’ve already learned about both built-in types and\n",
    "functions applies to class-based code. Classes largely just add an additional layer of\n",
    "*structure* that packages functions and data together and supports extensions.\n",
    "\n",
    "We’ve also changed our self-test code to print objects directly, instead of printing \n",
    "individual attributes. When run, the output is more coherent and meaningful now; the\n",
    "“[...]” lines are returned by our new `__repr__`, run automatically by print operations:"
   ]
  },
  {
   "cell_type": "markdown",
   "metadata": {},
   "source": [
    "**Design note**:   \n",
    "\n",
    "As we’ll learn in [Chapter 30](), the `__repr__` method is often used to provide\n",
    "an as-code low-level display of an object when present, and `__str__` is reserved for more\n",
    "user-friendly informational displays like ours here. Sometimes classes provide both a\n",
    "`__str__` for user-friendly displays and a `__repr__` with extra details for developers to\n",
    "view. Because printing runs `__str__` and the interactive prompt echoes results with\n",
    "`__repr__`, this can provide both target audiences with an appropriate display.\n",
    "\n",
    "Since `__repr__` applies to more display cases, including nested appearances, and \n",
    "because we’re not interested in displaying two different formats, the all-inclusive\n",
    "`__repr__` is sufficient for our class. Here, this also means that our custom display will\n",
    "be used in 2.X if we list both `bob` and `sue` in a 3.X `print` call—a technically nested\n",
    "appearance, per [the sidebar in “Version Portability: Prints” on page 821]()."
   ]
  },
  {
   "cell_type": "markdown",
   "metadata": {},
   "source": [
    "## Step 4: Customizing Behavior by Subclassing\n",
    "\n",
    "\n",
    "At this point, our class captures much of the OOP machinery in Python: it makes\n",
    "instances, provides behavior in methods, and even does a bit of operator overloading\n",
    "now to intercept print operations in `__repr__`. It effectively packages our data and logic\n",
    "together into a single, self-contained *software component*, making it easy to locate code\n",
    "and straightforward to change it in the future. By allowing us to encapsulate behavior,\n",
    "it also allows us to factor that code to avoid redundancy and its associated maintenance\n",
    "headaches.\n",
    "\n",
    "The only major OOP concept it does not yet capture is *customization by inheritance*.\n",
    "In some sense, we’re already doing inheritance, because instances inherit methods from\n",
    "their classes. To demonstrate the real power of OOP, though, we need to define a\n",
    "superclass/subclass relationship that allows us to extend our software and replace bits\n",
    "of inherited behavior. That’s the main idea behind OOP, after all; by fostering a coding\n",
    "model based upon customization of work already done, it can dramatically cut development time."
   ]
  },
  {
   "cell_type": "markdown",
   "metadata": {},
   "source": [
    "### Coding Subclasses\n",
    "\n",
    "\n",
    "As a next step, then, let’s put OOP’s methodology to use and customize our `Person`\n",
    "class by extending our software hierarchy. For the purpose of this tutorial, we’ll define\n",
    "a subclass of `Person` called `Manager` that replaces the inherited `giveRaise` method with\n",
    "a more specialized version. Our new class begins as follows:\n",
    "\n",
    "```python\n",
    "    class Manager(Person):            # Define a subclass of `Person`\n",
    "```\n",
    "\n",
    "This code means that we’re defining a new class named `Manager`, which inherits from\n",
    "and may add customizations to the superclass `Person`. In plain terms, a `Manager` is almost\n",
    "like a `Person` (admittedly, a very long journey for a very small joke...), but `Manager` has\n",
    "a custom way to give raises.\n",
    "\n",
    "For the sake of argument, let’s assume that when a `Manager` gets a raise, it receives the\n",
    "passed-in percentage as usual, but also gets an extra bonus that defaults to 10%. For\n",
    "instance, if a `Manager`’s raise is specified as 10%, it will really get 20%. (Any relation to\n",
    "Persons living or dead is, of course, strictly coincidental.) Our new method begins as\n",
    "follows; because this redefinition of `giveRaise` will be closer in the class tree to `Manager` \n",
    "instances than the original version in `Person`, it effectively replaces, and thereby\n",
    "customizes, the operation. Recall that according to the inheritance search rules, the\n",
    "*lowest* version of the name wins:\n",
    "\n",
    "```python\n",
    "    class Manager(Person):                          # Inherit Person attrs\n",
    "        def giveRaise(self, percent, bonus=.10):    # Redefine to customize\n",
    "```"
   ]
  },
  {
   "cell_type": "markdown",
   "metadata": {},
   "source": [
    "### Augmenting Methods: The Bad Way\n",
    "\n",
    "\n",
    "Now, there are two ways we might code this `Manager` customization: a good way and a\n",
    "bad way. Let’s start with the *bad way*, since it might be a bit easier to understand. The\n",
    "bad way is to cut and paste the code of `giveRaise` in `Person` and modify it for `Manager`,\n",
    "like this:\n",
    "\n",
    "```python\n",
    "    class Manager(Person):\n",
    "        def giveRaise(self, percent, bonus=.10):\n",
    "            self.pay = int(self.pay * (1 + percent + bonus))    # Bad: cut and paste\n",
    "```\n",
    "\n",
    "This works as advertised—when we later call the `giveRaise` method of a `Manager` instance, \n",
    "it will run this custom version, which tacks on the extra bonus. So what’s wrong\n",
    "with something that runs correctly?\n",
    "\n",
    "The problem here is a very general one: anytime you copy code with cut and paste, you\n",
    "essentially *double* your maintenance effort in the future. Think about it: because we\n",
    "copied the original version, if we ever have to change the way raises are given (and we\n",
    "probably will), we’ll have to change the code in *two* places, not one. Although this is a\n",
    "small and artificial example, it’s also representative of a universal issue—anytime you’re\n",
    "tempted to program by copying code this way, you probably want to look for a better\n",
    "approach."
   ]
  },
  {
   "cell_type": "markdown",
   "metadata": {},
   "source": [
    "### Augmenting Methods: The Good Way\n",
    "\n",
    "\n",
    "What we really want to do here is somehow *augment* the original `giveRaise`, instead of\n",
    "replacing it altogether. The *good way* to do that in Python is by calling to the original\n",
    "version directly, with augmented arguments, like this:\n",
    "\n",
    "```python\n",
    "    class Manager(`Person`):\n",
    "        def giveRaise(self, percent, bonus=.10):\n",
    "            `Person`.giveRaise(self, percent + bonus)         # Good: augment original\n",
    "```\n",
    "\n",
    "This code leverages the fact that a class’s method can always be called either through\n",
    "an *instance* (the usual way, where Python sends the instance to the `self` argument\n",
    "automatically) or through the *class* (the less common scheme, where you must pass the\n",
    "instance manually). In more symbolic terms, recall that a normal method call of this\n",
    "form:\n",
    "\n",
    "```python\n",
    "    instance.method(args... )\n",
    "```\n",
    "\n",
    "is automatically translated by Python into this equivalent form:\n",
    "\n",
    "```python \n",
    "    class.method(instance, args... )\n",
    "```\n",
    "\n",
    "where the class containing the method to be run is determined by the inheritance search\n",
    "rule applied to the method’s name. You can code *either* form in your script, but there\n",
    "is a slight asymmetry between the two—you must remember to pass along the instance\n",
    "manually if you call through the class directly. The method always needs a subject\n",
    "instance one way or another, and Python provides it automatically only for calls made\n",
    "through an instance. For calls through the class name, you need to send an instance to\n",
    "`self` yourself; for code inside a method like `giveRaise`, `self` already is the subject of the\n",
    "call, and hence the instance to pass along.\n",
    "\n",
    "Calling through the class directly effectively subverts inheritance and kicks the call\n",
    "higher up the class tree to run a specific version. In our case, we can use this technique\n",
    "to invoke the default `giveRaise` in `Person`, even though it’s been redefined at the `Manager` \n",
    "level. In some sense, we *must* call through `Person` this way, because a `self.giveRaise()` \n",
    "inside `Manager`’s `giveRaise` code would loop—since `self` already is a `Manager`,\n",
    "`self.giveRaise()` would resolve again to `Manager.giveRaise`, and so on and so forth\n",
    "*recursively* until available memory is exhausted.\n",
    "\n",
    "This “good” version may seem like a small difference in code, but it can make a huge\n",
    "difference for future *code maintenance*—because the `giveRaise` logic lives in just one\n",
    "place now (`Person`’s method), we have only one version to change in the future as needs\n",
    "evolve. And really, this form captures our intent more directly anyhow—we want to\n",
    "perform the standard `giveRaise` operation, but simply tack on an extra bonus. Here’s\n",
    "our entire module file with this step applied:\n",
    "\n"
   ]
  },
  {
   "cell_type": "code",
   "execution_count": 12,
   "metadata": {},
   "outputs": [],
   "source": [
    "# Add customization of one behavior in a subclass\n",
    "\n",
    "class Person:\n",
    "    def __init__(self, name, job=None, pay=0):\n",
    "        self.name = name\n",
    "        self.job = job\n",
    "        self.pay = pay\n",
    "    def lastName(self):\n",
    "        return self.name.split()[-1]\n",
    "    def giveRaise(self, percent):\n",
    "        self.pay = int(self.pay * (1 + percent))\n",
    "    def __repr__(self):\n",
    "        return '[Person: %s, %s]' % (self.name, self.pay)\n",
    "\n",
    "class Manager(Person):\n",
    "    def giveRaise(self, percent, bonus=.10):        # Redefine at this level\n",
    "        Person.giveRaise(self, percent + bonus)     # Call Person's version"
   ]
  },
  {
   "cell_type": "markdown",
   "metadata": {},
   "source": [
    "To test our `Manager` subclass customization, we’ve also added self-test code that makes\n",
    "a `Manager`, calls its methods, and prints it. When we make a `Manager`, we pass in a name,\n",
    "and an optional job and pay as before—because `Manager` had no `__init__` constructor,\n",
    "it inherits that in `Person`."
   ]
  },
  {
   "cell_type": "code",
   "execution_count": 13,
   "metadata": {},
   "outputs": [
    {
     "name": "stdout",
     "output_type": "stream",
     "text": [
      "[Person: Bob Smith, 0]\n",
      "[Person: Sue Jones, 100000]\n",
      "Smith Jones\n",
      "[Person: Sue Jones, 110000]\n",
      "Jones\n",
      "[Person: Tom Jones, 60000]\n"
     ]
    }
   ],
   "source": [
    "bob = Person('Bob Smith')\n",
    "sue = Person('Sue Jones', job='dev', pay=100000)\n",
    "print(bob)\n",
    "print(sue)\n",
    "print(bob.lastName(), sue.lastName())\n",
    "sue.giveRaise(.10)\n",
    "print(sue)\n",
    "tom = Manager('Tom Jones', 'mgr', 50000)    # Make a Manager: __init__\n",
    "tom.giveRaise(.10)                          # Runs custom version\n",
    "print(tom.lastName())                       # Runs inherited method\n",
    "print(tom)                                  # Runs inherited __repr__"
   ]
  },
  {
   "cell_type": "markdown",
   "metadata": {},
   "source": [
    "Everything looks good here: `bob` and `sue` are as before, and when `tom` the `Manager` is\n",
    "given a 10% raise, he really gets 20% (his pay goes from $50K to $60K), because the\n",
    "customized `giveRaise` in `Manager` is run for him only. Also notice how printing `tom` as a\n",
    "whole at the end of the test code displays the nice format defined in `Person`’s `__repr__`:\n",
    "`Manager` objects get this, `lastName`, and the `__init__` constructor method’s code “for\n",
    "free” from `Person`, by inheritance."
   ]
  },
  {
   "cell_type": "markdown",
   "metadata": {},
   "source": [
    "### What About super?\n",
    "\n",
    "\n",
    "To extend inherited methods, the examples in this section simply call the original\n",
    "through the superclass name: `Person.giveRaise(...)`. This is the traditional and simplest scheme in Python, and the one used in most of this book.\n",
    "\n",
    "Java programmers may especially be interested to know that Python also has a `super`\n",
    "built-in function that allows calling back to a superclass’s methods more generically—\n",
    "but it’s cumbersome to use in 2.X; differs in form between 2.X and 3.X; relies on unusual\n",
    "semantics in 3.X; works unevenly with Python’s operator overloading; and does not\n",
    "always mesh well with traditionally coded multiple inheritance, where a single superclass \n",
    "call won’t suffice.\n",
    "\n",
    "In its defense, the `super` call has a valid use case too—cooperative same-named method\n",
    "dispatch in multiple inheritance trees—but it relies on the “MRO” ordering of classes,\n",
    "which many find esoteric and artificial; unrealistically assumes universal deployment\n",
    "to be used reliably; does not fully support method replacement and varying argument\n",
    "lists; and to many observers seems an obscure solution to a use case that is rare in real\n",
    "Python code.\n",
    "\n",
    "Because of these downsides, this book prefers to call superclasses by explicit name\n",
    "instead of `super`, recommends the same policy for newcomers, and defers presenting\n",
    "super until [Chapter 32](). It’s usually best judged after you learn the simpler, and generally\n",
    "more traditional and “Pythonic” ways of achieving the same goals, especially if you’re\n",
    "new to OOP. Topics like MROs and cooperative multiple inheritance dispatch seem a\n",
    "lot to ask of beginners—and others.\n",
    "\n",
    "And to any Java programmers in the audience: I suggest resisting the temptation to use\n",
    "Python’s `super` until you’ve had a chance to study its subtle implications. Once you\n",
    "step up to multiple inheritance, it’s not what you think it is, and more than you probably\n",
    "expect. The class it invokes may not be the superclass at all, and can even vary per\n",
    "context. Or to paraphrase a movie line: Python’s super is like a box of chocolates—\n",
    "*you never know what you’re going to get!*"
   ]
  },
  {
   "cell_type": "markdown",
   "metadata": {},
   "source": [
    "### Polymorphism in Action\n",
    "\n",
    "\n",
    "To make this acquisition of inherited behavior even more striking:"
   ]
  },
  {
   "cell_type": "code",
   "execution_count": 14,
   "metadata": {},
   "outputs": [
    {
     "name": "stdout",
     "output_type": "stream",
     "text": [
      "--All three--\n",
      "[Person: Bob Smith, 0]\n",
      "[Person: Sue Jones, 121000]\n",
      "[Person: Tom Jones, 72000]\n"
     ]
    }
   ],
   "source": [
    "print('--All three--')\n",
    "for obj in (bob, sue, tom):  # Process objects generically\n",
    "    obj.giveRaise(.10) # Run this object's giveRaise\n",
    "    print(obj) # Run the common __repr__"
   ]
  },
  {
   "cell_type": "markdown",
   "metadata": {},
   "source": [
    "In the added code, `object` is *either* a `Person` or a `Manager`, and Python runs the \n",
    "appropriate `giveRaise` automatically—our original version in `Person` for `bob` and `sue`, \n",
    "and our customized version in `Manager` for `tom`. Trace the method calls yourself to see how\n",
    "Python selects the right `giveRaise` method for each object.\n",
    "\n",
    "This is just Python’s notion of ***polymorphism***, which we met earlier in the book, at work\n",
    "again—what `giveRaise` does depends on what you do it to. Here, it’s made all the more\n",
    "obvious when it selects from code we’ve written ourselves in classes. The practical effect\n",
    "in this code is that `sue` gets another 10% but `tom` gets another 20%, because\n",
    "`giveRaise` is dispatched based upon the object’s type. As we’ve learned, polymorphism\n",
    "is at the heart of Python’s flexibility. Passing any of our three objects to a function that\n",
    "calls a `giveRaise` method, for example, would have the same effect: the appropriate\n",
    "version would be run automatically, depending on which type of object was passed.\n",
    "\n",
    "On the other hand, printing runs the *same* `__repr__` for all three objects, because it’s\n",
    "coded just once in `Person`. `Manager` both specializes and applies the code we originally\n",
    "wrote in `Person`. Although this example is small, it’s already leveraging OOP’s talent\n",
    "for code customization and reuse; with classes, this almost seems automatic at times."
   ]
  },
  {
   "cell_type": "markdown",
   "metadata": {},
   "source": [
    "### Inherit, Customize, and Extend\n",
    "\n",
    "\n",
    "In fact, classes can be even more flexible than our example implies. In general, classes\n",
    "can inherit, customize, or extend existing code in superclasses. For example, although\n",
    "we’re focused on customization here, we can also add unique methods to Manager that\n",
    "are not present in Person, if Managers require something completely different (Python\n",
    "namesake reference intended). The following snippet illustrates. Here, giveRaise redefines a superclass’s method to customize it, but someThingElse defines something\n",
    "new to extend:\n",
    "\n",
    "```python\n",
    "    class Person:\n",
    "        def lastName(self): ...\n",
    "        def giveRaise(self): ...\n",
    "        def __repr__(self): ...\n",
    "\n",
    "    class Manager(Person):                      # Inherit\n",
    "        def giveRaise(self, ...): ...           # Customize\n",
    "        def someThingElse(self, ...): ...       # Extend\n",
    "\n",
    "    tom = Manager()\n",
    "    tom.lastName()              # Inherited verbatim\n",
    "    tom.giveRaise()             # Customized version\n",
    "    tom.someThingElse()         # Extension here\n",
    "    print(tom)                  # Inherited overload method\n",
    "```\n",
    "\n",
    "Extra methods like this code’s `someThingElse` *extend* the existing software and are \n",
    "available on `Manager` objects only, not on `Person`s. For the purposes of this tutorial, \n",
    "however, we’ll limit our scope to customizing some of `Person`’s behavior by redefining it, \n",
    "not adding to it."
   ]
  },
  {
   "cell_type": "markdown",
   "metadata": {},
   "source": [
    "### OOP: The Big Idea\n",
    "\n",
    "\n",
    "As is, our code may be small, but it’s fairly functional. And really, it already illustrates\n",
    "the main point behind OOP in general: in OOP, we program by *customizing* what has\n",
    "already been done, rather than copying or changing existing code. This isn’t always an\n",
    "obvious win to newcomers at first glance, especially given the extra coding requirements\n",
    "of classes. But overall, the programming style implied by classes can cut development\n",
    "time radically compared to other approaches.\n",
    "\n",
    "For instance, in our example we could theoretically have implemented a custom `giveRaise` \n",
    "operation without subclassing, but none of the other options yield code as optimal as ours:\n",
    "\n",
    "  + Although we could have simply coded `Manager` *from scratch* as new, independent\n",
    "    code, we would have had to reimplement all the behaviors in Person that are the\n",
    "    same for `Manager`s.\n",
    "\n",
    "  + Although we could have simply *changed* the existing `Person` class in place for the\n",
    "    requirements of `Manager`’s `giveRaise`, doing so would probably break the places\n",
    "    where we still need the original Person behavior.\n",
    "\n",
    "  + Although we could have simply *copied* the `Person` class in its entirety, renamed the\n",
    "    copy to `Manager`, and changed its `giveRaise`, doing so would introduce code \n",
    "    redundancy that would double our work in the future—changes made to `Person` in\n",
    "    the future would not be picked up automatically, but would have to be manually\n",
    "    propagated to `Manager`’s code. As usual, the cut-and-paste approach may seem\n",
    "    quick now, but it doubles your work in the future.\n",
    "\n",
    "The *customizable hierarchies* we can build with classes provide a much better solution\n",
    "for software that will evolve over time. No other tools in Python support this development \n",
    "mode. Because we can tailor and extend our prior work by coding new subclasses,\n",
    "we can leverage what we’ve already done, rather than starting from scratch each time,\n",
    "breaking what already works, or introducing multiple copies of code that may all have\n",
    "to be updated in the future. When done right, OOP is a powerful programmer’s ally."
   ]
  },
  {
   "cell_type": "markdown",
   "metadata": {},
   "source": [
    "## Step 5: Customizing Constructors, Too\n",
    "\n",
    "\n",
    "Our code works as it is, but if you study the current version closely, you may be struck\n",
    "by something a bit odd—it seems pointless to have to provide a `mgr` job name for\n",
    "`Manager` objects when we create them: this is already implied by the class itself. It would\n",
    "be better if we could somehow fill in this value automatically when a `Manager` is made.\n",
    "\n",
    "The trick we need to improve on this turns out to be the *same* as the one we employed\n",
    "in the prior section: we want to customize the constructor logic for `Manager`s in such a\n",
    "way as to provide a job name automatically. In terms of code, we want to redefine an\n",
    "`__init__` method in `Manager` that provides the `mgr` string for us. And as in `giveRaise`\n",
    "customization, we also want to run the original `__init__` in `Person` by calling through\n",
    "the class name, so it still initializes our objects’ state information attributes.\n",
    "\n",
    "The following code will do the job—we’ve coded the new `Manager`\n",
    "constructor and changed the call that creates `tom` to not pass in the `mgr` job name:"
   ]
  },
  {
   "cell_type": "code",
   "execution_count": 17,
   "metadata": {},
   "outputs": [],
   "source": [
    "# Add customization of constructor in a subclass\n",
    "\n",
    "class Manager(Person):\n",
    "    def __init__(self, name, pay):                      # Redefine constructor\n",
    "        Person.__init__(self, name, 'mgr', pay)         # Run original with 'mgr'\n",
    "    def giveRaise(self, percent, bonus=.10):\n",
    "        Person.giveRaise(self, percent + bonus)"
   ]
  },
  {
   "cell_type": "markdown",
   "metadata": {},
   "source": [
    "Again, we’re using the same technique to augment the `__init__` constructor here that\n",
    "we used for `giveRaise` earlier—running the superclass version by calling through the\n",
    "class name directly and passing the `self` instance along explicitly. Although the \n",
    "constructor has a strange name, the effect is identical. Because we need `Person`’s construction \n",
    "logic to run too (to initialize instance attributes), we really have to call it this way;\n",
    "otherwise, instances would not have any attributes attached.\n",
    "\n",
    "Calling superclass constructors from redefinitions this way turns out to be a very \n",
    "common coding pattern in Python. By itself, Python uses inheritance to look for and call\n",
    "only *one* `__init__` method at construction time—the *lowest* one in the class tree. If you\n",
    "need higher `__init__` methods to be run at construction time (and you usually do), you\n",
    "must call them manually, and usually through the superclass’s name. The upside to\n",
    "this is that you can be explicit about which argument to pass up to the superclass’s\n",
    "constructor and can choose to *not* call it at all: not calling the superclass constructor\n",
    "allows you to replace its logic altogether, rather than augmenting it.\n",
    "\n",
    "The output of this test code is the same as before—we haven’t changed what\n",
    "it does, we’ve simply restructured to get rid of some logical redundancy:"
   ]
  },
  {
   "cell_type": "code",
   "execution_count": 16,
   "metadata": {},
   "outputs": [
    {
     "name": "stdout",
     "output_type": "stream",
     "text": [
      "[Person: Bob Smith, 0]\n",
      "[Person: Sue Jones, 100000]\n",
      "Smith Jones\n",
      "[Person: Sue Jones, 110000]\n",
      "Jones\n",
      "[Person: Tom Jones, 60000]\n"
     ]
    }
   ],
   "source": [
    "bob = Person('Bob Smith')\n",
    "sue = Person('Sue Jones', job='dev', pay=100000)\n",
    "print(bob)\n",
    "print(sue)\n",
    "print(bob.lastName(), sue.lastName())\n",
    "sue.giveRaise(.10)\n",
    "print(sue)\n",
    "tom = Manager('Tom Jones', 50000) # Job name not needed:\n",
    "tom.giveRaise(.10) # Implied/set by class\n",
    "print(tom.lastName())\n",
    "print(tom)"
   ]
  },
  {
   "cell_type": "markdown",
   "metadata": {},
   "source": [
    "### OOP Is Simpler Than You May Think\n",
    "\n",
    "\n",
    "In this complete form, and despite their relatively small sizes, our classes capture nearly\n",
    "all the important concepts in Python’s OOP machinery:\n",
    "\n",
    "  + Instance creation—filling out instance attributes\n",
    "  + Behavior methods—encapsulating logic in a class’s methods\n",
    "  + Operator overloading—providing behavior for built-in operations like printing\n",
    "  + Customizing behavior—redefining methods in subclasses to specialize them\n",
    "  + Customizing constructors—adding initialization logic to superclass steps\n",
    "\n",
    "Most of these concepts are based upon just three simple ideas: the inheritance search\n",
    "for attributes in object trees, the special `self` argument in methods, and operator \n",
    "overloading’s automatic dispatch to methods.\n",
    "\n",
    "Along the way, we’ve also made our code easy to change in the future, by harnessing\n",
    "the class’s propensity for factoring code to reduce *redundancy*. For example, we \n",
    "wrapped up logic in methods and called back to superclass methods from extensions to\n",
    "avoid having multiple copies of the same code. Most of these steps were a natural\n",
    "outgrowth of the structuring power of classes.\n",
    "\n",
    "By and large, that’s all there is to OOP in Python. Classes certainly can become larger\n",
    "than this, and there are some more advanced class concepts, such as decorators and\n",
    "metaclasses, which we will meet in later chapters. In terms of the basics, though, our\n",
    "classes already do it all. In fact, if you’ve grasped the workings of the classes we’ve\n",
    "written, most OOP Python code should now be within your reach."
   ]
  },
  {
   "cell_type": "markdown",
   "metadata": {},
   "source": [
    "### Other Ways to Combine Classes\n",
    "\n",
    "\n",
    "Having said that, I should also tell you that although the basic mechanics of OOP are\n",
    "simple in Python, some of the art in larger programs lies in the way that classes are put\n",
    "together. We’re focusing on *inheritance* in this tutorial because that’s the mechanism\n",
    "the Python language provides, but programmers sometimes combine classes in other\n",
    "ways, too.\n",
    "\n",
    "For example, a common coding pattern involves nesting objects inside each other to\n",
    "build up *composites*. We’ll explore this pattern in more detail in [Chapter 31](), which is\n",
    "really more about design than about Python. As a quick example, though, we could\n",
    "use this composition idea to code our `Manager` extension by *embedding* a `Person`, instead\n",
    "of inheriting from it.\n",
    "\n",
    "The following alternative, coded in file `person-composite.py`, does so by using the \n",
    "`__getattr__` operator overloading method to intercept undefined attribute fetches and \n",
    "delegate them to the embedded object with the `getattr` built-in. The `getattr` call was\n",
    "introduced in [Chapter 25]()—it’s the same as `X.Y` attribute fetch notation and thus \n",
    "performs inheritance, but the attribute name `Y` is a runtime string—and `__getattr__` is\n",
    "covered in full in [Chapter 30](), but its basic usage is simple enough to leverage here.\n",
    "\n",
    "By combining these tools, the `giveRaise` method here still achieves customization, by\n",
    "changing the argument passed along to the embedded object. In effect, `Manager` becomes\n",
    "a controller layer that passes calls *down* to the embedded object, rather than *up* to\n",
    "superclass methods:"
   ]
  },
  {
   "cell_type": "code",
   "execution_count": 18,
   "metadata": {},
   "outputs": [],
   "source": [
    "# Embedding-based Manager alternative\n",
    "\n",
    "class Manager:\n",
    "    def __init__(self, name, pay):\n",
    "        self.person = Person(name, 'mgr', pay) # Embed a Person object\n",
    "    def giveRaise(self, percent, bonus=.10):\n",
    "        self.person.giveRaise(percent + bonus) # Intercept and delegate\n",
    "    def __getattr__(self, attr):\n",
    "        return getattr(self.person, attr) # Delegate all other attrs\n",
    "    def __repr__(self):\n",
    "        return str(self.person) # Must overload again (in 3.X)"
   ]
  },
  {
   "cell_type": "markdown",
   "metadata": {},
   "source": [
    "The output of this version is the same as the prior, so I won’t list it again. The more\n",
    "important point here is that this `Manager` alternative is representative of a general coding\n",
    "pattern usually known as *delegation*—a composite-based structure that manages a\n",
    "wrapped object and propagates method calls to it.\n",
    "\n",
    "This pattern works in our example, but it requires about twice as much code and is less\n",
    "well suited than inheritance to the kinds of direct customizations we meant to express\n",
    "(in fact, no reasonable Python programmer would code this example this way in practice, \n",
    "except perhaps those writing general tutorials!). `Manager` isn’t really a `Person` here,\n",
    "so we need extra code to manually dispatch method calls to the embedded object;\n",
    "operator overloading methods like `__repr__` must be redefined (in 3.X, at least, as noted\n",
    "in [the upcoming sidebar “Catching Built-in Attributes in 3.X” on page 839]()); and\n",
    "adding new `Manager` behavior is less straightforward since state information is one level\n",
    "removed.\n",
    "\n",
    "Still, *object embedding*, and design patterns based upon it, can be a very good fit when\n",
    "embedded objects require more limited interaction with the container than direct \n",
    "customization implies. A controller layer, or *proxy*, like this alternative `Manager`, for \n",
    "example, might come in handy if we want to adapt a class to an expected interface it does\n",
    "not support, or trace or validate calls to another object’s methods (indeed, we will use\n",
    "a nearly identical coding pattern when we study *class decorators* later in the book).\n",
    "\n",
    "Moreover, a hypothetical `Department` class like the following could *aggregate* other \n",
    "objects in order to treat them as a set. Replace the self-test code at the bottom of the\n",
    "`person.py` file temporarily to try this on your own:"
   ]
  },
  {
   "cell_type": "code",
   "execution_count": 19,
   "metadata": {},
   "outputs": [],
   "source": [
    "# Aggregate embedded objects into a composite\n",
    "\n",
    "class Department:\n",
    "    def __init__(self, *args):\n",
    "        self.members = list(args)\n",
    "    def addMember(self, person):\n",
    "        self.members.append(person)\n",
    "    def giveRaises(self, percent):\n",
    "        for person in self.members:\n",
    "            person.giveRaise(percent)\n",
    "    def showAll(self):\n",
    "        for person in self.members:\n",
    "            print(person)"
   ]
  },
  {
   "cell_type": "markdown",
   "metadata": {},
   "source": [
    "When the below code run, the department’s `showAll` method lists all of its contained objects after updating their state in true polymorphic fashion with `giveRaise`s:"
   ]
  },
  {
   "cell_type": "code",
   "execution_count": 20,
   "metadata": {},
   "outputs": [
    {
     "name": "stdout",
     "output_type": "stream",
     "text": [
      "[Person: Bob Smith, 0]\n",
      "[Person: Sue Jones, 110000]\n",
      "[Person: Tom Jones, 60000]\n"
     ]
    }
   ],
   "source": [
    "bob = Person('Bob Smith')\n",
    "sue = Person('Sue Jones', job='dev', pay=100000)\n",
    "tom = Manager('Tom Jones', 50000)\n",
    "development = Department(bob, sue) # Embed objects in a composite\n",
    "development.addMember(tom)\n",
    "development.giveRaises(.10) # Runs embedded objects' giveRaise\n",
    "development.showAll() # Runs embedded objects' __repr__"
   ]
  },
  {
   "cell_type": "markdown",
   "metadata": {},
   "source": [
    "Interestingly, this code uses both inheritance *and* composition—`Department` is a \n",
    "composite that embeds and controls other objects to aggregate, but the embedded `Person`\n",
    "and `Manager` objects themselves use inheritance to customize. As another example, a\n",
    "GUI might similarly use *inheritance* to customize the behavior or appearance of labels\n",
    "and buttons, but also *composition* to build up larger packages of embedded widgets,\n",
    "such as input forms, calculators, and text editors. The class structure to use depends\n",
    "on the objects you are trying to model—in fact, the ability to model real-world entities\n",
    "this way is one of OOP’s strengths.\n",
    "\n",
    "Design issues like composition are explored in [Chapter 31](), so we’ll postpone further\n",
    "investigations for now. But again, in terms of the basic mechanics of OOP in Python,\n",
    "our `Person` and `Manager` classes already tell the entire story. Now that you’ve mastered\n",
    "the basics of OOP, though, developing general tools for applying it more easily in your\n",
    "scripts is often a natural next step—and the topic of the next section."
   ]
  },
  {
   "cell_type": "markdown",
   "metadata": {},
   "source": [
    "### Catching Built-in Attributes in 3.X\n",
    "\n",
    "\n",
    "An implementation note: in Python 3.X—and in 2.X when 3.X’s “new style” classes\n",
    "are enabled—the alternative delegation-based `Manager` class \n",
    "that we coded in this section will not be able to intercept and delegate operator\n",
    "overloading method attributes like `__repr__` without redefining them itself. Although\n",
    "we know that `__repr__` is the only such name used in our specific example, this is a\n",
    "general issue for delegation-based classes.\n",
    "\n",
    "Recall that built-in operations like printing and addition implicitly invoke operator\n",
    "overloading methods such as `__repr__` and `__add__`. In 3.X’s new-style classes, built-in\n",
    "operations like these do not route their implicit attribute fetches through generic \n",
    "attribute managers: neither `__getattr__` (run for undefined attributes) nor its cousin\n",
    "`__getattribute__` (run for all attributes) is invoked. This is why we have to redefine\n",
    "`__repr__` redundantly in the alternative `Manager`, in order to ensure that printing is\n",
    "routed to the embedded `Person` object in 3.X.\n",
    "\n",
    "Comment out this method to see this live—the `Manager` instance prints with a default\n",
    "in 3.X, but still uses `Person`’s `__repr__` in 2.X. In fact, the `__repr__` in `Manager` isn’t\n",
    "required in 2.X at all, as it’s coded to use 2.X normal and default (a.k.a. *“classic”*)\n",
    "classes:\n",
    "\n",
    "```\n",
    "    c:\\code> py −3 person-composite.py\n",
    "    [Person: Bob Smith, 0]\n",
    "    ...etc...\n",
    "    <__main__.Manager object at 0x00000000029AA8D0>\n",
    "\n",
    "    c:\\code> py −2 person-composite.py\n",
    "    [Person: Bob Smith, 0]\n",
    "    ...etc...\n",
    "    [Person: Tom Jones, 60000]\n",
    "```\n",
    "\n",
    "Technically, this happens because built-in operations begin their implicit search for\n",
    "method names at the *instance* in 2.X’s default *classic* classes, but start at the *class* in\n",
    "3.X’s mandated *new-style* classes, skipping the instance entirely. By contrast, explicit\n",
    "by-name attribute fetches are always routed to the instance first in both models. In 2.X\n",
    "classic classes, built-ins route attributes this way too—printing, for example, routes\n",
    "`__repr__` through `__getattr__`. This is why commenting out `Manager`’s `__repr__` has no\n",
    "effect in 2.X: the call is delegated to `Person`. New-style classes also inherit a default for\n",
    "`__repr__` from their automatic `object` superclass that would foil `__getattr__`, but the\n",
    "new-style `__getattribute__` doesn’t intercept the name either.\n",
    "\n",
    "This is a change, but isn’t a show-stopper—delegation-based new-style classes can\n",
    "generally redefine operator overloading methods to delegate them to wrapped objects,\n",
    "either manually or via tools or superclasses. This topic is too advanced to explore further\n",
    "in this tutorial, though, so don’t sweat the details too much here. Watch for it to be\n",
    "revisited in [Chapter 31]() and [Chapter 32]() (the latter of which defines new-style classes\n",
    "more formally); to impact examples again in the attribute management coverage of\n",
    "[Chapter 38]() and the `Private` class decorator in [Chapter 39]() (the last of these also codes\n",
    "workarounds); and to be a special-case factor in a nearly formal *inheritance* definition\n",
    "in [Chapter 40](). In a language like Python that supports both attribute interception and\n",
    "operator overloading, the impacts of this change can be as broad as this spread implies!"
   ]
  },
  {
   "cell_type": "markdown",
   "metadata": {},
   "source": [
    "## Step 6: Using Introspection Tools\n",
    "\n",
    "\n",
    "Let’s make one final tweak before we throw our objects onto a database. As they are,\n",
    "our classes are complete and demonstrate most of the basics of OOP in Python. They\n",
    "still have two remaining issues we probably should iron out, though, before we go live\n",
    "with them:\n",
    "\n",
    "  + First, if you look at the display of the objects as they are right now, you’ll notice\n",
    "  that when you print `tom` the `Manager`, the display labels him as a `Person`. That’s not\n",
    "  technically incorrect, since `Manager` is a kind of customized and specialized `Person`. \n",
    "  Still, it would be more accurate to display an object with the most specific (that\n",
    "  is, *lowest*) class possible: the one an object is made from.\n",
    "\n",
    "  + Second, and perhaps more importantly, the current display format shows *only* the\n",
    "  attributes we include in our `__repr__`, and that might not account for future goals.\n",
    "  For example, we can’t yet verify that `tom`’s job name has been set to `mgr` correctly\n",
    "  by `Manager`’s constructor, because the `__repr__` we coded for `Person` does not print\n",
    "  this field. Worse, if we ever expand or otherwise change the set of attributes \n",
    "  assigned to our objects in `__init__`, we’ll have to remember to also update\n",
    "  `__repr__` for new names to be displayed, or it will become out of sync over time.\n",
    "\n",
    "The last point means that, yet again, we’ve made potential extra work for ourselves in\n",
    "the future by introducing *redundancy* in our code. Because any disparity in `__repr__`\n",
    "will be reflected in the program’s output, this redundancy may be more obvious than\n",
    "the other forms we addressed earlier; still, avoiding extra work in the future is generally\n",
    "*a good thing*."
   ]
  },
  {
   "cell_type": "markdown",
   "metadata": {},
   "source": [
    "### Special Class Attributes\n",
    "\n",
    "\n",
    "We can address both issues with Python’s *introspection tools*—special attributes and\n",
    "functions that give us access to some of the internals of objects’ implementations. These\n",
    "tools are somewhat advanced and generally used more by people writing tools for other\n",
    "programmers to use than by programmers developing applications. Even so, a basic\n",
    "knowledge of some of these tools is useful because they allow us to write code that\n",
    "processes classes in generic ways. In our code, for example, there are two hooks that\n",
    "can help us out, both of which were introduced near the end of the preceding chapter\n",
    "and used in earlier examples:\n",
    "\n",
    "  + The built-in *`instance`*`.__class__` attribute provides a link from an instance to the\n",
    "    class from which it was created. Classes in turn have a `__name__`, just like modules,\n",
    "    and a `__bases__` sequence that provides access to superclasses. We can use these\n",
    "    here to print the name of the class from which an instance is made rather than one\n",
    "    we’ve hardcoded.\n",
    "\n",
    "  + The built-in *`object`*`.__dict__` attribute provides a dictionary with one key/value\n",
    "    pair for every attribute attached to a namespace object (including modules, classes,\n",
    "    and instances). Because it is a dictionary, we can fetch its keys list, index by key,\n",
    "    iterate over its keys, and so on, to process all attributes generically. We can use this\n",
    "    here to print every attribute in any instance, not just those we hardcode in custom\n",
    "    displays, much as we did in [Chapter 25]()’s module tools.\n",
    "\n",
    "We met the first of these categories in the prior chapter, but here’s a quick review at\n",
    "Python’s interactive prompt with the latest versions of our `person.py` classes. Notice\n",
    "how we load Person at the interactive prompt with a `from` statement here—class names\n",
    "live in and are imported from modules, exactly like function names and other variables:"
   ]
  },
  {
   "cell_type": "code",
   "execution_count": 21,
   "metadata": {},
   "outputs": [
    {
     "data": {
      "text/plain": [
       "[Person: Bob Smith, 0]"
      ]
     },
     "execution_count": 21,
     "metadata": {},
     "output_type": "execute_result"
    }
   ],
   "source": [
    "bob = Person('Bob Smith')\n",
    "bob                                         # Show bob's __repr__ (not __str__)"
   ]
  },
  {
   "cell_type": "code",
   "execution_count": 22,
   "metadata": {},
   "outputs": [
    {
     "name": "stdout",
     "output_type": "stream",
     "text": [
      "[Person: Bob Smith, 0]\n"
     ]
    }
   ],
   "source": [
    "print(bob)                                  # Ditto: print => __str__ or __repr__"
   ]
  },
  {
   "cell_type": "code",
   "execution_count": 23,
   "metadata": {},
   "outputs": [
    {
     "data": {
      "text/plain": [
       "__main__.Person"
      ]
     },
     "execution_count": 23,
     "metadata": {},
     "output_type": "execute_result"
    }
   ],
   "source": [
    "bob.__class__                               # Show bob's class and its name"
   ]
  },
  {
   "cell_type": "code",
   "execution_count": 24,
   "metadata": {},
   "outputs": [
    {
     "data": {
      "text/plain": [
       "'Person'"
      ]
     },
     "execution_count": 24,
     "metadata": {},
     "output_type": "execute_result"
    }
   ],
   "source": [
    "bob.__class__.__name__"
   ]
  },
  {
   "cell_type": "code",
   "execution_count": 25,
   "metadata": {},
   "outputs": [
    {
     "data": {
      "text/plain": [
       "['name', 'job', 'pay']"
      ]
     },
     "execution_count": 25,
     "metadata": {},
     "output_type": "execute_result"
    }
   ],
   "source": [
    "list(bob.__dict__.keys())                   # Attributes are really dict keys\n",
    "                                            # Use list to force list in 3.X"
   ]
  },
  {
   "cell_type": "code",
   "execution_count": 26,
   "metadata": {},
   "outputs": [
    {
     "name": "stdout",
     "output_type": "stream",
     "text": [
      "name => Bob Smith\n",
      "job => None\n",
      "pay => 0\n"
     ]
    }
   ],
   "source": [
    "for key in bob.__dict__:\n",
    "    print(key, '=>', bob.__dict__[key])     # Index manually"
   ]
  },
  {
   "cell_type": "code",
   "execution_count": 27,
   "metadata": {},
   "outputs": [
    {
     "name": "stdout",
     "output_type": "stream",
     "text": [
      "name => Bob Smith\n",
      "job => None\n",
      "pay => 0\n"
     ]
    }
   ],
   "source": [
    "for key in bob.__dict__:\n",
    "    print(key, '=>', getattr(bob, key))     # obj.attr, but attr is a var"
   ]
  },
  {
   "cell_type": "markdown",
   "metadata": {},
   "source": [
    "As noted briefly in the prior chapter, some attributes accessible from an instance might\n",
    "not be stored in the `__dict__` dictionary if the instance’s class defines `__slots__`: an\n",
    "optional and relatively obscure feature of new-style classes (and hence all classes in\n",
    "Python 3.X) that stores attributes sequentially in the instance; may preclude an instance\n",
    "`__dict__` altogether; and which we won’t study in full until [Chapter 31]() and [Chapter 32](). \n",
    "Since slots really belong to classes instead of instances, and since they are rarely\n",
    "used in any event, we can reasonably ignore them here and focus on the normal\n",
    "`__dict__`.\n",
    "\n",
    "As we do, though, keep in mind that some programs may need to catch exceptions for\n",
    "a missing `__dict__`, or use `hasattr` to test or `getattr` with a default if its users might\n",
    "deploy slots. As we’ll see in [Chapter 32](), the next section’s code won’t fail if used by a\n",
    "class with slots (its lack of them is enough to guarantee a `__dict__`) but slots—and other\n",
    "“virtual” attributes—won’t be reported as instance data."
   ]
  },
  {
   "cell_type": "markdown",
   "metadata": {},
   "source": [
    "### A Generic Display Tool\n",
    "\n",
    "\n",
    "We can put these interfaces to work in a superclass that displays accurate class names\n",
    "and formats all attributes of an instance of any class. Open a new file in your text editor\n",
    "to code the following—it’s a new, independent module named `classtools.py` that \n",
    "implements just such a class. Because its `__repr__` display overload uses generic \n",
    "introspection tools, it will work on *any instance*, regardless of the instance’s attributes set.\n",
    "And because this is a class, it automatically becomes a general formatting tool: thanks\n",
    "to inheritance, it can be mixed into *any class* that wishes to use its display format. As\n",
    "an added bonus, if we ever want to change how instances are displayed we need only\n",
    "change this class, as every class that inherits its `__repr__` will automatically pick up the\n",
    "new format when it’s next run:"
   ]
  },
  {
   "cell_type": "code",
   "execution_count": 28,
   "metadata": {},
   "outputs": [
    {
     "name": "stdout",
     "output_type": "stream",
     "text": [
      "[TopTest: attr1=0, attr2=1]\n",
      "[SubTest: attr1=2, attr2=3]\n"
     ]
    }
   ],
   "source": [
    "# File classtools.py (new)\n",
    "\"Assorted class utilities and tools\"\n",
    "\n",
    "class AttrDisplay:\n",
    "    \"\"\"\n",
    "    Provides an inheritable display overload method that shows\n",
    "    instances with their class names and a name=value pair for\n",
    "    each attribute stored on the instance itself (but not attrs\n",
    "    inherited from its classes). Can be mixed into any class,\n",
    "    and will work on any instance.\n",
    "    \"\"\"\n",
    "    def gatherAttrs(self):\n",
    "        attrs = []\n",
    "        for key in sorted(self.__dict__):\n",
    "            attrs.append('%s=%s' % (key, getattr(self, key)))\n",
    "        return ', '.join(attrs)\n",
    "\n",
    "    def __repr__(self):\n",
    "        return '[%s: %s]' % (self.__class__.__name__, self.gatherAttrs())"
   ]
  },
  {
   "cell_type": "markdown",
   "metadata": {},
   "source": [
    "Notice the docstrings here—because this is a general-purpose tool, we want to add\n",
    "some functional documentation for potential users to read. As we saw in [Chapter 15](),\n",
    "docstrings can be placed at the top of simple functions and modules, and also at the\n",
    "start of classes and any of their methods; the `help` function and the PyDoc tool extract\n",
    "and display these automatically. We’ll revisit docstrings for classes in [Chapter 29]().\n",
    "\n",
    "When run directly, this module’s self-test makes two instances and prints them; the\n",
    "`__repr__` defined here shows the instance’s class, and all its attributes names and values,\n",
    "in sorted attribute name order. This output is the same in Python 3.X and 2.X because\n",
    "each object’s display is a single constructed string:"
   ]
  },
  {
   "cell_type": "code",
   "execution_count": 36,
   "metadata": {},
   "outputs": [
    {
     "name": "stdout",
     "output_type": "stream",
     "text": [
      "[TopTest: attr1=0, attr2=1]\n",
      "[SubTest: attr1=2, attr2=3]\n"
     ]
    }
   ],
   "source": [
    "class TopTest(AttrDisplay):\n",
    "    count = 0\n",
    "    def __init__(self):\n",
    "        self.attr1 = TopTest.count\n",
    "        self.attr2 = TopTest.count+1\n",
    "        TopTest.count += 2\n",
    "\n",
    "class SubTest(TopTest):\n",
    "    pass\n",
    "\n",
    "X, Y = TopTest(), SubTest()     # Make two instances\n",
    "print(X)                        # Show all instance attrs\n",
    "print(Y)                        # Show lowest class name"
   ]
  },
  {
   "cell_type": "code",
   "execution_count": 29,
   "metadata": {},
   "outputs": [
    {
     "name": "stdout",
     "output_type": "stream",
     "text": [
      "[TopTest: attr1=0, attr2=1]\n",
      "[SubTest: attr1=2, attr2=3]\n"
     ]
    }
   ],
   "source": [
    "!python classtools.py"
   ]
  },
  {
   "cell_type": "markdown",
   "metadata": {},
   "source": [
    "Another design note here: because this class uses `__repr__` instead of `__str__`, its displays\n",
    "are used in all contexts, but its clients also won’t have the option of providing an alternative low-level display—they can still add a `__str__`, but this applies to `print` and\n",
    "`str` only. In a more general tool, using `__str__` instead limits a display’s scope, but\n",
    "leaves clients the option of adding a `__repr__` for a secondary display at interactive\n",
    "prompts and nested appearances. We’ll follow this alternative policy when we code\n",
    "expanded versions of this class in [Chapter 31](); for this demo, we’ll stick with the allinclusive `__repr__`."
   ]
  },
  {
   "cell_type": "markdown",
   "metadata": {},
   "source": [
    "### Instance Versus Class Attributes\n",
    "\n",
    "\n",
    "If you study the `classtools` module’s self-test code long enough, you’ll notice that its\n",
    "class displays only *instance attributes*, attached to the `self` object at the bottom of the\n",
    "inheritance tree; that’s what `self`’s `__dict__` contains. As an intended consequence, we\n",
    "don’t see attributes inherited by the instance from classes above it in the tree (e.g.,\n",
    "count in this file’s self-test code—a class attribute used as an instance counter). Inherited class attributes are attached to the class only, not copied down to instances.\n",
    "\n",
    "If you ever do wish to include inherited attributes too, you can climb the `__class__` link\n",
    "to the instance’s class, use the `__dict__` there to fetch class attributes, and then iterate\n",
    "through the class’s `__bases__` attribute to climb to even higher superclasses, repeating\n",
    "as necessary. If you’re a fan of simple code, running a built-in `dir` call on the instance\n",
    "instead of using `__dict__` and climbing would have much the same effect, since `dir`\n",
    "results include inherited names in the sorted results list. "
   ]
  },
  {
   "cell_type": "code",
   "execution_count": 30,
   "metadata": {},
   "outputs": [
    {
     "data": {
      "text/plain": [
       "dict_keys(['name', 'job', 'pay'])"
      ]
     },
     "execution_count": 30,
     "metadata": {},
     "output_type": "execute_result"
    }
   ],
   "source": [
    "bob = Person('Bob Smith')\n",
    "bob.__dict__.keys()         # Instance attrs only"
   ]
  },
  {
   "cell_type": "code",
   "execution_count": 33,
   "metadata": {},
   "outputs": [
    {
     "data": {
      "text/plain": [
       "['name', 'job', 'pay']"
      ]
     },
     "execution_count": 33,
     "metadata": {},
     "output_type": "execute_result"
    }
   ],
   "source": [
    "list(bob.__dict__.keys())"
   ]
  },
  {
   "cell_type": "code",
   "execution_count": 32,
   "metadata": {},
   "outputs": [
    {
     "name": "stdout",
     "output_type": "stream",
     "text": [
      "['__class__', '__delattr__', '__dict__', '__dir__', '__doc__', '__eq__', '__format__', '__ge__', '__getattribute__', '__gt__', '__hash__', '__init__', '__init_subclass__', '__le__', '__lt__', '__module__', '__ne__', '__new__', '__reduce__', '__reduce_ex__', '__repr__', '__setattr__', '__sizeof__', '__str__', '__subclasshook__', '__weakref__', 'giveRaise', 'job', 'lastName', 'name', 'pay']\n"
     ]
    }
   ],
   "source": [
    "print(dir(bob))                    # Plus inherited attrs in classes"
   ]
  },
  {
   "cell_type": "markdown",
   "metadata": {},
   "source": [
    "The code and output here varies between Python 2.X and 3.X, because 3.X’s\n",
    "`dict.keys` is not a list, and 3.X’s `dir` returns extra class-type implementation attributes.\n",
    "Technically, `dir` returns more in 3.X because classes are all “new style” and inherit a\n",
    "large set of operator overloading names from the class type. In fact, as usual you’ll\n",
    "probably want to filter out most of the `__X__` names in the 3.X `dir` result, since they are\n",
    "internal implementation details and not something you’d normally want to display:"
   ]
  },
  {
   "cell_type": "code",
   "execution_count": 34,
   "metadata": {},
   "outputs": [
    {
     "data": {
      "text/plain": [
       "31"
      ]
     },
     "execution_count": 34,
     "metadata": {},
     "output_type": "execute_result"
    }
   ],
   "source": [
    "len(dir(bob))"
   ]
  },
  {
   "cell_type": "code",
   "execution_count": 35,
   "metadata": {},
   "outputs": [
    {
     "data": {
      "text/plain": [
       "['giveRaise', 'job', 'lastName', 'name', 'pay']"
      ]
     },
     "execution_count": 35,
     "metadata": {},
     "output_type": "execute_result"
    }
   ],
   "source": [
    "list(name for name in dir(bob) if not name.startswith('__'))"
   ]
  },
  {
   "cell_type": "markdown",
   "metadata": {},
   "source": [
    "In the interest of space, we’ll leave optional display of inherited class attributes with\n",
    "either tree climbs or `dir` as suggested experiments for now. For more hints on this front,\n",
    "though, watch for the `classtree.py` inheritance tree climber we will write in [Chapter 29](), \n",
    "and the `lister.py` attribute listers and climbers we’ll code in [Chapter 31]()."
   ]
  },
  {
   "cell_type": "markdown",
   "metadata": {},
   "source": [
    "### Name Considerations in Tool Classes\n",
    "\n",
    "\n",
    "One last subtlety here: because our `AttrDisplay` class in the `classtools` module is a\n",
    "general tool designed to be mixed into other arbitrary classes, we have to be aware of\n",
    "the potential for unintended *name collisions* with client classes. As is, I’ve assumed that\n",
    "client subclasses may want to use both its `__repr__` and `gatherAttrs`, but the latter of\n",
    "these may be more than a subclass expects—if a subclass innocently defines a `gatherAttrs` \n",
    "name of its own, it will likely break our class, because the lower version in the\n",
    "subclass will be used instead of ours.\n",
    "\n",
    "To see this for yourself, add a `gatherAttrs` to `TopTest` in the file’s self-test code; unless\n",
    "the new method is identical, or intentionally customizes the original, our tool class will\n",
    "no longer work as planned—`self.gatherAttrs` within `AttrDisplay` searches anew from\n",
    "the `TopTest` instance:\n",
    "\n",
    "```python\n",
    "    class TopTest(AttrDisplay):\n",
    "        ....\n",
    "        def gatherAttrs(self):          # Replaces method in AttrDisplay!\n",
    "            return 'Spam'\n",
    "```\n",
    "\n",
    "This isn’t necessarily bad—sometimes we want other methods to be available to subclasses, \n",
    "either for direct calls or for customization this way. If we really meant to provide\n",
    "a `__repr__` only, though, this is less than ideal.\n",
    "\n",
    "To minimize the chances of name collisions like this, Python programmers often prefix\n",
    "methods not meant for external use with a *single underscore*: `_gatherAttrs` in our case.\n",
    "This isn’t foolproof (what if another class defines `_gatherAttrs`, too?), but it’s usually\n",
    "sufficient, and it’s a common Python naming convention for methods internal to a class.\n",
    "\n",
    "A better and less commonly used solution would be to use *two underscores* at the front\n",
    "of the method name only: `__gatherAttrs` for us. Python automatically expands such\n",
    "names to include the enclosing class’s name, which makes them truly unique when\n",
    "looked up by the inheritance search. This is a feature usually called \n",
    "*pseudoprivate class attributes*, which we’ll expand on in [Chapter 31]() and deploy in an expanded version of\n",
    "this class there. For now, we’ll make both our methods available."
   ]
  },
  {
   "cell_type": "markdown",
   "metadata": {},
   "source": [
    "### Our Classes’ Final Form\n",
    "\n",
    "\n",
    "Now, to use this generic tool in our classes, all we need to do is import it from its\n",
    "module, mix it in by inheritance in our top-level class, and get rid of the more specific\n",
    "`__repr__` we coded before. The new display overload method will be inherited by instances \n",
    "of `Person`, as well as `Manager`; `Manager` gets `__repr__` from `Person`, which now\n",
    "obtains it from the `AttrDisplay` coded in another module. Here is the final version of\n",
    "our `person.py` file with these changes applied:"
   ]
  },
  {
   "cell_type": "code",
   "execution_count": 37,
   "metadata": {},
   "outputs": [
    {
     "name": "stdout",
     "output_type": "stream",
     "text": [
      "[Person: job=None, name=Bob Smith, pay=0]\n",
      "[Person: job=dev, name=Sue Jones, pay=100000]\n",
      "Smith Jones\n",
      "[Person: job=dev, name=Sue Jones, pay=110000]\n",
      "Jones\n",
      "[Manager: job=mgr, name=Tom Jones, pay=60000]\n"
     ]
    }
   ],
   "source": [
    "# File person.py (final)\n",
    "\"\"\"\n",
    "Record and process information about people.\n",
    "Run this file directly to test its classes.\n",
    "\"\"\"\n",
    "from classtools import AttrDisplay # Use generic display tool\n",
    "\n",
    "class Person(AttrDisplay): # Mix in a repr at this level\n",
    "    \"\"\"\n",
    "    Create and process person records\n",
    "    \"\"\"\n",
    "    def __init__(self, name, job=None, pay=0):\n",
    "        self.name = name\n",
    "        self.job = job\n",
    "        self.pay = pay\n",
    "\n",
    "    def lastName(self): # Assumes last is last\n",
    "        return self.name.split()[-1]\n",
    "\n",
    "    def giveRaise(self, percent): # Percent must be 0..1\n",
    "        self.pay = int(self.pay * (1 + percent))\n",
    "\n",
    "class Manager(Person):\n",
    "    \"\"\"\n",
    "    A customized Person with special requirements\n",
    "    \"\"\"\n",
    "    def __init__(self, name, pay):\n",
    "        Person.__init__(self, name, 'mgr', pay) # Job name is implied\n",
    "\n",
    "    def giveRaise(self, percent, bonus=.10):\n",
    "        Person.giveRaise(self, percent + bonus)\n",
    "\n",
    "if __name__ == '__main__':\n",
    "    bob = Person('Bob Smith')\n",
    "    sue = Person('Sue Jones', job='dev', pay=100000)\n",
    "    print(bob)\n",
    "    print(sue)\n",
    "    print(bob.lastName(), sue.lastName())\n",
    "    sue.giveRaise(.10)\n",
    "    print(sue)\n",
    "    tom = Manager('Tom Jones', 50000)\n",
    "    tom.giveRaise(.10)\n",
    "    print(tom.lastName())\n",
    "    print(tom)"
   ]
  },
  {
   "cell_type": "markdown",
   "metadata": {},
   "source": [
    "As this is the final revision, we’ve added a few *comments* here to document our work\n",
    "—docstrings for functional descriptions and `#` for smaller notes, per best-practice \n",
    "conventions, as well as *blank lines* between methods for readability—a generally good style\n",
    "choice when classes or methods grow large, which I resisted earlier for these small\n",
    "classes, in part to save space and keep the code more compact.\n",
    "\n",
    "When we run this code now, we see all the attributes of our objects, not just the ones\n",
    "we hardcoded in the original `__repr__`. And our final issue is resolved: because `AttrDisplay` \n",
    "takes class names off the `self` instance directly, each object is shown with the name\n",
    "of its closest (lowest) class—`tom` displays as a `Manager` now, not a `Person`, and we can\n",
    "finally verify that his job name has been correctly filled in by the `Manager` constructor:"
   ]
  },
  {
   "cell_type": "code",
   "execution_count": 38,
   "metadata": {},
   "outputs": [
    {
     "name": "stdout",
     "output_type": "stream",
     "text": [
      "[Person: job=None, name=Bob Smith, pay=0]\n",
      "[Person: job=dev, name=Sue Jones, pay=100000]\n",
      "Smith Jones\n",
      "[Person: job=dev, name=Sue Jones, pay=110000]\n",
      "Jones\n",
      "[Manager: job=mgr, name=Tom Jones, pay=60000]\n"
     ]
    }
   ],
   "source": [
    "!python person.py"
   ]
  },
  {
   "cell_type": "markdown",
   "metadata": {},
   "source": [
    "This is the more useful display we were after. From a larger perspective, though, our\n",
    "attribute display class has become a *general tool*, which we can mix into any class by\n",
    "inheritance to leverage the display format it defines. Further, all its clients will \n",
    "automatically pick up future changes in our tool. Later in the book, we’ll meet even more\n",
    "powerful class tool concepts, such as decorators and metaclasses; along with Python’s\n",
    "many introspection tools, they allow us to write code that augments and manages\n",
    "classes in structured and maintainable ways."
   ]
  },
  {
   "cell_type": "markdown",
   "metadata": {},
   "source": [
    "## Future Directions\n",
    "\n",
    "\n",
    "And that’s a wrap for this tutorial. At this point, you’ve seen all the basics of Python’s\n",
    "OOP machinery in action, and you’ve learned ways to avoid redundancy and its associated maintenance issues in your code. You’ve built full-featured classes that do real\n",
    "work. \n",
    "\n",
    "There is much more we could explore here, of course. For example, we could extend\n",
    "our classes to make them more realistic, add new kinds of behavior to them, and so on.\n",
    "Giving a raise, for instance, should in practice verify that pay increase rates are between\n",
    "zero and one—an extension we’ll add when we meet decorators later in this book. You\n",
    "might also mutate this example into a personal contacts database, by changing the state\n",
    "information stored on objects, as well as the classes’ methods used to process it. We’ll\n",
    "leave this a suggested exercise open to your imagination.\n",
    "\n",
    "We could also expand our scope to use tools that either come with Python or are freely\n",
    "available in the open source world:\n",
    "\n",
    "- *GUIs*  \n",
    "    As is, we can only process our database with the interactive prompt’s command-based interface, and scripts. We could also work on expanding our object database’s \n",
    "    usability by adding a desktop graphical user interface for browsing and updating \n",
    "    its records. GUIs can be built portably with either Python’s `tkinter`\n",
    "    (`Tkinter` in 2.X) standard library support, or third-party toolkits such as WxPython\n",
    "    and PyQt. `tkinter` ships with Python, lets you build simple GUIs quickly, and is\n",
    "    ideal for learning GUI programming techniques; WxPython and PyQt tend to be\n",
    "    more complex to use but often produce higher-grade GUIs in the end.\n",
    "\n",
    "- *Websites*  \n",
    "    Although GUIs are convenient and fast, the Web is hard to beat in terms of \n",
    "    accessibility. We might also implement a website for browsing and updating records,\n",
    "    instead of or in addition to GUIs and the interactive prompt. Websites can be\n",
    "    constructed with either basic CGI scripting tools that come with Python, or \n",
    "    full-featured third-party web frameworks such as Django, TurboGears, Pylons,\n",
    "    web2Py, Zope, or Google’s App Engine. On the Web, your data can still be stored\n",
    "    in a shelve, pickle file, or other Python-based medium; the scripts that process it\n",
    "    are simply run automatically on a server in response to requests from web browsers\n",
    "    and other clients, and they produce HTML to interact with a user, either directly\n",
    "    or by interfacing with framework APIs. Rich Internet application (RIA) systems\n",
    "    such as Silverlight and pyjamas also attempt to combine GUI-like interactivity with\n",
    "    web-based deployment.\n",
    "\n",
    "- *Web services*  \n",
    "    Although web clients can often parse information in the replies from websites (a\n",
    "    technique colorfully known as “screen scraping”), we might go further and provide\n",
    "    a more direct way to fetch records on the Web via a web services interface such as\n",
    "    SOAP or XML-RPC calls—APIs supported by either Python itself or the third-party\n",
    "    open source domain, which generally map data to and from XML format for transmission. \n",
    "    To Python scripts, such APIs return data more directly than text embedded in \n",
    "    the HTML of a reply page.\n",
    "\n",
    "- *Databases*  \n",
    "    If our database becomes higher-volume or critical, we might eventually move it\n",
    "    from shelves to a more full-featured storage mechanism such as the open source\n",
    "    ZODB object-oriented database system (OODB), or a more traditional SQL-based\n",
    "    relational database system such as MySQL, Oracle, or PostgreSQL. Python itself\n",
    "    comes with the in-process SQLite database system built-in, but other open source\n",
    "    options are freely available on the Web. ZODB, for example, is similar to Python’s\n",
    "    `shelve` but addresses many of its limitations, better supporting larger databases,\n",
    "    concurrent updates, transaction processing, and automatic write-through on inmemory \n",
    "    changes (shelves can cache objects and flush to disk at close time with\n",
    "    their `writeback` option, but this has limitations: see other resources). SQL-based\n",
    "    systems like MySQL offer enterprise-level tools for database storage and may be\n",
    "    directly used from a Python script. As we saw in [Chapter 9](), MongoDB offers an\n",
    "    alternative approach that stores JSON documents, which closely parallel Python\n",
    "    dictionaries and lists, and are language neutral, unlike `pickle` data.\n",
    "\n",
    "- *ORMs*  \n",
    "    If we do migrate to a relational database system for storage, we don’t have to sacrifice Python’s OOP tools. Object-relational mappers (ORMs) like SQLObject and\n",
    "    SQLAlchemy can automatically map relational tables and rows to and from Python\n",
    "    classes and instances, such that we can process the stored data using normal Python\n",
    "    class syntax. This approach provides an alternative to OODBs like shelve and\n",
    "    ZODB and leverages the power of both relational databases and Python’s class\n",
    "    model.\n",
    "\n",
    "While I hope this introduction whets your appetite for future exploration, all of these\n",
    "topics are of course far beyond the scope of this tutorial and this book at large. If you\n",
    "want to explore any of them on your own, see the Web, Python’s standard library\n",
    "manuals, and application-focused books such as [Programming Python](http://oreilly.com/catalog/9780596009250/). In the latter I pick up this example where we’ve stopped here, showing how to add both a GUI and\n",
    "a website on top of the database to allow for browsing and updating instance records.\n",
    "I hope to see you there eventually, but first, let’s return to class fundamentals and finish\n",
    "up the rest of the core Python language story.\n"
   ]
  },
  {
   "cell_type": "markdown",
   "metadata": {},
   "source": [
    "## Summary\n",
    "\n",
    "\n",
    "In this chapter, we explored all the fundamentals of Python classes and OOP in action,\n",
    "by building upon a simple but real example, step by step. We added constructors,\n",
    "methods, operator overloading, customization with subclasses, and introspectionbased tools, and we met other concepts such as composition, delegation, and polymorphism along the way.\n",
    "\n",
    "In the end, we took objects created by our classes and made them persistent by storing\n",
    "them on a shelve object database—an easy-to-use system for saving and retrieving native Python objects by key. While exploring class basics, we also encountered multiple\n",
    "ways to factor our code to reduce redundancy and minimize future maintenance costs.\n",
    "Finally, we briefly previewed ways to extend our code with application-programming\n",
    "tools such as GUIs and databases, covered in follow-up books.\n",
    "\n",
    "In the next chapters of this part of the book, we’ll return to our study of the details\n",
    "behind Python’s class model and investigate its application to some of the design concepts used to combine classes in larger programs. Before we move ahead, though, let’s\n",
    "work through this chapter’s quiz to review what we covered here. Since we’ve already\n",
    "done a lot of hands-on work in this chapter, we’ll close with a set of mostly theoryoriented questions designed to make you trace through some of the code and ponder\n",
    "some of the bigger ideas behind it."
   ]
  },
  {
   "cell_type": "markdown",
   "metadata": {},
   "source": [
    "## Test Your Knowledge\n",
    "\n",
    "\n",
    "### Quiz\n",
    "\n",
    "\n",
    "1. When we fetch a `Manager` object from the shelve and print it, where does the display\n",
    "format logic come from?\n",
    "\n",
    "2. When we fetch a Person object from a shelve without importing its module, how\n",
    "does the object know that it has a `giveRaise` method that we can call?\n",
    "\n",
    "3. Why is it so important to move processing into methods, instead of hardcoding it\n",
    "outside the class?\n",
    "\n",
    "4. Why is it better to customize by subclassing rather than copying the original and\n",
    "modifying?\n",
    "\n",
    "5. Why is it better to call back to a superclass method to run default actions, instead\n",
    "of copying and modifying its code in a subclass?\n",
    "\n",
    "6. Why is it better to use tools like `__dict__` that allow objects to be processed \n",
    "generically than to write more custom code for each type of class?\n",
    "\n",
    "7. In general terms, when might you choose to use object embedding and composition\n",
    "instead of inheritance?\n",
    "\n",
    "8. What would you have to change if the objects coded in this chapter used a dictionary \n",
    "for names and a list for jobs, as in similar examples earlier in this book?\n",
    "\n",
    "9. How might you modify the classes in this chapter to implement a personal contacts\n",
    "database in Python?\n",
    "\n",
    "\n",
    "### Answers\n",
    "\n",
    "\n",
    "1. In the final version of our classes, `Manager` ultimately inherits its `__repr__` printing\n",
    "method from `AttrDisplay` in the separate `classtools` module and two levels up in\n",
    "the class tree. `Manager` doesn’t have one itself, so the inheritance search climbs to\n",
    "its `Person` superclass; because there is no `__repr__` there either, the search climbs\n",
    "higher and finds it in `AttrDisplay`. The class names listed in parentheses in a\n",
    "`class` statement’s header line provide the links to higher superclasses.\n",
    "\n",
    "2. Shelves (really, the `pickle` module they use) automatically relink an instance to the\n",
    "class it was created from when that instance is later loaded back into memory.\n",
    "Python reimports the class from its module internally, creates an instance with its\n",
    "stored attributes, and sets the instance’s `__class__` link to point to its original class.\n",
    "This way, loaded instances automatically obtain all their original methods (like\n",
    "lastName, giveRaise, and `__repr__`), even if we have not imported the instance’s\n",
    "class into our scope.\n",
    "\n",
    "3. It’s important to move processing into methods so that there is only one copy to\n",
    "change in the future, and so that the methods can be run on any instance. This is\n",
    "Python’s notion of *encapsulation*—wrapping up logic behind interfaces, to better\n",
    "support future code maintenance. If you don’t do so, you create code redundancy\n",
    "that can multiply your work effort as the code evolves in the future.\n",
    "\n",
    "4. Customizing with subclasses reduces development effort. In OOP, we code by\n",
    "*customizing* what has already been done, rather than copying or changing existing\n",
    "code. This is the real “big idea” in OOP—because we can easily extend our prior\n",
    "work by coding new subclasses, we can leverage what we’ve already done. This is\n",
    "much better than either starting from scratch each time, or introducing multiple\n",
    "redundant copies of code that may all have to be updated in the future.\n",
    "\n",
    "5. Copying and modifying code *doubles* your potential work effort in the future, \n",
    "regardless of the context. If a subclass needs to perform default actions coded in a\n",
    "superclass method, it’s much better to call back to the original through the superclass’s \n",
    "name than to copy its code. This also holds true for superclass constructors.\n",
    "Again, copying code creates redundancy, which is a major issue as code evolves.\n",
    "\n",
    "6. Generic tools can avoid hardcoded solutions that must be kept in sync with the\n",
    "rest of the class as it evolves over time. A generic `__repr__` print method, for \n",
    "example, need not be updated each time a new attribute is added to instances in an\n",
    "`__init__` constructor. In addition, a generic print method inherited by all classes\n",
    "appears and need be modified in only one place—changes in the generic version\n",
    "are picked up by all classes that inherit from the generic class. Again, eliminating\n",
    "code *redundancy* cuts future development effort; that’s one of the primary assets\n",
    "classes bring to the table.\n",
    "\n",
    "7. Inheritance is best at coding extensions based on direct customization (like our\n",
    "`Manager` specialization of `Person`). Composition is well suited to scenarios where\n",
    "multiple objects are aggregated into a whole and directed by a controller layer class.\n",
    "Inheritance passes calls *up* to reuse, and composition passes *down* to delegate.\n",
    "Inheritance and composition are not mutually exclusive; often, the objects embedded \n",
    "in a controller are themselves customizations based upon inheritance.\n",
    "\n",
    "8. Not much since this was really a first-cut prototype, but the `lastName` method\n",
    "would need to be updated for the new name format; the `Person` constructor would\n",
    "have change the job default to an empty list; and the `Manager` class would probably\n",
    "need to pass along a job list in its constructor instead of a single string (self-test\n",
    "code would change as well, of course). The good news is that these changes would\n",
    "need to be made in just one place—in our classes, where such details are encapsulated. \n",
    "The database scripts should work as is, as shelves support arbitrarily nested data.\n",
    "\n",
    "9. The classes in this chapter could be used as boilerplate “template” code to \n",
    "implement a variety of types of databases. Essentially, you can repurpose them by \n",
    "modifying the constructors to record different attributes and providing whatever \n",
    "methods are appropriate for the target application. For instance, you might use \n",
    "attributes such as `name`, `address`, `birthday`, `phone`, `email`, and so on for a contacts\n",
    "database, and methods appropriate for this purpose. A method named `sendmail`,\n",
    "for example, might use Python’s standard library `smptlib` module to send an email\n",
    "to one of the contacts automatically when called (see Python’s manuals or application-level books for more details on such tools). The `AttrDisplay` tool we wrote\n",
    "here could be used verbatim to print your objects, because it is intentionally\n",
    "generic. Most of the shelve database code here can be used to store your objects,\n",
    "too, with minor changes."
   ]
  }
 ],
 "metadata": {
  "interpreter": {
   "hash": "c97461ed06fc3eed5ba645d4221719a96ff8e1e800c131564c8e628fd4e8725a"
  },
  "kernelspec": {
   "display_name": "Python 3.8.8 ('base')",
   "language": "python",
   "name": "python3"
  },
  "language_info": {
   "codemirror_mode": {
    "name": "ipython",
    "version": 3
   },
   "file_extension": ".py",
   "mimetype": "text/x-python",
   "name": "python",
   "nbconvert_exporter": "python",
   "pygments_lexer": "ipython3",
   "version": "3.8.8"
  },
  "orig_nbformat": 4
 },
 "nbformat": 4,
 "nbformat_minor": 2
}
