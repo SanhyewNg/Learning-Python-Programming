{
 "cells": [
  {
   "cell_type": "markdown",
   "metadata": {},
   "source": [
    "# Operator Overloading\n",
    "\n",
    "\n",
    "This section continues our in-depth survey of class mechanics by focusing on operator\n",
    "overloading. We looked briefly at operator overloading in prior sections; here, we’ll\n",
    "fill in more details and look at a handful of commonly used overloading methods.\n",
    "Although we won’t demonstrate each of the many operator overloading methods available, \n",
    "those we will code here are a representative sample large enough to uncover the\n",
    "possibilities of this Python class feature."
   ]
  },
  {
   "cell_type": "markdown",
   "metadata": {},
   "source": [
    "## The Basics\n",
    "\n",
    "\n",
    "Really “operator overloading” simply means *intercepting* built-in operations in a class’s\n",
    "methods—Python automatically invokes your methods when instances of the class\n",
    "appear in built-in operations, and your method’s return value becomes the result of the\n",
    "corresponding operation. Here’s a review of the key ideas behind overloading:\n",
    "\n",
    "  + Operator overloading lets classes intercept normal Python operations.\n",
    "  + Classes can overload all Python expression operators.\n",
    "  + Classes can also overload built-in operations such as printing, function calls, attribute access, etc.\n",
    "  + Overloading makes class instances act more like built-in types.\n",
    "  + Overloading is implemented by providing specially named methods in a class.\n",
    "\n",
    "In other words, when certain specially named methods are provided in a class, Python\n",
    "automatically calls them when instances of the class appear in their associated expressions. Your class provides the behavior of the corresponding operation for instance\n",
    "objects created from it.\n",
    "\n",
    "As we’ve learned, operator overloading methods are never required and generally don’t\n",
    "have defaults (apart from a handful that some classes get from `object`); if you don’t\n",
    "code or inherit one, it just means that your class does not support the corresponding\n",
    "operation. When used, though, these methods allow classes to emulate the interfaces\n",
    "of built-in objects, and so appear more consistent."
   ]
  },
  {
   "cell_type": "markdown",
   "metadata": {},
   "source": [
    "### Constructors and Expressions: `__init__` and `__sub__`\n",
    "\n",
    "\n",
    "As a review, consider the following simple example: its `Number` class, coded in the file\n",
    "`number.py`, provides a method to intercept instance construction (`__init__`), as well as\n",
    "one for catching subtraction expressions (`__sub__`). Special methods such as these are\n",
    "the hooks that let you tie into built-in operations:\n"
   ]
  },
  {
   "cell_type": "code",
   "execution_count": 1,
   "metadata": {},
   "outputs": [],
   "source": [
    "# File number.py\n",
    "\n",
    "class Number:\n",
    "    def __init__(self, start): # On Number(start)\n",
    "        self.data = start\n",
    "    def __sub__(self, other): # On instance - other\n",
    "        return Number(self.data - other) # Result is a new instance"
   ]
  },
  {
   "cell_type": "code",
   "execution_count": 2,
   "metadata": {},
   "outputs": [
    {
     "data": {
      "text/plain": [
       "3"
      ]
     },
     "execution_count": 2,
     "metadata": {},
     "output_type": "execute_result"
    }
   ],
   "source": [
    "# from number import Number # Fetch class from module\n",
    "\n",
    "X = Number(5) # Number.__init__(X, 5)\n",
    "Y = X - 2 # Number.__sub__(X, 2)\n",
    "Y.data # Y is new Number instance"
   ]
  },
  {
   "cell_type": "markdown",
   "metadata": {},
   "source": [
    "As we’ve already learned, the `__init__` constructor method seen in this code is the most\n",
    "commonly used operator overloading method in Python; it’s present in most classes,\n",
    "and used to initialize the newly created instance object using any arguments passed to\n",
    "the class name. The `__sub__` method plays the binary operator role that `__add__` did in\n",
    "[Chapter 27]()’s introduction, intercepting subtraction expressions and returning a new\n",
    "instance of the class as its result (and running `__init__` along the way).\n",
    "\n",
    "We’ve already studied `__init__` and basic binary operators like `__sub__` in some depth,\n",
    "so we won’t rehash their usage further here. In this  section, we will tour some of the\n",
    "other tools available in this domain and look at example code that applies them in\n",
    "common use cases.\n",
    "\n"
   ]
  },
  {
   "cell_type": "markdown",
   "metadata": {},
   "source": [
    "**Note**  \n",
    "Technically, instance creation first triggers the `__new__` method, which\n",
    "creates and returns the new instance object, which is then passed into\n",
    "`__init__` for initialization. Since `__new__` has a built-in implementation\n",
    "and is redefined in only very limited roles, though, nearly all Python\n",
    "classes initialize by defining an `__init__` method. We’ll see one use case\n",
    "for `__new__` when we study *metaclasses* in [Chapter 40](); though rare, it is\n",
    "sometimes also used to customize creation of instances of mutable\n",
    "types."
   ]
  },
  {
   "cell_type": "markdown",
   "metadata": {},
   "source": [
    "### Common Operator Overloading Methods\n",
    "\n",
    "\n",
    "Just about everything you can do to built-in objects such as integers and lists has a\n",
    "corresponding specially named method for overloading in classes. [Table 30-1]() lists a\n",
    "few of the most common; there are many more. In fact, many overloading methods\n",
    "come in multiple versions (e.g., `__add__`, `__radd__`, and `__iadd__` for addition), \n",
    "is one reason there are so many. See other Python books, or the Python language reference manual, for an exhaustive list of the special method names available.\n",
    "\n",
    "\n",
    "[Table 30-1. Common operator overloading methods]()\n",
    "\n",
    "| **Method** | **Implements** | **Called for** |\n",
    "| ---------- | -------------- | -------------- |\n",
    "| `__init__` | Constructor | Object creation: `X = Class(args)` \n",
    "| `__del__` | Destructor | Object reclamation of `X` \n",
    "| `__add__` | Operator `+` | `X + Y`, `X += Y` if no `__iadd__`\n",
    "| `__or__` | Operator `|`  (bitwise OR) | `X | Y`, `X |= Y` if no `__ior__`\n",
    "| `__repr__`, `__str__` | Printing, conversions | `print(X)`, `repr(X)`, `str(X)`\n",
    "| `__call__` | Function calls | `X(*args, **kargs)`\n",
    "| `__getattr__` | Attribute fetch | `X.undefined`\n",
    "| `__setattr__` | Attribute assignment | `X.any = value`\n",
    "| `__delattr__` | Attribute deletion | `del X.any`\n",
    "| `__getattribute__` | Attribute fetch | `X.any`\n",
    "| `__getitem__` | Indexing, slicing, iteration | `X[key]`, `X[i:j]`, `for` loops and other iterations if no `__iter__`\n",
    "| `__setitem__` | Index and slice assignment | `X[key] = value`, `X[i:j] = iterable`\n",
    "| `__delitem__` | Index and slice deletion | `del X[key]` , `del X[i:j]`\n",
    "| `__len__` | Length | `len(X)`, truth tests if no `__bool__`\n",
    "| `__bool__` | Boolean tests | `bool(X)`, truth tests (named `__nonzero__` in 2.X)\n",
    "| `__lt__`, `__gt__`, `__le__`, `__ge__`, `__eq__`, `__ne__` | Comparisons | `X<Y`, `X>Y`, `X<=Y`, `X>=Y`, `X==Y`, `X!=Y` (or else `__cmp__` in 2.X only)\n",
    "| `__radd__` | Right-side operators | `Other + X`\n",
    "| `__iadd__` | In-place augmented operators | `X += Y` (or else `__add__`)\n",
    "| `__iter__`, `__next__` | Iteration contexts | `I=iter(X)`, `next(I)`; `for` loops, `in` if no `__contains__`, all comprehensions, `map(F,X)`, others (`__next__` is named `next` in 2.X)\n",
    "| `__contains__` | Membership test | `item in X` (any iterable)\n",
    "| `__index__` | Integer value | `hex(X)`, `bin(X)`, `oct(X)`, `O[X]`, `O[X:]` (replaces 2.X `__oct__`, `__hex__`)\n",
    "| `__enter__`, `__exit__` | Context manager ([Chapter 34]()) | `with obj as var:`\n",
    "| `__get__`, `__set__`, `__delete__` | Descriptor attributes ([Chapter 38]()) | `X.attr`, `X.attr = value`, `del X.attr`\n",
    "| `__new__` | Creation ([Chapter 40]()) | Object creation, before `__init__`\n",
    "\n",
    "\n",
    "All overloading methods have names that start and end with two underscores to keep\n",
    "them distinct from other names you define in your classes. The mappings from special\n",
    "method names to expressions or operations are predefined by the Python language,\n",
    "and documented in full in the standard language manual and other reference resources.\n",
    "For example, the name `__add__` always maps to + expressions by Python language definition, \n",
    "regardless of what an `__add__` method’s code actually does.\n",
    "\n",
    "Operator overloading methods may be inherited from superclasses if not defined, just\n",
    "like any other methods. Operator overloading methods are also all optional—if you\n",
    "don’t code or inherit one, that operation is simply unsupported by your class, and\n",
    "attempting it will raise an exception. Some built-in operations, like printing, have \n",
    "defaults (inherited from the implied `object` class in Python 3.X), but most built-ins fail\n",
    "for class instances if no corresponding operator overloading method is present.\n",
    "\n",
    "Most overloading methods are used only in advanced programs that require objects to\n",
    "behave like built-ins, though the `__init__` constructor we’ve already met tends to \n",
    "appear in most classes. Let’s explore some of the additional methods in [Table 30-1]() by\n",
    "example."
   ]
  },
  {
   "cell_type": "markdown",
   "metadata": {},
   "source": [
    "## Indexing and Slicing: `__getitem__` and `__setitem__`\n",
    "\n",
    "\n",
    "Our first method set allows your classes to mimic some of the behaviors of sequences\n",
    "and mappings. If defined in a class (or inherited by it), the `__getitem__` method is called\n",
    "automatically for instance-indexing operations. When an instance `X` appears in an \n",
    "indexing expression like `X[i]`, Python calls the `__getitem__` method inherited by the instance, passing `X` to the first argument and the index in brackets to the second argument.\n",
    "\n",
    "For example, the following class returns the square of an index value—atypical perhaps,\n",
    "but illustrative of the mechanism in general:"
   ]
  },
  {
   "cell_type": "code",
   "execution_count": 3,
   "metadata": {},
   "outputs": [],
   "source": [
    "class Indexer:\n",
    "    def __getitem__(self, index):\n",
    "        return index ** 2"
   ]
  },
  {
   "cell_type": "code",
   "execution_count": 4,
   "metadata": {},
   "outputs": [
    {
     "data": {
      "text/plain": [
       "4"
      ]
     },
     "execution_count": 4,
     "metadata": {},
     "output_type": "execute_result"
    }
   ],
   "source": [
    "X = Indexer()\n",
    "X[2]                                # X[i] calls X.__getitem__(i)"
   ]
  },
  {
   "cell_type": "code",
   "execution_count": 5,
   "metadata": {},
   "outputs": [
    {
     "name": "stdout",
     "output_type": "stream",
     "text": [
      "0 1 4 9 16 "
     ]
    }
   ],
   "source": [
    "for i in range(5):\n",
    "    print(X[i], end=' ')            # Runs __getitem__(X, i) each time"
   ]
  },
  {
   "cell_type": "markdown",
   "metadata": {},
   "source": [
    "### Intercepting Slices\n",
    "\n",
    "\n",
    "Interestingly, in addition to indexing, `__getitem__` is also called for *slice expressions*—\n",
    "always in 3.X, and conditionally in 2.X if you don’t provide more specific slicing methods. \n",
    "Formally speaking, built-in types handle slicing the same way. Here, for example,\n",
    "is slicing at work on a built-in list, using upper and lower bounds and a stride (see\n",
    "[Chapter 7]() if you need a refresher on slicing). \n",
    "Really, though, slicing bounds are bundled up into a *slice object* and passed to the list’s\n",
    "implementation of indexing. In fact, you can always pass a slice object manually—slice\n",
    "syntax is mostly syntactic sugar for indexing with a slice object:"
   ]
  },
  {
   "cell_type": "code",
   "execution_count": 6,
   "metadata": {},
   "outputs": [
    {
     "data": {
      "text/plain": [
       "([7, 8], [7, 8])"
      ]
     },
     "execution_count": 6,
     "metadata": {},
     "output_type": "execute_result"
    }
   ],
   "source": [
    "L = [5, 6, 7, 8, 9]\n",
    "L[2:4], L[slice(2, 4)]                        # Slice with slice syntax: 2..(4-1)"
   ]
  },
  {
   "cell_type": "code",
   "execution_count": 7,
   "metadata": {},
   "outputs": [
    {
     "data": {
      "text/plain": [
       "([6, 7, 8, 9], [6, 7, 8, 9])"
      ]
     },
     "execution_count": 7,
     "metadata": {},
     "output_type": "execute_result"
    }
   ],
   "source": [
    "L[1:], L[slice(1, None)]"
   ]
  },
  {
   "cell_type": "code",
   "execution_count": 8,
   "metadata": {},
   "outputs": [
    {
     "data": {
      "text/plain": [
       "([5, 6, 7, 8], [5, 6, 7, 8])"
      ]
     },
     "execution_count": 8,
     "metadata": {},
     "output_type": "execute_result"
    }
   ],
   "source": [
    "L[:-1], L[slice(None, -1)]"
   ]
  },
  {
   "cell_type": "code",
   "execution_count": 9,
   "metadata": {},
   "outputs": [
    {
     "data": {
      "text/plain": [
       "([5, 7, 9], [5, 7, 9])"
      ]
     },
     "execution_count": 9,
     "metadata": {},
     "output_type": "execute_result"
    }
   ],
   "source": [
    "L[::2], L[slice(None, None, 2)]"
   ]
  },
  {
   "cell_type": "markdown",
   "metadata": {},
   "source": [
    "This matters in classes with a `__getitem__` method—in 3.X, the method will be called\n",
    "both for basic indexing (with an index) and for slicing (with a slice object). Our previous\n",
    "class won’t handle slicing because its math assumes integer indexes are passed, but the\n",
    "following class will. When called for *indexing*, the argument is an integer as before:"
   ]
  },
  {
   "cell_type": "code",
   "execution_count": 10,
   "metadata": {},
   "outputs": [],
   "source": [
    "class Indexer:\n",
    "    data = [5, 6, 7, 8, 9]\n",
    "    def __getitem__(self, index):               # Called for index or slice\n",
    "        print('getitem:', index)\n",
    "        return self.data[index]                 # Perform index or slice"
   ]
  },
  {
   "cell_type": "code",
   "execution_count": 11,
   "metadata": {},
   "outputs": [
    {
     "name": "stdout",
     "output_type": "stream",
     "text": [
      "getitem: 0\n",
      "getitem: 1\n",
      "getitem: -1\n"
     ]
    },
    {
     "data": {
      "text/plain": [
       "(5, 6, 9)"
      ]
     },
     "execution_count": 11,
     "metadata": {},
     "output_type": "execute_result"
    }
   ],
   "source": [
    "X = Indexer()\n",
    "X[0], X[1], X[-1]                               # Indexing sends __getitem__ an integer"
   ]
  },
  {
   "cell_type": "markdown",
   "metadata": {},
   "source": [
    "When called for *slicing*, though, the method receives a slice object, which is simply\n",
    "passed along to the embedded list indexer in a new index expression:"
   ]
  },
  {
   "cell_type": "code",
   "execution_count": 12,
   "metadata": {},
   "outputs": [
    {
     "name": "stdout",
     "output_type": "stream",
     "text": [
      "getitem: slice(2, 4, None)\n",
      "getitem: slice(1, None, None)\n",
      "getitem: slice(None, -1, None)\n",
      "getitem: slice(None, None, 2)\n"
     ]
    },
    {
     "data": {
      "text/plain": [
       "([7, 8], [6, 7, 8, 9], [5, 6, 7, 8], [5, 7, 9])"
      ]
     },
     "execution_count": 12,
     "metadata": {},
     "output_type": "execute_result"
    }
   ],
   "source": [
    "X[2:4], X[1:], X[:-1], X[::2]                   # Slicing sends __getitem__ a slice object"
   ]
  },
  {
   "cell_type": "markdown",
   "metadata": {},
   "source": [
    "Where needed, `__getitem__` can test the type of its argument, and extract slice object\n",
    "bounds—slice objects have attributes `start`, `stop`, and `step`, any of which can be `None`\n",
    "if omitted:"
   ]
  },
  {
   "cell_type": "code",
   "execution_count": 13,
   "metadata": {},
   "outputs": [],
   "source": [
    "class Indexer:\n",
    "    def __getitem__(self, index):\n",
    "        if isinstance(index, int):              # Test usage mode\n",
    "            print('indexing', index)\n",
    "        else:\n",
    "            print('slicing', index.start, index.stop, index.step)"
   ]
  },
  {
   "cell_type": "code",
   "execution_count": 14,
   "metadata": {},
   "outputs": [
    {
     "name": "stdout",
     "output_type": "stream",
     "text": [
      "indexing 99\n"
     ]
    }
   ],
   "source": [
    "X = Indexer()\n",
    "X[99]"
   ]
  },
  {
   "cell_type": "code",
   "execution_count": 15,
   "metadata": {},
   "outputs": [
    {
     "name": "stdout",
     "output_type": "stream",
     "text": [
      "slicing 1 99 2\n"
     ]
    }
   ],
   "source": [
    "X[1:99:2]"
   ]
  },
  {
   "cell_type": "code",
   "execution_count": 16,
   "metadata": {},
   "outputs": [
    {
     "name": "stdout",
     "output_type": "stream",
     "text": [
      "slicing 1 None None\n"
     ]
    }
   ],
   "source": [
    "X[1:]"
   ]
  },
  {
   "cell_type": "markdown",
   "metadata": {},
   "source": [
    "If used, the `__setitem__` index assignment method similarly intercepts both index and\n",
    "slice assignments—in 3.X (and usually in 2.X) it receives a slice object for the latter,\n",
    "which may be passed along in another index assignment or used directly in the same\n",
    "way:\n",
    "\n",
    "```python\n",
    "    class IndexSetter:\n",
    "        def __setitem__(self, index, value):    # Intercept index or slice assignment\n",
    "            ...\n",
    "            self.data[index] = value            # Assign index or slice\n",
    "```\n",
    "\n",
    "In fact, `__getitem__` may be called automatically in even more contexts than indexing\n",
    "and slicing—it’s also an *iteration* fallback option, as we’ll see in a moment. First,\n",
    "though, let’s take a quick look at 2.X’s flavor of these operations for 2.X readers, and\n",
    "clarify a potential point of confusion in this category."
   ]
  },
  {
   "cell_type": "markdown",
   "metadata": {},
   "source": [
    "### But 3.X’s `__index__` Is Not Indexing!\n",
    "\n",
    "\n",
    "On a related note, don’t confuse the (perhaps unfortunately named) `__index__` method\n",
    "in Python 3.X for index interception—this method returns an *integer value* for an \n",
    "instance when needed and is used by built-ins that convert to digit strings (and in \n",
    "retrospect, might have been better named `__asindex__`):"
   ]
  },
  {
   "cell_type": "code",
   "execution_count": 17,
   "metadata": {},
   "outputs": [],
   "source": [
    "class C:\n",
    "    def __index__(self):\n",
    "        return 255"
   ]
  },
  {
   "cell_type": "code",
   "execution_count": 18,
   "metadata": {},
   "outputs": [
    {
     "data": {
      "text/plain": [
       "('0xff', '0b11111111', '0o377')"
      ]
     },
     "execution_count": 18,
     "metadata": {},
     "output_type": "execute_result"
    }
   ],
   "source": [
    "X = C()\n",
    "hex(X), bin(X), oct(X)                          # Integer value"
   ]
  },
  {
   "cell_type": "markdown",
   "metadata": {},
   "source": [
    "Although this method does not intercept instance indexing like `__getitem__`, it is also\n",
    "used in contexts that require an integer—*including* indexing:"
   ]
  },
  {
   "cell_type": "code",
   "execution_count": 19,
   "metadata": {},
   "outputs": [
    {
     "data": {
      "text/plain": [
       "'C'"
      ]
     },
     "execution_count": 19,
     "metadata": {},
     "output_type": "execute_result"
    }
   ],
   "source": [
    "('C' * 256)[255]"
   ]
  },
  {
   "cell_type": "code",
   "execution_count": 20,
   "metadata": {},
   "outputs": [
    {
     "data": {
      "text/plain": [
       "'C'"
      ]
     },
     "execution_count": 20,
     "metadata": {},
     "output_type": "execute_result"
    }
   ],
   "source": [
    "('C' * 256)[X]                                  # As index (not X[i])"
   ]
  },
  {
   "cell_type": "code",
   "execution_count": 21,
   "metadata": {},
   "outputs": [
    {
     "data": {
      "text/plain": [
       "'C'"
      ]
     },
     "execution_count": 21,
     "metadata": {},
     "output_type": "execute_result"
    }
   ],
   "source": [
    "('C' * 256)[X:]                                 # As index (not X[i:])"
   ]
  },
  {
   "cell_type": "markdown",
   "metadata": {},
   "source": [
    "## Index Iteration: `__getitem__`\n",
    "\n",
    "\n",
    "Here’s a hook that isn’t always obvious to beginners, but turns out to be surprisingly\n",
    "useful. In the absence of more-specific iteration methods we’ll get to in the next section,\n",
    "the `for` statement works by repeatedly indexing a sequence from zero to higher indexes,\n",
    "until an out-of-bounds `IndexError` exception is detected. Because of that, `__getitem__` \n",
    "also turns out to be one way to overload iteration in Python—if this method is\n",
    "defined, `for` loops call the class’s `__getitem__` each time through, with successively\n",
    "higher offsets.\n",
    "\n",
    "It’s a case of “code one, get one free”—any built-in or user-defined object that responds\n",
    "to indexing also responds to `for` loop iteration:"
   ]
  },
  {
   "cell_type": "code",
   "execution_count": 22,
   "metadata": {},
   "outputs": [],
   "source": [
    "class StepperIndex:\n",
    "    def __getitem__(self, i):\n",
    "        return self.data[i]"
   ]
  },
  {
   "cell_type": "code",
   "execution_count": 23,
   "metadata": {},
   "outputs": [
    {
     "data": {
      "text/plain": [
       "'p'"
      ]
     },
     "execution_count": 23,
     "metadata": {},
     "output_type": "execute_result"
    }
   ],
   "source": [
    "X = StepperIndex()          # X is a StepperIndex object\n",
    "X.data = \"Spam\"\n",
    "X[1]                        # Indexing calls __getitem__"
   ]
  },
  {
   "cell_type": "code",
   "execution_count": 24,
   "metadata": {},
   "outputs": [
    {
     "name": "stdout",
     "output_type": "stream",
     "text": [
      "S p a m "
     ]
    }
   ],
   "source": [
    "for item in X:              # for loops call __getitem__\n",
    "    print(item, end=' ')    # for indexes items 0..N"
   ]
  },
  {
   "cell_type": "markdown",
   "metadata": {},
   "source": [
    "In fact, it’s really a case of “code one, get a bunch free.” Any class that supports `for`\n",
    "loops automatically supports all *iteration contexts* in Python, many of which we’ve seen\n",
    "in earlier chapters (iteration contexts were presented in [Chapter 14]()). For example, the\n",
    "`in` membership test, list comprehensions, the `map` built-in, list and tuple assignments,\n",
    "and type constructors will also call `__getitem__` automatically, if it’s defined:"
   ]
  },
  {
   "cell_type": "code",
   "execution_count": 25,
   "metadata": {},
   "outputs": [
    {
     "data": {
      "text/plain": [
       "True"
      ]
     },
     "execution_count": 25,
     "metadata": {},
     "output_type": "execute_result"
    }
   ],
   "source": [
    "'p' in X                    # All call __getitem__ too"
   ]
  },
  {
   "cell_type": "code",
   "execution_count": 26,
   "metadata": {},
   "outputs": [
    {
     "data": {
      "text/plain": [
       "['S', 'p', 'a', 'm']"
      ]
     },
     "execution_count": 26,
     "metadata": {},
     "output_type": "execute_result"
    }
   ],
   "source": [
    "[c for c in X]              # List comprehension"
   ]
  },
  {
   "cell_type": "code",
   "execution_count": 27,
   "metadata": {},
   "outputs": [
    {
     "data": {
      "text/plain": [
       "['S', 'P', 'A', 'M']"
      ]
     },
     "execution_count": 27,
     "metadata": {},
     "output_type": "execute_result"
    }
   ],
   "source": [
    "list(map(str.upper, X))     # map calls (use list() in 3.X)"
   ]
  },
  {
   "cell_type": "code",
   "execution_count": 28,
   "metadata": {},
   "outputs": [
    {
     "data": {
      "text/plain": [
       "('S', 'a', 'm')"
      ]
     },
     "execution_count": 28,
     "metadata": {},
     "output_type": "execute_result"
    }
   ],
   "source": [
    "(a, b, c, d) = X            # Sequence assignments\n",
    "a, c, d"
   ]
  },
  {
   "cell_type": "code",
   "execution_count": 29,
   "metadata": {},
   "outputs": [
    {
     "data": {
      "text/plain": [
       "(['S', 'p', 'a', 'm'], ('S', 'p', 'a', 'm'), 'Spam')"
      ]
     },
     "execution_count": 29,
     "metadata": {},
     "output_type": "execute_result"
    }
   ],
   "source": [
    "list(X), tuple(X), ''.join(X) # And so on..."
   ]
  },
  {
   "cell_type": "code",
   "execution_count": 30,
   "metadata": {},
   "outputs": [
    {
     "data": {
      "text/plain": [
       "<__main__.StepperIndex at 0x2f17a65cd30>"
      ]
     },
     "execution_count": 30,
     "metadata": {},
     "output_type": "execute_result"
    }
   ],
   "source": [
    "X"
   ]
  },
  {
   "cell_type": "markdown",
   "metadata": {},
   "source": [
    "In practice, this technique can be used to create objects that provide a sequence interface\n",
    "and to add logic to built-in sequence type operations; we’ll revisit this idea when extending \n",
    "built-in types in [Chapter 32]()."
   ]
  },
  {
   "cell_type": "markdown",
   "metadata": {},
   "source": [
    "## Iterable Objects: `__iter__` and __next__\n",
    "\n",
    "\n",
    "Although the `__getitem__` technique of the prior section works, it’s really just a fallback\n",
    "for iteration. Today, all iteration contexts in Python will try the `__iter__` method first,\n",
    "before trying `__getitem__`. That is, they prefer the *iteration protocol* we learned about\n",
    "in [Chapter 14]() to repeatedly indexing an object; only if the object does not support the\n",
    "iteration protocol is indexing attempted instead. Generally speaking, you should prefer\n",
    "`__iter__` too—it supports general iteration contexts better than `__getitem__` can.\n",
    "\n",
    "Technically, iteration contexts work by passing an iterable object to the `iter` built-in\n",
    "function to invoke an `__iter__` method, which is expected to return an iterator object.\n",
    "If it’s provided, Python then repeatedly calls this iterator object’s `__next__` method to\n",
    "produce items until a `StopIteration` exception is raised. A `next` built-in function is also\n",
    "available as a convenience for manual iterations—`next(I)` is the same as\n",
    "`I.__next__()`. For a review of this model’s essentials, see [Figure 14-1]() in [Chapter 14]().\n",
    "\n",
    "This iterable object interface is given priority and attempted first. Only if no such\n",
    "`__iter__` method is found, Python falls back on the `__getitem__` scheme and repeatedly\n",
    "indexes by offsets as before, until an `IndexError` exception is raised."
   ]
  },
  {
   "cell_type": "markdown",
   "metadata": {},
   "source": [
    "### User-Defined Iterables\n",
    "\n",
    "\n",
    "In the `__iter__` scheme, classes implement user-defined iterables by simply \n",
    "implementing the iteration protocol introduced in [Chapter 14]() and elaborated in [Chapter 20](). \n",
    "For example, the following file uses a class to define a user-defined iterable that\n",
    "generates squares on demand, instead of all at once:"
   ]
  },
  {
   "cell_type": "code",
   "execution_count": 31,
   "metadata": {},
   "outputs": [],
   "source": [
    "# File squares.\n",
    "\n",
    "class Squares:\n",
    "    def __init__(self, start, stop):        # Save state when created\n",
    "        self.value = start - 1\n",
    "        self.stop = stop\n",
    "    def __iter__(self):                     # Get iterator object on iter\n",
    "        return self\n",
    "    def __next__(self):                     # Return a square on each iteration\n",
    "        if self.value == self.stop:         # Also called by next built-in\n",
    "            raise StopIteration\n",
    "        self.value += 1\n",
    "        return self.value ** 2"
   ]
  },
  {
   "cell_type": "markdown",
   "metadata": {},
   "source": [
    "When imported, its instances can appear in iteration contexts just like built-ins:"
   ]
  },
  {
   "cell_type": "code",
   "execution_count": 32,
   "metadata": {},
   "outputs": [
    {
     "name": "stdout",
     "output_type": "stream",
     "text": [
      "1 4 9 16 25 "
     ]
    }
   ],
   "source": [
    "# from squares import Squares\n",
    "\n",
    "for i in Squares(1, 5):  # for calls iter, which calls __iter__\n",
    "    print(i, end=' ') # Each iteration calls __next__"
   ]
  },
  {
   "cell_type": "markdown",
   "metadata": {},
   "source": [
    "Here, the iterator object returned by `__iter__` is simply the instance `self`, because the\n",
    "`__next__` method is part of this class itself. In more complex scenarios, the iterator\n",
    "object may be defined as a separate class and object with its own state information to\n",
    "support multiple active iterations over the same data (we’ll see an example of this in a\n",
    "moment). The end of the iteration is signaled with a Python `raise` statement—introduced \n",
    "in [Chapter 29]() and covered in full later in this book, but which simply\n",
    "raises an exception as if Python itself had done so. Manual iterations work the same on\n",
    "user-defined iterables as they do on built-in types as well:"
   ]
  },
  {
   "cell_type": "code",
   "execution_count": 33,
   "metadata": {},
   "outputs": [
    {
     "data": {
      "text/plain": [
       "(1, 4, 9, 16, 25)"
      ]
     },
     "execution_count": 33,
     "metadata": {},
     "output_type": "execute_result"
    }
   ],
   "source": [
    "X = Squares(1, 5)                               # Iterate manually: what loops do\n",
    "I = iter(X)                                     # iter calls __iter__\n",
    "next(I), next(I), next(I), next(I), next(I)     # next calls __next__ (in 3.X)"
   ]
  },
  {
   "cell_type": "code",
   "execution_count": 34,
   "metadata": {},
   "outputs": [
    {
     "ename": "StopIteration",
     "evalue": "",
     "output_type": "error",
     "traceback": [
      "\u001b[1;31m---------------------------------------------------------------------------\u001b[0m",
      "\u001b[1;31mStopIteration\u001b[0m                             Traceback (most recent call last)",
      "\u001b[1;32m<ipython-input-34-223e8a74ab57>\u001b[0m in \u001b[0;36m<module>\u001b[1;34m\u001b[0m\n\u001b[1;32m----> 1\u001b[1;33m \u001b[0mnext\u001b[0m\u001b[1;33m(\u001b[0m\u001b[0mI\u001b[0m\u001b[1;33m)\u001b[0m                                         \u001b[1;31m# Can catch this in try statement\u001b[0m\u001b[1;33m\u001b[0m\u001b[1;33m\u001b[0m\u001b[0m\n\u001b[0m",
      "\u001b[1;32m<ipython-input-31-df5ac1f97225>\u001b[0m in \u001b[0;36m__next__\u001b[1;34m(self)\u001b[0m\n\u001b[0;32m      9\u001b[0m     \u001b[1;32mdef\u001b[0m \u001b[0m__next__\u001b[0m\u001b[1;33m(\u001b[0m\u001b[0mself\u001b[0m\u001b[1;33m)\u001b[0m\u001b[1;33m:\u001b[0m                     \u001b[1;31m# Return a square on each iteration\u001b[0m\u001b[1;33m\u001b[0m\u001b[1;33m\u001b[0m\u001b[0m\n\u001b[0;32m     10\u001b[0m         \u001b[1;32mif\u001b[0m \u001b[0mself\u001b[0m\u001b[1;33m.\u001b[0m\u001b[0mvalue\u001b[0m \u001b[1;33m==\u001b[0m \u001b[0mself\u001b[0m\u001b[1;33m.\u001b[0m\u001b[0mstop\u001b[0m\u001b[1;33m:\u001b[0m         \u001b[1;31m# Also called by next built-in\u001b[0m\u001b[1;33m\u001b[0m\u001b[1;33m\u001b[0m\u001b[0m\n\u001b[1;32m---> 11\u001b[1;33m             \u001b[1;32mraise\u001b[0m \u001b[0mStopIteration\u001b[0m\u001b[1;33m\u001b[0m\u001b[1;33m\u001b[0m\u001b[0m\n\u001b[0m\u001b[0;32m     12\u001b[0m         \u001b[0mself\u001b[0m\u001b[1;33m.\u001b[0m\u001b[0mvalue\u001b[0m \u001b[1;33m+=\u001b[0m \u001b[1;36m1\u001b[0m\u001b[1;33m\u001b[0m\u001b[1;33m\u001b[0m\u001b[0m\n\u001b[0;32m     13\u001b[0m         \u001b[1;32mreturn\u001b[0m \u001b[0mself\u001b[0m\u001b[1;33m.\u001b[0m\u001b[0mvalue\u001b[0m \u001b[1;33m**\u001b[0m \u001b[1;36m2\u001b[0m\u001b[1;33m\u001b[0m\u001b[1;33m\u001b[0m\u001b[0m\n",
      "\u001b[1;31mStopIteration\u001b[0m: "
     ]
    }
   ],
   "source": [
    "next(I)                                         # Can catch this in try statement"
   ]
  },
  {
   "cell_type": "markdown",
   "metadata": {},
   "source": [
    "An equivalent coding of this iterable with `__getitem__` might be less natural, because\n",
    "the `for` would then iterate through all offsets zero and higher; the offsets passed in\n",
    "would be only indirectly related to the range of values produced (`0..N` would need to\n",
    "map to `start..stop`). Because `__iter__` objects retain explicitly managed state between\n",
    "`next` calls, they can be more general than `__getitem__`.\n",
    "\n",
    "On the other hand, iterables based on `__iter__` can sometimes be more complex and\n",
    "less functional than those based on `__getitem__`. They are really designed for iteration,\n",
    "not random indexing—in fact, they don’t overload the indexing expression at all,\n",
    "though you can collect their items in a sequence such as a list to enable other operations:"
   ]
  },
  {
   "cell_type": "code",
   "execution_count": 35,
   "metadata": {},
   "outputs": [
    {
     "ename": "TypeError",
     "evalue": "'Squares' object is not subscriptable",
     "output_type": "error",
     "traceback": [
      "\u001b[1;31m---------------------------------------------------------------------------\u001b[0m",
      "\u001b[1;31mTypeError\u001b[0m                                 Traceback (most recent call last)",
      "\u001b[1;32m<ipython-input-35-5373ef293fc0>\u001b[0m in \u001b[0;36m<module>\u001b[1;34m\u001b[0m\n\u001b[0;32m      1\u001b[0m \u001b[0mX\u001b[0m \u001b[1;33m=\u001b[0m \u001b[0mSquares\u001b[0m\u001b[1;33m(\u001b[0m\u001b[1;36m1\u001b[0m\u001b[1;33m,\u001b[0m \u001b[1;36m5\u001b[0m\u001b[1;33m)\u001b[0m\u001b[1;33m\u001b[0m\u001b[1;33m\u001b[0m\u001b[0m\n\u001b[1;32m----> 2\u001b[1;33m \u001b[0mX\u001b[0m\u001b[1;33m[\u001b[0m\u001b[1;36m1\u001b[0m\u001b[1;33m]\u001b[0m\u001b[1;33m\u001b[0m\u001b[1;33m\u001b[0m\u001b[0m\n\u001b[0m",
      "\u001b[1;31mTypeError\u001b[0m: 'Squares' object is not subscriptable"
     ]
    }
   ],
   "source": [
    "X = Squares(1, 5)\n",
    "X[1]"
   ]
  },
  {
   "cell_type": "code",
   "execution_count": 36,
   "metadata": {},
   "outputs": [
    {
     "data": {
      "text/plain": [
       "4"
      ]
     },
     "execution_count": 36,
     "metadata": {},
     "output_type": "execute_result"
    }
   ],
   "source": [
    "list(X)[1]"
   ]
  },
  {
   "cell_type": "markdown",
   "metadata": {},
   "source": [
    "#### Single versus multiple scans\n",
    "\n",
    "\n",
    "The `__iter__` scheme is also the implementation for all the other iteration contexts we\n",
    "saw in action for the `__getitem__` method—membership tests, type constructors, \n",
    "sequence assignment, and so on. Unlike our prior `__getitem__` example, though, we also\n",
    "need to be aware that a class’s `__iter__` may be designed for a *single traversal* only, not\n",
    "many. Classes choose scan behavior explicitly in their code.\n",
    "\n",
    "For example, because the current `Squares` class’s `__iter__` always returns `self` with just\n",
    "one copy of iteration state, it is a one-shot iteration; once you’ve iterated over an \n",
    "instance of that class, it’s empty. Calling `__iter__` again on the same instance returns\n",
    "`self` again, in whatever state it may have been left. You generally need to make a new\n",
    "iterable instance object for each new iteration:"
   ]
  },
  {
   "cell_type": "code",
   "execution_count": 37,
   "metadata": {},
   "outputs": [
    {
     "data": {
      "text/plain": [
       "[1, 4, 9, 16, 25]"
      ]
     },
     "execution_count": 37,
     "metadata": {},
     "output_type": "execute_result"
    }
   ],
   "source": [
    "X = Squares(1, 5)                   # Make an iterable with state\n",
    "[n for n in X]                      # Exhausts items: __iter__ returns self"
   ]
  },
  {
   "cell_type": "code",
   "execution_count": 38,
   "metadata": {},
   "outputs": [
    {
     "data": {
      "text/plain": [
       "[]"
      ]
     },
     "execution_count": 38,
     "metadata": {},
     "output_type": "execute_result"
    }
   ],
   "source": [
    "[n for n in X]                      # Now it's empty: __iter__ returns same self"
   ]
  },
  {
   "cell_type": "code",
   "execution_count": 39,
   "metadata": {},
   "outputs": [
    {
     "data": {
      "text/plain": [
       "[1, 4, 9, 16, 25]"
      ]
     },
     "execution_count": 39,
     "metadata": {},
     "output_type": "execute_result"
    }
   ],
   "source": [
    "[n for n in Squares(1, 5)]          # Make a new iterable object"
   ]
  },
  {
   "cell_type": "code",
   "execution_count": 40,
   "metadata": {},
   "outputs": [
    {
     "data": {
      "text/plain": [
       "[1, 4, 9]"
      ]
     },
     "execution_count": 40,
     "metadata": {},
     "output_type": "execute_result"
    }
   ],
   "source": [
    "list(Squares(1, 3))                 # A new object for each new __iter__ call"
   ]
  },
  {
   "cell_type": "markdown",
   "metadata": {},
   "source": [
    "To support multiple iterations more directly, we could also recode this example with\n",
    "an extra class or other technique, as we will in a moment. As is, though, by creating a\n",
    "*new instance* for each iteration, you get a fresh copy of iteration state:"
   ]
  },
  {
   "cell_type": "code",
   "execution_count": 41,
   "metadata": {},
   "outputs": [
    {
     "data": {
      "text/plain": [
       "True"
      ]
     },
     "execution_count": 41,
     "metadata": {},
     "output_type": "execute_result"
    }
   ],
   "source": [
    "36 in Squares(1, 10)                # Other iteration contexts"
   ]
  },
  {
   "cell_type": "code",
   "execution_count": 42,
   "metadata": {},
   "outputs": [
    {
     "data": {
      "text/plain": [
       "(1, 4, 9)"
      ]
     },
     "execution_count": 42,
     "metadata": {},
     "output_type": "execute_result"
    }
   ],
   "source": [
    "a, b, c = Squares(1, 3)             # Each calls __iter__ and then __next__\n",
    "a, b, c"
   ]
  },
  {
   "cell_type": "code",
   "execution_count": 43,
   "metadata": {},
   "outputs": [
    {
     "data": {
      "text/plain": [
       "'1:4:9:16:25'"
      ]
     },
     "execution_count": 43,
     "metadata": {},
     "output_type": "execute_result"
    }
   ],
   "source": [
    "':'.join(map(str, Squares(1, 5)))"
   ]
  },
  {
   "cell_type": "markdown",
   "metadata": {},
   "source": [
    "Just like single-scan built-ins such as `map`, converting to a list supports multiple scans\n",
    "as well, but adds time and space performance costs, which may or may not be significant\n",
    "to a given program:"
   ]
  },
  {
   "cell_type": "code",
   "execution_count": 44,
   "metadata": {},
   "outputs": [
    {
     "data": {
      "text/plain": [
       "((1, 4, 9, 16, 25), ())"
      ]
     },
     "execution_count": 44,
     "metadata": {},
     "output_type": "execute_result"
    }
   ],
   "source": [
    "X = Squares(1, 5)\n",
    "tuple(X), tuple(X)                  # Iterator exhausted in second tuple()"
   ]
  },
  {
   "cell_type": "code",
   "execution_count": 45,
   "metadata": {},
   "outputs": [
    {
     "data": {
      "text/plain": [
       "((1, 4, 9, 16, 25), (1, 4, 9, 16, 25))"
      ]
     },
     "execution_count": 45,
     "metadata": {},
     "output_type": "execute_result"
    }
   ],
   "source": [
    "X = list(Squares(1, 5))\n",
    "tuple(X), tuple(X)"
   ]
  },
  {
   "cell_type": "markdown",
   "metadata": {},
   "source": [
    "We’ll improve this to support multiple scans more directly ahead, after a bit of compare-and-contrast."
   ]
  },
  {
   "cell_type": "markdown",
   "metadata": {},
   "source": [
    "#### Classes versus generators\n",
    "\n",
    "\n",
    "Notice that the preceding example would probably be simpler if it was coded with\n",
    "*generator functions or expressions*—tools introduced in [Chapter 20]() that automatically\n",
    "produce iterable objects and retain local variable state between iterations:"
   ]
  },
  {
   "cell_type": "code",
   "execution_count": 46,
   "metadata": {},
   "outputs": [
    {
     "name": "stdout",
     "output_type": "stream",
     "text": [
      "1 4 9 16 25 "
     ]
    }
   ],
   "source": [
    "def gsquares(start, stop):\n",
    "    for i in range(start, stop + 1):\n",
    "        yield i ** 2\n",
    "        \n",
    "for i in gsquares(1, 5):\n",
    "    print(i, end=' ')"
   ]
  },
  {
   "cell_type": "code",
   "execution_count": 47,
   "metadata": {},
   "outputs": [
    {
     "name": "stdout",
     "output_type": "stream",
     "text": [
      "1 4 9 16 25 "
     ]
    }
   ],
   "source": [
    "for i in (x ** 2 for x in range(1, 6)):\n",
    "    print(i, end=' ')"
   ]
  },
  {
   "cell_type": "markdown",
   "metadata": {},
   "source": [
    "Unlike classes, generator functions and expressions implicitly save their state and create\n",
    "the methods required to conform to the iteration protocol—with obvious advantages\n",
    "in code conciseness for simpler examples like these. On the other hand, the class’s more\n",
    "explicit attributes and methods, extra structure, inheritance hierarchies, and support\n",
    "for multiple behaviors may be better suited for richer use cases.\n",
    "\n",
    "Of course, for this artificial example, you could in fact skip both techniques and simply\n",
    "use a `for` loop, `map`, or a list comprehension to build the list all at once. Barring \n",
    "performance data to the contrary, the best and fastest way to accomplish a task in Python is\n",
    "often also the simplest:"
   ]
  },
  {
   "cell_type": "code",
   "execution_count": 48,
   "metadata": {},
   "outputs": [
    {
     "data": {
      "text/plain": [
       "[1, 4, 9, 16, 25]"
      ]
     },
     "execution_count": 48,
     "metadata": {},
     "output_type": "execute_result"
    }
   ],
   "source": [
    "[x ** 2 for x in range(1, 6)]"
   ]
  },
  {
   "cell_type": "markdown",
   "metadata": {},
   "source": [
    "However, classes may be better at modeling more complex iterations, especially when\n",
    "they can benefit from the assets of classes in general. An iterable that produces items\n",
    "in a complex database or web service result, for example, might be able to take fuller\n",
    "advantage of classes. The next section explores another use case for classes in \n",
    "user-defined iterables."
   ]
  },
  {
   "cell_type": "markdown",
   "metadata": {},
   "source": [
    "### Multiple Iterators on One Object\n",
    "\n",
    "\n",
    "Earlier, I mentioned that the iterator object (with a `__next__`) produced by an iterable\n",
    "may be defined as a separate class with its own state information to more directly\n",
    "support multiple active iterations over the same data. Consider what happens when\n",
    "we step across a built-in type like a string:"
   ]
  },
  {
   "cell_type": "code",
   "execution_count": 49,
   "metadata": {},
   "outputs": [
    {
     "name": "stdout",
     "output_type": "stream",
     "text": [
      "aa ac ae ca cc ce ea ec ee "
     ]
    }
   ],
   "source": [
    "S = 'ace'\n",
    "for x in S:\n",
    "    for y in S:\n",
    "        print(x + y, end=' ')"
   ]
  },
  {
   "cell_type": "markdown",
   "metadata": {},
   "source": [
    "Here, the outer loop grabs an iterator from the string by calling `iter`, and each nested\n",
    "loop does the same to get an independent iterator. Because each active iterator has its\n",
    "own state information, each loop can maintain its own position in the string, regardless\n",
    "of any other active loops. Moreover, we’re not required to make a new string or convert\n",
    "to a list each time; the single string object itself supports multiple scans.\n",
    "\n",
    "We saw related examples earlier, in [Chapter 14] and [Chapter 20]. For instance, generator\n",
    "functions and expressions, as well as built-ins like `map` and `zip`, proved to be single-iterator \n",
    "objects, thus supporting a single active scan. By contrast, the `range` built-in,\n",
    "and other built-in types like lists, support multiple active iterators with independent\n",
    "positions.\n",
    "\n",
    "When we code user-defined iterables with classes, it’s up to us to decide whether we\n",
    "will support a single active iteration or many. To achieve the multiple-iterator effect,\n",
    "`__iter__` simply needs to define a new stateful object for the iterator, instead of \n",
    "returning `self` for each iterator request.\n",
    "\n",
    "The following `SkipObject` class, for example, defines an iterable object that skips every\n",
    "other item on iterations. Because its iterator object is created anew from a supplemental\n",
    "class for each iteration, it supports multiple active loops directly (this is file \n",
    "`skipper.py` in the book’s examples):"
   ]
  },
  {
   "cell_type": "code",
   "execution_count": 50,
   "metadata": {},
   "outputs": [
    {
     "name": "stdout",
     "output_type": "stream",
     "text": [
      "a c e\n",
      "aa ac ae ca cc ce ea ec ee "
     ]
    }
   ],
   "source": [
    "#!python3\n",
    "# File skipper.py\n",
    "\n",
    "class SkipObject:\n",
    "    def __init__(self, wrapped):                    # Save item to be used\n",
    "        self.wrapped = wrapped\n",
    "    def __iter__(self):\n",
    "        return SkipIterator(self.wrapped)           # New iterator each time\n",
    "\n",
    "class SkipIterator:\n",
    "    def __init__(self, wrapped):\n",
    "        self.wrapped = wrapped                      # Iterator state information\n",
    "        self.offset = 0\n",
    "    def __next__(self):\n",
    "        if self.offset >= len(self.wrapped):        # Terminate iterations\n",
    "            raise StopIteration\n",
    "        else:\n",
    "            item = self.wrapped[self.offset]        # else return and skip\n",
    "            self.offset += 2\n",
    "            return item\n",
    "\n",
    "if __name__ == '__main__':\n",
    "    alpha = 'abcdef'\n",
    "    skipper = SkipObject(alpha)                     # Make container object\n",
    "    I = iter(skipper)                               # Make an iterator on it\n",
    "    print(next(I), next(I), next(I))                # Visit offsets 0, 2, 4\n",
    "    \n",
    "    for x in skipper:                       # for calls __iter__ automatically\n",
    "        for y in skipper:                   # Nested fors call __iter__ again each time\n",
    "            print(x + y, end=' ')           # Each iterator has its own state, offset"
   ]
  },
  {
   "cell_type": "markdown",
   "metadata": {},
   "source": [
    "When the code is run, this example works like the nested\n",
    "loops with built-in strings. Each active loop has its own position in the string because\n",
    "each obtains an independent iterator object that records its own state information.\n",
    "\n",
    "By contrast, our earlier `Squares` example supports just one active iteration, unless we\n",
    "call `Squares` again in nested loops to obtain new objects. Here, there is just one \n",
    "`SkipObject` iterable, with multiple iterator objects created from it."
   ]
  },
  {
   "cell_type": "markdown",
   "metadata": {},
   "source": [
    "#### Classes versus slices\n",
    "\n",
    "\n",
    "As before, we could achieve similar results with built-in tools—for example, slicing\n",
    "with a third bound to skip items:"
   ]
  },
  {
   "cell_type": "code",
   "execution_count": 51,
   "metadata": {},
   "outputs": [
    {
     "name": "stdout",
     "output_type": "stream",
     "text": [
      "aa ac ae ca cc ce ea ec ee "
     ]
    }
   ],
   "source": [
    "S = 'abcdef'\n",
    "for x in S[::2]:\n",
    "    for y in S[::2]:                        # New objects on each iteration\n",
    "        print(x + y, end=' ')"
   ]
  },
  {
   "cell_type": "markdown",
   "metadata": {},
   "source": [
    "This isn’t quite the same, though, for two reasons. First, each slice expression here will\n",
    "*physically store* the result list all at once in memory; iterables, on the other hand, \n",
    "produce just one value at a time, which can save substantial space for large result lists.\n",
    "Second, slices produce *new objects*, so we’re not really iterating over the same object in\n",
    "multiple places here. To be closer to the class, we would need to make a single object\n",
    "to step across by slicing ahead of time:"
   ]
  },
  {
   "cell_type": "code",
   "execution_count": 52,
   "metadata": {},
   "outputs": [
    {
     "data": {
      "text/plain": [
       "'ace'"
      ]
     },
     "execution_count": 52,
     "metadata": {},
     "output_type": "execute_result"
    }
   ],
   "source": [
    "S = 'abcdef'\n",
    "S = S[::2]\n",
    "S"
   ]
  },
  {
   "cell_type": "code",
   "execution_count": 53,
   "metadata": {},
   "outputs": [
    {
     "name": "stdout",
     "output_type": "stream",
     "text": [
      "aa ac ae ca cc ce ea ec ee "
     ]
    }
   ],
   "source": [
    "for x in S:\n",
    "    for y in S:  # Same object, new iterators\n",
    "        print(x + y, end=' ')"
   ]
  },
  {
   "cell_type": "markdown",
   "metadata": {},
   "source": [
    "This is more similar to our class-based solution, but it still stores the slice result in\n",
    "memory all at once (there is no generator form of built-in slicing today), and it’s only\n",
    "equivalent for this particular case of skipping every other item.\n",
    "\n",
    "Because user-defined iterables coded with classes can do anything a class can do, they\n",
    "are much more general than this example may imply. Though such generality is not\n",
    "required in all applications, user-defined iterables are a powerful tool—they allow us\n",
    "to make arbitrary objects look and feel like the other sequences and iterables we have\n",
    "met in this book. We could use this technique with a database object, for example, to\n",
    "support iterations over large database fetches, with multiple cursors into the same query\n",
    "result."
   ]
  },
  {
   "cell_type": "markdown",
   "metadata": {},
   "source": [
    "### Coding Alternative: `__iter__` plus `yield`\n",
    "\n",
    "\n",
    "*And now, for something completely implicit*—but potentially useful nonetheless. In\n",
    "some applications, it’s possible to minimize coding requirements for user-defined iterables \n",
    "by *combining* the `__iter__` method we’re exploring here and the `yield` generator\n",
    "function statement we studied in [Chapter 20](). Because generator functions *automatically* \n",
    "save local variable state and create required iterator methods, they fit this role\n",
    "well, and complement the state retention and other utility we get from classes.\n",
    "\n",
    "As a review, recall that any function that contains a `yield` statement is turned into a\n",
    "generator function. When called, it returns a new *generator object* with automatic \n",
    "retention of local scope and code position, an automatically created `__iter__` method\n",
    "that simply returns itself, and an automatically created `__next__` method (`next` in 2.X)\n",
    "that starts the function or resumes it where it last left off:"
   ]
  },
  {
   "cell_type": "code",
   "execution_count": 54,
   "metadata": {},
   "outputs": [
    {
     "data": {
      "text/plain": [
       "True"
      ]
     },
     "execution_count": 54,
     "metadata": {},
     "output_type": "execute_result"
    }
   ],
   "source": [
    "def gen(x):\n",
    "    for i in range(x): yield i ** 2\n",
    "\n",
    "G = gen(5)                  # Create a generator with __iter__ and __next__\n",
    "G.__iter__() == G           # Both methods exist on the same object"
   ]
  },
  {
   "cell_type": "code",
   "execution_count": 55,
   "metadata": {},
   "outputs": [
    {
     "data": {
      "text/plain": [
       "(0, 1)"
      ]
     },
     "execution_count": 55,
     "metadata": {},
     "output_type": "execute_result"
    }
   ],
   "source": [
    "I = iter(G)                 # Runs __iter__: generator returns itself\n",
    "next(I), next(I)            # Runs __next__ (next in 2.X)"
   ]
  },
  {
   "cell_type": "code",
   "execution_count": 56,
   "metadata": {},
   "outputs": [
    {
     "data": {
      "text/plain": [
       "[0, 1, 4, 9, 16]"
      ]
     },
     "execution_count": 56,
     "metadata": {},
     "output_type": "execute_result"
    }
   ],
   "source": [
    "list(gen(5))                # Iteration contexts automatically run iter and next"
   ]
  },
  {
   "cell_type": "markdown",
   "metadata": {},
   "source": [
    "This is still true even if the generator function with a `yield` happens to be a method\n",
    "named `__iter__`: whenever invoked by an iteration context tool, such a method will\n",
    "return a new generator object with the requisite `__next__`. As an added bonus, generator\n",
    "functions coded as methods in classes have access to saved state in *both* instance attributes \n",
    "and local scope variables.\n",
    "\n",
    "For example, the following class is equivalent to the initial `Squares` user-defined iterable\n",
    "we coded earlier in `squares.py`."
   ]
  },
  {
   "cell_type": "code",
   "execution_count": 57,
   "metadata": {},
   "outputs": [],
   "source": [
    "# File squares_yield.py\n",
    "\n",
    "class Squares:                                      # __iter__ + yield generator\n",
    "    def __init__(self, start, stop):                # __next__ is automatic/implied\n",
    "        self.start = start\n",
    "        self.stop = stop\n",
    "    def __iter__(self):\n",
    "        for value in range(self.start, self.stop + 1):\n",
    "            yield value ** 2"
   ]
  },
  {
   "cell_type": "markdown",
   "metadata": {},
   "source": [
    "As before, `for` loops and other iteration tools iterate through instances of this class automatically:"
   ]
  },
  {
   "cell_type": "code",
   "execution_count": 58,
   "metadata": {},
   "outputs": [
    {
     "name": "stdout",
     "output_type": "stream",
     "text": [
      "1 4 9 16 25 "
     ]
    }
   ],
   "source": [
    "# from squares_yield import Squares\n",
    "for i in Squares(1, 5): print(i, end=' ')"
   ]
  },
  {
   "cell_type": "markdown",
   "metadata": {},
   "source": [
    "And as usual, we can look under the hood to see how this actually works in iteration\n",
    "contexts. Running our class instance through iter obtains the result of calling\n",
    "`__iter__` as usual, but in this case the result is a generator object with an automatically\n",
    "created `__next__` of the same sort we always get when calling a generator function that\n",
    "contains a `yield`. The only difference here is that the generator function is automatically\n",
    "called on iter. Invoking the result object’s next interface produces results on demand:"
   ]
  },
  {
   "cell_type": "code",
   "execution_count": 59,
   "metadata": {},
   "outputs": [
    {
     "data": {
      "text/plain": [
       "<__main__.Squares at 0x2f17a65ce50>"
      ]
     },
     "execution_count": 59,
     "metadata": {},
     "output_type": "execute_result"
    }
   ],
   "source": [
    "S = Squares(1, 5) # Runs __init__: class saves instance state\n",
    "S"
   ]
  },
  {
   "cell_type": "code",
   "execution_count": 60,
   "metadata": {},
   "outputs": [
    {
     "data": {
      "text/plain": [
       "<generator object Squares.__iter__ at 0x000002F17B189B30>"
      ]
     },
     "execution_count": 60,
     "metadata": {},
     "output_type": "execute_result"
    }
   ],
   "source": [
    "I = iter(S) # Runs __iter__: returns a generator\n",
    "I"
   ]
  },
  {
   "cell_type": "code",
   "execution_count": 61,
   "metadata": {},
   "outputs": [
    {
     "data": {
      "text/plain": [
       "(1, 4, 9, 16, 25)"
      ]
     },
     "execution_count": 61,
     "metadata": {},
     "output_type": "execute_result"
    }
   ],
   "source": [
    "next(I), next(I), next(I), next(I), next(I)"
   ]
  },
  {
   "cell_type": "code",
   "execution_count": 62,
   "metadata": {},
   "outputs": [
    {
     "ename": "StopIteration",
     "evalue": "",
     "output_type": "error",
     "traceback": [
      "\u001b[1;31m---------------------------------------------------------------------------\u001b[0m",
      "\u001b[1;31mStopIteration\u001b[0m                             Traceback (most recent call last)",
      "\u001b[1;32m<ipython-input-62-ebc5a6f5e444>\u001b[0m in \u001b[0;36m<module>\u001b[1;34m\u001b[0m\n\u001b[1;32m----> 1\u001b[1;33m \u001b[0mnext\u001b[0m\u001b[1;33m(\u001b[0m\u001b[0mI\u001b[0m\u001b[1;33m)\u001b[0m\u001b[1;33m\u001b[0m\u001b[1;33m\u001b[0m\u001b[0m\n\u001b[0m",
      "\u001b[1;31mStopIteration\u001b[0m: "
     ]
    }
   ],
   "source": [
    "next(I)"
   ]
  },
  {
   "cell_type": "markdown",
   "metadata": {},
   "source": [
    "It may also help to notice that we could name the generator method something other\n",
    "than `__iter__` and call manually to iterate—`Squares(1,5).gen()`, for example. Using\n",
    "the `__iter__` name invoked automatically by iteration tools simply skips a manual \n",
    "attribute fetch and call step:"
   ]
  },
  {
   "cell_type": "code",
   "execution_count": 63,
   "metadata": {},
   "outputs": [],
   "source": [
    "class Squares:                              # Non __iter__ equivalent (squares_manual.py)\n",
    "    def __init__(self, start, stop):        # __next__ is automatic/implied\n",
    "        self.start = start\n",
    "        self.stop = stop\n",
    "    def __iter__(self):\n",
    "        for value in range(self.start, self.stop + 1):\n",
    "            yield value ** 2\n",
    "    def gen(self):\n",
    "        for value in range(self.start, self.stop + 1):\n",
    "            yield value ** 2"
   ]
  },
  {
   "cell_type": "code",
   "execution_count": 64,
   "metadata": {},
   "outputs": [
    {
     "name": "stdout",
     "output_type": "stream",
     "text": [
      "1 4 9 16 25 "
     ]
    }
   ],
   "source": [
    "for i in Squares(1, 5).gen(): print(i, end=' ')"
   ]
  },
  {
   "cell_type": "code",
   "execution_count": 65,
   "metadata": {},
   "outputs": [
    {
     "data": {
      "text/plain": [
       "(1, 4, 9, 16, 25)"
      ]
     },
     "execution_count": 65,
     "metadata": {},
     "output_type": "execute_result"
    }
   ],
   "source": [
    "S = Squares(1, 5)\n",
    "I = iter(S.gen()) # Call generator manually for iterable/iterator\n",
    "next(I), next(I), next(I), next(I), next(I)"
   ]
  },
  {
   "cell_type": "code",
   "execution_count": 66,
   "metadata": {},
   "outputs": [
    {
     "ename": "StopIteration",
     "evalue": "",
     "output_type": "error",
     "traceback": [
      "\u001b[1;31m---------------------------------------------------------------------------\u001b[0m",
      "\u001b[1;31mStopIteration\u001b[0m                             Traceback (most recent call last)",
      "\u001b[1;32m<ipython-input-66-ebc5a6f5e444>\u001b[0m in \u001b[0;36m<module>\u001b[1;34m\u001b[0m\n\u001b[1;32m----> 1\u001b[1;33m \u001b[0mnext\u001b[0m\u001b[1;33m(\u001b[0m\u001b[0mI\u001b[0m\u001b[1;33m)\u001b[0m\u001b[1;33m\u001b[0m\u001b[1;33m\u001b[0m\u001b[0m\n\u001b[0m",
      "\u001b[1;31mStopIteration\u001b[0m: "
     ]
    }
   ],
   "source": [
    "next(I)"
   ]
  },
  {
   "cell_type": "markdown",
   "metadata": {},
   "source": [
    "Coding the generator as `__iter__` instead cuts out the middleman in your code, though\n",
    "both schemes ultimately wind up creating a new generator object for each iteration:\n",
    "\n",
    "  + With `__iter__`, iteration triggers `__iter__`, which returns a new generator with `__next__`.\n",
    "  + Without `__iter__`, your code calls to make a generator, which returns itself for `__iter__`.\n",
    "\n",
    "See [Chapter 20]() for more on `yield` and generators if this is puzzling, and compare it\n",
    "with the more explicit `__next__` version in `squares.py` earlier. You’ll notice that this new\n",
    "`squares_yield.py` version is 4 lines shorter (7 versus 11). In a sense, this scheme reduces\n",
    "class coding requirements much like the closure functions of [Chapter 17](), but in this\n",
    "case does so with a *combination* of functional and OOP techniques, instead of an \n",
    "alternative to classes. For example, the generator method still leverages `self` attributes.\n",
    "\n",
    "This may also very well seem like one too many levels of *magic* to some observers—it\n",
    "relies on both the iteration protocol and the object creation of generators, both of which\n",
    "are highly implicit (in contradiction of longstanding Python themes: see `import this`).\n",
    "Opinions aside, it’s important to understand the non-`yield` flavor of class iterables too,\n",
    "because it’s explicit, general, and sometimes broader in scope.\n",
    "\n",
    "Still, the `__iter__`/`yield` technique may prove effective in cases where it applies. It also\n",
    "comes with a substantial advantage—as the next section explains."
   ]
  },
  {
   "cell_type": "markdown",
   "metadata": {},
   "source": [
    "#### Multiple iterators with `yield`\n",
    "\n",
    "\n",
    "Besides its code conciseness, the user-defined class iterable of the prior section based\n",
    "upon the `__iter__`/`yield` combination has an important added bonus—it also supports\n",
    "multiple active iterators automatically. This naturally follows from the fact that each\n",
    "call to `__iter__` is a call to a generator function, which returns a new generator with its\n",
    "own copy of the local scope for state retention:"
   ]
  },
  {
   "cell_type": "code",
   "execution_count": 67,
   "metadata": {},
   "outputs": [
    {
     "data": {
      "text/plain": [
       "(1, 4)"
      ]
     },
     "execution_count": 67,
     "metadata": {},
     "output_type": "execute_result"
    }
   ],
   "source": [
    "S = Squares(1, 5)\n",
    "I = iter(S)\n",
    "next(I), next(I)"
   ]
  },
  {
   "cell_type": "code",
   "execution_count": 68,
   "metadata": {},
   "outputs": [
    {
     "data": {
      "text/plain": [
       "(1, 9)"
      ]
     },
     "execution_count": 68,
     "metadata": {},
     "output_type": "execute_result"
    }
   ],
   "source": [
    "J = iter(S)                 # With yield, multiple iterators automatic\n",
    "next(J), next(I)            # I is independent of J: own local state"
   ]
  },
  {
   "cell_type": "markdown",
   "metadata": {},
   "source": [
    "Although generator functions are single-scan iterables, the implicit calls to `__iter__` in\n",
    "iteration contexts make new generators supporting new independent scans:"
   ]
  },
  {
   "cell_type": "code",
   "execution_count": 69,
   "metadata": {},
   "outputs": [
    {
     "name": "stdout",
     "output_type": "stream",
     "text": [
      "1:1 1:4 1:9 4:1 4:4 4:9 9:1 9:4 9:9 "
     ]
    }
   ],
   "source": [
    "S = Squares(1, 3)\n",
    "for i in S:                 # Each for calls __iter__\n",
    "    for j in S:\n",
    "        print('%s:%s' % (i, j), end=' ')"
   ]
  },
  {
   "cell_type": "markdown",
   "metadata": {},
   "source": [
    "To do the same without `yield` requires a supplemental class that stores iterator state\n",
    "explicitly and manually, using techniques of the preceding section (and grows to 15\n",
    "lines: 8 more than with `yield`):"
   ]
  },
  {
   "cell_type": "code",
   "execution_count": 70,
   "metadata": {},
   "outputs": [],
   "source": [
    "# File squares_nonyield.py\n",
    "\n",
    "class Squares:\n",
    "    def __init__(self, start, stop):            # Non-yield generator\n",
    "        self.start = start                      # Multiscans: extra object\n",
    "        self.stop = stop\n",
    "    def __iter__(self):\n",
    "        return SquaresIter(self.start, self.stop)\n",
    "\n",
    "class SquaresIter:\n",
    "    def __init__(self, start, stop):\n",
    "        self.value = start - 1\n",
    "        self.stop = stop\n",
    "    def __next__(self):\n",
    "        if self.value == self.stop:\n",
    "            raise StopIteration\n",
    "        self.value += 1\n",
    "        return self.value ** 2"
   ]
  },
  {
   "cell_type": "markdown",
   "metadata": {},
   "source": [
    "This works the same as the yield multiscan version, but with more, and more explicit,\n",
    "code:"
   ]
  },
  {
   "cell_type": "code",
   "execution_count": 71,
   "metadata": {},
   "outputs": [
    {
     "name": "stdout",
     "output_type": "stream",
     "text": [
      "1 4 9 16 25 "
     ]
    }
   ],
   "source": [
    "for i in Squares(1, 5): print(i, end=' ')"
   ]
  },
  {
   "cell_type": "code",
   "execution_count": 72,
   "metadata": {},
   "outputs": [
    {
     "data": {
      "text/plain": [
       "(1, 4)"
      ]
     },
     "execution_count": 72,
     "metadata": {},
     "output_type": "execute_result"
    }
   ],
   "source": [
    "S = Squares(1, 5)\n",
    "I = iter(S)\n",
    "next(I), next(I)"
   ]
  },
  {
   "cell_type": "code",
   "execution_count": 73,
   "metadata": {},
   "outputs": [
    {
     "data": {
      "text/plain": [
       "(1, 9)"
      ]
     },
     "execution_count": 73,
     "metadata": {},
     "output_type": "execute_result"
    }
   ],
   "source": [
    "J = iter(S)                             # Multiple iterators without yield\n",
    "next(J), next(I)"
   ]
  },
  {
   "cell_type": "code",
   "execution_count": 74,
   "metadata": {},
   "outputs": [
    {
     "name": "stdout",
     "output_type": "stream",
     "text": [
      "1:1 1:4 1:9 4:1 4:4 4:9 9:1 9:4 9:9 "
     ]
    }
   ],
   "source": [
    "S = Squares(1, 3)\n",
    "for i in S:  # Each for calls __iter___\n",
    "    for j in S:\n",
    "        print('%s:%s' % (i, j), end=' ')"
   ]
  },
  {
   "cell_type": "markdown",
   "metadata": {},
   "source": [
    "Finally, the generator-based approach could similarly remove the need for an extra\n",
    "iterator class in the prior item-skipper example of file `skipper.py`, thanks to its automatic\n",
    "methods and local variable state retention (and checks in at 9 lines versus the original’s\n",
    "16):"
   ]
  },
  {
   "cell_type": "code",
   "execution_count": 75,
   "metadata": {},
   "outputs": [],
   "source": [
    "# File skipper_yield.py\n",
    "\n",
    "class SkipObject: # Another __iter__ + yield generator\n",
    "    def __init__(self, wrapped): # Instance scope retained normally\n",
    "        self.wrapped = wrapped # Local scope state saved auto\n",
    "    def __iter__(self):\n",
    "        offset = 0\n",
    "        while offset < len(self.wrapped):\n",
    "            item = self.wrapped[offset]\n",
    "            offset += 2\n",
    "            yield item"
   ]
  },
  {
   "cell_type": "markdown",
   "metadata": {},
   "source": [
    "This works the same as the non-`yield` multiscan version, but with less, and less explicit,\n",
    "code:"
   ]
  },
  {
   "cell_type": "code",
   "execution_count": 76,
   "metadata": {},
   "outputs": [
    {
     "data": {
      "text/plain": [
       "('a', 'c', 'e')"
      ]
     },
     "execution_count": 76,
     "metadata": {},
     "output_type": "execute_result"
    }
   ],
   "source": [
    "skipper = SkipObject('abcdef')\n",
    "I = iter(skipper)\n",
    "next(I), next(I), next(I)"
   ]
  },
  {
   "cell_type": "code",
   "execution_count": 77,
   "metadata": {},
   "outputs": [
    {
     "name": "stdout",
     "output_type": "stream",
     "text": [
      "aa ac ae ca cc ce ea ec ee "
     ]
    }
   ],
   "source": [
    "for x in skipper:  # Each for calls __iter__: new auto generator\n",
    "    for y in skipper:\n",
    "        print(x + y, end=' ')"
   ]
  },
  {
   "cell_type": "markdown",
   "metadata": {},
   "source": [
    "Of course, these are all artificial examples that could be replaced with simpler tools like\n",
    "comprehensions, and their code may or may not scale up in kind to more realistic tasks.\n",
    "Study these alternatives to see how they compare. As so often in programming, the best\n",
    "tool for the job will likely be the best tool for your job!"
   ]
  },
  {
   "cell_type": "markdown",
   "metadata": {},
   "source": [
    "## Membership: `__contains__`, `__iter__`, and `__getitem__`\n",
    "\n",
    "\n",
    "The iteration story is even richer than we’ve seen thus far. Operator overloading is often\n",
    "layered: classes may provide specific methods, or more general alternatives used as\n",
    "fallback options. For example:\n",
    "\n",
    "  + Comparisons in Python 2.X use specific methods such as `__lt__` for “less than” if\n",
    "    present, or else the general `__cmp__`. Python 3.X uses only specific methods, not\n",
    "    `__cmp__`, as discussed later in this section.\n",
    "\n",
    "  + Boolean tests similarly try a specific `__bool__` first (to give an explicit `True`/`False`\n",
    "    result), and if it’s absent fall back on the more general `__len__` (a nonzero length\n",
    "    means `True`). As we’ll also see later in this section, Python 2.X works the same but\n",
    "    uses the name `__nonzero__` instead of `__bool__`.\n",
    "\n",
    "In the iterations domain, classes can implement the `in` membership operator as an\n",
    "iteration, using either the `__iter__` or `__getitem__` methods. To support more specific\n",
    "membership, though, classes may code a `__contains__` method—when present, this\n",
    "method is preferred over `__iter__`, which is preferred over `__getitem__`. The \n",
    "`__contains__` method should define membership as applying to keys for a *mapping* (and can\n",
    "use quick lookups), and as a search for *sequences*.\n",
    "\n",
    "Consider the following class, whose file has been instrumented for dual 2.X/3.X usage\n",
    "using the techniques described earlier. It codes all three methods and tests membership\n",
    "and various iteration contexts applied to an instance. Its methods print trace messages\n",
    "when called:"
   ]
  },
  {
   "cell_type": "code",
   "execution_count": 78,
   "metadata": {},
   "outputs": [
    {
     "name": "stdout",
     "output_type": "stream",
     "text": [
      "contains: True\n",
      "iter=> next:1 | next:2 | next:3 | next:4 | next:5 | next:\n",
      "iter=> next:next:next:next:next:next:[1, 4, 9, 16, 25]\n",
      "iter=> next:next:next:next:next:next:['0b1', '0b10', '0b11', '0b100', '0b101']\n",
      "iter=> next:1 @ next:2 @ next:3 @ next:4 @ next:5 @ next:"
     ]
    }
   ],
   "source": [
    "# File contains.py\n",
    "from __future__ import print_function           # 2.X/3.X compatibility\n",
    "\n",
    "class Iters:\n",
    "    def __init__(self, value):\n",
    "        self.data = value\n",
    "\n",
    "    def __getitem__(self, i):                   # Fallback for iteration\n",
    "        print('get[%s]:' % i, end='')           # Also for index, slice\n",
    "        return self.data[i]\n",
    "\n",
    "    def __iter__(self):                         # Preferred for iteration\n",
    "        print('iter=> ', end='')                # Allows only one active iterator\n",
    "        self.ix = 0\n",
    "        return self\n",
    "\n",
    "    def __next__(self):\n",
    "        print('next:', end='')\n",
    "        if self.ix == len(self.data): raise StopIteration\n",
    "        item = self.data[self.ix]\n",
    "        self.ix += 1\n",
    "        return item\n",
    "\n",
    "    def __contains__(self, x):                  # Preferred for 'in'\n",
    "        print('contains: ', end='')\n",
    "        return x in self.data\n",
    "    next = __next__                             # 2.X/3.X compatibility\n",
    "\n",
    "if __name__ == '__main__':\n",
    "    X = Iters([1, 2, 3, 4, 5])              # Make instance\n",
    "    print(3 in X)                           # Membership\n",
    "    for i in X:                             # for loops\n",
    "        print(i, end=' | ')\n",
    "\n",
    "    print()\n",
    "    print([i ** 2 for i in X])              # Other iteration contexts\n",
    "    print( list(map(bin, X)) )\n",
    "    \n",
    "    I = iter(X)                             # Manual iteration (what other contexts do)\n",
    "    while True:\n",
    "        try:\n",
    "            print(next(I), end=' @ ')\n",
    "        except StopIteration:\n",
    "            break"
   ]
  },
  {
   "cell_type": "markdown",
   "metadata": {},
   "source": [
    "As is, the class in this file has an `__iter__` that supports multiple scans, but only a single\n",
    "scan can be active at any point in time (e.g., nested loops won’t work), because each\n",
    "iteration attempt resets the scan cursor to the front. Now that you know about `yield`\n",
    "in iteration methods, you should be able to tell that the following is equivalent but\n",
    "allows multiple active scans—and judge for yourself whether its more implicit nature\n",
    "is worth the nested-scan support and six lines shaved (this is in file `contains_yield.py`):"
   ]
  },
  {
   "cell_type": "code",
   "execution_count": 79,
   "metadata": {},
   "outputs": [
    {
     "name": "stdout",
     "output_type": "stream",
     "text": [
      "contains: True\n",
      "iter=> next:1 | next:2 | next:3 | next:4 | next:5 | next:\n",
      "iter=> next:next:next:next:next:next:[1, 4, 9, 16, 25]\n",
      "iter=> next:next:next:next:next:next:['0b1', '0b10', '0b11', '0b100', '0b101']\n",
      "iter=> next:1 @ next:2 @ next:3 @ next:4 @ next:5 @ next:"
     ]
    }
   ],
   "source": [
    "class Iters:\n",
    "    def __init__(self, value):\n",
    "        self.data = value\n",
    "\n",
    "    def __getitem__(self, i): # Fallback for iteration\n",
    "        print('get[%s]:' % i, end='') # Also for index, slice\n",
    "        return self.data[i]\n",
    "\n",
    "    def __iter__(self): # Preferred for iteration\n",
    "        print('iter=> next:', end='') # Allows multiple active iterators\n",
    "        for x in self.data: # no __next__ to alias to next\n",
    "            yield x\n",
    "            print('next:', end='')\n",
    "            \n",
    "    def __contains__(self, x): # Preferred for 'in'\n",
    "        print('contains: ', end='')\n",
    "        return x in self.data\n",
    "\n",
    "\n",
    "if __name__ == '__main__':\n",
    "    X = Iters([1, 2, 3, 4, 5])              # Make instance\n",
    "    print(3 in X)                           # Membership\n",
    "    for i in X:                             # for loops\n",
    "        print(i, end=' | ')\n",
    "\n",
    "    print()\n",
    "    print([i ** 2 for i in X])              # Other iteration contexts\n",
    "    print( list(map(bin, X)) )\n",
    "\n",
    "    I = iter(X)                             # Manual iteration (what other contexts do)\n",
    "    while True:\n",
    "        try:\n",
    "            print(next(I), end=' @ ')\n",
    "        except StopIteration:\n",
    "            break"
   ]
  },
  {
   "cell_type": "markdown",
   "metadata": {},
   "source": [
    "On both Python 3.X and 2.X, when either version of this file runs its output is as follows\n",
    "—the specific `__contains__` intercepts membership, the general `__iter__` catches other\n",
    "iteration contexts such that `__next__` (whether explicitly coded or implied by `yield`) is\n",
    "called repeatedly, and `__getitem__` is never called."
   ]
  },
  {
   "cell_type": "markdown",
   "metadata": {},
   "source": [
    "Watch what happens to this code’s output if we comment out its `__contains__` method,\n",
    "though—membership is now routed to the general `__iter__` instead:"
   ]
  },
  {
   "cell_type": "code",
   "execution_count": 80,
   "metadata": {},
   "outputs": [
    {
     "name": "stdout",
     "output_type": "stream",
     "text": [
      "iter=> next:next:next:True\n",
      "iter=> next:1 | next:2 | next:3 | next:4 | next:5 | next:\n",
      "iter=> next:next:next:next:next:next:[1, 4, 9, 16, 25]\n",
      "iter=> next:next:next:next:next:next:['0b1', '0b10', '0b11', '0b100', '0b101']\n",
      "iter=> next:1 @ next:2 @ next:3 @ next:4 @ next:5 @ next:"
     ]
    }
   ],
   "source": [
    "class Iters:\n",
    "    def __init__(self, value):\n",
    "        self.data = value\n",
    "\n",
    "    def __getitem__(self, i): # Fallback for iteration\n",
    "        print('get[%s]:' % i, end='') # Also for index, slice\n",
    "        return self.data[i]\n",
    "\n",
    "    def __iter__(self): # Preferred for iteration\n",
    "        print('iter=> next:', end='') # Allows multiple active iterators\n",
    "        for x in self.data: # no __next__ to alias to next\n",
    "            yield x\n",
    "            print('next:', end='')\n",
    "            \n",
    "    # def __contains__(self, x): # Preferred for 'in'\n",
    "    #     print('contains: ', end='')\n",
    "    #     return x in self.data\n",
    "\n",
    "\n",
    "if __name__ == '__main__':\n",
    "    X = Iters([1, 2, 3, 4, 5])              # Make instance\n",
    "    print(3 in X)                           # Membership\n",
    "    for i in X:                             # for loops\n",
    "        print(i, end=' | ')\n",
    "\n",
    "    print()\n",
    "    print([i ** 2 for i in X])              # Other iteration contexts\n",
    "    print( list(map(bin, X)) )\n",
    "\n",
    "    I = iter(X)                             # Manual iteration (what other contexts do)\n",
    "    while True:\n",
    "        try:\n",
    "            print(next(I), end=' @ ')\n",
    "        except StopIteration:\n",
    "            break"
   ]
  },
  {
   "cell_type": "markdown",
   "metadata": {},
   "source": [
    "And finally, here is the output if both `__contains__` and `__iter__` are commented out\n",
    "—the indexing `__getitem__` fallback is called with successively higher indexes until it\n",
    "raises `IndexError`, for membership and other iteration contexts:"
   ]
  },
  {
   "cell_type": "code",
   "execution_count": 81,
   "metadata": {},
   "outputs": [
    {
     "name": "stdout",
     "output_type": "stream",
     "text": [
      "get[0]:get[1]:get[2]:True\n",
      "get[0]:1 | get[1]:2 | get[2]:3 | get[3]:4 | get[4]:5 | get[5]:\n",
      "get[0]:get[1]:get[2]:get[3]:get[4]:get[5]:[1, 4, 9, 16, 25]\n",
      "get[0]:get[1]:get[2]:get[3]:get[4]:get[5]:['0b1', '0b10', '0b11', '0b100', '0b101']\n",
      "get[0]:1 @ get[1]:2 @ get[2]:3 @ get[3]:4 @ get[4]:5 @ get[5]:"
     ]
    }
   ],
   "source": [
    "class Iters:\n",
    "    def __init__(self, value):\n",
    "        self.data = value\n",
    "\n",
    "    def __getitem__(self, i): # Fallback for iteration\n",
    "        print('get[%s]:' % i, end='') # Also for index, slice\n",
    "        return self.data[i]\n",
    "\n",
    "    # def __iter__(self): # Preferred for iteration\n",
    "    #     print('iter=> next:', end='') # Allows multiple active iterators\n",
    "    #     for x in self.data: # no __next__ to alias to next\n",
    "    #         yield x\n",
    "    #         print('next:', end='')\n",
    "            \n",
    "    # def __contains__(self, x): # Preferred for 'in'\n",
    "    #     print('contains: ', end='')\n",
    "    #     return x in self.data\n",
    "\n",
    "\n",
    "if __name__ == '__main__':\n",
    "    X = Iters([1, 2, 3, 4, 5])              # Make instance\n",
    "    print(3 in X)                           # Membership\n",
    "    for i in X:                             # for loops\n",
    "        print(i, end=' | ')\n",
    "\n",
    "    print()\n",
    "    print([i ** 2 for i in X])              # Other iteration contexts\n",
    "    print( list(map(bin, X)) )\n",
    "\n",
    "    I = iter(X)                             # Manual iteration (what other contexts do)\n",
    "    while True:\n",
    "        try:\n",
    "            print(next(I), end=' @ ')\n",
    "        except StopIteration:\n",
    "            break"
   ]
  },
  {
   "cell_type": "markdown",
   "metadata": {},
   "source": [
    "As we’ve seen, the `__getitem__` method is even more general: besides iterations, it also\n",
    "intercepts explicit indexing as well as slicing. Slice expressions trigger `__getitem__` with\n",
    "a slice object containing bounds, both for built-in types and user-defined classes, so\n",
    "slicing is automatic in our class:"
   ]
  },
  {
   "cell_type": "code",
   "execution_count": 82,
   "metadata": {},
   "outputs": [
    {
     "name": "stdout",
     "output_type": "stream",
     "text": [
      "get[0]:"
     ]
    },
    {
     "data": {
      "text/plain": [
       "'s'"
      ]
     },
     "execution_count": 82,
     "metadata": {},
     "output_type": "execute_result"
    }
   ],
   "source": [
    "# from contains import Iters\n",
    "X = Iters('spam')               # Indexing\n",
    "X[0]                            # __getitem__(0)"
   ]
  },
  {
   "cell_type": "code",
   "execution_count": 83,
   "metadata": {},
   "outputs": [
    {
     "name": "stdout",
     "output_type": "stream",
     "text": [
      "get[slice(1, None, None)]:"
     ]
    },
    {
     "data": {
      "text/plain": [
       "'pam'"
      ]
     },
     "execution_count": 83,
     "metadata": {},
     "output_type": "execute_result"
    }
   ],
   "source": [
    "X[1:]                           # __getitem__(slice(..))"
   ]
  },
  {
   "cell_type": "code",
   "execution_count": 84,
   "metadata": {},
   "outputs": [
    {
     "name": "stdout",
     "output_type": "stream",
     "text": [
      "get[slice(1, None, None)]:get[slice(None, -1, None)]:"
     ]
    },
    {
     "data": {
      "text/plain": [
       "('pam', 'spa')"
      ]
     },
     "execution_count": 84,
     "metadata": {},
     "output_type": "execute_result"
    }
   ],
   "source": [
    "X[1:], X[:-1]                           # __getitem__(slice(..))"
   ]
  },
  {
   "cell_type": "code",
   "execution_count": 85,
   "metadata": {},
   "outputs": [
    {
     "name": "stdout",
     "output_type": "stream",
     "text": [
      "get[0]:get[1]:get[2]:get[3]:get[4]:"
     ]
    },
    {
     "data": {
      "text/plain": [
       "['s', 'p', 'a', 'm']"
      ]
     },
     "execution_count": 85,
     "metadata": {},
     "output_type": "execute_result"
    }
   ],
   "source": [
    "list(X)                                 # And iteration too!"
   ]
  },
  {
   "cell_type": "markdown",
   "metadata": {},
   "source": [
    "In more realistic iteration use cases that are not sequence-oriented, though, the\n",
    "`__iter__` method may be easier to write since it must not manage an integer index, and\n",
    "`__contains__` allows for membership optimization as a special case."
   ]
  },
  {
   "cell_type": "markdown",
   "metadata": {},
   "source": [
    "## Attribute Access: `__getattr__` and `__setattr__`"
   ]
  },
  {
   "cell_type": "markdown",
   "metadata": {},
   "source": [
    "## String Representation: `__repr__` and `__str__`"
   ]
  },
  {
   "cell_type": "markdown",
   "metadata": {},
   "source": [
    "## Right-Side and In-Place Uses: `__radd__` and `__iadd__`"
   ]
  },
  {
   "cell_type": "markdown",
   "metadata": {},
   "source": [
    "## Call Expressions: `__call__`"
   ]
  },
  {
   "cell_type": "markdown",
   "metadata": {},
   "source": [
    "## Comparisons: `__lt__`, `__gt__`, and Others"
   ]
  },
  {
   "cell_type": "markdown",
   "metadata": {},
   "source": [
    "## Boolean Tests: `__bool__` and `__len__`"
   ]
  },
  {
   "cell_type": "markdown",
   "metadata": {},
   "source": [
    "## Object Destruction: `__del__`"
   ]
  },
  {
   "cell_type": "markdown",
   "metadata": {},
   "source": [
    "## Summary"
   ]
  },
  {
   "cell_type": "markdown",
   "metadata": {},
   "source": [
    "## Test Your Knowledge"
   ]
  },
  {
   "cell_type": "markdown",
   "metadata": {},
   "source": [
    "## Extending Built-in Types\n",
    "\n",
    "\n",
    "Besides implementing new kinds of objects, classes are sometimes used to extend the\n",
    "functionality of Python’s built-in types to support more exotic data structures. For\n",
    "instance, to add queue insert and delete methods to lists, you can code classes that wrap\n",
    "(embed) a list object and export insert and delete methods that process the list specially,\n",
    "like the delegation technique we studied in [Chapter 31](). As of Python 2.2, you can also\n",
    "use inheritance to specialize built-in types. The next two sections show both techniques\n",
    "in action."
   ]
  },
  {
   "cell_type": "markdown",
   "metadata": {},
   "source": [
    "### Extending Types by Embedding\n",
    "\n",
    "\n",
    "Do you remember those set functions we wrote in [Chapter 16]() and [Chapter 18](? Here’s\n",
    "what they look like brought back to life as a Python class. The following example (the\n",
    "file `setwrapper.py`) implements a new set object type by moving some of the set functions \n",
    "to methods and adding some basic operator overloading. For the most part, this\n",
    "class just wraps a Python list with extra set operations. But because it’s a class, it also\n",
    "supports multiple instances and customization by inheritance in subclasses. Unlike our\n",
    "earlier functions, using classes here allows us to make multiple self-contained set \n",
    "objects with preset data and behavior, rather than passing lists into functions manually:"
   ]
  },
  {
   "cell_type": "code",
   "execution_count": null,
   "metadata": {},
   "outputs": [],
   "source": [
    "class Set:\n",
    "    def __init__(self, value = []): # Constructor\n",
    "        self.data = [] # Manages a list\n",
    "        self.concat(value)\n",
    "\n",
    "    def intersect(self, other): # other is any sequence\n",
    "        res = [] # self is the subject\n",
    "        for x in self.data:\n",
    "            if x in other: # Pick common items\n",
    "                res.append(x)\n",
    "        return Set(res) # Return a new \n",
    "        \n",
    "    def union(self, other): # other is any sequence\n",
    "        res = self.data[:] # Copy of my list\n",
    "        for x in other: # Add items in other\n",
    "            if not x in res:\n",
    "                res.append(x)\n",
    "        return Set(res)\n",
    "\n",
    "    def concat(self, value): # value: list, Set...\n",
    "        for x in value: # Removes duplicates\n",
    "            if not x in self.data:\n",
    "                self.data.append(x)\n",
    "\n",
    "    def __len__(self): return len(self.data) # len(self), if self\n",
    "    def __getitem__(self, key): return self.data[key] # self[i], self[i:j]\n",
    "    def __and__(self, other): return self.intersect(other) # self & other\n",
    "    def __or__(self, other): return self.union(other) # self | \n",
    "    def __repr__(self): return 'Set:' + repr(self.data) # print(self),...\n",
    "    def __iter__(self): return iter(self.data) # for x in self,..."
   ]
  },
  {
   "cell_type": "markdown",
   "metadata": {},
   "source": [
    "To use this class, we make instances, call methods, and run defined operators as usual:"
   ]
  },
  {
   "cell_type": "code",
   "execution_count": null,
   "metadata": {},
   "outputs": [
    {
     "name": "stdout",
     "output_type": "stream",
     "text": [
      "Set:[1, 3, 5, 7, 4]\n",
      "Set:[1, 3, 5, 7, 4, 6]\n"
     ]
    }
   ],
   "source": [
    "# from setwrapper import \n",
    "\n",
    "x = Set([1, 3, 5, 7])\n",
    "print(x.union(Set([1, 4, 7])))          # prints Set:[1, 3, 5, 7, 4]\n",
    "print(x | Set([1, 4, 6]))               # prints Set:[1, 3, 5, 7, 4, 6]"
   ]
  },
  {
   "cell_type": "markdown",
   "metadata": {},
   "source": [
    "Overloading operations such as indexing and iteration also enables instances of our\n",
    "`Set` class to often masquerade as real lists."
   ]
  },
  {
   "cell_type": "markdown",
   "metadata": {},
   "source": [
    "### Extending Types by Subclassing\n",
    "\n",
    "\n",
    "Beginning with Python 2.2, all the built-in types in the language can now be subclassed\n",
    "directly. Type-conversion functions such as `list`, `str`, `dict`, and `tuple` have become\n",
    "built-in type names—although transparent to your script, a type-conversion call (e.g.,\n",
    "`list('spam')`) is now really an invocation of a type’s object constructor.\n",
    "\n",
    "This change allows you to customize or extend the behavior of built-in types with \n",
    "user-defined `class` statements: simply subclass the new type names to customize them. \n",
    "Instances of your type subclasses can generally be used anywhere that the original built-in \n",
    "type can appear. For example, suppose you have trouble getting used to the fact that\n",
    "Python list offsets begin at 0 instead of 1. Not to worry—you can always code your\n",
    "own subclass that customizes this core behavior of lists. The file `typesubclass.py` shows\n",
    "how:"
   ]
  },
  {
   "cell_type": "code",
   "execution_count": null,
   "metadata": {},
   "outputs": [
    {
     "name": "stdout",
     "output_type": "stream",
     "text": [
      "['a', 'b', 'c']\n",
      "['a', 'b', 'c']\n",
      "(indexing ['a', 'b', 'c'] at 1)\n",
      "a\n",
      "(indexing ['a', 'b', 'c'] at 3)\n",
      "c\n",
      "['a', 'b', 'c', 'spam']\n",
      "['spam', 'c', 'b', 'a']\n"
     ]
    }
   ],
   "source": [
    "# Subclass built-in list type/class\n",
    "# Map 1..N to 0..N-1; call back to built-in version.\n",
    "\n",
    "class MyList(list):\n",
    "    def __getitem__(self, offset):\n",
    "        print('(indexing %s at %s)' % (self, offset))\n",
    "        return list.__getitem__(self, offset - 1)\n",
    "\n",
    "if __name__ == '__main__':\n",
    "    print(list('abc'))\n",
    "    x = MyList('abc')               # __init__ inherited from list\n",
    "    print(x)                        # __repr__ inherited from list\n",
    "\n",
    "    print(x[1])                     # MyList.__getitem__\n",
    "    print(x[3])                     # Customizes list superclass method\n",
    "\n",
    "    x.append('spam'); print(x)      # Attributes from list superclass\n",
    "    x.reverse(); print(x)"
   ]
  },
  {
   "cell_type": "markdown",
   "metadata": {},
   "source": [
    "In this file, the `MyList` subclass extends the built-in list’s `__getitem__` indexing method\n",
    "only, to map indexes 1 to N back to the required 0 to N−1. All it really does is decrement\n",
    "the submitted index and call back to the superclass’s version of indexing, but it’s\n",
    "enough to do the trick.\n",
    "\n",
    "This output also includes tracing text the class prints on indexing. Of course, whether\n",
    "changing indexing this way is a good idea in general is *another issue*—users of your\n",
    "`MyList` class may very well be confused by such a core departure from Python sequence\n",
    "behavior! The ability to customize built-in types this way can be a powerful asset,\n",
    "though.\n",
    "\n",
    "For instance, this coding pattern gives rise to an alternative way to code a set—as a\n",
    "subclass of the built-in list type, rather than a standalone class that manages an \n",
    "embedded list object as shown in the prior section. As we learned in [Chapter 5](), Python\n",
    "today comes with a powerful built-in set object, along with literal and comprehension\n",
    "syntax for making new sets. Coding one yourself, though, is still a great way to learn\n",
    "about type subclassing in general.\n",
    "\n",
    "The following class, coded in the file `setsubclass.py`, customizes lists to add just methods\n",
    "and operators related to set processing. Because all other behavior is inherited from the\n",
    "built-in `list` superclass, this makes for a shorter and simpler alternative—everything\n",
    "not defined here is routed to `list` directly:"
   ]
  },
  {
   "cell_type": "code",
   "execution_count": null,
   "metadata": {},
   "outputs": [
    {
     "name": "stdout",
     "output_type": "stream",
     "text": [
      "Set:[1, 3, 5, 7] Set:[2, 1, 4, 5, 6] 4\n",
      "Set:[1, 5] Set:[2, 1, 4, 5, 6, 3, 7]\n",
      "Set:[1, 5] Set:[1, 3, 5, 7, 2, 4, 6]\n",
      "Set:[7, 5, 3, 1]\n"
     ]
    }
   ],
   "source": [
    "from __future__ import print_function       # 2.X compatibility\n",
    "\n",
    "class Set(list):\n",
    "    def __init__(self, value = []):         # Constructor\n",
    "        list.__init__([])                   # Customizes list\n",
    "        self.concat(value)                  # Copies mutable defaults\n",
    "\n",
    "    def intersect(self, other):             # other is any sequence\n",
    "        res = []                            # self is the subject\n",
    "        for x in self:\n",
    "            if x in other:                  # Pick common items\n",
    "                res.append(x)\n",
    "        return Set(res)                     # Return a new Set\n",
    "\n",
    "    def union(self, other):                 # other is any sequence\n",
    "        res = Set(self)                     # Copy me and my list\n",
    "        res.concat(other)\n",
    "        return res\n",
    "\n",
    "    def concat(self, value):                # value: list, Set, etc.\n",
    "        for x in value:                     # Removes duplicates\n",
    "            if not x in self:\n",
    "                self.append(x)\n",
    "\n",
    "    def __and__(self, other): return self.intersect(other)\n",
    "    def __or__(self, other): return self.union(other)\n",
    "    def __repr__(self): return 'Set:' + list.__repr__(self)\n",
    "\n",
    "if __name__ == '__main__':\n",
    "    x = Set([1,3,5,7])\n",
    "    y = Set([2,1,4,5,6])\n",
    "    print(x, y, len(x))\n",
    "    print(x.intersect(y), y.union(x))\n",
    "    print(x & y, x | y)\n",
    "    x.reverse(); print(x)"
   ]
  },
  {
   "cell_type": "markdown",
   "metadata": {},
   "source": [
    "Here is the output of the self-test code at the end of this file. Because subclassing core\n",
    "types is a somewhat advanced feature with a limited target audience, I’ll omit further\n",
    "details here, but I invite you to trace through these results in the code to study its\n",
    "behavior (which is the same on Python 3.X and 2.X).\n",
    "\n",
    "There are more efficient ways to implement sets with dictionaries in Python, which\n",
    "replace the nested linear search scans in the set implementations shown here with more\n",
    "direct dictionary index operations (hashing) and so run much quicker. For more details,\n",
    "see the continuation of this thread in the follow-up book [*Programming Python*](http://www.oreilly.com/catalog/9780596158101). Again,\n",
    "if you’re interested in sets, also take another look at the `set` object type we explored in\n",
    "[Chapter 5](); this type provides extensive set operations as built-in tools. Set \n",
    "implementations are fun to experiment with, but they are no longer strictly required in Python\n",
    "today.\n",
    "\n",
    "For another type subclassing example, explore the implementation of the `bool` type in\n",
    "Python 2.3 and later. As mentioned earlier in the book, `bool` is a subclass of `int` with\n",
    "two instances (`True` and `False`) that behave like the integers `1` and `0` but inherit custom\n",
    "string-representation methods that display their names."
   ]
  }
 ],
 "metadata": {
  "interpreter": {
   "hash": "c97461ed06fc3eed5ba645d4221719a96ff8e1e800c131564c8e628fd4e8725a"
  },
  "kernelspec": {
   "display_name": "Python 3.8.8 ('base')",
   "language": "python",
   "name": "python3"
  },
  "language_info": {
   "codemirror_mode": {
    "name": "ipython",
    "version": 3
   },
   "file_extension": ".py",
   "mimetype": "text/x-python",
   "name": "python",
   "nbconvert_exporter": "python",
   "pygments_lexer": "ipython3",
   "version": "3.8.8"
  },
  "orig_nbformat": 4
 },
 "nbformat": 4,
 "nbformat_minor": 2
}
