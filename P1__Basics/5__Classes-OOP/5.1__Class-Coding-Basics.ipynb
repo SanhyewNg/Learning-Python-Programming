{
 "cells": [
  {
   "cell_type": "markdown",
   "metadata": {},
   "source": [
    "# Class Coding Basics\n",
    "\n",
    "\n",
    "If you’ve never been exposed to OOP in the past, classes can seem somewhat complicated \n",
    "if taken in a single dose. To make class coding easier to absorb, we’ll begin our\n",
    "detailed exploration of OOP by taking a first look at some basic classes in action. \n",
    "We’ll expand on the details introduced here later, but in their basic form, \n",
    "Python classes are easy to understand.\n",
    "\n",
    "In fact, classes have just three primary distinctions. At a base level, they are mostly just\n",
    "namespaces. Classes also have support for generating multiple objects, for namespace inheritance,\n",
    "and for operator overloading. Let’s begin our class statement tour by exploring each\n",
    "of these three distinctions in turn."
   ]
  },
  {
   "cell_type": "markdown",
   "metadata": {},
   "source": [
    "## Why Use Classes?\n",
    "\n",
    "\n",
    "Remember when I told you that programs “do things with stuff” in [Chapter 4]() and\n",
    "[Chapter 10]()? In simple terms, classes are just a way to define new sorts of *stuff*, \n",
    "reflecting real objects in a program’s domain. For instance, suppose we decide to implement that\n",
    "hypothetical pizza-making robot we used as an example in [Chapter 16](). If we implement\n",
    "it using classes, we can model more of its real-world structure and relationships. Two\n",
    "aspects of OOP prove useful here:\n",
    "\n",
    "- *Inheritance*  \n",
    "  Pizza-making robots are kinds of robots, so they possess the usual robot-y properties. \n",
    "  In OOP terms, we say they “inherit” properties from the general category\n",
    "  of all robots. These common properties need to be implemented only once for the\n",
    "  general case and can be reused in part or in full by all types of robots we may build\n",
    "  in the future.\n",
    "  \n",
    "- *Composition*  \n",
    "  Pizza-making robots are really collections of components that work together as a \n",
    "  team. For instance, for our robot to be successful, it might need arms to roll dough,\n",
    "  motors to maneuver to the oven, and so on. In OOP parlance, our robot is an\n",
    "  example of composition; it contains other objects that it activates to do its bidding.\n",
    "  Each component might be coded as a class, which defines its own behavior and\n",
    "  relationships.\n",
    "\n",
    "General OOP ideas like inheritance and composition apply to any application that can\n",
    "be decomposed into a set of objects. For example, in typical GUI systems, interfaces\n",
    "are written as collections of widgets—buttons, labels, and so on—which are all drawn\n",
    "when their container is drawn (*composition*). Moreover, we may be able to write our\n",
    "own custom widgets—buttons with unique fonts, labels with new color schemes, and\n",
    "the like—which are specialized versions of more general interface devices (*inheritance*).\n",
    "\n",
    "From a more concrete programming perspective, classes are Python program units, just\n",
    "like functions and modules: they are another compartment for packaging logic and\n",
    "data. In fact, classes also define new namespaces, much like modules. But, compared\n",
    "to other program units we’ve already seen, classes have three critical distinctions that\n",
    "make them more useful when it comes to building new objects:\n",
    "\n",
    "- *Multiple instances*  \n",
    "  Classes are essentially factories for generating one or more objects. Every time we\n",
    "  call a class, we generate a new object with a distinct namespace. Each object generated \n",
    "  from a class has access to the class’s attributes *and* gets a namespace of its\n",
    "  own for data that varies per object. This is similar to the per-call state retention of\n",
    "  [Chapter 17]()’s closure functions, but is explicit and natural in classes, and is just one\n",
    "  of the things that classes do. Classes offer a complete programming solution.\n",
    "\n",
    "- *Customization via inheritance*  \n",
    "  Classes also support the OOP notion of inheritance; we can extend a class by \n",
    "  redefining its attributes outside the class itself in new software components coded\n",
    "  as subclasses. More generally, classes can build up namespace hierarchies, which\n",
    "  define names to be used by objects created from classes in the hierarchy. This\n",
    "  supports multiple customizable behaviors more directly than other tools.\n",
    "  \n",
    "- *Operator overloading*  \n",
    "  By providing special protocol methods, classes can define objects that respond to\n",
    "  the sorts of operations we saw at work on built-in types. For instance, objects made\n",
    "  with classes can be sliced, concatenated, indexed, and so on. Python provides\n",
    "  hooks that classes can use to intercept and implement any built-in type operation.\n",
    "\n",
    "At its base, the mechanism of OOP in Python is largely just *two bits of magic*: a special\n",
    "first argument in functions (to receive the subject of a call) and inheritance attribute\n",
    "search (to support programming by customization). Other than this, the model is\n",
    "largely just functions that ultimately process built-in types. While not radically new,\n",
    "though, OOP adds an extra layer of structure that supports better programming than\n",
    "flat procedural models. Along with the functional tools we met earlier, it represents a\n",
    "major abstraction step above computer hardware that helps us build more sophisticated\n",
    "programs."
   ]
  },
  {
   "cell_type": "markdown",
   "metadata": {},
   "source": [
    "## Classes Generate Multiple Instance Objects\n",
    "\n",
    "\n",
    "To understand how the multiple objects idea works, you have to first understand that\n",
    "there are two kinds of objects in Python’s OOP model: *class* objects and *instance* objects. \n",
    " - Class objects provide default behavior and serve as factories for instance objects. Instance objects are the real objects your programs process—each is a namespace in its own right, but inherits (i.e., has automatic access to) names in the class from which it was created. \n",
    " - Class objects come from statements, and instances come from calls; each time you call a class, you get a new instance of that class.\n",
    "\n",
    "This object-generation concept is very different from most of the other program constructs \n",
    "we’ve seen so far. In effect, classes are essentially *factories* for generating multiple instances. By contrast, only one copy of each module is ever imported\n",
    "into a single program. In fact, this is why **reload** works as it does, updating a single-instance shared object in place. With classes, each instance can have its own, \n",
    "independent data, supporting multiple versions of the object that the class models.\n",
    "\n",
    "In this role, class instances are similar to the per-call state of the *closure* (a.k.a. factory)\n",
    "functions of [:label:``], but this is a natural part of the class model, and state in classes\n",
    "is explicit attributes instead of implicit scope references. Moreover, this is just part of\n",
    "what classes do—they also support customization by inheritance, operator overloading, \n",
    "and multiple behaviors via methods. Generally speaking, classes are a more complete \n",
    "programming tool, though OOP and *functional programming* are not mutually exclusive paradigms. \n",
    "We may combine them by using functional tools in methods, by\n",
    "coding methods that are themselves generators, by writing user-defined iterators, and so on.\n",
    "\n",
    "The following is a quick summary of the bare essentials of Python OOP in terms of its\n",
    "two object types. As you’ll see, Python classes are in some ways similar to both `def`s\n",
    "and modules, but they may be quite different from what you’re used to in other languages."
   ]
  },
  {
   "cell_type": "markdown",
   "metadata": {},
   "source": [
    "### Class Objects Provide Default Behavior\n",
    "\n",
    "When we run a `class` statement, we get a class object. Here’s a rundown of the main\n",
    "properties of Python classes:\n",
    " + **The `class` statement creates a class object and assigns it a name.** Just like the function `def` statement, the Python `class` statement is an *executable* statement. When reached and run, it generates a new class object and assigns it to the name in the `class` header. Also, like `def`s, `class` statements typically run when the files\n",
    "they are coded in are first imported.\n",
    " + **Assignments inside `class` statements make class attributes.** Just like in module files, top-level assignments within a `class` statement (not nested in a `def`) generate ***attributes*** in a class object. Technically, the `class` statement defines a local scope that morphs into the attribute namespace of the class object, just like a module’s global scope. After running a `class` statement, class attributes are accessed by name qualification: *`object.name`*.\n",
    " + **Class attributes provide object state and behavior.** Attributes of a class object record state information and behavior to be shared by all instances created from the class; function `def` statements nested inside a `class` generate *methods*, which process instances."
   ]
  },
  {
   "cell_type": "markdown",
   "metadata": {},
   "source": [
    "### Instance Objects Are Concrete Items\n",
    "\n",
    "When we call a class object, we get an instance object. Here’s an overview of the key\n",
    "points behind class instances:\n",
    " + **Calling a class object like a function makes a new instance object.** Each time a class is called, it creates and returns a new instance object. Instances represent concrete items in your program’s domain.\n",
    " + **Each instance object inherits class attributes and gets its own namespace.** Instance objects created from classes are new namespaces; they start out empty but inherit attributes that live in the class objects from which they were generated.\n",
    " + **Assignments to attributes of `self` in methods make per-instance attributes.** Inside a class’s method functions, the first argument (called `self` by convention) references the instance object being processed; assignments to attributes of `self` create or change data in the instance, not the class.\n",
    "\n",
    "The end result is that classes define common, shared data and behavior, and generate instances. \n",
    "Instances reflect concrete application entities, and record per-instance data that may vary per object."
   ]
  },
  {
   "cell_type": "markdown",
   "metadata": {},
   "source": [
    "### A First Example\n",
    "\n",
    "Let’s turn to a real example to show how these ideas work in practice. To begin, let’s\n",
    "define a class named `FirstClass` by running a Python `class` statement interactively:"
   ]
  },
  {
   "cell_type": "code",
   "execution_count": 1,
   "metadata": {},
   "outputs": [],
   "source": [
    "class FirstClass:               # Define a class object\n",
    "    def setdata(self, value):   # Define class's methods\n",
    "        self.data = value       # self is the instance\n",
    "    def display(self):\n",
    "        print(self.data)        # self.data: per instance"
   ]
  },
  {
   "cell_type": "markdown",
   "metadata": {},
   "source": [
    "We’re working interactively here, but typically, such a statement would be run when\n",
    "the module file it is coded in is imported. Like functions created with `def`s, this class\n",
    "won’t even exist until Python reaches and runs this statement.\n",
    "\n",
    "Like all compound statements, the `class` starts with a header line that lists the class\n",
    "name, followed by a body of one or more nested and (usually) indented statements.\n",
    "Here, the nested statements are `def`s; they define functions that implement the behavior\n",
    "the class means to export.\n",
    "\n",
    "As we learned in [:label:``](), `def` is really an assignment. Here, it assigns function objects\n",
    "to the names `setdata` and `display` in the `class` statement’s scope, and so generates\n",
    "attributes attached to the class—`FirstClass.setdata` and `FirstClass.display`. In fact,\n",
    "any name assigned at the top level of the class’s nested block becomes an *attribute* of\n",
    "the class.\n",
    "\n",
    "Functions inside a class are usually called ***method***s. They’re coded with normal `def`s,\n",
    "and they support everything we’ve learned about functions already (they can have defaults, \n",
    "return values, yield items on request, and so on). But in a method function, the\n",
    "first argument automatically receives an implied instance object when called—the subject \n",
    "of the call. We need to create a couple of instances to see how this works:"
   ]
  },
  {
   "cell_type": "code",
   "execution_count": 2,
   "metadata": {},
   "outputs": [],
   "source": [
    "x = FirstClass()            # Make two instances\n",
    "y = FirstClass()            # Each is a new namespace"
   ]
  },
  {
   "cell_type": "markdown",
   "metadata": {},
   "source": [
    "By *calling* the class this way (notice the parentheses), we generate instance objects,\n",
    "which are just namespaces that have access to their classes’ attributes. Properly speaking, \n",
    "at this point, we have three objects: two instances and a class. Really, we have three\n",
    "linked namespaces, as sketched in [:numref:`Classes-and-instances-are-linked`](). In OOP terms, we say that `x` “is a”\n",
    "`FirstClass`, as is `y`—they both inherit names attached to the class.\n",
    "\n",
    "![Classes and instances are linked namespace objects in a class tree that is searched by inheritance. Here, the “data” attribute is found in instances, but “setdata” and “display” are in the class above them.](../../imgs/Classes-and-instances-are-linked.png)\n",
    "[:label:`Classes-and-instances-are-linked`]()\n",
    "\n",
    "The two instances start out empty but have links back to the class from which they\n",
    "were generated. If we qualify an instance with the name of an attribute that lives in the\n",
    "class object, Python fetches the name from the class by inheritance search (unless it\n",
    "also lives in the instance):"
   ]
  },
  {
   "cell_type": "code",
   "execution_count": 3,
   "metadata": {},
   "outputs": [],
   "source": [
    "x.setdata(\"King Arthur\")        # Call methods: self is x\n",
    "y.setdata(3.14159)              # Runs: FirstClass.setdata(y, 3.14159)"
   ]
  },
  {
   "cell_type": "markdown",
   "metadata": {},
   "source": [
    "Neither `x` nor `y` has a `setdata` attribute of its own, so to find it, Python follows the link\n",
    "from instance to class. And that’s about all there is to inheritance in Python: it happens\n",
    "at attribute qualification time, and it just involves looking up names in linked objects\n",
    "—here, by following the is-a links in [:numref:`Classes-and-instances-are-linked`]().\n",
    "\n",
    "In the `setdata` function inside `FirstClass`, the value passed in is assigned to\n",
    "`self.data`. Within a method, `self`—the name given to the leftmost argument by convention—\n",
    "automatically refers to the instance being processed (`x` or `y`), so the assignments \n",
    "store values in the instances’ namespaces, not the class’s; that’s how the data\n",
    "names in [:numref:`Classes-and-instances-are-linked`]() are created.\n",
    "\n",
    "Because classes can generate multiple instances, methods must go through the `self`\n",
    "argument to get to the instance to be processed. When we call the class’s `display`\n",
    "method to print `self.data`, we see that it’s different in each instance; on the other hand,\n",
    "the name `display` itself is the same in `x` and `y`, as it comes (is inherited) from the class:"
   ]
  },
  {
   "cell_type": "code",
   "execution_count": 4,
   "metadata": {},
   "outputs": [
    {
     "name": "stdout",
     "output_type": "stream",
     "text": [
      "King Arthur\n"
     ]
    }
   ],
   "source": [
    "x.display() # self.data differs in each instance"
   ]
  },
  {
   "cell_type": "code",
   "execution_count": 5,
   "metadata": {},
   "outputs": [
    {
     "name": "stdout",
     "output_type": "stream",
     "text": [
      "3.14159\n"
     ]
    }
   ],
   "source": [
    "y.display() # Runs: FirstClass.display(y)"
   ]
  },
  {
   "cell_type": "markdown",
   "metadata": {},
   "source": [
    "Notice that we stored different object types in the `data` member in each instance—a\n",
    "string and a floating-point number. As with everything else in Python, there are no\n",
    "declarations for instance attributes (sometimes called ***members***); they spring into \n",
    "existence the first time they are assigned values, just like simple variables. In fact, \n",
    "if we were to call `display` on one of our instances *before* calling `setdata`, we would trigger an\n",
    "undefined name error—the attribute named data doesn’t even exist in memory until it\n",
    "is assigned within the `setdata` method.\n",
    "\n",
    "As another way to appreciate how dynamic this model is, consider that we can change\n",
    "instance attributes in the class itself, by assigning to `self` in methods, or *outside* the\n",
    "class, by assigning to an explicit instance object:"
   ]
  },
  {
   "cell_type": "code",
   "execution_count": 6,
   "metadata": {},
   "outputs": [
    {
     "name": "stdout",
     "output_type": "stream",
     "text": [
      "New value\n"
     ]
    }
   ],
   "source": [
    "x.data = \"New value\"        # Can get/set attributes\n",
    "x.display()                 # Outside the class too"
   ]
  },
  {
   "cell_type": "markdown",
   "metadata": {},
   "source": [
    "Although less common, we could even generate an *entirely new* attribute in the \n",
    "instance’s namespace by assigning to its name outside the class’s method functions:"
   ]
  },
  {
   "cell_type": "code",
   "execution_count": 7,
   "metadata": {},
   "outputs": [],
   "source": [
    "x.anothername = \"spam\" # Can set new attributes here too!"
   ]
  },
  {
   "cell_type": "markdown",
   "metadata": {},
   "source": [
    "This would attach a new attribute called `anothername`, which may or may not be used\n",
    "by any of the class’s methods, to the instance object `x`. Classes usually create all of the\n",
    "instance’s attributes by assignment to the `self` argument, but they don’t have to—\n",
    "programs can fetch, change, or create attributes on any objects to which they have\n",
    "references.\n",
    "\n",
    "It usually doesn’t make sense to add data that the class cannot use, and it’s possible to\n",
    "prevent this with extra “privacy” code based on attribute access operator overloading,\n",
    "as we’ll discuss later (see [Chapter 30]() and [Chapter 39]()). Still, free attribute\n",
    "access translates to less syntax, and there are cases where it’s even useful—for example,\n",
    "in coding data records of the sort we’ll see later."
   ]
  },
  {
   "cell_type": "markdown",
   "metadata": {},
   "source": [
    "## Classes Are Customized by Inheritance\n",
    "\n",
    "Let’s move on to the second major distinction of classes. Besides serving as factories\n",
    "for generating multiple instance objects, classes also allow us to make changes by \n",
    "introducing new components (called *subclasses*), instead of changing existing \n",
    "components in place.\n",
    "\n",
    "As we’ve seen, instance objects generated from a class inherit the class’s attributes.\n",
    "Python also allows classes to inherit from other classes, opening the door to coding\n",
    "*hierarchies* of classes that specialize behavior—by redefining attributes in subclasses\n",
    "that appear lower in the hierarchy, we override the more general definitions of those\n",
    "attributes higher in the tree. In effect, the further down the hierarchy we go, the more\n",
    "specific the software becomes. Here, too, there is no parallel with modules, whose\n",
    "attributes live in a single, flat namespace that is not as amenable to customization.\n",
    "\n",
    "In Python, instances inherit from classes, and classes inherit from superclasses. Here\n",
    "are the key ideas behind the machinery of attribute inheritance:\n",
    "\n",
    "  + **Superclasses are listed in parentheses in a `class` header.**  \n",
    "    To make a class inherit attributes from another class, just list the other class in parentheses in the new `class` statement’s header line. The class that inherits is usually called a ***subclass***, and the class that is inherited from is its ***superclass***.\n",
    "    \n",
    "  + **Classes inherit attributes from their superclasses.**  \n",
    "    Just as instances inherit the attribute names defined in their classes, classes inherit all of the attribute names defined in their superclasses; Python finds them automatically when they’re accessed, if they don’t exist in the subclasses.\n",
    "\n",
    "  + **Instances inherit attributes from all accessible classes.**  \n",
    "    Each instance gets names from the class it’s generated from, as well as all of that class’s superclasses. When looking for a name, Python checks the instance, then its class, then all superclasses.\n",
    "\n",
    "  + **Each `object.attribute` reference invokes a new, independent search.**  \n",
    "    Python performs an independent search of the class tree for each attribute fetch expression. This includes references to instances and classes made outside `class` statements (e.g., `X.attr`), as well as references to attributes of the `self` instance argument in a class’s method functions. Each `self.attr` expression in a method invokes a new search for `attr` in `self` and above.\n",
    "\n",
    "  + **Logic changes are made by subclassing, not by changing superclasses.**  \n",
    "    By redefining superclass names in subclasses lower in the hierarchy (class tree), subclasses replace and thus customize inherited behavior.\n",
    "\n",
    "The net effect—and the main purpose of all this searching—is that classes support\n",
    "factoring and customization of code better than any other language tool we’ve seen so\n",
    "far. On the one hand, they allow us to minimize code redundancy (and so reduce\n",
    "maintenance costs) by factoring operations into a single, shared implementation; on\n",
    "the other, they allow us to program by customizing what already exists, rather than\n",
    "changing it in place or starting from scratch.\n",
    "\n",
    "**Note**  \n",
    "Strictly speaking, Python’s *inheritance* is a bit richer than described here,\n",
    "when we factor in new-style descriptors and metaclasses—advanced \n",
    "topics we’ll study later—but we can safely restrict our scope to instances\n",
    "and their classes, both at this point in the book and in most Python\n",
    "application code. We’ll define inheritance formally in [Chapter 40]()."
   ]
  },
  {
   "cell_type": "markdown",
   "metadata": {},
   "source": [
    "### A Second Example\n",
    "\n",
    "To illustrate the role of inheritance, this next example builds on the previous one. First,\n",
    "we’ll define a new class, `SecondClass`, that inherits all of `FirstClass`’s names and provides one of its own:"
   ]
  },
  {
   "cell_type": "code",
   "execution_count": 8,
   "metadata": {},
   "outputs": [],
   "source": [
    "class SecondClass(FirstClass):                      # Inherits setdata\n",
    "    def display(self):                              # Changes display\n",
    "        print('Current value = \"%s\"' % self.data)"
   ]
  },
  {
   "cell_type": "markdown",
   "metadata": {},
   "source": [
    "`SecondClass` defines the `display` method to print with a different format. By defining\n",
    "an attribute with the same name as an attribute in `FirstClass`, `SecondClass` effectively\n",
    "replaces the `display` attribute in its superclass.\n",
    "\n",
    "Recall that inheritance searches proceed upward from instances to subclasses to superclasses, \n",
    "stopping at the first appearance of the attribute name that it finds. In this\n",
    "case, since the `display` name in `SecondClass` will be found before the one in `FirstClass`, \n",
    "we say that `SecondClass` *overrides* `FirstClass`’s `display`. Sometimes we call this\n",
    "act of replacing attributes by redefining them lower in the tree *overloading*.\n",
    "\n",
    "The net effect here is that `SecondClass` specializes `FirstClass` by changing the behavior\n",
    "of the `display` method. On the other hand, `SecondClass` (and any instances created from\n",
    "it) still inherits the `setdata` method in `FirstClass` verbatim. Let’s make an instance to\n",
    "demonstrate:"
   ]
  },
  {
   "cell_type": "code",
   "execution_count": 9,
   "metadata": {},
   "outputs": [
    {
     "name": "stdout",
     "output_type": "stream",
     "text": [
      "Current value = \"42\"\n"
     ]
    }
   ],
   "source": [
    "z = SecondClass()\n",
    "z.setdata(42) # Finds setdata in FirstClass\n",
    "z.display() # Finds overridden method in SecondClass"
   ]
  },
  {
   "cell_type": "markdown",
   "metadata": {},
   "source": [
    "As before, we make a `SecondClass` instance object by calling it. The `setdata` call still\n",
    "runs the version in `FirstClass`, but this time the `display` attribute comes from `SecondClass` \n",
    "and prints a custom message. [:numref:`overriding-inherited-names`]() sketches the namespaces involved.\n",
    "\n",
    "![Specialization: overriding inherited names by redefining them in extensions lower in the class tree. Here, `SecondClass` redefines and so customizes the “display” method for its instances.](../../imgs/overriding-inherited-names.png)\n",
    "[:label:`overriding-inherited-names`]()\n",
    "\n",
    "Now, here’s a crucial thing to notice about OOP: the specialization introduced in\n",
    "`SecondClass` is completely *external* to `FirstClass`. That is, it doesn’t affect existing or\n",
    "future `FirstClass` objects, like the `x` from the prior example:"
   ]
  },
  {
   "cell_type": "code",
   "execution_count": 10,
   "metadata": {},
   "outputs": [
    {
     "name": "stdout",
     "output_type": "stream",
     "text": [
      "New value\n"
     ]
    }
   ],
   "source": [
    "x.display() # x is still a FirstClass instance (old message)"
   ]
  },
  {
   "cell_type": "markdown",
   "metadata": {},
   "source": [
    "Rather than *changing* `FirstClass`, we *customized* it. Naturally, this is an artificial \n",
    "example, but as a rule, because inheritance allows us to make changes like this in external\n",
    "components (i.e., in subclasses), classes often support extension and reuse better than\n",
    "functions or modules can."
   ]
  },
  {
   "cell_type": "markdown",
   "metadata": {},
   "source": [
    "### Classes Are Attributes in Modules\n",
    "\n",
    "Before we move on, remember that there’s nothing magic about a class name. It’s just\n",
    "a variable assigned to an object when the `class` statement runs, and the object can be\n",
    "referenced with any normal expression. For instance, if our `FirstClass` were coded in\n",
    "a module file instead of being typed interactively, we could import it and use its name\n",
    "normally in a `class` header line:\n",
    "\n",
    "```python\n",
    "    from modulename import FirstClass           # Copy name into my scope\n",
    "    class SecondClass(FirstClass):              # Use class name directly\n",
    "        def display(self): ...\n",
    "```\n",
    "\n",
    "Or, equivalently:\n",
    "\n",
    "```python\n",
    "    import modulename                           # Access the whole module\n",
    "    class SecondClass(modulename.FirstClass):   # Qualify to reference\n",
    "        def display(self): ...\n",
    "```\n",
    "\n",
    "Like everything else, class names always live within a module, so they must follow all\n",
    "the rules we studied in [Part V](). For example, more than one class can be coded in a\n",
    "single module file—like other statements in a module, `class` statements are run during\n",
    "imports to define names, and these names become distinct module attributes. More\n",
    "generally, each module may arbitrarily mix any number of variables, functions, and\n",
    "classes, and all names in a module behave the same way. The file `food.py` demonstrates:\n",
    "\n",
    "```python\n",
    "    # food.py\n",
    "    var = 1 # food.var\n",
    "    def func(): ...                             # food.func\n",
    "    class spam: ...                             # food.spam\n",
    "    class ham: ...                              # food.ham\n",
    "    class eggs: ...                             # food.eggs\n",
    "```\n",
    "\n",
    "This holds true even if the module and class happen to have the same name. For example, given the following file, `person.py`:\n",
    "\n",
    "```python\n",
    "    class person: ...\n",
    "```\n",
    "\n",
    "we need to go through the module to fetch the class as usual:\n",
    "\n",
    "```python\n",
    "    import person                               # Import module\n",
    "    x = person.person()                         # Class within module\n",
    "```\n",
    "\n",
    "Although this path may look redundant, it’s required: `person.person` refers to the \n",
    "`person` class inside the person module. Saying just `person` gets the module, not the class,\n",
    "unless the from statement is used:\n",
    "\n",
    "```python\n",
    "    from person import person                   # Get class from module\n",
    "    x = person()                                # Use class name\n",
    "```\n",
    "\n",
    "As with any other variable, we can never see a class in a file without first importing and\n",
    "somehow fetching it from its enclosing file. If this seems confusing, don’t use the same\n",
    "name for a module and a class within it. In fact, common convention in Python dictates\n",
    "that class names should begin with an *uppercase* letter, to help make them more distinct:\n",
    "\n",
    "```python\n",
    "    import person                               # Lowercase for modules\n",
    "    x = person.Person()                         # Uppercase for classes\n",
    "```\n",
    "\n",
    "Also, keep in mind that although classes and modules are both namespaces for attaching \n",
    "attributes, they correspond to very different source code structures: a module reflects \n",
    "an entire *file*, but a class is a *statement* within a file. We’ll say more about such\n",
    "distinctions later in this part of the book."
   ]
  },
  {
   "cell_type": "markdown",
   "metadata": {},
   "source": [
    "## Classes Can Intercept Python Operators\n",
    "\n",
    "Let’s move on to the third and final major difference between classes and modules:\n",
    "operator overloading. In simple terms, ***operator overloading*** lets objects coded with\n",
    "classes intercept and respond to operations that work on built-in types: addition, slicing, printing, qualification, and so on. It’s mostly just an automatic dispatch mechanism\n",
    "—expressions and other built-in operations route control to implementations in\n",
    "classes. Here, too, there is nothing similar in modules: modules can implement function\n",
    "calls, but not the behavior of expressions.\n",
    "\n",
    "Although we could implement all class behavior as method functions, operator overloading \n",
    "lets objects be more tightly integrated with Python’s object model. Moreover,\n",
    "because operator overloading makes our own objects act like built-ins, it tends to foster\n",
    "object interfaces that are more consistent and easier to learn, and it allows class-based\n",
    "objects to be processed by code written to expect a built-in type’s interface. Here is a\n",
    "quick rundown of the main ideas behind overloading operators:\n",
    "\n",
    "  + **Methods named with double underscores (*`__X__`*) are special hooks.**  \n",
    "    In Python classes, we implement operator overloading by providing specially named methods\n",
    "    to intercept operations. The Python language defines a fixed and unchangeable\n",
    "    mapping from each of these operations to a specially named method.\n",
    "\n",
    "  + **Such methods are called automatically when instances appear in built-in operations.**  \n",
    "    For instance, if an instance object inherits an `__add__` method, that\n",
    "    method is called whenever the object appears in a `+` expression. The method’s\n",
    "    return value becomes the result of the corresponding expression.\n",
    "\n",
    "  + **Classes may override most built-in type operations.**  \n",
    "    There are dozens of special operator overloading method names for intercepting and \n",
    "    implementing nearly every operation available for built-in types. This includes expressions, \n",
    "    but also basic operations like printing and object creation.\n",
    "  \n",
    "  + **There are no defaults for operator overloading methods, and none are required.**  \n",
    "    If a class does not define or inherit an operator overloading method, it just\n",
    "    means that the corresponding operation is not supported for the class’s instances.\n",
    "    If there is no `__add__`, for example, `+` expressions raise exceptions.\n",
    "    \n",
    "  + **New-style classes have some defaults, but not for common operations.**  \n",
    "    In Python 3.X, and so-called “new style” classes in 2.X that we’ll define later, \n",
    "    a root class named `object` does provide defaults for some *`__X__`* methods, but not for\n",
    "    many, and not for most commonly used operations.\n",
    "\n",
    "  + **Operators allow classes to integrate with Python’s object model.**  \n",
    "    By overloading type operations, the user-defined objects we implement with classes can\n",
    "    act just like built-ins, and so provide consistency as well as compatibility with\n",
    "    expected interfaces.\n",
    "\n",
    "Operator overloading is an optional feature; it’s used primarily by people developing\n",
    "tools for other Python programmers, not by application developers. And, candidly, you\n",
    "probably *shouldn’t* use it just because it seems clever or “cool.” Unless a class needs to\n",
    "mimic built-in type interfaces, it should usually stick to simpler named methods. Why\n",
    "would an employee database application support expressions like `*` and `+`, for example?\n",
    "Named methods like `giveRaise` and `promote` would usually make more sense.\n",
    "\n",
    "Because of this, we won’t go into details on every operator overloading method available\n",
    "in Python. Still, there is one operator overloading method you are likely\n",
    "to see in almost every realistic Python class: the `__init__` method, which is known as\n",
    "the ***constructor method*** and is used to initialize objects’ state. You should pay special\n",
    "attention to this method, because `__init__`, along with the `self` argument, turns out\n",
    "to be a key requirement to reading and understanding most OOP code in Python."
   ]
  },
  {
   "cell_type": "markdown",
   "metadata": {},
   "source": [
    "### A Third Example\n",
    "\n",
    "On to another example. This time, we’ll define a subclass of the above `SecondClass` \n",
    "that implements three specially named attributes that Python will call automatically:\n",
    "\n",
    "  + `__init__` is run when a new instance object is created: `self` is the new `ThirdClass` object.\n",
    "  + `__add__` is run when a `ThirdClass` instance appears in a `+` expression.\n",
    "  + `__str__` is run when an object is printed (technically, when it’s converted to its print string by the `str` built-in function or its Python internals equivalent).\n",
    "\n",
    "Our new subclass also defines a normally named method called `mul`, which changes the\n",
    "instance object in place. Here’s the new subclass:"
   ]
  },
  {
   "cell_type": "code",
   "execution_count": 12,
   "metadata": {},
   "outputs": [],
   "source": [
    "class ThirdClass(SecondClass):      # Inherit from SecondClass\n",
    "    def __init__(self, value):      # On \"ThirdClass(value)\"\n",
    "        self.data = value\n",
    "    def __add__(self, other):       # On \"self + other\"\n",
    "        return ThirdClass(self.data + other)\n",
    "    def __str__(self):              # On \"print(self)\", \"str()\"\n",
    "        return '[ThirdClass: %s]' % self.data\n",
    "    def mul(self, other):           # In-place change: named\n",
    "        self.data *= other"
   ]
  },
  {
   "cell_type": "code",
   "execution_count": 13,
   "metadata": {},
   "outputs": [
    {
     "name": "stdout",
     "output_type": "stream",
     "text": [
      "Current value = \"abc\"\n"
     ]
    }
   ],
   "source": [
    "a = ThirdClass('abc') # __init__ called\n",
    "a.display() # Inherited method called"
   ]
  },
  {
   "cell_type": "code",
   "execution_count": 14,
   "metadata": {},
   "outputs": [
    {
     "name": "stdout",
     "output_type": "stream",
     "text": [
      "[ThirdClass: abc]\n"
     ]
    }
   ],
   "source": [
    "print(a)"
   ]
  },
  {
   "cell_type": "code",
   "execution_count": 15,
   "metadata": {},
   "outputs": [
    {
     "name": "stdout",
     "output_type": "stream",
     "text": [
      "Current value = \"abcxyz\"\n"
     ]
    }
   ],
   "source": [
    "b = a + 'xyz'                       # __add__: makes a new instance\n",
    "b.display()                         # b has all ThirdClass methods"
   ]
  },
  {
   "cell_type": "code",
   "execution_count": 16,
   "metadata": {},
   "outputs": [
    {
     "name": "stdout",
     "output_type": "stream",
     "text": [
      "[ThirdClass: abcxyz]\n"
     ]
    }
   ],
   "source": [
    "print(b)"
   ]
  },
  {
   "cell_type": "code",
   "execution_count": 17,
   "metadata": {},
   "outputs": [
    {
     "name": "stdout",
     "output_type": "stream",
     "text": [
      "[ThirdClass: abcabcabc]\n"
     ]
    }
   ],
   "source": [
    "a.mul(3)                            # mul: changes instance in place\n",
    "print(a)"
   ]
  },
  {
   "cell_type": "markdown",
   "metadata": {},
   "source": [
    "`ThirdClass` “is a” `SecondClass`, so its instances inherit the customized `display` method\n",
    "from `SecondClass` of the preceding section. This time, though, `ThirdClass` creation calls\n",
    "pass an argument (e.g., “abc”). This argument is passed to the `value` argument in the\n",
    "`__init__` constructor and assigned to `self.data` there. The net effect is that `ThirdClass` \n",
    "arranges to set the `data` attribute automatically at construction time, instead of\n",
    "requiring `setdata` calls after the fact.\n",
    "\n",
    "Further, `ThirdClass` objects can now show up in `+` expressions and `print` calls. For `+`,\n",
    "Python passes the instance object on the left to the `self` argument in `__add__` and the\n",
    "value on the right to other, as illustrated in [:numref:`operator-overloading`](); whatever `__add__` returns becomes the result of the `+` expression (more on its result in a moment).\n",
    "\n",
    "![In operator overloading, expression operators and other built-in operations performed on class instances are mapped back to specially named methods in the class. These special methods are optional and may be inherited as usual. Here, a + expression triggers the __add__ method.](../../imgs/operator-overloading.png)\n",
    "[:label:`operator-overloading`]()\n",
    "\n",
    "For `print`, Python passes the object being printed to `self` in `__str__`; whatever string\n",
    "this method returns is taken to be the print string for the object. With `__str__` (or its\n",
    "more broadly relevant twin `__repr__`, \n",
    "we can use a normal `print` to display objects of this class, instead of calling the special\n",
    "`display` method.\n",
    "\n",
    "Specially named methods such as `__init__`, `__add__`, and `__str__` are inherited by \n",
    "subclasses and instances, just like any other names assigned in a `class`. If they’re not coded\n",
    "in a class, Python looks for such names in all its superclasses, as usual. Operator overloading \n",
    "method names are also not built-in or reserved words; they are just attributes\n",
    "that Python looks for when objects appear in various contexts. Python usually calls\n",
    "them automatically, but they may occasionally be called by your code as well. For\n",
    "example, the `__init__` method is often called manually to trigger initialization steps in\n",
    "a superclass."
   ]
  },
  {
   "cell_type": "markdown",
   "metadata": {},
   "source": [
    "#### Returning results, or not\n",
    "\n",
    "Some operator overloading methods like `__str__` require results, but others are more\n",
    "flexible. For example, notice how the `__add__` method makes and returns a *new* instance\n",
    "object of its class, by calling `ThirdClass` with the result value—which in turn triggers\n",
    "`__init__` to initialize the result. This is a common convention, and explains why `b` in\n",
    "the listing has a `display` method; it’s a `ThirdClass` object too, because that’s what `+`\n",
    "returns for this class’s objects. This essentially propagates the type.\n",
    "\n",
    "By contrast, `mul` *changes* the current instance object in place, by reassigning the `self`\n",
    "attribute. We could overload the `*` expression to do the latter, but this would be too\n",
    "different from the behavior of `*` for built-in types such as numbers and strings, for which\n",
    "it always makes new objects. Common practice dictates that overloaded operators\n",
    "should work the same way that built-in operator implementations do. Because operator\n",
    "overloading is really just an expression-to-method dispatch mechanism, though, you\n",
    "can interpret operators any way you like in your own class objects."
   ]
  },
  {
   "cell_type": "markdown",
   "metadata": {},
   "source": [
    "### Why Use Operator Overloading?\n",
    "\n",
    "\n",
    "As a class designer, you can choose to use operator overloading or not. Your choice\n",
    "simply depends on how much you want your object to look and feel like built-in types.\n",
    "As mentioned earlier, if you omit an operator overloading method and do not inherit\n",
    "it from a superclass, the corresponding operation will not be supported for your instances; \n",
    "if it’s attempted, an exception will be raised (or, in some cases like printing, a\n",
    "standard default will be used).\n",
    "\n",
    "Frankly, many operator overloading methods tend to be used only when you are implementing \n",
    "objects that are mathematical in nature; a vector or matrix class may overload \n",
    "the addition operator, for example, but an employee class likely would not. For\n",
    "simpler classes, you might not use overloading at all, and would rely instead on explicit\n",
    "method calls to implement your objects’ behavior.\n",
    "\n",
    "On the other hand, you might decide to use operator overloading if you need to pass\n",
    "a user-defined object to a function that was coded to expect the operators available on\n",
    "a built-in type like a list or a dictionary. Implementing the same operator set in your\n",
    "class will ensure that your objects support the same expected object interface and so\n",
    "are compatible with the function. Although we won’t cover every operator overloading\n",
    "method in this book, we’ll survey additional common operator overloading techniques\n",
    "in action in [Chapter 30]().\n",
    "\n",
    "One overloading method we will use often here is the `__init__` constructor method,\n",
    "used to initialize newly created instance objects, and present in almost every realistic\n",
    "class. Because it allows classes to fill out the attributes in their new instances immediately, the constructor is useful for almost every kind of class you might code. In fact,\n",
    "even though instance attributes are not declared in Python, you can usually find out\n",
    "which attributes an instance will have by inspecting its class’s `__init__` method.\n",
    "\n",
    "Of course, there’s nothing wrong with experimenting with interesting language tools,\n",
    "but they don’t always translate to production code. With time and experience, you’ll\n",
    "find these programming patterns and guidelines to be natural and nearly automatic."
   ]
  },
  {
   "cell_type": "markdown",
   "metadata": {},
   "source": [
    "## The World’s Simplest Python Class\n",
    "\n",
    "We’ve begun studying class statement syntax in detail in this section, but I’d again\n",
    "like to remind you that the basic inheritance model that classes produce is very simple\n",
    "—all it really involves is searching for attributes in trees of linked objects. In fact, we\n",
    "can create a class with nothing in it at all. The following statement makes a class with\n",
    "no attributes attached, an empty namespace object:"
   ]
  },
  {
   "cell_type": "code",
   "execution_count": 1,
   "metadata": {},
   "outputs": [],
   "source": [
    "class rec: pass                     # Empty namespace object"
   ]
  },
  {
   "cell_type": "markdown",
   "metadata": {},
   "source": [
    "We need the no-operation `pass` placeholder statement (discussed in [Chapter 13]()) here\n",
    "because we don’t have any methods to code. After we make the class by running this\n",
    "statement interactively, we can start attaching attributes to the class by assigning names\n",
    "to it completely outside of the original `class` statement:"
   ]
  },
  {
   "cell_type": "code",
   "execution_count": 2,
   "metadata": {},
   "outputs": [],
   "source": [
    "rec.name = 'Bob'                    # Just objects with attributes\n",
    "rec.age = 40"
   ]
  },
  {
   "cell_type": "markdown",
   "metadata": {},
   "source": [
    "And, after we’ve created these attributes by assignment, we can fetch them with the\n",
    "usual syntax. When used this way, a class is roughly similar to a “struct” in C, or a\n",
    "“record” in Pascal. It’s basically an object with field names attached to it (as we’ll see\n",
    "ahead, doing similar with dictionary keys requires extra characters):"
   ]
  },
  {
   "cell_type": "code",
   "execution_count": 3,
   "metadata": {},
   "outputs": [
    {
     "name": "stdout",
     "output_type": "stream",
     "text": [
      "Bob\n"
     ]
    }
   ],
   "source": [
    "print(rec.name)                     # Like a C struct or a record"
   ]
  },
  {
   "cell_type": "markdown",
   "metadata": {},
   "source": [
    "Notice that this works even though there are *no instances* of the class yet; classes are\n",
    "objects in their own right, even without instances. In fact, they are just self-contained\n",
    "namespaces; as long as we have a reference to a class, we can set or change its attributes\n",
    "anytime we wish. Watch what happens when we do create two instances, though:"
   ]
  },
  {
   "cell_type": "code",
   "execution_count": 4,
   "metadata": {},
   "outputs": [],
   "source": [
    "x = rec()                           # Instances inherit class names\n",
    "y = rec()"
   ]
  },
  {
   "cell_type": "markdown",
   "metadata": {},
   "source": [
    "These instances begin their lives as completely empty namespace objects. Because they\n",
    "remember the class from which they were made, though, they will obtain the attributes\n",
    "we attached to the class by inheritance:"
   ]
  },
  {
   "cell_type": "code",
   "execution_count": 5,
   "metadata": {},
   "outputs": [
    {
     "data": {
      "text/plain": [
       "('Bob', 'Bob')"
      ]
     },
     "execution_count": 5,
     "metadata": {},
     "output_type": "execute_result"
    }
   ],
   "source": [
    "x.name, y.name                      # name is stored on the class only"
   ]
  },
  {
   "cell_type": "markdown",
   "metadata": {},
   "source": [
    "Really, these instances have no attributes of their own; they simply fetch the `name` \n",
    "attribute from the class object where it is stored. If we do assign an attribute to an instance,\n",
    "though, it creates (or changes) the attribute in that object, and no other—crucially,\n",
    "attribute *references* kick off inheritance searches, but attribute *assignments* affect only\n",
    "the objects in which the assignments are made. Here, this means that `x` gets its own\n",
    "`name`, but `y` still inherits the `name` attached to the class above it:"
   ]
  },
  {
   "cell_type": "code",
   "execution_count": 6,
   "metadata": {},
   "outputs": [
    {
     "data": {
      "text/plain": [
       "('Bob', 'Sue', 'Bob')"
      ]
     },
     "execution_count": 6,
     "metadata": {},
     "output_type": "execute_result"
    }
   ],
   "source": [
    "x.name = 'Sue'  # But assignment changes x only\n",
    "rec.name, x.name, y.name"
   ]
  },
  {
   "cell_type": "markdown",
   "metadata": {},
   "source": [
    "In fact, as we’ll explore in more detail in [Chapter 29](), the attributes of a namespace\n",
    "object are usually implemented as dictionaries, and class inheritance trees are (generally\n",
    "speaking) just dictionaries with links to other dictionaries. If you know where to look,\n",
    "you can see this explicitly.\n",
    "\n",
    "For example, the `__dict__` attribute is the namespace dictionary for most class-based\n",
    "objects. Some classes may also (or instead) define attributes in `__slots__`, an advanced\n",
    "and seldom-used feature that we’ll note in [Chapter 28](), but largely postpone until\n",
    "[Chapter 31]() and [Chapter 32](). Normally, `__dict__` literally is an instance’s attribute\n",
    "namespace.\n",
    "\n",
    "To illustrate, the following was run in Python 3.3; the order of names and set of\n",
    "`__X__` internal names present can vary from release to release, and we filter out built-ins \n",
    "with a generator expression as we’ve done before, but the names we assigned are\n",
    "present in all:"
   ]
  },
  {
   "cell_type": "code",
   "execution_count": 7,
   "metadata": {},
   "outputs": [
    {
     "data": {
      "text/plain": [
       "['__module__', '__dict__', '__weakref__', '__doc__', 'name', 'age']"
      ]
     },
     "execution_count": 7,
     "metadata": {},
     "output_type": "execute_result"
    }
   ],
   "source": [
    "list(rec.__dict__.keys())"
   ]
  },
  {
   "cell_type": "code",
   "execution_count": 8,
   "metadata": {},
   "outputs": [
    {
     "data": {
      "text/plain": [
       "['name', 'age']"
      ]
     },
     "execution_count": 8,
     "metadata": {},
     "output_type": "execute_result"
    }
   ],
   "source": [
    "list(name for name in rec.__dict__ if not name.startswith('__'))"
   ]
  },
  {
   "cell_type": "code",
   "execution_count": 9,
   "metadata": {},
   "outputs": [
    {
     "data": {
      "text/plain": [
       "['name']"
      ]
     },
     "execution_count": 9,
     "metadata": {},
     "output_type": "execute_result"
    }
   ],
   "source": [
    "list(x.__dict__.keys())"
   ]
  },
  {
   "cell_type": "code",
   "execution_count": 10,
   "metadata": {},
   "outputs": [
    {
     "data": {
      "text/plain": [
       "[]"
      ]
     },
     "execution_count": 10,
     "metadata": {},
     "output_type": "execute_result"
    }
   ],
   "source": [
    "list(y.__dict__.keys())                 # list() not required in Python 2.X"
   ]
  },
  {
   "cell_type": "markdown",
   "metadata": {},
   "source": [
    "Here, the class’s namespace dictionary shows the `name` and `age` attributes we assigned\n",
    "to it, `x` has its own `name`, and `y` is still empty. Because of this model, an attribute can\n",
    "often be fetched by *either* dictionary indexing or attribute notation, but only if it’s\n",
    "present on the object in question—attribute notation kicks off inheritance search, but\n",
    "indexing looks in the single object *only* (as we’ll see later, both have valid roles):"
   ]
  },
  {
   "cell_type": "code",
   "execution_count": 11,
   "metadata": {},
   "outputs": [
    {
     "data": {
      "text/plain": [
       "('Sue', 'Sue')"
      ]
     },
     "execution_count": 11,
     "metadata": {},
     "output_type": "execute_result"
    }
   ],
   "source": [
    "x.name, x.__dict__['name']              # Attributes present here are dict keys"
   ]
  },
  {
   "cell_type": "code",
   "execution_count": 12,
   "metadata": {},
   "outputs": [
    {
     "data": {
      "text/plain": [
       "40"
      ]
     },
     "execution_count": 12,
     "metadata": {},
     "output_type": "execute_result"
    }
   ],
   "source": [
    "x.age                                   # But attribute fetch checks classes too"
   ]
  },
  {
   "cell_type": "code",
   "execution_count": 13,
   "metadata": {},
   "outputs": [
    {
     "ename": "KeyError",
     "evalue": "'age'",
     "output_type": "error",
     "traceback": [
      "\u001b[1;31m---------------------------------------------------------------------------\u001b[0m",
      "\u001b[1;31mKeyError\u001b[0m                                  Traceback (most recent call last)",
      "\u001b[1;32m<ipython-input-13-5c9787d139e3>\u001b[0m in \u001b[0;36m<module>\u001b[1;34m\u001b[0m\n\u001b[1;32m----> 1\u001b[1;33m \u001b[0mx\u001b[0m\u001b[1;33m.\u001b[0m\u001b[0m__dict__\u001b[0m\u001b[1;33m[\u001b[0m\u001b[1;34m'age'\u001b[0m\u001b[1;33m]\u001b[0m                       \u001b[1;31m# Indexing dict does not do inheritance\u001b[0m\u001b[1;33m\u001b[0m\u001b[1;33m\u001b[0m\u001b[0m\n\u001b[0m",
      "\u001b[1;31mKeyError\u001b[0m: 'age'"
     ]
    }
   ],
   "source": [
    "x.__dict__['age']                       # Indexing dict does not do inheritance"
   ]
  },
  {
   "cell_type": "markdown",
   "metadata": {},
   "source": [
    "To facilitate inheritance search on attribute fetches, each instance has a link to its class\n",
    "that Python creates for us—it’s called `__class__`, if you want to inspect it:"
   ]
  },
  {
   "cell_type": "code",
   "execution_count": 14,
   "metadata": {},
   "outputs": [
    {
     "data": {
      "text/plain": [
       "__main__.rec"
      ]
     },
     "execution_count": 14,
     "metadata": {},
     "output_type": "execute_result"
    }
   ],
   "source": [
    "x.__class__                             # Instance to class link"
   ]
  },
  {
   "cell_type": "markdown",
   "metadata": {},
   "source": [
    "Classes also have a `__bases__` attribute, which is a tuple of references to their superclass\n",
    "objects—in this example just the implied object root class in Python 3.X we’ll explore\n",
    "later (you’ll get an empty tuple in 2.X instead):"
   ]
  },
  {
   "cell_type": "code",
   "execution_count": 15,
   "metadata": {},
   "outputs": [
    {
     "data": {
      "text/plain": [
       "(object,)"
      ]
     },
     "execution_count": 15,
     "metadata": {},
     "output_type": "execute_result"
    }
   ],
   "source": [
    "rec.__bases__                           # Class to superclasses link, () in 2.X"
   ]
  },
  {
   "cell_type": "markdown",
   "metadata": {},
   "source": [
    "These two attributes are how class trees are literally represented in memory by Python.\n",
    "Internal details like these are not required knowledge—class trees are implied by the\n",
    "code you run, and their search is normally automatic—but they can often help demystify \n",
    "the model.\n",
    "\n",
    "The main point to take away from this look under the hood is that Python’s class model\n",
    "is extremely dynamic. Classes and instances are just namespace objects, with attributes\n",
    "created on the fly by assignment. Those assignments usually happen within the `class`\n",
    "statements you code, but they can occur anywhere you have a reference to one of the\n",
    "objects in the tree.\n",
    "\n",
    "Even *methods*, normally created by a `def` nested in a `class`, can be created completely\n",
    "independently of any class object. The following, for example, defines a simple function\n",
    "outside of any class that takes one argument:"
   ]
  },
  {
   "cell_type": "code",
   "execution_count": 17,
   "metadata": {},
   "outputs": [],
   "source": [
    "def uppername(obj):\n",
    "    return obj.name.upper()             # Still needs a self argument (obj)"
   ]
  },
  {
   "cell_type": "markdown",
   "metadata": {},
   "source": [
    "There is nothing about a class here yet—it’s a simple function, and it can be called as\n",
    "such at this point, provided we pass in an object `obj` with a `name` attribute, whose value\n",
    "in turn has an `upper` method—our class instances happen to fit the expected interface,\n",
    "and kick off string uppercase conversion:"
   ]
  },
  {
   "cell_type": "code",
   "execution_count": 18,
   "metadata": {},
   "outputs": [
    {
     "data": {
      "text/plain": [
       "'SUE'"
      ]
     },
     "execution_count": 18,
     "metadata": {},
     "output_type": "execute_result"
    }
   ],
   "source": [
    "uppername(x)                            # Call as a simple function"
   ]
  },
  {
   "cell_type": "markdown",
   "metadata": {},
   "source": [
    "If we assign this simple function to an attribute of our class, though, it becomes a\n",
    "***method***, callable through any instance, as well as through the class name itself as long\n",
    "as we pass in an instance manually—a technique we’ll leverage further in the next\n",
    "section:"
   ]
  },
  {
   "cell_type": "code",
   "execution_count": 21,
   "metadata": {},
   "outputs": [],
   "source": [
    "rec.method = uppername                  # Now it's a class's method!"
   ]
  },
  {
   "cell_type": "code",
   "execution_count": 22,
   "metadata": {},
   "outputs": [
    {
     "data": {
      "text/plain": [
       "'SUE'"
      ]
     },
     "execution_count": 22,
     "metadata": {},
     "output_type": "execute_result"
    }
   ],
   "source": [
    "x.method()                              # Run method to process x"
   ]
  },
  {
   "cell_type": "code",
   "execution_count": 23,
   "metadata": {},
   "outputs": [
    {
     "data": {
      "text/plain": [
       "'BOB'"
      ]
     },
     "execution_count": 23,
     "metadata": {},
     "output_type": "execute_result"
    }
   ],
   "source": [
    "y.method()                              # Same, but pass y to self"
   ]
  },
  {
   "cell_type": "code",
   "execution_count": 24,
   "metadata": {},
   "outputs": [
    {
     "data": {
      "text/plain": [
       "'SUE'"
      ]
     },
     "execution_count": 24,
     "metadata": {},
     "output_type": "execute_result"
    }
   ],
   "source": [
    "rec.method(x)                           # Can call through instance or class"
   ]
  },
  {
   "cell_type": "markdown",
   "metadata": {},
   "source": [
    "Normally, classes are filled out by `class` statements, and instance attributes are created\n",
    "by assignments to `self` attributes in method functions. The point again, though, is that\n",
    "they don’t have to be; OOP in Python really is mostly about looking up attributes in\n",
    "linked namespace objects."
   ]
  },
  {
   "cell_type": "markdown",
   "metadata": {},
   "source": [
    "### Records Revisited: Classes Versus Dictionaries\n",
    "\n",
    "Although the simple classes of the prior section are meant to illustrate class model\n",
    "basics, the techniques they employ can also be used for real work. For example, [Chapter 8]() \n",
    "and [Chapter 9]() showed how to use dictionaries, tuples, and lists to record properties\n",
    "of entities in our programs, generically called *records*. It turns out that classes can often\n",
    "serve better in this role—they package information like dictionaries, but can also bundle \n",
    "processing logic in the form of methods. For reference, here is an example for tuple- and dictionary-based records we used earlier in this notebook (using one of many dictionary\n",
    "coding techniques):"
   ]
  },
  {
   "cell_type": "code",
   "execution_count": 25,
   "metadata": {},
   "outputs": [
    {
     "name": "stdout",
     "output_type": "stream",
     "text": [
      "Bob\n"
     ]
    }
   ],
   "source": [
    "rec = ('Bob', 40.5, ['dev', 'mgr'])         # Tuple-based record\n",
    "print(rec[0])"
   ]
  },
  {
   "cell_type": "code",
   "execution_count": 26,
   "metadata": {},
   "outputs": [
    {
     "name": "stdout",
     "output_type": "stream",
     "text": [
      "Bob\n"
     ]
    }
   ],
   "source": [
    "rec = {}\n",
    "rec['name'] = 'Bob'                         # Dictionary-based record\n",
    "rec['age'] = 40.5                           # Or {...}, dict(n=v), etc.\n",
    "rec['jobs'] = ['dev', 'mgr']\n",
    "\n",
    "print(rec['name'])"
   ]
  },
  {
   "cell_type": "markdown",
   "metadata": {},
   "source": [
    "This code emulates tools like records in other languages. As we just saw, though, there\n",
    "are also multiple ways to do the same with classes. Perhaps the simplest is this—trading\n",
    "keys for attributes:"
   ]
  },
  {
   "cell_type": "code",
   "execution_count": 27,
   "metadata": {},
   "outputs": [
    {
     "name": "stdout",
     "output_type": "stream",
     "text": [
      "Bob\n"
     ]
    }
   ],
   "source": [
    "class rec: pass\n",
    "\n",
    "rec.name = 'Bob'                            # Class-based record\n",
    "rec.age = 40.5\n",
    "rec.jobs = ['dev', 'mgr']\n",
    "\n",
    "print(rec.name)"
   ]
  },
  {
   "cell_type": "markdown",
   "metadata": {},
   "source": [
    "This code has substantially less syntax than the dictionary equivalent. It uses an empty\n",
    "class statement to generate an empty namespace object. Once we make the empty\n",
    "class, we fill it out by assigning class attributes over time, as before.\n",
    "\n",
    "This works, but a new `class` statement will be required for each distinct record we will\n",
    "need. Perhaps more typically, we can instead generate *instances* of an empty class to\n",
    "represent each distinct entity:"
   ]
  },
  {
   "cell_type": "code",
   "execution_count": 28,
   "metadata": {},
   "outputs": [
    {
     "data": {
      "text/plain": [
       "('Bob', 'Sue')"
      ]
     },
     "execution_count": 28,
     "metadata": {},
     "output_type": "execute_result"
    }
   ],
   "source": [
    "class rec: pass\n",
    "\n",
    "pers1 = rec() # Instance-based records\n",
    "pers1.name = 'Bob'\n",
    "pers1.jobs = ['dev', 'mgr']\n",
    "pers1.age = 40.5\n",
    "\n",
    "pers2 = rec()\n",
    "pers2.name = 'Sue'\n",
    "pers2.jobs = ['dev', 'cto']\n",
    "\n",
    "pers1.name, pers2.name"
   ]
  },
  {
   "cell_type": "markdown",
   "metadata": {},
   "source": [
    "Here, we make two records from the same class. Instances start out life empty, just like\n",
    "classes. We then fill in the records by assigning to attributes. This time, though, there\n",
    "are two separate objects, and hence two separate `name` attributes. In fact, instances of\n",
    "the same class don’t even have to have the same set of attribute names; in this example,\n",
    "one has a unique `age` name. Instances really are distinct namespaces, so each has a\n",
    "distinct attribute dictionary. Although they are normally filled out consistently by a\n",
    "class’s methods, they are more flexible than you might expect.\n",
    "\n",
    "Finally, we might instead code a more full-blown class to implement the record *and* its\n",
    "processing—something that data-oriented dictionaries do not directly support:"
   ]
  },
  {
   "cell_type": "code",
   "execution_count": 29,
   "metadata": {},
   "outputs": [
    {
     "data": {
      "text/plain": [
       "(['dev', 'mgr'], ('Sue', ['dev', 'cto']))"
      ]
     },
     "execution_count": 29,
     "metadata": {},
     "output_type": "execute_result"
    }
   ],
   "source": [
    "class Person:\n",
    "    def __init__(self, name, jobs, age=None):   # class = data + logic\n",
    "        self.name = name\n",
    "        self.jobs = jobs\n",
    "        self.age = age\n",
    "    def info(self):\n",
    "        return (self.name, self.jobs)\n",
    "        \n",
    "rec1 = Person('Bob', ['dev', 'mgr'], 40.5)      # Construction calls\n",
    "rec2 = Person('Sue', ['dev', 'cto'])\n",
    "rec1.jobs, rec2.info()                          # Attributes + methods"
   ]
  },
  {
   "cell_type": "markdown",
   "metadata": {},
   "source": [
    "This scheme also makes multiple instances, but the class is not empty this time: we’ve\n",
    "added *logic* (methods) to initialize instances at construction time and collect \n",
    "into a tuple on request. The constructor imposes some consistency on instances here\n",
    "by always setting the `name`, `job`, and `age` attributes, even though the latter can be omitted\n",
    "when an object is made. Together, the class’s methods and instance attributes create a\n",
    "`package`, which combines both *data* and *logic*.\n",
    "\n",
    "We could further extend this code by adding logic to compute salaries, parse names,\n",
    "and so on. Ultimately, we might link the class into a larger hierarchy to inherit and\n",
    "customize an existing set of methods via the automatic attribute search of classes, or\n",
    "perhaps even store instances of the class in a file with Python object pickling to make\n",
    "them persistent. In fact, we *will*—in the next section, we’ll expand on this analogy\n",
    "between classes and records with a more realistic running example that demonstrates\n",
    "class basics in action.\n",
    "\n",
    "To be fair to other tools, in this form, the two class construction calls above more closely\n",
    "resemble dictionaries made all at once, but still seem less cluttered and provide extra\n",
    "processing methods. In fact, the class’s construction calls more closely resemble \n",
    "[Chapter 9]()’s *named tuples*—which makes sense, given that named tuples really *are* classes\n",
    "with extra logic to map attributes to tuple offsets:"
   ]
  },
  {
   "cell_type": "code",
   "execution_count": 16,
   "metadata": {},
   "outputs": [],
   "source": [
    "from collections import namedtuple\n",
    "\n",
    "Rec = namedtuple('Record', 'name age jobs')"
   ]
  },
  {
   "cell_type": "code",
   "execution_count": 17,
   "metadata": {},
   "outputs": [],
   "source": [
    "record = dict(name='Bob', age=40.5, jobs=['dev', 'mgr'])       # Dictionaries\n",
    "record = {'name': 'Bob', 'age': 40.5, 'jobs': ['dev', 'mgr']}\n",
    "record = Rec('Bob', 40.5, ['dev', 'mgr'])                      # Named tuples"
   ]
  },
  {
   "cell_type": "code",
   "execution_count": 19,
   "metadata": {},
   "outputs": [
    {
     "data": {
      "text/plain": [
       "(Record(name='Bob', age=40.5, jobs=['dev', 'mgr']),\n",
       " 'Bob',\n",
       " 40.5,\n",
       " ['dev', 'mgr'])"
      ]
     },
     "execution_count": 19,
     "metadata": {},
     "output_type": "execute_result"
    }
   ],
   "source": [
    "record, record.name, record.age, record.jobs"
   ]
  },
  {
   "cell_type": "markdown",
   "metadata": {},
   "source": [
    "In the end, although types like dictionaries and tuples are flexible, classes allow us to\n",
    "add behavior to objects in ways that built-in types and simple functions do not directly\n",
    "support. Although we can store functions in dictionaries, too, using them to process\n",
    "implied instances is nowhere near as natural and structured as it is in classes. To see\n",
    "this more clearly, let’s move ahead to the next section."
   ]
  },
  {
   "cell_type": "markdown",
   "metadata": {},
   "source": [
    "## Summary\n",
    "\n",
    "This section introduced the basics of coding classes in Python. We studied the syntax\n",
    "of the `class` statement, and we saw how to use it to build up a class inheritance tree.\n",
    "We also studied how Python automatically fills in the first argument in method functions, \n",
    "how attributes are attached to objects in a class tree by simple assignment, and\n",
    "how specially named operator overloading methods intercept and implement built-in\n",
    "operations for our instances (e.g., expressions and printing).\n",
    "\n",
    "Now that we’ve learned all about the mechanics of coding classes in Python, the next\n",
    "section turns to a larger and more realistic example that ties together much of what\n",
    "we’ve learned about OOP so far, and introduces some new topics. After that, we’ll\n",
    "continue our look at class coding, taking a second pass over the model to fill in some\n",
    "of the details that were omitted here to keep things simple. First, though, let’s work\n",
    "through a quiz to review the basics we’ve covered so far."
   ]
  },
  {
   "cell_type": "markdown",
   "metadata": {},
   "source": [
    "## Test Your Knowledge\n",
    "\n",
    "\n",
    "### Quiz\n",
    "\n",
    "\n",
    "1. How are classes related to modules?\n",
    "\n",
    "2. How are instances and classes created?\n",
    "\n",
    "3. Where and how are class attributes created?\n",
    "\n",
    "4. Where and how are instance attributes created?\n",
    "\n",
    "5. What does ``self`` mean in a Python class?\n",
    "\n",
    "6. How is operator overloading coded in a Python class?\n",
    "\n",
    "7. When might you want to support operator overloading in your classes?\n",
    "\n",
    "8. Which operator overloading method is most commonly used?\n",
    "\n",
    "9. What are two key concepts required to understand Python OOP code?\n",
    "\n",
    "\n",
    "\n",
    "### Answers\n",
    "\n",
    "\n",
    "1. Classes are always nested inside a module; they are attributes of a module object.\n",
    "Classes and modules are both namespaces, but classes correspond to statements\n",
    "(not entire files) and support the OOP notions of multiple instances, inheritance,\n",
    "and operator overloading (modules do not). In a sense, a module is like a single-instance \n",
    "class, without inheritance, which corresponds to an entire file of code.\n",
    "\n",
    "2. Classes are made by running `class` statements; instances are created by calling a\n",
    "class as though it were a function.\n",
    "\n",
    "3. Class attributes are created by assigning attributes to a class object. They are normally generated by top-level assignments nested in a `class` statement—each name\n",
    "assigned in the `class` statement block becomes an attribute of the class object\n",
    "(technically, the `class` statement’s local scope morphs into the class object’s attribute namespace, much like a module). Class attributes can also be created,\n",
    "though, by assigning attributes to the class anywhere a reference to the class object\n",
    "exists—even outside the `class` statement.\n",
    "\n",
    "4. Instance attributes are created by assigning attributes to an instance object. They\n",
    "are normally created within a class’s method functions coded inside the class\n",
    "statement, by assigning attributes to the `self` argument (which is always the implied instance). Again, though, they may be created by assignment anywhere a\n",
    "reference to the instance appears, even outside the `class` statement. Normally, all\n",
    "instance attributes are initialized in the ``__init__`` constructor method; that way,\n",
    "later method calls can assume the attributes already exist.\n",
    "\n",
    "5. `self` is the name commonly given to the first (leftmost) argument in a class’s\n",
    "method function; Python automatically fills it in with the instance object that is\n",
    "the implied subject of the method call. This argument need not be called `self`\n",
    "(though this is a very strong convention); its position is what is significant. \n",
    "(Ex-C++ or Java programmers might prefer to call it this because in those languages\n",
    "that name reflects the same idea; in Python, though, this argument must always be\n",
    "explicit.)\n",
    "\n",
    "6. Operator overloading is coded in a Python class with specially named methods;\n",
    "they all begin and end with double underscores to make them unique. These are\n",
    "not built-in or reserved names; Python just runs them automatically when an \n",
    "instance appears in the corresponding operation. Python itself defines the mappings\n",
    "from operations to special method names.\n",
    "\n",
    "7. Operator overloading is useful to implement objects that resemble built-in types\n",
    "(e.g., sequences or numeric objects such as matrixes), and to mimic the built-in\n",
    "type interface expected by a piece of code. Mimicking built-in type interfaces enables \n",
    "you to pass in class instances that also have state information (i.e., attributes\n",
    "that remember data between operation calls). You shouldn’t use operator overloading \n",
    "when a simple named method will suffice, though.\n",
    "\n",
    "8. The `__init__` constructor method is the most commonly used; almost every class\n",
    "uses this method to set initial values for instance attributes and perform other\n",
    "startup tasks.\n",
    "\n",
    "9. The special `self` argument in method functions and the `__init__` constructor\n",
    "method are the two cornerstones of OOP code in Python; if you get these, you\n",
    "should be able to read the text of most OOP Python code—apart from these, it’s\n",
    "largely just packages of functions. The inheritance search matters too, of course,\n",
    "but `self` represents the automatic object argument, and `__init__` is widespread."
   ]
  }
 ],
 "metadata": {
  "interpreter": {
   "hash": "c97461ed06fc3eed5ba645d4221719a96ff8e1e800c131564c8e628fd4e8725a"
  },
  "kernelspec": {
   "display_name": "Python 3.8.8 ('base')",
   "language": "python",
   "name": "python3"
  },
  "language_info": {
   "codemirror_mode": {
    "name": "ipython",
    "version": 3
   },
   "file_extension": ".py",
   "mimetype": "text/x-python",
   "name": "python",
   "nbconvert_exporter": "python",
   "pygments_lexer": "ipython3",
   "version": "3.8.8"
  },
  "orig_nbformat": 4
 },
 "nbformat": 4,
 "nbformat_minor": 2
}
