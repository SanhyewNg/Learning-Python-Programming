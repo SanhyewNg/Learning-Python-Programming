{
 "cells": [
  {
   "cell_type": "markdown",
   "metadata": {},
   "source": [
    "# The `super` Built-in Function: For Better or Worse?\n",
    "\n",
    "\n",
    "So far, I’ve mentioned Python’s `super` built-in function only briefly in passing because\n",
    "it is relatively uncommon and may even be controversial to use. Given this call’s increased \n",
    "visibility in recent years, though, it merits some further elaboration in this\n",
    "edition. Besides introducing `super`, this section also serves as a language design case\n",
    "study to close out a chapter on so many tools whose presence may to some seem curious\n",
    "in a scripting language like Python.\n",
    "\n",
    "Some of this section calls this proliferation of tools into question, and I encourage you\n",
    "to judge any subjective content here for yourself (and we’ll return to such things at the\n",
    "end of this book after we’ve expanded on other advanced tools such as metaclasses and\n",
    "descriptors). Still, Python’s rapid growth rate in recent years represents a strategic \n",
    "decision point for its community going forward, and `super` seems as good a representative\n",
    "example as any."
   ]
  },
  {
   "cell_type": "markdown",
   "metadata": {},
   "source": [
    "## The Great `super` Debate\n",
    "\n",
    "\n",
    "As noted in [Chapter 28]() and [Chapter 29](), Python has a `super` built-in function that can\n",
    "be used to invoke superclass methods generically, but was deferred until this point of\n",
    "the book. This was deliberate—because `super` has substantial downsides in typical\n",
    "code, and a sole use case that seems obscure and complex to many observers, most\n",
    "beginners are better served by the traditional explicit-name call scheme used so far. See\n",
    "[the sidebar “What About `super`?” on page 831]() in [Chapter 28]() for a brief summary of\n",
    "the rationale for this policy.\n",
    "\n",
    "The Python community itself seems split on this subject, with online articles about it\n",
    "running the gamut from “Python’s Super Considered Harmful” to “Python’s `super()`\n",
    "considered super!”  Frankly, in my live classes this call seems to be most often of interest\n",
    "to Java programmers starting to use Python anew, because of its conceptual similarity\n",
    "to a tool in that language (many a new Python feature ultimately owes its existence to\n",
    "programmers of other languages bringing their old habits to a new model). Python’s\n",
    "`super` is not Java’s—it translates differently to Python’s multiple inheritance, and has\n",
    "a use case beyond Java’s—but it has managed to generate both controversy and misunderstanding \n",
    "since its conception.\n",
    "\n",
    "This book postponed the `super` call until now (and omitted it almost entirely in prior\n",
    "editions) because it has significant issues—it’s prohibitively cumbersome to use in 2.X,\n",
    "differs in form between 2.X and 3.X, is based upon unusual semantics in 3.X, and mixes\n",
    "poorly with Python’s multiple inheritance and operator overloading in typical Python\n",
    "code. In fact, as we’ll see, in some code `super` can actually mask problems, and \n",
    "discourage a more explicit coding style that offers better control.\n",
    "\n",
    "In its defense, this call does have a valid use case too—cooperative same-named method\n",
    "dispatch in diamond multiple inheritance trees—but it seems to ask a lot of newcomers.\n",
    "It requires that `super` be used universally and consistently (if not neurotically), much\n",
    "like `__slots__` discussed earlier; relies on the arguably obscure MRO algorithm to order\n",
    "calls; and addresses a use case that seems far more the exception than the norm in\n",
    "Python programs. In this role, `super` seems an advanced tool based upon esoteric principles, \n",
    "which may be beyond much of Python’s audience, and seems artificial to real\n",
    "program goals. That aside, its expectation of universal use seems unrealistic for the vast\n",
    "amount of existing Python code.\n",
    "\n",
    "Because of all these factors, this introductory-level book has preferred the traditional\n",
    "explicit-name call scheme thus far and recommends the same for newcomers. You’re\n",
    "better off learning the traditional scheme first, and might be better off sticking with\n",
    "that in general, rather than using an extra special-case tool that may not work in some\n",
    "contexts, and relies on arcane magic in the valid but atypical use case it addresses. This\n",
    "is not just your author’s opinion; despite its advocate’s best intentions, `super` is not\n",
    "widely recognized as “best practice” in Python today, for completely valid reasons.\n",
    "\n",
    "On the other hand, just as for other tools the increasing use of this call in Python code\n",
    "in recent years makes it no longer optional for many Python programmers—the first\n",
    "time you see it, it’s officially mandatory! For readers who may wish to experiment with\n",
    "`super`, and for other readers who may have it imposed upon them, this section provides\n",
    "a brief look at this tool and its rationale—beginning with alternatives to it."
   ]
  },
  {
   "cell_type": "markdown",
   "metadata": {},
   "source": [
    "## Traditional Superclass Call Form: Portable, General\n",
    "\n",
    "\n",
    "In general, this book’s examples prefer to call back to superclass methods when needed\n",
    "by naming the superclass explicitly, because this technique is traditional in Python,\n",
    "because it works the same in both Python 2.X and 3.X, and because it sidesteps limitations \n",
    "and complexities related to this call in both 2.X and 3.X. As shown earlier, the\n",
    "traditional superclass method call scheme to augment a superclass method works as\n",
    "follows:\n"
   ]
  },
  {
   "cell_type": "code",
   "execution_count": null,
   "metadata": {},
   "outputs": [
    {
     "name": "stdout",
     "output_type": "stream",
     "text": [
      "spam\n",
      "eggs\n"
     ]
    }
   ],
   "source": [
    "class C:                    # In Python 2.X and 3.X\n",
    "    def act(self):\n",
    "        print('spam')\n",
    "\n",
    "class D(C):\n",
    "    def act(self):\n",
    "        C.act(self)         # Name superclass explicitly, pass self\n",
    "        print('eggs')\n",
    "\n",
    "X = D()\n",
    "X.act()"
   ]
  },
  {
   "cell_type": "markdown",
   "metadata": {},
   "source": [
    "This form works the same in 2.X and 3.X, follows Python’s normal method call mapping model, \n",
    "applies to all inheritance tree forms, and does not lead to confusing behavior \n",
    "when operator overloading is used. To see why these distinctions matter, let’s\n",
    "see how `super` compares."
   ]
  },
  {
   "cell_type": "markdown",
   "metadata": {},
   "source": [
    "## Basic `super` Usage and Its Tradeoffs\n",
    "\n",
    "\n",
    "In this section, we’ll both introduce `super` in basic, *single-inheritance mode*, and look\n",
    "at its perceived downsides in this role. As we’ll find, in this context `super` does work as\n",
    "advertised, but is not much different from traditional calls, relies on unusual semantics,\n",
    "and is cumbersome to deploy in 2.X. More critically, as soon as your classes grow to\n",
    "use multiple inheritance, this super usage mode can both mask problems in your code\n",
    "and route calls in ways you may not expect."
   ]
  },
  {
   "cell_type": "markdown",
   "metadata": {},
   "source": [
    "### Odd semantics: A magic proxy in Python 3.X\n",
    "\n",
    "\n",
    "The `super` built-in actually has two intended roles. The more esoteric of these—\n",
    "cooperative multiple inheritance dispatch protocols in diamond multiple-inheritance trees\n",
    "(yes, a mouthful!)—relies on the 3.X MRO, was borrowed from the Dylan language,\n",
    "and will be covered later in this section.\n",
    "\n",
    "The role we’re interested in here is more commonly used, and more frequently requested \n",
    "by people with Java backgrounds—to allow superclasses to be named *generically*\n",
    "in inheritance trees. This is intended to promote simpler code maintenance, and to\n",
    "avoid having to type long superclass reference paths in calls. In Python 3.X, this call\n",
    "seems at least at first glance to achieve this purpose well:"
   ]
  },
  {
   "cell_type": "code",
   "execution_count": null,
   "metadata": {},
   "outputs": [
    {
     "name": "stdout",
     "output_type": "stream",
     "text": [
      "spam\n",
      "eggs\n"
     ]
    }
   ],
   "source": [
    "class C:  # In Python 3.X (only: see 2.X super form ahead)\n",
    "    def act(self):\n",
    "        print('spam')\n",
    "\n",
    "class D(C):\n",
    "    def act(self):\n",
    "        super().act() # Reference superclass generically, omit self\n",
    "        print('eggs')\n",
    "\n",
    "X = D()\n",
    "X.act()"
   ]
  },
  {
   "cell_type": "markdown",
   "metadata": {},
   "source": [
    "This works, and minimizes code changes—you don’t need to update the call if `D`’s\n",
    "superclass changes in the future. One of the biggest downsides of this call in 3.X,\n",
    "though, is its *reliance on deep magic*: though prone to change, it operates today by\n",
    "inspecting the call stack in order to automatically locate the `self` argument and find\n",
    "the superclass, and pairs the two in a special *proxy object* that routes the later call to\n",
    "the superclass version of the method. If that sounds complicated and strange, it’s because \n",
    "it is. In fact, this call form doesn’t work at all outside the context of a class’s\n",
    "method:"
   ]
  },
  {
   "cell_type": "code",
   "execution_count": null,
   "metadata": {},
   "outputs": [
    {
     "data": {
      "text/plain": [
       "super"
      ]
     },
     "metadata": {},
     "output_type": "display_data"
    }
   ],
   "source": [
    "super               # A \"magic\" proxy object that routes later calls"
   ]
  },
  {
   "cell_type": "code",
   "execution_count": null,
   "metadata": {},
   "outputs": [
    {
     "ename": "RuntimeError",
     "evalue": "super(): no arguments",
     "output_type": "error",
     "traceback": [
      "\u001b[1;31m---------------------------------------------------------------------------\u001b[0m\n",
      "\u001b[1;31mRuntimeError\u001b[0m                              Traceback (most recent call last)\n",
      "\u001b[1;32m<ipython-input-4-8529f4313189>\u001b[0m in \u001b[0;36m<module>\u001b[1;34m\u001b[0m\n",
      "\u001b[1;32m----> 1\u001b[1;33m \u001b[0msuper\u001b[0m\u001b[1;33m(\u001b[0m\u001b[1;33m)\u001b[0m\u001b[1;33m\u001b[0m\u001b[1;33m\u001b[0m\u001b[0m\n",
      "\u001b[0m\n",
      "\u001b[1;31mRuntimeError\u001b[0m: super(): no arguments"
     ]
    }
   ],
   "source": [
    "super()"
   ]
  },
  {
   "cell_type": "code",
   "execution_count": null,
   "metadata": {},
   "outputs": [
    {
     "name": "stdout",
     "output_type": "stream",
     "text": [
      "<super: <class 'E'>, <E object>>\n",
      "spam\n"
     ]
    }
   ],
   "source": [
    "class E(C):\n",
    "    def method(self):           # self is implicit in super...only!\n",
    "        proxy = super()         # This form has no meaning outside a method\n",
    "        print(proxy)            # Show the normally hidden proxy object\n",
    "        proxy.act()             # No arguments: implicitly calls superclass method!\n",
    "\n",
    "E().method()"
   ]
  },
  {
   "cell_type": "markdown",
   "metadata": {},
   "source": [
    "Really, this call’s semantics resembles nothing else in Python—it’s neither a bound nor\n",
    "unbound method, and somehow finds a `self` even though you omit one in the call. In\n",
    "single inheritance trees, a superclass is available from `self` via the path\n",
    "`self.__class__.__bases__[0]`, but the heavily implicit nature of this call makes this\n",
    "difficult to see, and even flies in the face of Python’s explicit `self` policy that holds true\n",
    "*everywhere else*. That is, this call violates a fundamental Python idiom for a single use\n",
    "case. It also soundly contradicts Python’s longstanding EIBTI design rule (run an \n",
    "“import this” for more on this rule)."
   ]
  },
  {
   "cell_type": "markdown",
   "metadata": {},
   "source": [
    "### Pitfall: Adding multiple inheritance naively\n",
    "\n",
    "\n",
    "Besides its unusual semantics, even in 3.X this `super` role applies most directly to single\n",
    "inheritance trees, and can become problematic as soon as classes employ multiple inheritance \n",
    "with traditionally coded classes. This seems a major limitation of scope; due\n",
    "to the utility of *mix-in* classes in Python, multiple inheritance from disjoint and \n",
    "independent superclasses is probably more the norm than the exception in realistic code.\n",
    "The `super` call seems a recipe for disaster in classes coded to naively use its basic mode,\n",
    "without allowing for its much more subtle implications in multiple inheritance trees.\n",
    "\n",
    "The following illustrates the trap. This code begins its life happily deploying `super` in\n",
    "single-inheritance mode to invoke a method one level up from C:"
   ]
  },
  {
   "cell_type": "code",
   "execution_count": null,
   "metadata": {},
   "outputs": [
    {
     "name": "stdout",
     "output_type": "stream",
     "text": [
      "A\n"
     ]
    }
   ],
   "source": [
    "class A:                        # In Python 3.X\n",
    "    def act(self): print('A')\n",
    "\n",
    "class B:\n",
    "    def act(self): print('B')\n",
    "\n",
    "class C(A):\n",
    "    def act(self):\n",
    "        super().act()           # super applied to a single-inheritance tree\n",
    "\n",
    "X = C()\n",
    "X.act()"
   ]
  },
  {
   "cell_type": "markdown",
   "metadata": {},
   "source": [
    "If such classes later grow to use more than one superclass, though, `super` can become\n",
    "error-prone, and even unusable—it does not raise an exception for multiple inheritance\n",
    "trees, but will naively pick just the *leftmost* superclass having the method being run\n",
    "(technically, the first per the MRO), which may or may not be the one that you want:"
   ]
  },
  {
   "cell_type": "code",
   "execution_count": null,
   "metadata": {},
   "outputs": [
    {
     "name": "stdout",
     "output_type": "stream",
     "text": [
      "A\n"
     ]
    }
   ],
   "source": [
    "class C(A, B):              # Add a B mix-in class with the same method\n",
    "    def act(self):\n",
    "        super().act()       # Doesn't fail on multi-inher, but picks just one!\n",
    "\n",
    "X = C()\n",
    "X.act()"
   ]
  },
  {
   "cell_type": "code",
   "execution_count": null,
   "metadata": {},
   "outputs": [
    {
     "name": "stdout",
     "output_type": "stream",
     "text": [
      "B\n"
     ]
    }
   ],
   "source": [
    "class C(B, A):\n",
    "    def act(self):\n",
    "        super().act()       # If B is listed first, A.act() is no longer run!\n",
    "\n",
    "X = C()\n",
    "X.act()"
   ]
  },
  {
   "cell_type": "markdown",
   "metadata": {},
   "source": [
    "Perhaps worse, this *silently masks* the fact that you should probably be selecting \n",
    "superclasses *explicitly* in this case, as we learned earlier in both [this chapter]() and [its predecessor](). In other words, `super` usage may obscure a common source of errors in Python\n",
    "—one so common that it shows up again in [this part’s “Gotchas.”]() If you may need to\n",
    "use direct calls later, why not use them earlier too?"
   ]
  },
  {
   "cell_type": "code",
   "execution_count": null,
   "metadata": {},
   "outputs": [
    {
     "name": "stdout",
     "output_type": "stream",
     "text": [
      "A\n",
      "B\n"
     ]
    }
   ],
   "source": [
    "class C(A, B):              # Traditional form\n",
    "    def act(self):          # You probably need to be more explicit here\n",
    "        A.act(self)         # This form handles both single and multiple inher\n",
    "        B.act(self)         # And works the same in both Python 3.X and 2.X\n",
    "\n",
    "X = C()                     # So why use the super() special case at all?\n",
    "X.act()"
   ]
  },
  {
   "cell_type": "markdown",
   "metadata": {},
   "source": [
    "As we’ll see in a few moments, you might also be able to address such cases by deploying\n",
    "`super` calls in every class of the tree. But that’s also one of the biggest downsides of\n",
    "`super`—why code it in every class, when it’s usually not needed, and when using the\n",
    "preceding simpler traditional form in a single class will usually suffice? Especially in\n",
    "existing code—and new code that uses existing code—this `super` requirement seems\n",
    "harsh, if not unrealistic.\n",
    "\n",
    "Much more subtly, as we’ll also see ahead, once you step up to multiple inheritance\n",
    "calls this way, the `super` calls in your code might not invoke the class you expect them\n",
    "to. They’ll be routed per the MRO order, which, depending on where else `super` might\n",
    "be used, may invoke a method in a class that is *not the caller’s superclass at all*—an\n",
    "implicit ordering that might make for interesting debugging sessions! Unless you \n",
    "completely understand what `super` means once multiple inheritance is introduced, you may\n",
    "be better off not deploying it in single-inheritance mode either.\n",
    "\n",
    "This coding situation isn’t nearly as abstract as it may seem. Here’s a real-world example\n",
    "of such a case, taken from the *PyMailGUI* case study in [Programming Python]()—the\n",
    "following very typical Python classes use multiple inheritance to mix in both application\n",
    "logic and window tools from independent, standalone classes, and hence must invoke\n",
    "*both* superclass constructors explicitly with direct calls by name. As coded, a\n",
    "`super().__init__()` here would run only one constructor, and adding `super` throughout\n",
    "this example’s disjoint class trees would be more work, would be no simpler, and\n",
    "wouldn’t make sense in tools meant for arbitrary deployment in clients that may use\n",
    "`super` or not:\n",
    "\n",
    "```python\n",
    "    class PyMailServerWindow(PyMailServer, windows.MainWindow):\n",
    "        \"a Tk, with extra protocol and mixed-in methods\"\n",
    "        def __init__(self):\n",
    "            windows.MainWindow.__init__(self, appname, srvrname)\n",
    "            PyMailServer.__init__(self)\n",
    "\n",
    "    class PyMailFileWindow(PyMailFile, windows.PopupWindow):\n",
    "        \"a Toplevel, with extra protocol and mixed-in methods\"\n",
    "        def __init__(self, filename):\n",
    "            windows.PopupWindow.__init__(self, appname, filename)\n",
    "            PyMailFile.__init__(self, filename)\n",
    "```\n",
    "\n",
    "The crucial point here is that using `super` for just the single inheritance cases \n",
    "where it applies most clearly is a potential source of error and confusion, and means that programmers must remember two ways to accomplish the same goal, when just one—\n",
    "explicit direct calls—could suffice for all cases.\n",
    "\n",
    "In other words, unless you can be sure that you will never add a second superclass to\n",
    "a class in a tree over your software’s entire lifespan, you cannot use `super` in \n",
    "single-inheritance mode without understanding and allowing for its much more sophisticated\n",
    "role in multiple-inheritance trees. We’ll discuss the latter ahead, but it’s not optional\n",
    "if you deploy `super` at all.\n",
    "\n",
    "From a more practical view, it’s also not clear that the trivial amount of *code maintenance* that this `super` role is envisioned to avoid fully justifies its presence. In Python\n",
    "practice, superclass names in headers are rarely changed; when they are, there are usually \n",
    "at most a very small number of superclass calls to update within the class. And\n",
    "consider this: if you add a new superclass in the future that doesn’t use `super` (as in the\n",
    "preceding example), you’ll have to either wrap it in an adaptor proxy or augment all\n",
    "the `super` calls in your class to use the traditional explicit-name call scheme anyhow—\n",
    "a maintenance task that seems just as likely, but perhaps more error-prone if you’ve\n",
    "grown to rely on `super` magic."
   ]
  },
  {
   "cell_type": "markdown",
   "metadata": {},
   "source": [
    "### Limitation: Operator overloading\n",
    "\n",
    "\n",
    "As briefly noted in Python’s library manual, `super` also doesn’t fully work in the \n",
    "presence of `__X__` operator overloading methods. If you study the following code, you’ll see\n",
    "that direct named calls to overload methods in the superclass operate normally, but\n",
    "using the `super` result in an expression fails to dispatch to the superclass’s overload\n",
    "method:"
   ]
  },
  {
   "cell_type": "code",
   "execution_count": null,
   "metadata": {},
   "outputs": [
    {
     "name": "stdout",
     "output_type": "stream",
     "text": [
      "C index\n"
     ]
    }
   ],
   "source": [
    "class C:                            # In Python 3.X\n",
    "    def __getitem__(self, ix):      # Indexing overload method\n",
    "        print('C index')\n",
    "\n",
    "class D(C):\n",
    "    def __getitem__(self, ix):      # Redefine to extend here\n",
    "        print('D index')\n",
    "        C.__getitem__(self, ix)     # Traditional call form works\n",
    "        super().__getitem__(ix)     # Direct name calls work too\n",
    "        super()[ix]                 # But operators do not! (__getattribute__)\n",
    "\n",
    "X = C()\n",
    "X[99]"
   ]
  },
  {
   "cell_type": "code",
   "execution_count": null,
   "metadata": {},
   "outputs": [
    {
     "name": "stdout",
     "output_type": "stream",
     "text": [
      "D index\n",
      "C index\n",
      "C index\n"
     ]
    },
    {
     "ename": "TypeError",
     "evalue": "'super' object is not subscriptable",
     "output_type": "error",
     "traceback": [
      "\u001b[1;31m---------------------------------------------------------------------------\u001b[0m\n",
      "\u001b[1;31mTypeError\u001b[0m                                 Traceback (most recent call last)\n",
      "\u001b[1;32m<ipython-input-12-e1d592134d67>\u001b[0m in \u001b[0;36m<module>\u001b[1;34m\u001b[0m\n",
      "\u001b[0;32m      1\u001b[0m \u001b[0mX\u001b[0m \u001b[1;33m=\u001b[0m \u001b[0mD\u001b[0m\u001b[1;33m(\u001b[0m\u001b[1;33m)\u001b[0m\u001b[1;33m\u001b[0m\u001b[1;33m\u001b[0m\u001b[0m\n",
      "\u001b[1;32m----> 2\u001b[1;33m \u001b[0mX\u001b[0m\u001b[1;33m[\u001b[0m\u001b[1;36m99\u001b[0m\u001b[1;33m]\u001b[0m\u001b[1;33m\u001b[0m\u001b[1;33m\u001b[0m\u001b[0m\n",
      "\u001b[0m\n",
      "\u001b[1;32m<ipython-input-11-65dc710372a0>\u001b[0m in \u001b[0;36m__getitem__\u001b[1;34m(self, ix)\u001b[0m\n",
      "\u001b[0;32m      8\u001b[0m         \u001b[0mC\u001b[0m\u001b[1;33m.\u001b[0m\u001b[0m__getitem__\u001b[0m\u001b[1;33m(\u001b[0m\u001b[0mself\u001b[0m\u001b[1;33m,\u001b[0m \u001b[0mix\u001b[0m\u001b[1;33m)\u001b[0m     \u001b[1;31m# Traditional call form works\u001b[0m\u001b[1;33m\u001b[0m\u001b[1;33m\u001b[0m\u001b[0m\n",
      "\u001b[0;32m      9\u001b[0m         \u001b[0msuper\u001b[0m\u001b[1;33m(\u001b[0m\u001b[1;33m)\u001b[0m\u001b[1;33m.\u001b[0m\u001b[0m__getitem__\u001b[0m\u001b[1;33m(\u001b[0m\u001b[0mix\u001b[0m\u001b[1;33m)\u001b[0m     \u001b[1;31m# Direct name calls work too\u001b[0m\u001b[1;33m\u001b[0m\u001b[1;33m\u001b[0m\u001b[0m\n",
      "\u001b[1;32m---> 10\u001b[1;33m         \u001b[0msuper\u001b[0m\u001b[1;33m(\u001b[0m\u001b[1;33m)\u001b[0m\u001b[1;33m[\u001b[0m\u001b[0mix\u001b[0m\u001b[1;33m]\u001b[0m                 \u001b[1;31m# But operators do not! (__getattribute__)\u001b[0m\u001b[1;33m\u001b[0m\u001b[1;33m\u001b[0m\u001b[0m\n",
      "\u001b[0m\u001b[0;32m     11\u001b[0m \u001b[1;33m\u001b[0m\u001b[0m\n",
      "\u001b[0;32m     12\u001b[0m \u001b[0mX\u001b[0m \u001b[1;33m=\u001b[0m \u001b[0mC\u001b[0m\u001b[1;33m(\u001b[0m\u001b[1;33m)\u001b[0m\u001b[1;33m\u001b[0m\u001b[1;33m\u001b[0m\u001b[0m\n",
      "\n",
      "\u001b[1;31mTypeError\u001b[0m: 'super' object is not subscriptable"
     ]
    }
   ],
   "source": [
    "X = D()\n",
    "X[99]"
   ]
  },
  {
   "cell_type": "markdown",
   "metadata": {},
   "source": [
    "This behavior is due to the very same new-style (and 3.X) class change described earlier\n",
    "in [this chapter]() (see [“Attribute Fetch for Built-ins Skips Instances” on page 987]())—\n",
    "because the proxy object returned by `super` uses `__getattribute__` to catch and dispatch\n",
    "later method calls, it fails to intercept the automatic `__X__` method invocations run by\n",
    "built-in operations including expressions, as these begin their search in the class instead\n",
    "of the instance. This may seem less severe than the multiple-inheritance limitation, but\n",
    "operators should generally work the same as the equivalent method call, especially for\n",
    "a built-in like this. Not supporting this adds another exception for `super` users \n",
    "to confront and remember.\n",
    "\n",
    "Other languages’ mileage may vary, but in Python, `self` is explicit, multiple-inheritance\n",
    "mix-ins and operator overloading are common, and superclass name updates are rare.\n",
    "Because `super` adds an odd special case to the language—one with strange semantics,\n",
    "limited scope, rigid requirements, and questionable reward—most Python programmers \n",
    "may be better served by the more broadly applicable traditional call scheme. While\n",
    "`super` has some advanced applications too that we’ll study ahead, they may be too\n",
    "obscure to warrant making it a mandatory part of every Python programmer’s toolbox.\n",
    "\n",
    "So why use a technique that works in only limited contexts instead of one that works\n",
    "in many more? Though its basis is complex, the next sections attempt to rally support\n",
    "for the `super` cause."
   ]
  },
  {
   "cell_type": "markdown",
   "metadata": {},
   "source": [
    "## The `super` Upsides: Tree Changes and Dispatch\n",
    "\n",
    "\n",
    "Having just shown you the downsides of `super`, I should also confess that I’ve been\n",
    "tempted to use this call in code that would only ever run on 3.X, and which used a very\n",
    "long superclass reference path through a module package (that is, mostly for laziness,\n",
    "but coding brevity can matter too). To be fair, `super` may still be useful in some use\n",
    "cases, the chief among which merit a brief introduction here:\n",
    "\n",
    "  + *Changing class trees at runtime*: When a superclass may be changed at runtime, it’s\n",
    "    not possible to hardcode its name in a call expression, but it is possible to dispatch\n",
    "    calls via `super`.  \n",
    "    On the other hand, this case is extremely rare in Python programming, and other\n",
    "    techniques can often be used in this context as well.\n",
    "\n",
    "  + *Cooperative multiple inheritance method dispatch*: When multiple inheritance trees\n",
    "    must dispatch to the same-named method in multiple classes, `super` can provide a\n",
    "    protocol for orderly call routing.  \n",
    "    On the other hand, the class tree must rely upon the ordering of classes by the\n",
    "    MRO—a complex tool in its own right that is artificial to the problem a program\n",
    "    is meant to address—and must be coded or augmented to use super in each version\n",
    "    of the method in the tree to be effective. Such dispatch can also often be implemented \n",
    "    in other ways (e.g., via instance state).\n",
    "\n",
    "As discussed earlier, `super` can also be used to select a superclass generically as long as\n",
    "the MRO’s default makes sense, though in traditional code naming a superclass explicitly \n",
    "is often preferable, and may even be required. Moreover, even valid `super` use\n",
    "cases tend to be uncommon in many Python programs—to the point of seeming academic \n",
    "curiosity to some. The two cases just listed, however, are most often cited as\n",
    "`super` rationales, so let’s take a quick look at each."
   ]
  },
  {
   "cell_type": "markdown",
   "metadata": {},
   "source": [
    "### Runtime Class Changes and `super`\n",
    "\n",
    "\n",
    "Superclass that might be changed at runtime dynamically preclude hardcoding their\n",
    "names in a subclass’s methods, while `super` will happily look up the current superclass\n",
    "dynamically. Still, this case may be too rare in practice to warrant the super model by\n",
    "itself, and can often be implemented in other ways in the exceptional cases where it is\n",
    "needed. To illustrate, the following changes the superclass of `C` dynamically by changing\n",
    "the subclass’s `__bases__` tuple in 3.X:\n"
   ]
  },
  {
   "cell_type": "code",
   "execution_count": null,
   "metadata": {},
   "outputs": [
    {
     "name": "stdout",
     "output_type": "stream",
     "text": [
      "X.m\n"
     ]
    }
   ],
   "source": [
    "class X:\n",
    "    def m(self): print('X.m')\n",
    "\n",
    "class Y:\n",
    "    def m(self): print('Y.m')\n",
    "\n",
    "class C(X):                         # Start out inheriting from X\n",
    "    def m(self): super().m()        # Can't hardcode class name here\n",
    "\n",
    "i = C()\n",
    "i.m()"
   ]
  },
  {
   "cell_type": "code",
   "execution_count": null,
   "metadata": {},
   "outputs": [
    {
     "name": "stdout",
     "output_type": "stream",
     "text": [
      "Y.m\n"
     ]
    }
   ],
   "source": [
    "C.__bases__ = (Y,)                  # Change superclass at runtime!\n",
    "i.m()"
   ]
  },
  {
   "cell_type": "markdown",
   "metadata": {},
   "source": [
    "This works (and shares behavior-morphing goals with other deep magic, such as\n",
    "changing an instance’s `__class__`), but seems rare in the extreme. Moreover, there may\n",
    "be other ways to achieve the same effect—perhaps most simply, calling through the\n",
    "current superclass tuple’s value indirectly: special code to be sure, but only for a very\n",
    "special case (and perhaps not any more special than implicit routing by MROs):\n"
   ]
  },
  {
   "cell_type": "code",
   "execution_count": null,
   "metadata": {},
   "outputs": [
    {
     "name": "stdout",
     "output_type": "stream",
     "text": [
      "X.m\n"
     ]
    }
   ],
   "source": [
    "class C(X):\n",
    "    def m(self): C.__bases__[0].m(self)     # Special code for a special case\n",
    "\n",
    "i = C()\n",
    "i.m()"
   ]
  },
  {
   "cell_type": "code",
   "execution_count": null,
   "metadata": {},
   "outputs": [
    {
     "name": "stdout",
     "output_type": "stream",
     "text": [
      "Y.m\n"
     ]
    }
   ],
   "source": [
    "C.__bases__ = (Y,)                          # Same effect, without super()\n",
    "i.m()"
   ]
  },
  {
   "cell_type": "markdown",
   "metadata": {},
   "source": [
    "Given the preexisting alternatives, this case alone doesn’t seem to justify super, though\n",
    "in more complex trees, the next rationale—based on the tree’s MRO order instead of\n",
    "physical superclass links—may apply here as well."
   ]
  },
  {
   "cell_type": "markdown",
   "metadata": {},
   "source": [
    "### Cooperative Multiple Inheritance Method Dispatch\n",
    "\n",
    "\n",
    "The second of the use cases listed earlier is the main rationale commonly given for\n",
    "`super`, and also borrows from other programming languages (most notably, Dylan),\n",
    "where its use case may be more common than it is in typical Python code. It generally\n",
    "applies to diamond pattern multiple inheritance trees, discussed earlier in [this chapter](),\n",
    "and allows for cooperative and conformant classes to route calls to a *same-named method* \n",
    "coherently among multiple class implementations. Especially for constructors,\n",
    "which have multiple implementations normally, this can simplify call routing protocol\n",
    "when used consistently.\n",
    "\n",
    "In this mode, each `super` call selects the method from a *next class* following it in the\n",
    "MRO ordering of the class of the `self` subject of a method call. The MRO was introduced \n",
    "earlier; it’s the path Python follows for inheritance in new-style classes. Because\n",
    "the MRO’s linear ordering depends on which class `self` was made from, the order of\n",
    "method dispatch orchestrated by `super` can vary per class tree, and visits each class just\n",
    "once as long as all classes use `super` to dispatch.\n",
    "\n",
    "Since every class participates in a diamond under object in 3.X (and 2.X new-style\n",
    "classes), the applications are broader than you might expect. In fact, some of the earlier\n",
    "examples that demonstrated `super` shortcomings in multiple inheritance trees could\n",
    "use this call to achieve their dispatch goals. To do so, however, `super` must be used\n",
    "*universally* in the class tree to ensure that method call chains are passed on—a fairly\n",
    "major requirement that may be difficult to enforce in much existing and new code."
   ]
  },
  {
   "cell_type": "markdown",
   "metadata": {},
   "source": [
    "#### The basics: Cooperative `super` call in action\n",
    "\n",
    "\n",
    "Let’s take a look at what this role means in code. In this and the following sections,\n",
    "we’ll both learn how `super` works, and explore the tradeoffs it implies along the way.\n",
    "To get started, consider the following *traditionally* coded Python classes (condensed\n",
    "somewhat here as usual for space):"
   ]
  },
  {
   "cell_type": "code",
   "execution_count": null,
   "metadata": {},
   "outputs": [
    {
     "name": "stdout",
     "output_type": "stream",
     "text": [
      "B.__init__\n"
     ]
    }
   ],
   "source": [
    "class B:\n",
    "    def __init__(self): print('B.__init__')     # Disjoint class tree branches\n",
    "\n",
    "class C:\n",
    "    def __init__(self): print('C.__init__')\n",
    "\n",
    "class D(B, C): pass\n",
    "\n",
    "x = D()                                         # Runs leftmost only by default"
   ]
  },
  {
   "cell_type": "markdown",
   "metadata": {},
   "source": [
    "In this case, superclass tree branches are *disjoint* (they don’t share a common explicit\n",
    "ancestor), so subclasses that combine them must call through each superclass by name\n",
    "—a common situation in much existing Python code that `super` cannot address directly\n",
    "without code changes:"
   ]
  },
  {
   "cell_type": "code",
   "execution_count": null,
   "metadata": {},
   "outputs": [
    {
     "name": "stdout",
     "output_type": "stream",
     "text": [
      "B.__init__\n",
      "C.__init__\n"
     ]
    }
   ],
   "source": [
    "class D(B, C):\n",
    " def __init__(self):                            # Traditional form\n",
    "    B.__init__(self)                            # Invoke supers by name\n",
    "    C.__init__(self)\n",
    "\n",
    "x = D()"
   ]
  },
  {
   "cell_type": "markdown",
   "metadata": {},
   "source": [
    "In *diamond* class tree patterns, though, *explicit-name* calls may by default trigger the\n",
    "top-level class’s method more than once, though this might be subverted with additional \n",
    "protocols (e.g., status markers in the instance):"
   ]
  },
  {
   "cell_type": "code",
   "execution_count": null,
   "metadata": {},
   "outputs": [
    {
     "name": "stdout",
     "output_type": "stream",
     "text": [
      "B.__init__\n",
      "A.__init__\n"
     ]
    }
   ],
   "source": [
    "class A:\n",
    "    def __init__(self): print('A.__init__')\n",
    "\n",
    "class B(A):\n",
    "    def __init__(self): print('B.__init__'); A.__init__(self)\n",
    "\n",
    "class C(A):\n",
    "    def __init__(self): print('C.__init__'); A.__init__(self)\n",
    "\n",
    "x = B()"
   ]
  },
  {
   "cell_type": "code",
   "execution_count": null,
   "metadata": {},
   "outputs": [
    {
     "name": "stdout",
     "output_type": "stream",
     "text": [
      "C.__init__\n",
      "A.__init__\n"
     ]
    }
   ],
   "source": [
    "x = C()"
   ]
  },
  {
   "cell_type": "code",
   "execution_count": null,
   "metadata": {},
   "outputs": [
    {
     "name": "stdout",
     "output_type": "stream",
     "text": [
      "B.__init__\n",
      "A.__init__\n"
     ]
    }
   ],
   "source": [
    "class D(B, C): pass                         # Still runs leftmost only\n",
    "\n",
    "x = D()"
   ]
  },
  {
   "cell_type": "code",
   "execution_count": null,
   "metadata": {},
   "outputs": [
    {
     "name": "stdout",
     "output_type": "stream",
     "text": [
      "B.__init__\n",
      "A.__init__\n",
      "C.__init__\n",
      "A.__init__\n"
     ]
    }
   ],
   "source": [
    "class D(B, C):\n",
    "    def __init__(self):                     # Traditional form\n",
    "        B.__init__(self)                    # Invoke both supers by name\n",
    "        C.__init__(self)\n",
    "\n",
    "x = D()                                     # But this now invokes A twice!"
   ]
  },
  {
   "cell_type": "markdown",
   "metadata": {},
   "source": [
    "By contrast, if all classes use `super`, or are appropriately coerced by proxies to behave\n",
    "as if they do, the method calls are dispatched according to class order in the MRO, such\n",
    "that the top-level class’s method is run just once:"
   ]
  },
  {
   "cell_type": "code",
   "execution_count": null,
   "metadata": {},
   "outputs": [
    {
     "name": "stdout",
     "output_type": "stream",
     "text": [
      "B.__init__\n",
      "A.__init__\n"
     ]
    }
   ],
   "source": [
    "class A:\n",
    "    def __init__(self): print('A.__init__')\n",
    "\n",
    "class B(A):\n",
    "    def __init__(self): print('B.__init__'); super().__init__()\n",
    "\n",
    "class C(A):\n",
    "    def __init__(self): print('C.__init__'); super().__init__()\n",
    "\n",
    "x = B()                     # Runs B.__init__, A is next super in self's B MRO"
   ]
  },
  {
   "cell_type": "code",
   "execution_count": null,
   "metadata": {},
   "outputs": [
    {
     "name": "stdout",
     "output_type": "stream",
     "text": [
      "C.__init__\n",
      "A.__init__\n"
     ]
    }
   ],
   "source": [
    "x = C()"
   ]
  },
  {
   "cell_type": "code",
   "execution_count": null,
   "metadata": {},
   "outputs": [
    {
     "name": "stdout",
     "output_type": "stream",
     "text": [
      "B.__init__\n",
      "C.__init__\n",
      "A.__init__\n"
     ]
    }
   ],
   "source": [
    "class D(B, C): pass\n",
    "x = D()                     # Runs B.__init__, C is next super in self's D MRO!"
   ]
  },
  {
   "cell_type": "markdown",
   "metadata": {},
   "source": [
    "The real magic behind this is the linear MRO list constructed for the class of `self`—\n",
    "because each class appears just once on this list, and because `super` dispatches to the\n",
    "*next* class on this list, it ensures an orderly invocation chain that visits each class just\n",
    "once. Crucially, the *next* class following `B` in the MRO differs depending on the class\n",
    "of `self`—it’s `A` for a `B` instance, but `C` for a `D` instance, accounting for the order of \n",
    "constructors run:"
   ]
  },
  {
   "cell_type": "code",
   "execution_count": null,
   "metadata": {},
   "outputs": [
    {
     "data": {
      "text/plain": [
       "(__main__.B, __main__.A, object)"
      ]
     },
     "metadata": {},
     "output_type": "display_data"
    }
   ],
   "source": [
    "B.__mro__"
   ]
  },
  {
   "cell_type": "code",
   "execution_count": null,
   "metadata": {},
   "outputs": [
    {
     "data": {
      "text/plain": [
       "(__main__.D, __main__.B, __main__.C, __main__.A, object)"
      ]
     },
     "metadata": {},
     "output_type": "display_data"
    }
   ],
   "source": [
    "D.__mro__"
   ]
  },
  {
   "cell_type": "markdown",
   "metadata": {},
   "source": [
    "The MRO and its algorithm were presented earlier in [this chapter](). By selecting a next\n",
    "class in the MRO sequence, a `super` call in a class’s method *propagates* the call through\n",
    "the tree, so long as all classes do the same. In this mode `super` does not necessarily\n",
    "choose a superclass at all; it picks the next in the linearized MRO, which might be a\n",
    "*sibling*—or even a *lower* relative—in the class tree of a given instance. See [“Tracing the\n",
    "MRO” on page 1002]() for other examples of the path `super` dispatch would follow, \n",
    "especially for nondiamonds.\n",
    "\n",
    "The preceding works—and may even seem clever at first glance—but its scope may\n",
    "also appear limited to some. Most Python programs do not rely on the nuances of\n",
    "diamond pattern multiple inheritance trees (in fact, many Python programmers I’ve\n",
    "met do not know what the term means!). Moreover, `super` applies most directly to single\n",
    "inheritance and cooperative diamond cases, and may seem superfluous for disjoint\n",
    "nondiamond cases, where we might want to invoke superclass methods selectively or\n",
    "independently. Even cooperative diamonds can be managed in other ways that may\n",
    "afford programmers more control than an automatic MRO ordering can. To evaluate\n",
    "this tool objectively, though, we need to look deeper."
   ]
  },
  {
   "cell_type": "markdown",
   "metadata": {},
   "source": [
    "#### Constraint: Call chain anchor requirement\n",
    "\n",
    "\n",
    "The `super` call comes with complexities that may not be apparent on first encounter,\n",
    "and may even seem initially like features. For example, because *all* classes inherit from\n",
    "`object` in 3.X automatically (and explicitly in 2.X new-style classes), the MRO ordering\n",
    "can be used even in cases where the diamond is only implicit—in the following, triggering \n",
    "constructors in independent classes automatically:"
   ]
  },
  {
   "cell_type": "markdown",
   "metadata": {},
   "source": []
  },
  {
   "cell_type": "markdown",
   "metadata": {},
   "source": []
  },
  {
   "cell_type": "markdown",
   "metadata": {},
   "source": []
  },
  {
   "cell_type": "markdown",
   "metadata": {},
   "source": []
  }
 ],
 "metadata": {
  "language_info": {
   "name": "python"
  },
  "orig_nbformat": 4
 },
 "nbformat": 4,
 "nbformat_minor": 2
}
