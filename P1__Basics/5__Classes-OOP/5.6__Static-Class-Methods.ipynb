{
 "cells": [
  {
   "cell_type": "markdown",
   "metadata": {},
   "source": [
    "# Static and Class Methods\n",
    "\n",
    "\n",
    "As of Python 2.2, it is possible to define two kinds of methods within a class that can\n",
    "be called without an instance: static methods work roughly like simple instance-less\n",
    "functions inside a class, and class methods are passed a class instead of an instance.\n",
    "Both are similar to tools in other languages (e.g., C++ static methods). Although this\n",
    "feature was added in conjunction with the new-style classes discussed in the prior sections, \n",
    "static and class methods work for classic classes too.\n",
    "\n",
    "To enable these method modes, you must call special built-in functions named\n",
    "`staticmethod` and `classmethod` within the class, or invoke them with the special `@name`\n",
    "decoration syntax we’ll meet later in this chapter. These functions are required to enable\n",
    "these special method modes in Python 2.X, and are generally needed in 3.X. In Python\n",
    "3.X, a `staticmethod` declaration is not required for instance-less methods called only\n",
    "through a class name, but is still required if such methods are called through instances."
   ]
  },
  {
   "cell_type": "markdown",
   "metadata": {},
   "source": [
    "### Why the Special Methods?\n",
    "\n",
    "\n",
    "As we’ve learned, a class’s method is normally passed an instance object in its first\n",
    "argument, to serve as the implied subject of the method call—that’s the “object” in\n",
    "“object-oriented programming.” Today, though, there are two ways to modify this\n",
    "model. Before I explain what they are, I should explain why this might matter to you.\n",
    "\n",
    "Sometimes, programs need to process data associated with classes instead of instances.\n",
    "Consider keeping track of the number of instances created from a class, or maintaining\n",
    "a list of all of a class’s instances that are currently in memory. This type of information\n",
    "and its processing are associated with the class rather than its instances. That is, the\n",
    "information is usually stored on the class itself and processed apart from any instance.\n",
    "\n",
    "For such tasks, simple functions coded outside a class can often suffice—because they\n",
    "can access class attributes through the class name, they have access to class data and\n",
    "never require access to an instance. However, to better associate such code with a class,\n",
    "and to allow such processing to be customized with inheritance as usual, it would be\n",
    "better to code these types of functions *inside* the class itself. To make this work, we\n",
    "need methods in a class that are not passed, and do not expect, a *self* instance argument.\n",
    "\n",
    "Python supports such goals with the notion of ***static methods***—simple functions with\n",
    "no `self` argument that are nested in a class and are designed to work on class attributes\n",
    "instead of instance attributes. Static methods never receive an automatic `self` argument,\n",
    "whether called through a class or an instance. They usually keep track of information\n",
    "that spans all instances, rather than providing behavior for instances.\n",
    "\n",
    "Although less commonly used, Python also supports the notion of ***class methods***—\n",
    "methods of a class that are passed a class object in their first argument instead of an\n",
    "instance, regardless of whether they are called through an instance or a class. Such\n",
    "methods can access class data through their class argument—what we’ve called `self`\n",
    "thus far—even if called through an instance. Normal methods, now known in formal\n",
    "circles as *instance methods*, still receive a subject instance when called; static and class\n",
    "methods do not."
   ]
  },
  {
   "cell_type": "markdown",
   "metadata": {},
   "source": [
    "### Static Methods in 2.X and 3.X\n",
    "\n",
    "\n",
    "The concept of static methods is the same in both Python 2.X and 3.X, but its \n",
    "implementation requirements have evolved somewhat in Python 3.X. Since this book covers\n",
    "both versions, I need to explain the differences in the two underlying models before we\n",
    "get to the code.\n",
    "\n",
    "Really, we already began this story in [the preceding chapter](), when we explored the\n",
    "notion of *unbound methods*. Recall that both Python 2.X and 3.X always pass an \n",
    "instance to a method that is called through an instance. However, Python 3.X treats\n",
    "methods fetched directly from a class differently than 2.X—a difference in Python lines\n",
    "that has nothing to do with new-style classes:\n",
    "\n",
    "  + Both Python 2.X and 3.X produce a *bound method* when a method is fetched\n",
    "    through an instance.\n",
    "\n",
    "  + In Python 2.X, fetching a method from a class produces an *unbound method*, which\n",
    "    cannot be called without manually passing an instance.\n",
    "\n",
    "  + In Python 3.X, fetching a method from a class produces a *simple function*, which\n",
    "    can be called normally with no instance present.\n",
    "\n",
    "In other words, Python 2.X class methods always require an instance to be passed in,\n",
    "whether they are called through an instance or a class. By contrast, in Python 3.X we\n",
    "are required to pass an instance to a method only if the method expects one—methods\n",
    "that do not include an instance argument can be called through the class without passing \n",
    "an instance. That is, 3.X allows simple functions in a class, as long as they do not\n",
    "expect and are not passed an instance argument. The net effect is that:\n",
    "\n",
    "  + In Python 2.X, we must always declare a method as static in order to call it without\n",
    "    an instance, whether it is called through a class or an instance.\n",
    "\n",
    "  + In Python 3.X, we need not declare such methods as static if they will be called\n",
    "    through a class only, but we must do so in order to call them through an instance.\n",
    "\n",
    "To illustrate, suppose we want to use class attributes to count how many instances are\n",
    "generated from a class. The following file, `spam.py`, makes a first attempt—its class has\n",
    "a counter stored as a class attribute, a constructor that bumps up the counter by one\n",
    "each time a new instance is created, and a method that displays the counter’s value.\n",
    "Remember, class attributes are shared by all instances. Therefore, storing the counter\n",
    "in the class object itself ensures that it effectively spans all instances:"
   ]
  },
  {
   "cell_type": "code",
   "execution_count": null,
   "metadata": {},
   "outputs": [],
   "source": [
    "class Spam:\n",
    "    numInstances = 0\n",
    "    def __init__(self):\n",
    "        Spam.numInstances = Spam.numInstances + 1\n",
    "    def printNumInstances():\n",
    "        print(\"Number of instances created: %s\" % Spam.numInstances)"
   ]
  },
  {
   "cell_type": "markdown",
   "metadata": {},
   "source": [
    "The `printNumInstances` method is designed to process class data, not instance data—\n",
    "it’s about *all* the instances, not any one in particular. Because of that, we want to be\n",
    "able to call it without having to pass an instance. Indeed, we don’t want to make an\n",
    "instance to fetch the number of instances, because this would change the number of\n",
    "instances we’re trying to fetch! In other words, we want a `self`-less “static” method.\n",
    "\n",
    "Whether this code’s `printNumInstances` works or not, though, depends on which\n",
    "Python you use, and which way you call the method—through the class or through an\n",
    "instance. In 2.X, calls to a self-less method function through both the class and instances fail.\n",
    "\n",
    "The problem here is that unbound instance methods aren’t exactly the same as simple\n",
    "functions in 2.X. Even though there are no arguments in the `def` header, the method\n",
    "still expects an instance to be passed in when it’s called, because the function is \n",
    "associated with a class. In Python 3.X, calls to `self`-less methods made through classes\n",
    "work, but calls from instances fail:"
   ]
  },
  {
   "cell_type": "code",
   "execution_count": null,
   "metadata": {},
   "outputs": [
    {
     "name": "stdout",
     "output_type": "stream",
     "text": [
      "Number of instances created: 3\n"
     ]
    }
   ],
   "source": [
    "# from spam import Spam\n",
    "a = Spam()                  # Can call functions in class in 3.X\n",
    "b = Spam()                  # Calls through instances still pass a self\n",
    "c = Spam()\n",
    "\n",
    "Spam.printNumInstances()    # Differs in 3.X"
   ]
  },
  {
   "cell_type": "code",
   "execution_count": null,
   "metadata": {},
   "outputs": [
    {
     "ename": "TypeError",
     "evalue": "printNumInstances() takes 0 positional arguments but 1 was given",
     "output_type": "error",
     "traceback": [
      "\u001b[1;31m---------------------------------------------------------------------------\u001b[0m",
      "\u001b[1;31mTypeError\u001b[0m                                 Traceback (most recent call last)",
      "\u001b[1;32m<ipython-input-9-05e2611a4d82>\u001b[0m in \u001b[0;36m<module>\u001b[1;34m\u001b[0m\n\u001b[1;32m----> 1\u001b[1;33m \u001b[0ma\u001b[0m\u001b[1;33m.\u001b[0m\u001b[0mprintNumInstances\u001b[0m\u001b[1;33m(\u001b[0m\u001b[1;33m)\u001b[0m\u001b[1;33m\u001b[0m\u001b[1;33m\u001b[0m\u001b[0m\n\u001b[0m",
      "\u001b[1;31mTypeError\u001b[0m: printNumInstances() takes 0 positional arguments but 1 was given"
     ]
    }
   ],
   "source": [
    "a.printNumInstances()"
   ]
  },
  {
   "cell_type": "markdown",
   "metadata": {},
   "source": [
    "That is, calls to instance-less methods like `printNumInstances` made through the *class*\n",
    "fail in Python 2.X but work in Python 3.X. On the other hand, calls made through an\n",
    "*instance* fail in both Pythons, because an instance is automatically passed to a method\n",
    "that does not have an argument to receive it:\n",
    "\n",
    "```python\n",
    "    Spam.printNumInstances()            # Fails in 2.X, works in 3.X\n",
    "    instance.printNumInstances()        # Fails in both 2.X and 3.X (unless static)\n",
    "```\n",
    "\n",
    "If you’re able to use 3.X and stick with calling `self`-less methods through classes only,\n",
    "you already have a static method feature. However, to allow `self`-less methods to be\n",
    "called through classes in 2.X and through instances in both 2.X and 3.X, you need to\n",
    "either adopt other designs or be able to somehow mark such methods as special. Let’s\n",
    "look at both options in turn."
   ]
  },
  {
   "cell_type": "markdown",
   "metadata": {},
   "source": [
    "### Static Method Alternatives\n",
    "\n",
    "\n",
    "Short of marking a `self`-less method as special, you can sometimes achieve similar\n",
    "results with different coding structures. For example, if you just want to call functions\n",
    "that access class members without an instance, perhaps the simplest idea is to use\n",
    "normal functions outside the class, not class methods. This way, an instance isn’t \n",
    "expected in the call. The following mutation of `spam.py` illustrates, and works the same\n",
    "in Python 3.X and 2.X:"
   ]
  },
  {
   "cell_type": "code",
   "execution_count": null,
   "metadata": {},
   "outputs": [],
   "source": [
    "def printNumInstances():\n",
    "    print(\"Number of instances created: %s\" % Spam.numInstances)\n",
    "\n",
    "class Spam:\n",
    "    numInstances = 0\n",
    "    def __init__(self):\n",
    "        Spam.numInstances = Spam.numInstances + 1"
   ]
  },
  {
   "cell_type": "code",
   "execution_count": null,
   "metadata": {},
   "outputs": [
    {
     "name": "stdout",
     "output_type": "stream",
     "text": [
      "Number of instances created: 3\n"
     ]
    }
   ],
   "source": [
    "# from spam import *\n",
    "a = Spam()\n",
    "b = Spam()\n",
    "c = Spam()\n",
    "printNumInstances()         # But function may be too far removed\n",
    "                            # And cannot be changed via inheritance"
   ]
  },
  {
   "cell_type": "code",
   "execution_count": null,
   "metadata": {},
   "outputs": [
    {
     "data": {
      "text/plain": [
       "3"
      ]
     },
     "execution_count": 15,
     "metadata": {},
     "output_type": "execute_result"
    }
   ],
   "source": [
    "Spam.numInstances"
   ]
  },
  {
   "cell_type": "markdown",
   "metadata": {},
   "source": [
    "Because the class name is accessible to the simple function as a global variable, this\n",
    "works fine. Also, note that the name of the function becomes global, but only to this\n",
    "single module; it will not clash with names in other files of the program.\n",
    "\n",
    "Prior to static methods in Python, this structure was the general prescription. Because\n",
    "Python already provides modules as a namespace-partitioning tool, one could argue\n",
    "that there’s not typically any need to package functions in classes unless they implement\n",
    "object behavior. Simple functions within modules like the one here do much of what\n",
    "instance-less class methods could, and are already associated with the class because\n",
    "they live in the same module.\n",
    "\n",
    "Unfortunately, this approach is still less than ideal. For one thing, it adds to this file’s\n",
    "scope an extra name that is used only for processing a single class. For another, the\n",
    "function is much less directly associated with the class by structure; in fact, its definition\n",
    "could be hundreds of lines away. Perhaps worse, simple functions like this cannot be\n",
    "customized by inheritance, since they live outside a class’s namespace: subclasses cannot \n",
    "directly replace or extend such a function by redefining it.\n",
    "\n",
    "We might try to make this example work in a version-neutral way by using a normal\n",
    "method and always calling it through (or with) an instance, as usual:"
   ]
  },
  {
   "cell_type": "code",
   "execution_count": null,
   "metadata": {},
   "outputs": [],
   "source": [
    "class Spam:\n",
    "    numInstances = 0\n",
    "    def __init__(self):\n",
    "        Spam.numInstances = Spam.numInstances + 1\n",
    "    def printNumInstances(self):\n",
    "        print(\"Number of instances created: %s\" % Spam.numInstances)"
   ]
  },
  {
   "cell_type": "code",
   "execution_count": null,
   "metadata": {},
   "outputs": [
    {
     "name": "stdout",
     "output_type": "stream",
     "text": [
      "Number of instances created: 3\n"
     ]
    }
   ],
   "source": [
    "# from spam import Spam\n",
    "a, b, c = Spam(), Spam(), Spam()\n",
    "a.printNumInstances()"
   ]
  },
  {
   "cell_type": "code",
   "execution_count": null,
   "metadata": {},
   "outputs": [
    {
     "name": "stdout",
     "output_type": "stream",
     "text": [
      "Number of instances created: 3\n"
     ]
    }
   ],
   "source": [
    "Spam.printNumInstances(a)"
   ]
  },
  {
   "cell_type": "code",
   "execution_count": null,
   "metadata": {},
   "outputs": [
    {
     "name": "stdout",
     "output_type": "stream",
     "text": [
      "Number of instances created: 4\n"
     ]
    }
   ],
   "source": [
    "Spam().printNumInstances() # But fetching counter changes counter!"
   ]
  },
  {
   "cell_type": "markdown",
   "metadata": {},
   "source": [
    "Unfortunately, as mentioned earlier, such an approach is completely unworkable if we\n",
    "don’t have an instance available, and making an instance changes the class data, as\n",
    "illustrated in the last line here. A better solution would be to somehow mark a method\n",
    "inside a class as never requiring an instance. The next section shows how."
   ]
  },
  {
   "cell_type": "markdown",
   "metadata": {},
   "source": [
    "### Using Static and Class Methods\n",
    "\n",
    "\n",
    "Today, there is another option for coding simple functions associated with a class that\n",
    "may be called through either the class or its instances. As of Python 2.2, we can code\n",
    "classes with static and class methods, neither of which requires an instance argument\n",
    "to be passed in when invoked. To designate such methods, classes call the built-in\n",
    "functions `staticmethod` and `classmethod`, as hinted in the earlier discussion of new-style\n",
    "classes. Both mark a function object as special—that is, as requiring no instance if static\n",
    "and requiring a class argument if a class method. For example, in the file `bothmethods.py` \n",
    "(which unifies 2.X and 3.X printing with lists, though displays still vary slightly\n",
    "for 2.X classic classes):"
   ]
  },
  {
   "cell_type": "code",
   "execution_count": null,
   "metadata": {},
   "outputs": [],
   "source": [
    "# File bothmethods.py\n",
    "\n",
    "class Methods:\n",
    "    def imeth(self, x):             # Normal instance method: passed a self\n",
    "        print([self, x])\n",
    "\n",
    "    def smeth(x):                   # Static: no instance passed\n",
    "        print([x])\n",
    "\n",
    "    def cmeth(cls, x):              # Class: gets class, not instance\n",
    "        print([cls, x])\n",
    "\n",
    "    smeth = staticmethod(smeth)     # Make smeth a static method (or @: ahead)\n",
    "    cmeth = classmethod(cmeth)      # Make cmeth a class method (or @: ahead)"
   ]
  },
  {
   "cell_type": "markdown",
   "metadata": {},
   "source": [
    "Notice how the last two assignments in this code simply reassign (a.k.a. rebind) the\n",
    "method names `smeth` and `cmeth`. Attributes are created and changed by any assignment\n",
    "in a `class` statement, so these final assignments simply overwrite the assignments made\n",
    "earlier by the `def`s. As we’ll see in a few moments, the special `@` syntax works here as\n",
    "an alternative to this just as it does for properties—but makes little sense unless you\n",
    "first understand the assignment form here that it automates.\n",
    "\n",
    "Technically, Python now supports three kinds of class-related methods, with differing\n",
    "argument protocols:\n",
    "\n",
    "  + ***Instance methods***, passed a `self` instance object (the default)\n",
    "\n",
    "  + ***Static methods***, passed no extra object (via `staticmethod`)\n",
    "\n",
    "  + ***Class methods***, passed a class object (via `classmethod`, and inherent in metaclasses)\n",
    "\n",
    "Moreover, Python 3.X extends this model by also allowing simple functions in a class\n",
    "to serve the role of static methods without extra protocol, when called through a class\n",
    "object only. Despite its name, the `bothmethods.py` module illustrates all three method\n",
    "types, so let’s expand on these in turn.\n",
    "\n",
    "*Instance methods* are the normal and default case that we’ve seen in this book. An\n",
    "instance method must always be called with an instance object. When you call it\n",
    "through an *instance*, Python passes the instance to the first (leftmost) argument \n",
    "automatically; when you call it through a *class*, you must pass along the instance manually:"
   ]
  },
  {
   "cell_type": "code",
   "execution_count": null,
   "metadata": {},
   "outputs": [
    {
     "name": "stdout",
     "output_type": "stream",
     "text": [
      "[<__main__.Methods object at 0x000002277023C2E0>, 1]\n"
     ]
    }
   ],
   "source": [
    "# from bothmethods import Methods         # Normal instance methods\n",
    "obj = Methods()                         # Callable through instance or class\n",
    "obj.imeth(1)"
   ]
  },
  {
   "cell_type": "code",
   "execution_count": null,
   "metadata": {},
   "outputs": [
    {
     "name": "stdout",
     "output_type": "stream",
     "text": [
      "[<__main__.Methods object at 0x000002277023C2E0>, 2]\n"
     ]
    }
   ],
   "source": [
    "Methods.imeth(obj, 2)"
   ]
  },
  {
   "cell_type": "markdown",
   "metadata": {},
   "source": [
    "*Static methods*, by contrast, are called without an instance argument. Unlike simple\n",
    "functions outside a class, their names are local to the scopes of the classes in which they\n",
    "are defined, and they may be looked up by inheritance. Instance-less functions can be\n",
    "called through a class normally in Python 3.X, but never by default in 2.X. Using the\n",
    "`staticmethod` built-in allows such methods to also be called through an instance in 3.X\n",
    "and through both a class and an instance in Python 2.X (that is, the first of the following\n",
    "works in 3.X without `staticmethod`, but the second does not):"
   ]
  },
  {
   "cell_type": "code",
   "execution_count": null,
   "metadata": {},
   "outputs": [
    {
     "name": "stdout",
     "output_type": "stream",
     "text": [
      "[3]\n"
     ]
    }
   ],
   "source": [
    "Methods.smeth(3)                # Static method: call through class\n",
    "                                # No instance passed or expected"
   ]
  },
  {
   "cell_type": "code",
   "execution_count": null,
   "metadata": {},
   "outputs": [
    {
     "name": "stdout",
     "output_type": "stream",
     "text": [
      "[4]\n"
     ]
    }
   ],
   "source": [
    "obj.smeth(4)                    # Static method: call through instance\n",
    "                                # Instance not passed"
   ]
  },
  {
   "cell_type": "markdown",
   "metadata": {},
   "source": [
    "*Class methods* are similar, but Python automatically passes the class (not an instance)\n",
    "in to a class method’s first (leftmost) argument, whether it is called through a class or\n",
    "an instance:"
   ]
  },
  {
   "cell_type": "code",
   "execution_count": null,
   "metadata": {},
   "outputs": [
    {
     "name": "stdout",
     "output_type": "stream",
     "text": [
      "[<class '__main__.Methods'>, 5]\n"
     ]
    }
   ],
   "source": [
    "Methods.cmeth(5)                # Class method: call through class\n",
    "                                # Becomes cmeth(Methods, 5)"
   ]
  },
  {
   "cell_type": "code",
   "execution_count": null,
   "metadata": {},
   "outputs": [
    {
     "name": "stdout",
     "output_type": "stream",
     "text": [
      "[<class '__main__.Methods'>, 6]\n"
     ]
    }
   ],
   "source": [
    "obj.cmeth(6)                    # Class method: call through instance\n",
    "                                # Becomes cmeth(Methods, 6)"
   ]
  },
  {
   "cell_type": "markdown",
   "metadata": {},
   "source": [
    "In [Chapter 40](), we’ll also find that *metaclass methods*—a unique, advanced, and \n",
    "technically distinct method type—behave similarly to the explicitly-declared class methods\n",
    "we’re exploring here."
   ]
  },
  {
   "cell_type": "markdown",
   "metadata": {},
   "source": [
    "### Counting Instances with Static Methods\n",
    "\n",
    "\n",
    "Now, given these built-ins, here is the static method equivalent of this section’s \n",
    "instance-counting example—it marks the method as special, so it will never be passed\n",
    "an instance automatically:"
   ]
  },
  {
   "cell_type": "code",
   "execution_count": 8,
   "metadata": {},
   "outputs": [],
   "source": [
    "class Spam:\n",
    "    numInstances = 0                # Use static method for class data\n",
    "    def __init__(self):\n",
    "        Spam.numInstances += 1\n",
    "\n",
    "    def printNumInstances():\n",
    "        print(\"Number of instances: %s\" % Spam.numInstances)\n",
    "    \n",
    "    printNumInstances = staticmethod(printNumInstances)"
   ]
  },
  {
   "cell_type": "markdown",
   "metadata": {},
   "source": [
    "Using the `staticmethod` built-in, our code now allows the `self`-less method to be called\n",
    "through the class or any instance of it, in both Python 2.X and 3.X:"
   ]
  },
  {
   "cell_type": "code",
   "execution_count": null,
   "metadata": {},
   "outputs": [
    {
     "name": "stdout",
     "output_type": "stream",
     "text": [
      "Number of instances: 3\n"
     ]
    }
   ],
   "source": [
    "# from spam_static import Spam\n",
    "a = Spam()\n",
    "b = Spam()\n",
    "c = Spam()\n",
    "Spam.printNumInstances()            # Call as simple function"
   ]
  },
  {
   "cell_type": "code",
   "execution_count": null,
   "metadata": {},
   "outputs": [
    {
     "name": "stdout",
     "output_type": "stream",
     "text": [
      "Number of instances: 3\n"
     ]
    }
   ],
   "source": [
    "a.printNumInstances()               # Instance argument not passed"
   ]
  },
  {
   "cell_type": "markdown",
   "metadata": {},
   "source": [
    "Compared to simply moving `printNumInstances` outside the class, as prescribed earlier,\n",
    "this version requires an extra `staticmethod` call (or an `@` line we’ll see ahead). However,\n",
    "it also localizes the function name in the class scope (so it won’t clash with other names\n",
    "in the module); moves the function code closer to where it is used (inside the `class`\n",
    "statement); and allows subclasses to *customize* the static method with inheritance—a\n",
    "more convenient and powerful approach than importing functions from the files in\n",
    "which superclasses are coded. The following subclass and new testing session illustrate:"
   ]
  },
  {
   "cell_type": "code",
   "execution_count": 9,
   "metadata": {},
   "outputs": [
    {
     "name": "stdout",
     "output_type": "stream",
     "text": [
      "Extra stuff...\n",
      "Number of instances: 2\n"
     ]
    }
   ],
   "source": [
    "class Sub(Spam):\n",
    "    def printNumInstances():        # Override a static method\n",
    "        print(\"Extra stuff...\")     # But call back to original\n",
    "        Spam.printNumInstances()\n",
    "\n",
    "    printNumInstances = staticmethod(printNumInstances)\n",
    "\n",
    "# from spam_static import Spam, Sub\n",
    "a = Sub()\n",
    "b = Sub()\n",
    "a.printNumInstances()               # Call from subclass instance"
   ]
  },
  {
   "cell_type": "code",
   "execution_count": 10,
   "metadata": {},
   "outputs": [
    {
     "name": "stdout",
     "output_type": "stream",
     "text": [
      "Extra stuff...\n",
      "Number of instances: 2\n"
     ]
    }
   ],
   "source": [
    "Sub.printNumInstances()             # Call from subclass itself"
   ]
  },
  {
   "cell_type": "code",
   "execution_count": 11,
   "metadata": {},
   "outputs": [
    {
     "name": "stdout",
     "output_type": "stream",
     "text": [
      "Number of instances: 2\n"
     ]
    }
   ],
   "source": [
    "Spam.printNumInstances()            # Call original version"
   ]
  },
  {
   "cell_type": "markdown",
   "metadata": {},
   "source": [
    "Moreover, classes can inherit the static method without redefining it—it is run without\n",
    "an instance, regardless of where it is defined in a class tree:"
   ]
  },
  {
   "cell_type": "code",
   "execution_count": 12,
   "metadata": {},
   "outputs": [
    {
     "name": "stdout",
     "output_type": "stream",
     "text": [
      "Number of instances: 3\n"
     ]
    }
   ],
   "source": [
    "class Other(Spam): pass # Inherit static method verbatim\n",
    "\n",
    "c = Other()\n",
    "c.printNumInstances()"
   ]
  },
  {
   "cell_type": "markdown",
   "metadata": {},
   "source": [
    "Notice how this also bumps up the *superclass’s* instance counter, because its constructor \n",
    "is inherited and run—a behavior that begins to encroach on the next section’s subject."
   ]
  },
  {
   "cell_type": "markdown",
   "metadata": {},
   "source": [
    "### Counting Instances with Class Methods\n",
    "\n",
    "\n",
    "Interestingly, a *class method* can do similar work here—the following has the same\n",
    "behavior as the static method version listed earlier, but it uses a class method that\n",
    "receives the instance’s class in its first argument. Rather than hardcoding the class\n",
    "name, the class method uses the automatically passed class object generically:"
   ]
  },
  {
   "cell_type": "code",
   "execution_count": 13,
   "metadata": {},
   "outputs": [],
   "source": [
    "class Spam:\n",
    "    numInstances = 0                        # Use class method instead of static\n",
    "    def __init__(self):\n",
    "        Spam.numInstances += 1\n",
    "\n",
    "    def printNumInstances(cls):\n",
    "        print(\"Number of instances: %s\" % cls.numInstances)\n",
    "\n",
    "    printNumInstances = classmethod(printNumInstances)"
   ]
  },
  {
   "cell_type": "markdown",
   "metadata": {},
   "source": [
    "This class is used in the same way as the prior versions, but its `printNumInstances`\n",
    "method receives the `Spam` class, not the instance, when called from both the class and\n",
    "an instance:"
   ]
  },
  {
   "cell_type": "code",
   "execution_count": 14,
   "metadata": {},
   "outputs": [
    {
     "name": "stdout",
     "output_type": "stream",
     "text": [
      "Number of instances: 2\n"
     ]
    }
   ],
   "source": [
    "# from spam_class import Spam\n",
    "a, b = Spam(), Spam()\n",
    "a.printNumInstances()                       # Passes class to first argument"
   ]
  },
  {
   "cell_type": "code",
   "execution_count": 15,
   "metadata": {},
   "outputs": [
    {
     "name": "stdout",
     "output_type": "stream",
     "text": [
      "Number of instances: 2\n"
     ]
    }
   ],
   "source": [
    "Spam.printNumInstances()                    # Also passes class to first argument"
   ]
  },
  {
   "cell_type": "markdown",
   "metadata": {},
   "source": [
    "When using class methods, though, keep in mind that they receive the most specific\n",
    "(i.e., *lowest*) class of the call’s subject. This has some subtle implications when trying\n",
    "to update class data through the passed-in class. For example, if in module\n",
    "`spam_class.py` we subclass to customize as before, augment `Spam.printNumInstances` to\n",
    "also display its `cls` argument, and start a new testing session:"
   ]
  },
  {
   "cell_type": "code",
   "execution_count": 30,
   "metadata": {},
   "outputs": [],
   "source": [
    "class Spam:\n",
    "    numInstances = 0                        # Trace class passed in\n",
    "    def __init__(self):\n",
    "        Spam.numInstances += 1\n",
    "    def printNumInstances(cls):\n",
    "        print(\"Number of instances: %s %s\" % (cls.numInstances, cls))\n",
    "    printNumInstances = classmethod(printNumInstances)\n",
    "\n",
    "class Sub(Spam):\n",
    "    def printNumInstances(cls):             # Override a class method\n",
    "        print(\"Extra stuff...\", cls)        # But call back to original\n",
    "        Spam.printNumInstances()\n",
    "    printNumInstances = classmethod(printNumInstances)\n",
    "\n",
    "class Other(Spam): pass                     # Inherit class method verbatim"
   ]
  },
  {
   "cell_type": "markdown",
   "metadata": {},
   "source": [
    "The lowest class is passed in whenever a class method is run, even for subclasses that\n",
    "have no class methods of their own:"
   ]
  },
  {
   "cell_type": "code",
   "execution_count": 25,
   "metadata": {},
   "outputs": [
    {
     "name": "stdout",
     "output_type": "stream",
     "text": [
      "Extra stuff... <class '__main__.Sub'>\n",
      "Number of instances: 2 <class '__main__.Spam'>\n"
     ]
    }
   ],
   "source": [
    "# from spam_class import Spam, Sub, Other\n",
    "x = Sub()\n",
    "y = Spam()\n",
    "x.printNumInstances()                       # Call from subclass instance"
   ]
  },
  {
   "cell_type": "code",
   "execution_count": 26,
   "metadata": {},
   "outputs": [
    {
     "name": "stdout",
     "output_type": "stream",
     "text": [
      "Extra stuff... <class '__main__.Sub'>\n",
      "Number of instances: 2 <class '__main__.Spam'>\n"
     ]
    }
   ],
   "source": [
    "Sub.printNumInstances()                     # Call from subclass itself"
   ]
  },
  {
   "cell_type": "code",
   "execution_count": 27,
   "metadata": {},
   "outputs": [
    {
     "name": "stdout",
     "output_type": "stream",
     "text": [
      "Number of instances: 2 <class '__main__.Spam'>\n"
     ]
    }
   ],
   "source": [
    "y.printNumInstances()                       # Call from superclass instance"
   ]
  },
  {
   "cell_type": "markdown",
   "metadata": {},
   "source": [
    "In the first call here, a class method call is made through an instance of the `Sub` subclass,\n",
    "and Python passes the lowest class, `Sub`, to the class method. All is well in this case—\n",
    "since `Sub`’s redefinition of the method calls the `Spam` superclass’s version explicitly, the\n",
    "superclass method in `Spam` receives its own class in its first argument. But watch what\n",
    "happens for an object that inherits the class method verbatim:"
   ]
  },
  {
   "cell_type": "code",
   "execution_count": 28,
   "metadata": {},
   "outputs": [
    {
     "name": "stdout",
     "output_type": "stream",
     "text": [
      "Number of instances: 3 <class '__main__.Other'>\n"
     ]
    }
   ],
   "source": [
    "z = Other() # Call from lower sub's instance\n",
    "z.printNumInstances()"
   ]
  },
  {
   "cell_type": "markdown",
   "metadata": {},
   "source": [
    "This last call here passes `Other` to `Spam`’s class method. This works in this example\n",
    "because *fetching* the counter finds it in `Spam` by inheritance. If this method tried to\n",
    "*assign* to the passed class’s data, though, it would update `Other`, not `Spam`! In this specific\n",
    "case, `Spam` is probably better off hardcoding its own class name to update its data if it\n",
    "means to count instances of all its subclasses too, rather than relying on the passed-in\n",
    "class argument."
   ]
  },
  {
   "cell_type": "markdown",
   "metadata": {},
   "source": [
    "#### Counting instances per class with class methods\n",
    "\n",
    "\n",
    "In fact, because class methods always receive the *lowest* class in an instance’s tree:\n",
    "\n",
    "  + *Static* methods and explicit class names may be a better solution for processing\n",
    "    data local to a class.\n",
    "\n",
    "  + *Class* methods may be better suited to processing data that may differ for each class\n",
    "    in a hierarchy.\n",
    "\n",
    "Code that needs to manage *per-class* instance counters, for example, might be best off\n",
    "leveraging class methods. In the following, the top-level superclass uses a class method\n",
    "to manage state information that varies for and is stored on each class in the tree—\n",
    "similar in spirit to the way instance methods manage state information that varies per\n",
    "class instance:"
   ]
  },
  {
   "cell_type": "code",
   "execution_count": 33,
   "metadata": {},
   "outputs": [],
   "source": [
    "class Spam:\n",
    "    numInstances = 0\n",
    "    def count(cls):                                     # Per-class instance counters\n",
    "        cls.numInstances += 1                           # cls is lowest class above instance\n",
    "    def __init__(self):\n",
    "        self.count()                                    # Passes self.__class__ to count\n",
    "    count = classmethod(count)\n",
    "\n",
    "class Sub(Spam):\n",
    "    numInstances = 0\n",
    "    def __init__(self):                                 # Redefines __init__\n",
    "        Spam.__init__(self)\n",
    "\n",
    "class Other(Spam):                                      # Inherits __init__\n",
    "    numInstances = 0"
   ]
  },
  {
   "cell_type": "code",
   "execution_count": 34,
   "metadata": {},
   "outputs": [
    {
     "data": {
      "text/plain": [
       "(1, 2, 3)"
      ]
     },
     "execution_count": 34,
     "metadata": {},
     "output_type": "execute_result"
    }
   ],
   "source": [
    "# from spam_class2 import Spam, Sub, Other\n",
    "x = Spam()\n",
    "y1, y2 = Sub(), Sub()\n",
    "z1, z2, z3 = Other(), Other(), Other()\n",
    "x.numInstances, y1.numInstances, z1.numInstances        # Per-class data!"
   ]
  },
  {
   "cell_type": "code",
   "execution_count": 35,
   "metadata": {},
   "outputs": [
    {
     "data": {
      "text/plain": [
       "(1, 2, 3)"
      ]
     },
     "execution_count": 35,
     "metadata": {},
     "output_type": "execute_result"
    }
   ],
   "source": [
    "Spam.numInstances, Sub.numInstances, Other.numInstances"
   ]
  },
  {
   "cell_type": "markdown",
   "metadata": {},
   "source": [
    "Static and class methods have additional advanced roles, which we will finesse here;\n",
    "see other resources for more use cases. In recent Python versions, though, the static\n",
    "and class method designations have become even simpler with the advent of \n",
    "*function decoration* syntax—a way to apply one function to another that has roles well beyond\n",
    "the static method use case that was its initial motivation. This syntax also allows us to\n",
    "augment *classes* in Python 2.X and 3.X—to initialize data like the `numInstances` counter\n",
    "in the last example, for instance. The next section explains how.\n",
    "\n",
    "**Note**  \n",
    "For a postscript on Python’s method types, be sure to watch for coverage\n",
    "of *metaclass methods* in [Chapter 40]()—because these are designed to process \n",
    "a *class* that is an instance of a metaclass, they turn out to be very\n",
    "similar to the class methods defined here, but require no `classmethod`\n",
    "declaration, and apply only to the shadowy metaclass realm."
   ]
  },
  {
   "cell_type": "markdown",
   "metadata": {},
   "source": [
    "## Decorators and Metaclasses: Part 1\n",
    "\n",
    "\n",
    "Because the `staticmethod` and `classmethod` call technique described in [the prior section]()\n",
    "initially seemed obscure to some observers, a device was eventually added to make the\n",
    "operation simpler. Python *decorators*—similar to the notion and syntax of annotations\n",
    "in Java—both addressed this specific need and provided a general tool for adding logic\n",
    "that manages both functions and classes, or later calls to them.\n",
    "\n",
    "This is called a “***decoration***,” but in more concrete terms is really just a way to run extra\n",
    "processing steps at function and class definition time with explicit syntax. It comes in\n",
    "two flavors:\n",
    "\n",
    "  + ***Function decorators***—the initial entry in this set, added in Python 2.4—augment\n",
    "    function definitions. They specify special operation modes for both simple functions \n",
    "    and classes’ methods by wrapping them in an extra layer of logic implemented\n",
    "    as another function, usually called a *metafunction*.\n",
    "\n",
    "  + ***Class decorators***—a later extension, added in Python 2.6 and 3.0—augment class\n",
    "    definitions. They do the same for classes, adding support for management of whole\n",
    "    objects and their interfaces. Though perhaps simpler, they often overlap in roles\n",
    "    with *metaclasses*.\n",
    "\n",
    "*Function decorators* turn out to be very general tools: they are useful for adding many\n",
    "types of logic to functions besides the static and class method use cases. For instance,\n",
    "they may be used to augment functions with code that logs calls made to them, checks\n",
    "the types of passed arguments during debugging, and so on. Function decorators can\n",
    "be used to manage either functions themselves or later calls to them. In the latter mode,\n",
    "function decorators are similar to the *delegation* design pattern we explored in [Chapter 31](), \n",
    "but they are designed to augment a specific function or method call, not an entire\n",
    "object interface.\n",
    "\n",
    "Python provides a few built-in function decorators for operations such as marking static\n",
    "and class methods and defining properties (as sketched earlier, the `property` built-in\n",
    "works as a decorator automatically), but programmers can also code arbitrary decorators \n",
    "of their own. Although they are not strictly tied to classes, user-defined function\n",
    "decorators often are coded as classes to save the original functions for later dispatch,\n",
    "along with other data as state information.\n",
    "\n",
    "This proved such a useful hook that it was extended in Python 2.6, 2.7, and 3.X—\n",
    "*class decorators* bring augmentation to classes too, and are more directly tied to the class\n",
    "model. Like their function cohorts, class decorators may manage classes themselves or\n",
    "later instance creation calls, and often employ *delegation* in the latter mode. As we’ll\n",
    "find, their roles also often overlap with *metaclasses*; when they do, the newer class\n",
    "decorators may offer a more lightweight way to achieve the same goals."
   ]
  },
  {
   "cell_type": "markdown",
   "metadata": {},
   "source": [
    "### Function Decorator Basics\n",
    "\n",
    "\n",
    "Syntactically, a function decorator is a sort of runtime declaration about the function\n",
    "that follows. A function decorator is coded on a line by itself just before the `def` \n",
    "statement that defines a function or method. It consists of the `@` symbol, followed by what\n",
    "we call a ***metafunction***—a function (or other callable object) that manages another\n",
    "function. Static methods since Python 2.4, for example, may be coded with decorator\n",
    "syntax like this:\n",
    "\n",
    "```python\n",
    "    class C:\n",
    "        @staticmethod                       # Function decoration syntax\n",
    "        def meth():\n",
    "            ...\n",
    "```\n",
    "\n",
    "Internally, this syntax has the same effect as the following—passing the function\n",
    "through the decorator and assigning the result back to the original name:\n",
    "\n",
    "```python\n",
    "    class C:\n",
    "        def meth():\n",
    "            ...\n",
    "        meth = staticmethod(meth)           # Name rebinding equivalent\n",
    "```\n",
    "\n",
    "Decoration *rebinds* the method name to the decorator’s result. The net effect is that\n",
    "calling the method function’s name later actually triggers the result of its `staticmethod` \n",
    "decorator first. Because a decorator can return any sort of object, this allows the\n",
    "decorator to insert a layer of logic to be run on every call. The decorator function is free\n",
    "to return either the original function itself, or a new *proxy* object that saves the original\n",
    "function passed to the decorator to be invoked indirectly after the extra logic layer runs.\n",
    "\n",
    "With this addition, here’s a better way to code our static method example from [the prior section]() in either Python 2.X or 3.X:"
   ]
  },
  {
   "cell_type": "code",
   "execution_count": null,
   "metadata": {},
   "outputs": [],
   "source": [
    "class Spam:\n",
    "    numInstances = 0\n",
    "    def __init__(self):\n",
    "        Spam.numInstances = Spam.numInstances + 1\n",
    "\n",
    "    @staticmethod\n",
    "    def printNumInstances():\n",
    "        print(\"Number of instances created: %s\" % Spam.numInstances)"
   ]
  },
  {
   "cell_type": "code",
   "execution_count": null,
   "metadata": {},
   "outputs": [
    {
     "name": "stdout",
     "output_type": "stream",
     "text": [
      "Number of instances created: 3\n"
     ]
    }
   ],
   "source": [
    "# from spam_static_deco import Spam\n",
    "a = Spam()\n",
    "b = Spam()\n",
    "c = Spam()\n",
    "Spam.printNumInstances() # Calls from classes and instances work"
   ]
  },
  {
   "cell_type": "code",
   "execution_count": null,
   "metadata": {},
   "outputs": [
    {
     "name": "stdout",
     "output_type": "stream",
     "text": [
      "Number of instances created: 3\n"
     ]
    }
   ],
   "source": [
    "a.printNumInstances()"
   ]
  },
  {
   "cell_type": "markdown",
   "metadata": {},
   "source": [
    "Because they also accept and return functions, the `classmethod` and `property` built-in\n",
    "functions may be used as decorators in the same way—as in the following mutation of\n",
    "the prior `bothmethods.py`:"
   ]
  },
  {
   "cell_type": "code",
   "execution_count": null,
   "metadata": {},
   "outputs": [],
   "source": [
    "# File bothmethods_decorators.py\n",
    "\n",
    "class Methods(object):                  # object needed in 2.X for property setters\n",
    "    def imeth(self, x):                 # Normal instance method: passed a self\n",
    "        print([self, x])\n",
    "\n",
    "    @staticmethod\n",
    "    def smeth(x):                       # Static: no instance passed\n",
    "        print([x])\n",
    "\n",
    "    @classmethod\n",
    "    def cmeth(cls, x):                  # Class: gets class, not instance\n",
    "        print([cls, x])\n",
    "\n",
    "    @property                           # Property: computed on fetch\n",
    "    def name(self):\n",
    "        return 'Bob ' + self.__class__.__name__"
   ]
  },
  {
   "cell_type": "code",
   "execution_count": null,
   "metadata": {},
   "outputs": [
    {
     "name": "stdout",
     "output_type": "stream",
     "text": [
      "[<__main__.Methods object at 0x000001ACD589E340>, 1]\n"
     ]
    }
   ],
   "source": [
    "# from bothmethods_decorators import Methods\n",
    "obj = Methods()\n",
    "obj.imeth(1)"
   ]
  },
  {
   "cell_type": "code",
   "execution_count": null,
   "metadata": {},
   "outputs": [
    {
     "name": "stdout",
     "output_type": "stream",
     "text": [
      "[2]\n"
     ]
    }
   ],
   "source": [
    "obj.smeth(2)"
   ]
  },
  {
   "cell_type": "code",
   "execution_count": null,
   "metadata": {},
   "outputs": [
    {
     "name": "stdout",
     "output_type": "stream",
     "text": [
      "[<class '__main__.Methods'>, 3]\n"
     ]
    }
   ],
   "source": [
    "obj.cmeth(3)"
   ]
  },
  {
   "cell_type": "code",
   "execution_count": null,
   "metadata": {},
   "outputs": [
    {
     "data": {
      "text/plain": [
       "'Bob Methods'"
      ]
     },
     "metadata": {},
     "output_type": "display_data"
    }
   ],
   "source": [
    "obj.name"
   ]
  },
  {
   "cell_type": "markdown",
   "metadata": {},
   "source": [
    "Keep in mind that `staticmethod` and its kin here are still built-in functions; they may\n",
    "be used in decoration syntax, just because they take a function as an argument and\n",
    "return a callable to which the original function name can be rebound. In fact, any such\n",
    "function can be used in this way—even user-defined functions we code ourselves, as\n",
    "the next section explains."
   ]
  },
  {
   "cell_type": "markdown",
   "metadata": {},
   "source": [
    "### A First Look at User-Defined Function Decorators\n",
    "\n",
    "\n",
    "Although Python provides a handful of built-in functions that can be used as decorators,\n",
    "we can also write custom decorators of our own. Because of their wide utility, we’re\n",
    "going to devote an entire section to coding decorators in the next section. As\n",
    "a quick example, though, let’s look at a simple user-defined decorator at work.\n",
    "\n",
    "Recall from [Chapter 30]() that the `__call__` operator overloading method implements a\n",
    "function-call interface for class instances. The following code uses this to define a call\n",
    "*proxy* class that saves the decorated function in the instance and catches calls to the\n",
    "original name. Because this is a class, it also has state information—a counter of calls\n",
    "made:"
   ]
  },
  {
   "cell_type": "code",
   "execution_count": null,
   "metadata": {},
   "outputs": [
    {
     "name": "stdout",
     "output_type": "stream",
     "text": [
      "call 1 to spam\n",
      "6\n",
      "call 2 to spam\n",
      "abc\n"
     ]
    }
   ],
   "source": [
    "class tracer:\n",
    "    def __init__(self, func): # Remember original, init counter\n",
    "        self.calls = 0\n",
    "        self.func = func\n",
    "    def __call__(self, *args): # On later calls: add logic, run original\n",
    "        self.calls += 1\n",
    "        print('call %s to %s' % (self.calls, self.func.__name__))\n",
    "        return self.func(*args)\n",
    "\n",
    "@tracer # Same as spam = tracer(spam)\n",
    "def spam(a, b, c): # Wrap spam in a decorator object\n",
    "    return a + b + c\n",
    "\n",
    "print(spam(1, 2, 3)) # Really calls the tracer wrapper object\n",
    "print(spam('a', 'b', 'c')) # Invokes __call__ in class"
   ]
  },
  {
   "cell_type": "markdown",
   "metadata": {},
   "source": [
    "Because the `spam` function is run through the `tracer` decorator, when the original\n",
    "`spam` name is called it actually triggers the `__call__` method in the class. This method\n",
    "counts and logs the call, and then dispatches it to the original wrapped function. Note\n",
    "how the `*name` argument syntax is used to pack and unpack the passed-in arguments;\n",
    "because of this, this decorator can be used to wrap any function with any number of\n",
    "positional arguments.\n",
    "\n",
    "The net effect, again, is to add a layer of logic to the original `spam` function. Here is the\n",
    "script’s 3.X and 2.X output—the first line comes from the tracer class, and the second\n",
    "gives the return value of the spam function itself.\n",
    "\n",
    "\n",
    "Trace through this example’s code for more insight. As it is, this decorator works for\n",
    "any function that takes positional arguments, but it does not handle *keyword* arguments, \n",
    "and cannot decorate class-level *method* functions (in short, for methods its\n",
    "`__call__` would be passed a `tracer` instance only). As we’ll see in [Part VIII](), there are a\n",
    "variety of ways to code function decorators, including nested `def` statements; some of\n",
    "the alternatives are better suited to methods than the version shown here.\n",
    "\n",
    "For example, by using nested functions with enclosing scopes for state, instead of \n",
    "callable class instances with attributes, function decorators often become more broadly\n",
    "applicable to class-level methods too. We’ll postpone the full details on this, but here’s\n",
    "a brief look at this *closure* based coding model; it uses function attributes for counter\n",
    "state for portability, but could leverage variables and `nonlocal` instead in 3.X only:"
   ]
  },
  {
   "cell_type": "code",
   "execution_count": null,
   "metadata": {},
   "outputs": [],
   "source": [
    "def tracer(func):                   # Remember original\n",
    "    def oncall(*args):              # On later calls\n",
    "        oncall.calls += 1\n",
    "        print('call %s to %s' % (oncall.calls, func.__name__))\n",
    "        return func(*args)\n",
    "\n",
    "    oncall.calls = 0\n",
    "    return oncall\n",
    "\n",
    "class C:\n",
    "    @tracer\n",
    "    def spam(self,a, b, c): return a + b + c\n",
    "\n",
    "x = C()\n",
    "print(x.spam(1, 2, 3))\n",
    "print(x.spam('a', 'b', 'c'))        # Same output as tracer1 (in tracer2.py)"
   ]
  },
  {
   "cell_type": "markdown",
   "metadata": {},
   "source": [
    "### A First Look at Class Decorators and Metaclasses\n",
    "\n",
    "\n",
    "Function decorators turned out to be so useful that Python 2.6 and 3.0 expanded the\n",
    "model, allowing decorators to be applied to classes as well as functions. In short, \n",
    "*class decorators* are similar to function decorators, but they are run at the end of a `class`\n",
    "statement to rebind a class name to a callable. As such, they can be used to either\n",
    "manage classes just after they are created, or insert a layer of wrapper logic to manage\n",
    "instances when they are later created. \n",
    "\n"
   ]
  },
  {
   "cell_type": "markdown",
   "metadata": {},
   "source": [
    "Symbolically, the code structure:\n",
    "\n",
    "```python\n",
    "    def decorator(aClass): ...\n",
    "\n",
    "    @decorator                          # Class decoration syntax\n",
    "    class C: ...\n",
    "```\n",
    "\n",
    "is mapped to the following equivalent:\n",
    "\n",
    "```python\n",
    "    def decorator(aClass): ...\n",
    "    \n",
    "    class C: ...                        # Name rebinding equivalent\n",
    "    C = decorator(C)\n",
    "```\n",
    "\n"
   ]
  },
  {
   "cell_type": "markdown",
   "metadata": {},
   "source": [
    "The class decorator is free to augment the class itself, or return a *proxy* object that\n",
    "intercepts later instance construction calls. For example, in the code of the section\n",
    "[“Counting instances per class with class methods” on page 1033](), we could use this\n",
    "hook to automatically augment the classes with instance counters and any other data\n",
    "required:\n",
    "\n",
    "```python\n",
    "    def count(aClass):\n",
    "        aClass.numInstances = 0\n",
    "        return aClass               # Return class itself, instead of a wrapper\n",
    "    \n",
    "    @count\n",
    "    class Spam: ...                 # Same as Spam = count(Spam)\n",
    "    \n",
    "    @count\n",
    "    class Sub(Spam): ...            # numInstances = 0 not needed here\n",
    "    \n",
    "    @count\n",
    "    class Other(Spam): ...\n",
    "```\n",
    "\n",
    "\n",
    "In fact, as coded, this decorator can be applied to class *or* functions—it happily returns\n",
    "the object being defined in either context after initializing the object’s attribute:\n",
    "\n",
    "```python\n",
    "    @count\n",
    "    def spam(): pass                # Like spam = count(spam)\n",
    "\n",
    "    @count\n",
    "    class Other: pass               # Like Other = count(Other)\n",
    "    \n",
    "    spam.numInstances               # Both are set to zero\n",
    "    Other.numInstances\n",
    "```\n",
    "\n"
   ]
  },
  {
   "cell_type": "markdown",
   "metadata": {},
   "source": [
    "Though this decorator manages a function or class itself, as we’ll see later in this book,\n",
    "class decorators can also manage an object’s entire *interface* by intercepting construction calls, \n",
    "and wrapping the new instance object in a *proxy* that deploys attribute accessor tools \n",
    "to intercept later requests—a multilevel coding technique we’ll use \n",
    "to implement class attribute privacy in [Chapter 39](). Here’s a preview of the model:\n",
    "\n",
    "```python\n",
    "    def decorator(cls):                         # On @ decoration\n",
    "        class Proxy:\n",
    "            def __init__(self, *args):          # On instance creation: make a cls\n",
    "                self.wrapped = cls(*args)\n",
    "            def __getattr__(self, name):        # On attribute fetch: extra ops here\n",
    "                return getattr(self.wrapped, name)\n",
    "\n",
    "        return Proxy\n",
    "        \n",
    "    @decorator\n",
    "    class C: ...            # Like C = decorator(C)\n",
    "\n",
    "    X = C()                 # Makes a Proxy that wraps a C, and catches later X.attr\n",
    "```\n",
    "\n"
   ]
  },
  {
   "cell_type": "markdown",
   "metadata": {},
   "source": [
    "*Metaclasses*, as mentioned briefly earlier, are a similarly advanced class-based tool whose\n",
    "roles often intersect with those of class decorators. They provide an alternate model,\n",
    "which routes the creation of a class object to a subclass of the top-level `type` class, at\n",
    "the conclusion of a `class` statement:\n",
    "\n",
    "```python\n",
    "    class Meta(type):\n",
    "        def __new__(meta, classname, supers, classdict):\n",
    "            ... extra logic + class creation via type call...\n",
    "\n",
    "    class C(metaclass=Meta):\n",
    "        ... my creation routed to Meta... # Like C = Meta('C', (), {...})\n",
    "```\n",
    "\n",
    "In Python 2.X, the effect is the same, but the coding differs—use a class attribute instead\n",
    "of a keyword argument in the `class` header:\n",
    "\n",
    "```python\n",
    "    class C:\n",
    "        __metaclass__ = Meta\n",
    "        ... my creation routed to Meta...\n",
    "```\n",
    "\n",
    "In either line, Python calls a class’s metaclass to create the new class object, passing in\n",
    "the data defined during the class statement’s run; in 2.X, the metaclass simply defaults\n",
    "to the classic class creator:\n",
    "\n",
    "```python\n",
    "    classname = Meta(classname, superclasses, attributedict)\n",
    "```\n",
    "\n"
   ]
  },
  {
   "cell_type": "markdown",
   "metadata": {},
   "source": [
    "To assume control of the creation or initialization of a new class object, a metaclass\n",
    "generally redefines the `__new__` or `__init__` method of the `type` class that normally\n",
    "intercepts this call. The net effect, as with class decorators, is to define code to be run\n",
    "automatically at class creation time. Here, this step binds the class name to the result\n",
    "of a call to a user-defined metaclass. In fact, a metaclass need not be a class at all—a\n",
    "possibility we’ll explore later that blurs some of the distinction between this tool and\n",
    "decorators, and may even qualify the two as functionally equivalent in many roles.\n",
    "\n",
    "Both schemes, class decorators and metaclasses, are free to augment a class or return\n",
    "an arbitrary object to replace it—a protocol with almost limitless class-based customization \n",
    "possibilities. As we’ll see later, metaclasses may also define *methods* that process\n",
    "their instance classes, rather than normal instances of them—a technique that’s similar\n",
    "to class methods, and might be emulated in spirit by methods and data in class decorator proxies, \n",
    "or even a class decorator that returns a metaclass instance. Such mind-binding concepts \n",
    "will require [Chapter 40]()’s conceptual groundwork (and quite possibly sedation!)."
   ]
  },
  {
   "cell_type": "markdown",
   "metadata": {},
   "source": [
    "### For More Details\n",
    "\n",
    "\n",
    "Naturally, there’s much more to the decorator and metaclass stories than shown here. \n",
    "Although they are a general mechanism whose usage may be required by some\n",
    "packages, coding *new* user-defined decorators and metaclasses is an advanced topic of\n",
    "interest primarily to tool writers, not application programmers. Because of this, we’ll\n",
    "defer additional coverage until the final and optional part of this book:\n",
    "\n",
    "  + [Chapter 38]() shows how to code properties using function decorator syntax in more depth.\n",
    "\n",
    "  + [Chapter 39]() has much more on decorators, including more comprehensive examples.\n",
    "\n",
    "  + [Chapter 40]() covers metaclasses, and more on the class and instance management story.\n",
    "\n",
    "Although these chapters cover advanced topics, they’ll also provide us with a chance\n",
    "to see Python at work in more substantial examples than much of the rest of the book\n",
    "was able to provide. For now, let’s move on to our final class-related topic."
   ]
  }
 ],
 "metadata": {
  "interpreter": {
   "hash": "c97461ed06fc3eed5ba645d4221719a96ff8e1e800c131564c8e628fd4e8725a"
  },
  "kernelspec": {
   "display_name": "Python 3.8.8 ('base')",
   "language": "python",
   "name": "python3"
  },
  "language_info": {
   "codemirror_mode": {
    "name": "ipython",
    "version": 3
   },
   "file_extension": ".py",
   "mimetype": "text/x-python",
   "name": "python",
   "nbconvert_exporter": "python",
   "pygments_lexer": "ipython3",
   "version": "3.8.8"
  },
  "orig_nbformat": 4
 },
 "nbformat": 4,
 "nbformat_minor": 2
}
