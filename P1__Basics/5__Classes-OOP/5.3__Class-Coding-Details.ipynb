{
 "cells": [
  {
   "cell_type": "markdown",
   "metadata": {},
   "source": [
    "# Class Coding Details\n",
    "\n",
    "\n",
    "Here, we’re going to study classes, methods, and inheritance, formalizing and\n",
    "expanding on some of the coding ideas introduced in [Chapter 27](). Because the class is\n",
    "a namespace tool, we’ll summarize Python’s namespace and scope concepts as\n",
    "well.\n",
    "\n",
    "Content note: if you’ve been reading linearly, some of this chapter will be review and\n",
    "summary of topics introduced in the preceding chapter’s case study, revisited here by\n",
    "language topics with smaller and more self-contained examples for readers new to\n",
    "OOP. Others may be tempted to skip some of this chapter, but be sure to see the\n",
    "namespace coverage here, as it explains some subtleties in Python’s class model."
   ]
  },
  {
   "cell_type": "markdown",
   "metadata": {},
   "source": [
    "## The `class` Statement\n",
    "\n",
    "\n",
    "Although the Python `class` statement may seem similar to tools in other OOP languages\n",
    "on the surface, on closer inspection, it is quite different from what some programmers\n",
    "are used to. For example, as in C++, the `class` statement is Python’s main OOP tool,\n",
    "but unlike in C++, Python’s `class` is not a declaration. Like a `def`, a `class` statement is\n",
    "an object builder, and an implicit assignment—when run, it generates a class object\n",
    "and stores a reference to it in the name used in the header. Also like a `def`, a `class`\n",
    "statement is true executable code—your class doesn’t exist until Python reaches and\n",
    "runs the `class` statement that defines it. This typically occurs while importing the\n",
    "module it is coded in, but not before."
   ]
  },
  {
   "cell_type": "markdown",
   "metadata": {},
   "source": [
    "### General Form\n",
    "\n",
    "\n",
    "`class` is a compound statement, with a body of statements typically indented appearing\n",
    "under the header. In the header, superclasses are listed in parentheses after the class\n",
    "name, separated by commas. Listing more than one superclass leads to multiple inheritance. \n",
    "Here is the statement’s general form:\n",
    "```python\n",
    "    class name(superclass,...):         # Assign to name\n",
    "        attr = value                    # Shared class data\n",
    "        def method(self,...):           # Methods\n",
    "            self. attr = value          # Per-instance data\n",
    "```\n",
    "Within the `class` statement, any assignments generate class attributes, and specially\n",
    "named methods overload operators; for instance, a function called `__init__` is called\n",
    "at instance object construction time, if defined."
   ]
  },
  {
   "cell_type": "markdown",
   "metadata": {},
   "source": [
    "### Example\n",
    "\n",
    "As we’ve seen, classes are mostly just *namespaces*—that is, tools for defining names\n",
    "(i.e., attributes) that export data and logic to clients. A `class` statement effectively \n",
    "defines a namespace. The statements nested in a `class` statement body create its attributes. \n",
    "When Python executes a `class` statement (not a call to a class), it runs all the statements \n",
    "in its body, from top to bottom. Assignments that\n",
    "happen during this process create names in the class’s local scope, which become \n",
    "attributes in the associated class object. Because of this, classes resemble both *modules*\n",
    "and *functions*:\n",
    "\n",
    "  + Like functions, `class` statements are local scopes where names created by nested assignments live.\n",
    "\n",
    "  + Like names in a module, names assigned in a `class` statement become attributes in a class object.\n",
    "\n",
    "The main distinction for classes is that their namespaces are also the basis of *inheritance* \n",
    "in Python; reference attributes that are not found in a class or instance object are\n",
    "fetched from other classes.\n",
    "\n",
    "Because `class` is a compound statement, any sort of statement can be nested inside its\n",
    "body—`print`, assignments, `if`, `def`, and so on. All the statements inside the `class` statement run when the `class` statement itself runs (not when the class is later called to make\n",
    "an instance). Typically, assignment statements inside the `class` statement make ***data attributes***, and nested `def`s make ***method attributes***. In general, though, any type of\n",
    "name assignment at the top level of a `class` statement creates a same-named attribute\n",
    "of the resulting class object.\n",
    "\n",
    "For example, assignments of simple nonfunction objects to class attributes produce\n",
    "*data attributes*, shared by all instances:"
   ]
  },
  {
   "cell_type": "code",
   "execution_count": 1,
   "metadata": {},
   "outputs": [
    {
     "data": {
      "text/plain": [
       "(42, 42)"
      ]
     },
     "execution_count": 1,
     "metadata": {},
     "output_type": "execute_result"
    }
   ],
   "source": [
    "class SharedData:\n",
    "    spam = 42 # Generates a class data \n",
    "    \n",
    "x = SharedData() # Make two instances\n",
    "y = SharedData()\n",
    "x.spam, y.spam # They inherit and share 'spam' (a.k.a. SharedData.spam)"
   ]
  },
  {
   "cell_type": "markdown",
   "metadata": {},
   "source": [
    "Here, because the name `spam` is assigned at the top level of a `class` statement, it is\n",
    "attached to the class and so will be shared by all instances. We can change it by going\n",
    "through the class name, and we can refer to it through either instances or the class:"
   ]
  },
  {
   "cell_type": "code",
   "execution_count": 2,
   "metadata": {},
   "outputs": [
    {
     "data": {
      "text/plain": [
       "(99, 99, 99)"
      ]
     },
     "execution_count": 2,
     "metadata": {},
     "output_type": "execute_result"
    }
   ],
   "source": [
    "SharedData.spam = 99\n",
    "x.spam, y.spam, SharedData.spam"
   ]
  },
  {
   "cell_type": "markdown",
   "metadata": {},
   "source": [
    "Such class attributes can be used to manage information that spans all the instances—\n",
    "a counter of the number of instances generated, for example. \n",
    "Now, watch what happens if we assign the name `spam` \n",
    "through an instance instead of the class:"
   ]
  },
  {
   "cell_type": "code",
   "execution_count": 3,
   "metadata": {},
   "outputs": [
    {
     "data": {
      "text/plain": [
       "(88, 99, 99)"
      ]
     },
     "execution_count": 3,
     "metadata": {},
     "output_type": "execute_result"
    }
   ],
   "source": [
    "x.spam = 88\n",
    "x.spam, y.spam, SharedData.spam"
   ]
  },
  {
   "cell_type": "markdown",
   "metadata": {},
   "source": [
    "Assignments to instance attributes create or change the names in the instance, rather\n",
    "than in the shared class. More generally, inheritance searches occur only on attribute\n",
    "*references*, not on assignment: assigning to an object’s attribute always changes that\n",
    "object, and no other. For example, `y.spam` is looked up in the class by inheritance, but\n",
    "the assignment to `x.spam` attaches a name to `x` itself.\n",
    "\n",
    "Here’s a more comprehensive example of this behavior that stores the same name in\n",
    "two places. Suppose we run the following class:"
   ]
  },
  {
   "cell_type": "code",
   "execution_count": 4,
   "metadata": {},
   "outputs": [],
   "source": [
    "class MixedNames:                           # Define class\n",
    "    data = 'spam'                           # Assign class attr\n",
    "    def __init__(self, value):              # Assign method name\n",
    "        self.data = value                   # Assign instance attr\n",
    "    def display(self):\n",
    "        print(self.data, MixedNames.data)   # Instance attr, class attr"
   ]
  },
  {
   "cell_type": "markdown",
   "metadata": {},
   "source": [
    "This class contains two `def`s, which bind class attributes to method functions. It also\n",
    "contains an `=` assignment statement; because this assignment assigns the name `data`\n",
    "inside the class, it lives in the class’s local scope and becomes an attribute of the class\n",
    "object. Like all class attributes, this `data` is inherited and shared by all instances of the\n",
    "class that don’t have `data` attributes of their own.\n",
    "\n",
    "When we make instances of this class, the name `data` is attached to those instances by\n",
    "the assignment to `self.data` in the constructor method:"
   ]
  },
  {
   "cell_type": "code",
   "execution_count": 5,
   "metadata": {},
   "outputs": [
    {
     "name": "stdout",
     "output_type": "stream",
     "text": [
      "1 spam\n",
      "2 spam\n"
     ]
    }
   ],
   "source": [
    "x = MixedNames(1)                   # Make two instance objects\n",
    "y = MixedNames(2)                   # Each has its own data\n",
    "x.display(); y.display()            # self.data differs, MixedNames.data is the same"
   ]
  },
  {
   "cell_type": "markdown",
   "metadata": {},
   "source": [
    "The net result is that `data` lives in two places: in the instance objects (created by the\n",
    "`self.data` assignment in `__init__`), and in the class from which they inherit names\n",
    "(created by the `data` assignment in the class). The class’s `display` method prints both\n",
    "versions, by first qualifying the `self` instance, and then the class.\n",
    "\n",
    "By using these techniques to store attributes in different objects, we determine their\n",
    "scope of visibility. When attached to classes, names are shared; in instances, names\n",
    "record per-instance data, not shared behavior or data. Although inheritance searches\n",
    "look up names for us, we can always get to an attribute anywhere in a tree by accessing\n",
    "the desired object directly.\n",
    "\n",
    "In the preceding example, for instance, specifying `x.data` or `self.data` will return an\n",
    "instance name, which normally hides the same name in the class; however, `MixedNames.data` \n",
    "grabs the class’s version of the name explicitly."
   ]
  },
  {
   "cell_type": "markdown",
   "metadata": {},
   "source": [
    "## Methods\n",
    "\n",
    "Because you already know about functions, you also know about methods in classes.\n",
    "Methods are just function objects created by `def` statements nested in a class \n",
    "statement’s body. \n",
    "From an abstract perspective, methods provide behavior for instance \n",
    "objects to inherit. \n",
    "From a programming perspective, methods work in exactly the same\n",
    "way as simple functions, with one crucial exception: a method’s first argument always\n",
    "receives the instance object that is the implied subject of the method call.\n",
    "\n",
    "In other words, Python automatically maps instance method calls to a class’s method\n",
    "functions as follows. Method calls made through an instance, like this:\n",
    "\n",
    "```python    \n",
    "    instance.method(args... )\n",
    "```\n",
    "\n",
    "are automatically translated to class method function calls of this form:\n",
    "\n",
    "```python\n",
    "    class.method(instance, args... )\n",
    "```\n",
    "\n",
    "where Python determines the class by locating the method name using the inheritance\n",
    "search procedure. In fact, both call forms are valid in Python.\n",
    "\n",
    "Besides the normal inheritance of method attribute names, the special first argument\n",
    "is the only real magic behind method calls. In a class’s method, the first argument is\n",
    "usually called `self` by convention (technically, only its position is significant, not its\n",
    "name). This argument provides methods with a hook back to the instance that is the\n",
    "subject of the call—because classes generate many instance objects, they need to use\n",
    "this argument to manage data that varies per instance.\n",
    "\n",
    "C++ programmers may recognize Python’s `self` argument as being similar to C++’s\n",
    "`this` pointer. In Python, though, `self` is always explicit in your code: methods must\n",
    "always go through `self` to fetch or change attributes of the instance being processed\n",
    "by the current method call. This explicit nature of `self` is by design—the presence of\n",
    "this name makes it obvious that you are using instance attribute names in your script,\n",
    "not names in the local or global scope.\n"
   ]
  },
  {
   "cell_type": "markdown",
   "metadata": {},
   "source": [
    "### Method Example\n",
    "\n",
    "To clarify these concepts, let’s turn to an example. Suppose we define the following\n",
    "class:"
   ]
  },
  {
   "cell_type": "code",
   "execution_count": 6,
   "metadata": {},
   "outputs": [],
   "source": [
    "class NextClass:                        # Define class\n",
    "    def printer(self, text):            # Define method\n",
    "        self.message = text             # Change instance\n",
    "        print(self.message)             # Access instance"
   ]
  },
  {
   "cell_type": "markdown",
   "metadata": {},
   "source": [
    "The name `printer` references a function object; because it’s assigned in the `class` \n",
    "statement’s scope, it becomes a class object attribute and is inherited by every instance made\n",
    "from the class. Normally, because methods like `printer` are designed to process instances, \n",
    "we call them through instances:"
   ]
  },
  {
   "cell_type": "code",
   "execution_count": 7,
   "metadata": {},
   "outputs": [
    {
     "name": "stdout",
     "output_type": "stream",
     "text": [
      "instance call\n"
     ]
    }
   ],
   "source": [
    "x = NextClass()                         # Make instance\n",
    "x.printer('instance call')              # Call its method"
   ]
  },
  {
   "cell_type": "code",
   "execution_count": 8,
   "metadata": {},
   "outputs": [
    {
     "data": {
      "text/plain": [
       "'instance call'"
      ]
     },
     "execution_count": 8,
     "metadata": {},
     "output_type": "execute_result"
    }
   ],
   "source": [
    "x.message                               # Instance changed"
   ]
  },
  {
   "cell_type": "markdown",
   "metadata": {},
   "source": [
    "When we call the method by qualifying an instance like this, printer is first located by\n",
    "inheritance, and then its `self` argument is automatically assigned the instance object\n",
    "(`x`); the text argument gets the string passed at the call (`'instance call'`). Notice that\n",
    "because Python automatically passes the first argument to `self` for us, we only actually\n",
    "have to pass in one argument. Inside printer, the name `self` is used to access or set\n",
    "per-instance data because it refers back to the instance currently being processed.\n",
    "\n",
    "As we’ve seen, though, methods may be called in one of two ways—through an instance, \n",
    "or through the class itself. For example, we can also call printer by going\n",
    "through the class name, provided we pass an instance to the `self` argument explicitly:"
   ]
  },
  {
   "cell_type": "code",
   "execution_count": 9,
   "metadata": {},
   "outputs": [
    {
     "name": "stdout",
     "output_type": "stream",
     "text": [
      "class call\n"
     ]
    }
   ],
   "source": [
    "NextClass.printer(x, 'class call')      # Direct class call"
   ]
  },
  {
   "cell_type": "code",
   "execution_count": 10,
   "metadata": {},
   "outputs": [
    {
     "data": {
      "text/plain": [
       "'class call'"
      ]
     },
     "execution_count": 10,
     "metadata": {},
     "output_type": "execute_result"
    }
   ],
   "source": [
    "x.message                               # Instance changed again"
   ]
  },
  {
   "cell_type": "markdown",
   "metadata": {},
   "source": [
    "Calls routed through the instance and the class have the exact same effect, as long as\n",
    "we pass the same instance object ourselves in the class form. By default, in fact, you get\n",
    "an error message if you try to call a method without any instance:"
   ]
  },
  {
   "cell_type": "code",
   "execution_count": 11,
   "metadata": {},
   "outputs": [
    {
     "ename": "TypeError",
     "evalue": "printer() missing 1 required positional argument: 'text'",
     "output_type": "error",
     "traceback": [
      "\u001b[1;31m---------------------------------------------------------------------------\u001b[0m",
      "\u001b[1;31mTypeError\u001b[0m                                 Traceback (most recent call last)",
      "\u001b[1;32m<ipython-input-11-628a808881c2>\u001b[0m in \u001b[0;36m<module>\u001b[1;34m\u001b[0m\n\u001b[1;32m----> 1\u001b[1;33m \u001b[0mNextClass\u001b[0m\u001b[1;33m.\u001b[0m\u001b[0mprinter\u001b[0m\u001b[1;33m(\u001b[0m\u001b[1;34m'bad call'\u001b[0m\u001b[1;33m)\u001b[0m\u001b[1;33m\u001b[0m\u001b[1;33m\u001b[0m\u001b[0m\n\u001b[0m",
      "\u001b[1;31mTypeError\u001b[0m: printer() missing 1 required positional argument: 'text'"
     ]
    }
   ],
   "source": [
    "NextClass.printer('bad call')"
   ]
  },
  {
   "cell_type": "markdown",
   "metadata": {},
   "source": [
    "### Calling Superclass Constructors\n",
    "\n",
    "Methods are normally called through instances. Calls to methods through a class,\n",
    "though, do show up in a variety of special roles. One common scenario involves the\n",
    "constructor method. The `__init__` method, like all attributes, is looked up by \n",
    "inheritance. This means that at construction time, Python locates and calls just *one*\n",
    "`__init__`. If subclass constructors need to guarantee that superclass construction-time\n",
    "logic runs, too, they generally must call the superclass’s `__init__` method explicitly\n",
    "through the class:\n",
    "\n",
    "```python\n",
    "    class Super:\n",
    "        def __init__(self, x):\n",
    "            ...default code...\n",
    "\n",
    "    class Sub(Super):\n",
    "        def __init__(self, x, y):\n",
    "            Super.__init__(self, x)             # Run superclass __init__\n",
    "            ...custom code...                   # Do my init actions\n",
    "\n",
    "    I = Sub(1, 2)\n",
    "```\n",
    "\n",
    "This is one of the few contexts in which your code is likely to call an operator overloading method directly. Naturally, you should call the superclass constructor this way\n",
    "only if you really *want* it to run—without the call, the subclass replaces it completely.\n",
    "For a more realistic illustration of this technique in action, see the `Manager` class example\n",
    "in the prior section’s tutorial."
   ]
  },
  {
   "cell_type": "markdown",
   "metadata": {},
   "source": [
    "### Other Method Call Possibilities\n",
    "\n",
    "This pattern of calling methods through a class is the general basis of extending—\n",
    "instead of completely replacing—inherited method behavior. It requires an explicit\n",
    "instance to be passed because all methods do by default. Technically, this is because\n",
    "methods are *instance methods* in the absence of any special code.\n",
    "\n",
    "In [Chapter 32](), we’ll also meet a newer option added in Python 2.2, *static methods*, that\n",
    "allow you to code methods that do not expect instance objects in their first arguments.\n",
    "Such methods can act like simple instanceless functions, with names that are local to\n",
    "the classes in which they are coded, and may be used to manage class data. A related\n",
    "concept we’ll meet in the same chapter, the *class method*, receives a class when called\n",
    "instead of an instance and can be used to manage per-class data, and is implied in\n",
    "metaclasses.\n",
    "\n",
    "These are both advanced and usually optional extensions, though. Normally, an instance must always be passed to a method—whether automatically when it is called\n",
    "through an instance, or manually when you call through a class."
   ]
  },
  {
   "cell_type": "markdown",
   "metadata": {},
   "source": [
    "## Inheritance\n",
    "\n",
    "\n",
    "Of course, the whole point of the namespace created by the `class` statement is to support name inheritance. This section expands on some of the mechanisms and roles of\n",
    "attribute inheritance in Python.\n",
    "\n",
    "As we’ve seen, in Python, inheritance happens when an object is qualified, and it involves searching an attribute definition tree—one or more namespaces. Every time you\n",
    "use an expression of the form *`object.attr`* where *`object`* is an instance or class object,\n",
    "Python searches the namespace tree from bottom to top, beginning with *`object`*, looking\n",
    "for the first *`attr`* it can find. This includes references to `self` attributes in your methods.\n",
    "Because lower definitions in the tree override higher ones, inheritance forms the basis\n",
    "of specialization."
   ]
  },
  {
   "cell_type": "markdown",
   "metadata": {},
   "source": [
    "### Attribute Tree Construction\n",
    "\n",
    "[:numref:`Attribute-Tree`]() summarizes the way namespace trees are constructed and populated with\n",
    "names. Generally:\n",
    "\n",
    "  + Instance attributes are generated by assignments to `self` attributes in methods.\n",
    "  + Class attributes are created by statements (assignments) in class statements.\n",
    "  + Superclass links are made by listing classes in parentheses in a class statement header.\n",
    "\n",
    "The net result is a tree of attribute namespaces that leads from an instance, to the class\n",
    "it was generated from, to all the superclasses listed in the class header. Python searches\n",
    "upward in this tree, from instances to superclasses, each time you use qualification to\n",
    "fetch an attribute name from an instance object.\n",
    "\n",
    "![Program code creates a tree of objects in memory to be searched by attribute inheritance. Calling a class creates a new instance that remembers its class, running a class statement creates a new class, and superclasses are listed in parentheses in the class statement header. Each attribute reference triggers a new bottom-up tree search—even references to self attributes within a class’s methods.](../../imgs/Attribute-Tree.png)\n",
    "[:label:`Attribute-Tree`]()"
   ]
  },
  {
   "cell_type": "markdown",
   "metadata": {},
   "source": [
    "### Specializing Inherited Methods\n",
    "\n",
    "The tree-searching model of inheritance just described turns out to be a great way to\n",
    "specialize systems. Because inheritance finds names in subclasses before it checks \n",
    "superclasses, subclasses can replace default behavior by redefining their superclasses’\n",
    "attributes. In fact, you can build entire systems as hierarchies of classes, which you\n",
    "extend by adding new external subclasses rather than changing existing logic in place.\n",
    "\n",
    "The idea of redefining inherited names leads to a variety of specialization techniques.\n",
    "For instance, subclasses may *replace* inherited attributes completely, *provide* attributes\n",
    "that a superclass expects to find, and *extend* superclass methods by calling back to the\n",
    "superclass from an overridden method. We’ve already seen some of these patterns in\n",
    "action; here’s a self-contained example of extension at work:"
   ]
  },
  {
   "cell_type": "code",
   "execution_count": null,
   "metadata": {},
   "outputs": [],
   "source": [
    "class Super:\n",
    "    def method(self):\n",
    "        print('in Super.method')\n",
    "\n",
    "class Sub(Super):\n",
    "    def method(self):                       # Override method\n",
    "        print('starting Sub.method')        # Add actions here\n",
    "        Super.method(self)                  # Run default action\n",
    "        print('ending Sub.method')"
   ]
  },
  {
   "cell_type": "markdown",
   "metadata": {},
   "source": [
    "Direct superclass method calls are the crux of the matter here. The `Sub` class replaces\n",
    "`Super`’s `method` function with its own specialized version, but within the replacement,\n",
    "`Sub` calls back to the version exported by `Super` to carry out the default behavior. In\n",
    "other words, `Sub.method` just extends `Super.method`’s behavior, rather than replacing it\n",
    "completely:"
   ]
  },
  {
   "cell_type": "code",
   "execution_count": null,
   "metadata": {},
   "outputs": [
    {
     "name": "stdout",
     "output_type": "stream",
     "text": [
      "in Super.method\n"
     ]
    }
   ],
   "source": [
    "x = Super()                                 # Make a Super instance\n",
    "x.method()                                  # Runs Super.method"
   ]
  },
  {
   "cell_type": "code",
   "execution_count": null,
   "metadata": {},
   "outputs": [
    {
     "name": "stdout",
     "output_type": "stream",
     "text": [
      "starting Sub.method\n",
      "in Super.method\n",
      "ending Sub.method\n"
     ]
    }
   ],
   "source": [
    "x = Sub() # Make a Sub instance\n",
    "x.method() # Runs Sub.method, calls Super.method"
   ]
  },
  {
   "cell_type": "markdown",
   "metadata": {},
   "source": [
    "This extension coding pattern is also commonly used with constructors."
   ]
  },
  {
   "cell_type": "markdown",
   "metadata": {},
   "source": [
    "### Class Interface Techniques\n",
    "\n",
    "Extension is only one way to interface with a superclass. Below cell defines multiple classes that illustrate a variety of common techniques:\n",
    "\n",
    "- **`Super`**  \n",
    "  Defines a `method` function and a `delegate` that expects an action in a subclass.\n",
    "\n",
    "- **`Inheritor`**  \n",
    "    Doesn’t provide any new names, so it gets everything defined in `Super`.\n",
    "\n",
    "- **`Replacer`**  \n",
    "  Overrides `Super`’s `method` with a version of its own.\n",
    "\n",
    "- **`Extender`**  \n",
    "  Customizes `Super`’s `method` by overriding and calling back to run the default.\n",
    "\n",
    "- **`Provider`**  \n",
    "  Implements the `action` method expected by `Super`’s `delegate` method.  \n",
    "\n",
    "Study each of these subclasses to get a feel for the various ways they customize their\n",
    "common superclass. Here’s the file:"
   ]
  },
  {
   "cell_type": "code",
   "execution_count": null,
   "metadata": {},
   "outputs": [],
   "source": [
    "class Super:\n",
    "    def method(self):\n",
    "        print('in Super.method') # Default behavior\n",
    "    def delegate(self):\n",
    "        self.action() # Expected to be defined\n",
    "\n",
    "class Inheritor(Super): # Inherit method verbatim\n",
    "    pass\n",
    "\n",
    "class Replacer(Super): # Replace method completely\n",
    "    def method(self):\n",
    "        print('in Replacer.method')\n",
    "\n",
    "class Extender(Super): # Extend method behavior\n",
    "    def method(self):\n",
    "        print('starting Extender.method')\n",
    "        Super.method(self)\n",
    "        print('ending Extender.method')\n",
    "\n",
    "class Provider(Super): # Fill in a required method\n",
    "    def action(self):\n",
    "        print('in Provider.action')"
   ]
  },
  {
   "cell_type": "markdown",
   "metadata": {},
   "source": [
    "A few things are worth pointing out here. First, notice how the self-test code at the end\n",
    "of this example creates instances of three different classes in a `for` loop. Because classes\n",
    "are objects, you can store them in a tuple and create instances generically with no extra\n",
    "syntax (more on this idea later). Classes also have the special `__name__` attribute, like\n",
    "modules; it’s preset to a string containing the name in the class header. Here’s what\n",
    "happens when we run the code:"
   ]
  },
  {
   "cell_type": "code",
   "execution_count": null,
   "metadata": {},
   "outputs": [
    {
     "name": "stdout",
     "output_type": "stream",
     "text": [
      "\n",
      "Inheritor...\n",
      "in Super.method\n",
      "\n",
      "Replacer...\n",
      "in Replacer.method\n",
      "\n",
      "Extender...\n",
      "starting Extender.method\n",
      "in Super.method\n",
      "ending Extender.method\n",
      "\n",
      "Provider...\n",
      "in Provider.action\n"
     ]
    }
   ],
   "source": [
    "for klass in (Inheritor, Replacer, Extender):\n",
    "    print('\\n' + klass.__name__ + '...')\n",
    "    klass().method()\n",
    "print('\\nProvider...')\n",
    "x = Provider()\n",
    "x.delegate()"
   ]
  },
  {
   "cell_type": "markdown",
   "metadata": {},
   "source": [
    "### Abstract Superclasses\n",
    "\n",
    "Of the prior example’s classes, `Provider` may be the most crucial to understand. When\n",
    "we call the `delegate` method through a `Provider` instance, *two* independent inheritance\n",
    "searches occur:\n",
    "\n",
    "1. On the initial `x.delegate` call, Python finds the `delegate` method in `Super` by\n",
    "   searching the `Provider` instance and above. The instance `x` is passed into the\n",
    "   method’s `self` argument as usual.\n",
    "\n",
    "2. Inside the `Super.delegate` method, `self.action` invokes a new, independent inheritance \n",
    "   search of `self` and above. Because `self` references a `Provider` instance,\n",
    "   the `action` method is located in the `Provider` subclass.\n",
    "\n",
    "This “filling in the blanks” sort of coding structure is typical of OOP frameworks. In a\n",
    "more realistic context, the method filled in this way might handle an event in a GUI,\n",
    "provide data to be rendered as part of a web page, process a tag’s text in an XML file,\n",
    "and so on—your subclass provides specific actions, but the framework handles the rest\n",
    "of the overall job.\n",
    "\n",
    "At least in terms of the `delegate` method, the superclass in this example is what is\n",
    "sometimes called an ***abstract superclass***—a class that expects parts of its behavior to be\n",
    "provided by its subclasses. If an expected method is not defined in a subclass, Python\n",
    "raises an undefined name exception when the inheritance search fails.\n",
    "\n",
    "Class coders sometimes make such subclass requirements more obvious with `assert`\n",
    "statements, or by raising the built-in `NotImplementedError` exception with `raise` statements. Here’s the assert scheme in action:"
   ]
  },
  {
   "cell_type": "code",
   "execution_count": null,
   "metadata": {},
   "outputs": [
    {
     "ename": "AssertionError",
     "evalue": "action must be defined!",
     "output_type": "error",
     "traceback": [
      "\u001b[1;31m---------------------------------------------------------------------------\u001b[0m",
      "\u001b[1;31mAssertionError\u001b[0m                            Traceback (most recent call last)",
      "\u001b[1;32m<ipython-input-17-92ea4f1bc8d6>\u001b[0m in \u001b[0;36m<module>\u001b[1;34m\u001b[0m\n\u001b[0;32m      6\u001b[0m \u001b[1;33m\u001b[0m\u001b[0m\n\u001b[0;32m      7\u001b[0m \u001b[0mX\u001b[0m \u001b[1;33m=\u001b[0m \u001b[0mSuper\u001b[0m\u001b[1;33m(\u001b[0m\u001b[1;33m)\u001b[0m\u001b[1;33m\u001b[0m\u001b[1;33m\u001b[0m\u001b[0m\n\u001b[1;32m----> 8\u001b[1;33m \u001b[0mX\u001b[0m\u001b[1;33m.\u001b[0m\u001b[0mdelegate\u001b[0m\u001b[1;33m(\u001b[0m\u001b[1;33m)\u001b[0m\u001b[1;33m\u001b[0m\u001b[1;33m\u001b[0m\u001b[0m\n\u001b[0m",
      "\u001b[1;32m<ipython-input-17-92ea4f1bc8d6>\u001b[0m in \u001b[0;36mdelegate\u001b[1;34m(self)\u001b[0m\n\u001b[0;32m      1\u001b[0m \u001b[1;32mclass\u001b[0m \u001b[0mSuper\u001b[0m\u001b[1;33m:\u001b[0m\u001b[1;33m\u001b[0m\u001b[1;33m\u001b[0m\u001b[0m\n\u001b[0;32m      2\u001b[0m     \u001b[1;32mdef\u001b[0m \u001b[0mdelegate\u001b[0m\u001b[1;33m(\u001b[0m\u001b[0mself\u001b[0m\u001b[1;33m)\u001b[0m\u001b[1;33m:\u001b[0m\u001b[1;33m\u001b[0m\u001b[1;33m\u001b[0m\u001b[0m\n\u001b[1;32m----> 3\u001b[1;33m         \u001b[0mself\u001b[0m\u001b[1;33m.\u001b[0m\u001b[0maction\u001b[0m\u001b[1;33m(\u001b[0m\u001b[1;33m)\u001b[0m\u001b[1;33m\u001b[0m\u001b[1;33m\u001b[0m\u001b[0m\n\u001b[0m\u001b[0;32m      4\u001b[0m     \u001b[1;32mdef\u001b[0m \u001b[0maction\u001b[0m\u001b[1;33m(\u001b[0m\u001b[0mself\u001b[0m\u001b[1;33m)\u001b[0m\u001b[1;33m:\u001b[0m\u001b[1;33m\u001b[0m\u001b[1;33m\u001b[0m\u001b[0m\n\u001b[0;32m      5\u001b[0m         \u001b[1;32massert\u001b[0m \u001b[1;32mFalse\u001b[0m\u001b[1;33m,\u001b[0m \u001b[1;34m'action must be defined!'\u001b[0m     \u001b[1;31m# If this version is called\u001b[0m\u001b[1;33m\u001b[0m\u001b[1;33m\u001b[0m\u001b[0m\n",
      "\u001b[1;32m<ipython-input-17-92ea4f1bc8d6>\u001b[0m in \u001b[0;36maction\u001b[1;34m(self)\u001b[0m\n\u001b[0;32m      3\u001b[0m         \u001b[0mself\u001b[0m\u001b[1;33m.\u001b[0m\u001b[0maction\u001b[0m\u001b[1;33m(\u001b[0m\u001b[1;33m)\u001b[0m\u001b[1;33m\u001b[0m\u001b[1;33m\u001b[0m\u001b[0m\n\u001b[0;32m      4\u001b[0m     \u001b[1;32mdef\u001b[0m \u001b[0maction\u001b[0m\u001b[1;33m(\u001b[0m\u001b[0mself\u001b[0m\u001b[1;33m)\u001b[0m\u001b[1;33m:\u001b[0m\u001b[1;33m\u001b[0m\u001b[1;33m\u001b[0m\u001b[0m\n\u001b[1;32m----> 5\u001b[1;33m         \u001b[1;32massert\u001b[0m \u001b[1;32mFalse\u001b[0m\u001b[1;33m,\u001b[0m \u001b[1;34m'action must be defined!'\u001b[0m     \u001b[1;31m# If this version is called\u001b[0m\u001b[1;33m\u001b[0m\u001b[1;33m\u001b[0m\u001b[0m\n\u001b[0m\u001b[0;32m      6\u001b[0m \u001b[1;33m\u001b[0m\u001b[0m\n\u001b[0;32m      7\u001b[0m \u001b[0mX\u001b[0m \u001b[1;33m=\u001b[0m \u001b[0mSuper\u001b[0m\u001b[1;33m(\u001b[0m\u001b[1;33m)\u001b[0m\u001b[1;33m\u001b[0m\u001b[1;33m\u001b[0m\u001b[0m\n",
      "\u001b[1;31mAssertionError\u001b[0m: action must be defined!"
     ]
    }
   ],
   "source": [
    "class Super:\n",
    "    def delegate(self):\n",
    "        self.action()\n",
    "    def action(self):\n",
    "        assert False, 'action must be defined!'     # If this version is called\n",
    "\n",
    "X = Super()\n",
    "X.delegate()"
   ]
  },
  {
   "cell_type": "markdown",
   "metadata": {},
   "source": [
    "We’ll meet assert in [Chapter 33]() and [Chapter 34](); in short, if its first expression evaluates\n",
    "to false, it raises an exception with the provided error message. Here, the expression is\n",
    "always false so as to trigger an error message if a method is not redefined, and inheritance locates the version here. Alternatively, some classes simply raise a `NotImplementedError` \n",
    "exception directly in such method stubs to signal the mistake:"
   ]
  },
  {
   "cell_type": "code",
   "execution_count": null,
   "metadata": {},
   "outputs": [
    {
     "ename": "NotImplementedError",
     "evalue": "action must be defined!",
     "output_type": "error",
     "traceback": [
      "\u001b[1;31m---------------------------------------------------------------------------\u001b[0m",
      "\u001b[1;31mNotImplementedError\u001b[0m                       Traceback (most recent call last)",
      "\u001b[1;32m<ipython-input-18-36536a95adf7>\u001b[0m in \u001b[0;36m<module>\u001b[1;34m\u001b[0m\n\u001b[0;32m      6\u001b[0m \u001b[1;33m\u001b[0m\u001b[0m\n\u001b[0;32m      7\u001b[0m \u001b[0mX\u001b[0m \u001b[1;33m=\u001b[0m \u001b[0mSuper\u001b[0m\u001b[1;33m(\u001b[0m\u001b[1;33m)\u001b[0m\u001b[1;33m\u001b[0m\u001b[1;33m\u001b[0m\u001b[0m\n\u001b[1;32m----> 8\u001b[1;33m \u001b[0mX\u001b[0m\u001b[1;33m.\u001b[0m\u001b[0mdelegate\u001b[0m\u001b[1;33m(\u001b[0m\u001b[1;33m)\u001b[0m\u001b[1;33m\u001b[0m\u001b[1;33m\u001b[0m\u001b[0m\n\u001b[0m",
      "\u001b[1;32m<ipython-input-18-36536a95adf7>\u001b[0m in \u001b[0;36mdelegate\u001b[1;34m(self)\u001b[0m\n\u001b[0;32m      1\u001b[0m \u001b[1;32mclass\u001b[0m \u001b[0mSuper\u001b[0m\u001b[1;33m:\u001b[0m\u001b[1;33m\u001b[0m\u001b[1;33m\u001b[0m\u001b[0m\n\u001b[0;32m      2\u001b[0m     \u001b[1;32mdef\u001b[0m \u001b[0mdelegate\u001b[0m\u001b[1;33m(\u001b[0m\u001b[0mself\u001b[0m\u001b[1;33m)\u001b[0m\u001b[1;33m:\u001b[0m\u001b[1;33m\u001b[0m\u001b[1;33m\u001b[0m\u001b[0m\n\u001b[1;32m----> 3\u001b[1;33m         \u001b[0mself\u001b[0m\u001b[1;33m.\u001b[0m\u001b[0maction\u001b[0m\u001b[1;33m(\u001b[0m\u001b[1;33m)\u001b[0m\u001b[1;33m\u001b[0m\u001b[1;33m\u001b[0m\u001b[0m\n\u001b[0m\u001b[0;32m      4\u001b[0m     \u001b[1;32mdef\u001b[0m \u001b[0maction\u001b[0m\u001b[1;33m(\u001b[0m\u001b[0mself\u001b[0m\u001b[1;33m)\u001b[0m\u001b[1;33m:\u001b[0m\u001b[1;33m\u001b[0m\u001b[1;33m\u001b[0m\u001b[0m\n\u001b[0;32m      5\u001b[0m         \u001b[1;32mraise\u001b[0m \u001b[0mNotImplementedError\u001b[0m\u001b[1;33m(\u001b[0m\u001b[1;34m'action must be defined!'\u001b[0m\u001b[1;33m)\u001b[0m\u001b[1;33m\u001b[0m\u001b[1;33m\u001b[0m\u001b[0m\n",
      "\u001b[1;32m<ipython-input-18-36536a95adf7>\u001b[0m in \u001b[0;36maction\u001b[1;34m(self)\u001b[0m\n\u001b[0;32m      3\u001b[0m         \u001b[0mself\u001b[0m\u001b[1;33m.\u001b[0m\u001b[0maction\u001b[0m\u001b[1;33m(\u001b[0m\u001b[1;33m)\u001b[0m\u001b[1;33m\u001b[0m\u001b[1;33m\u001b[0m\u001b[0m\n\u001b[0;32m      4\u001b[0m     \u001b[1;32mdef\u001b[0m \u001b[0maction\u001b[0m\u001b[1;33m(\u001b[0m\u001b[0mself\u001b[0m\u001b[1;33m)\u001b[0m\u001b[1;33m:\u001b[0m\u001b[1;33m\u001b[0m\u001b[1;33m\u001b[0m\u001b[0m\n\u001b[1;32m----> 5\u001b[1;33m         \u001b[1;32mraise\u001b[0m \u001b[0mNotImplementedError\u001b[0m\u001b[1;33m(\u001b[0m\u001b[1;34m'action must be defined!'\u001b[0m\u001b[1;33m)\u001b[0m\u001b[1;33m\u001b[0m\u001b[1;33m\u001b[0m\u001b[0m\n\u001b[0m\u001b[0;32m      6\u001b[0m \u001b[1;33m\u001b[0m\u001b[0m\n\u001b[0;32m      7\u001b[0m \u001b[0mX\u001b[0m \u001b[1;33m=\u001b[0m \u001b[0mSuper\u001b[0m\u001b[1;33m(\u001b[0m\u001b[1;33m)\u001b[0m\u001b[1;33m\u001b[0m\u001b[1;33m\u001b[0m\u001b[0m\n",
      "\u001b[1;31mNotImplementedError\u001b[0m: action must be defined!"
     ]
    }
   ],
   "source": [
    "class Super:\n",
    "    def delegate(self):\n",
    "        self.action()\n",
    "    def action(self):\n",
    "        raise NotImplementedError('action must be defined!')\n",
    "\n",
    "X = Super()\n",
    "X.delegate()"
   ]
  },
  {
   "cell_type": "markdown",
   "metadata": {},
   "source": [
    "For instances of subclasses, we still get the exception unless the subclass provides the\n",
    "expected method to replace the default in the superclass:"
   ]
  },
  {
   "cell_type": "code",
   "execution_count": null,
   "metadata": {},
   "outputs": [
    {
     "ename": "NotImplementedError",
     "evalue": "action must be defined!",
     "output_type": "error",
     "traceback": [
      "\u001b[1;31m---------------------------------------------------------------------------\u001b[0m",
      "\u001b[1;31mNotImplementedError\u001b[0m                       Traceback (most recent call last)",
      "\u001b[1;32m<ipython-input-19-d4af970eb134>\u001b[0m in \u001b[0;36m<module>\u001b[1;34m\u001b[0m\n\u001b[0;32m      2\u001b[0m \u001b[1;33m\u001b[0m\u001b[0m\n\u001b[0;32m      3\u001b[0m \u001b[0mX\u001b[0m \u001b[1;33m=\u001b[0m \u001b[0mSub\u001b[0m\u001b[1;33m(\u001b[0m\u001b[1;33m)\u001b[0m\u001b[1;33m\u001b[0m\u001b[1;33m\u001b[0m\u001b[0m\n\u001b[1;32m----> 4\u001b[1;33m \u001b[0mX\u001b[0m\u001b[1;33m.\u001b[0m\u001b[0mdelegate\u001b[0m\u001b[1;33m(\u001b[0m\u001b[1;33m)\u001b[0m\u001b[1;33m\u001b[0m\u001b[1;33m\u001b[0m\u001b[0m\n\u001b[0m",
      "\u001b[1;32m<ipython-input-18-36536a95adf7>\u001b[0m in \u001b[0;36mdelegate\u001b[1;34m(self)\u001b[0m\n\u001b[0;32m      1\u001b[0m \u001b[1;32mclass\u001b[0m \u001b[0mSuper\u001b[0m\u001b[1;33m:\u001b[0m\u001b[1;33m\u001b[0m\u001b[1;33m\u001b[0m\u001b[0m\n\u001b[0;32m      2\u001b[0m     \u001b[1;32mdef\u001b[0m \u001b[0mdelegate\u001b[0m\u001b[1;33m(\u001b[0m\u001b[0mself\u001b[0m\u001b[1;33m)\u001b[0m\u001b[1;33m:\u001b[0m\u001b[1;33m\u001b[0m\u001b[1;33m\u001b[0m\u001b[0m\n\u001b[1;32m----> 3\u001b[1;33m         \u001b[0mself\u001b[0m\u001b[1;33m.\u001b[0m\u001b[0maction\u001b[0m\u001b[1;33m(\u001b[0m\u001b[1;33m)\u001b[0m\u001b[1;33m\u001b[0m\u001b[1;33m\u001b[0m\u001b[0m\n\u001b[0m\u001b[0;32m      4\u001b[0m     \u001b[1;32mdef\u001b[0m \u001b[0maction\u001b[0m\u001b[1;33m(\u001b[0m\u001b[0mself\u001b[0m\u001b[1;33m)\u001b[0m\u001b[1;33m:\u001b[0m\u001b[1;33m\u001b[0m\u001b[1;33m\u001b[0m\u001b[0m\n\u001b[0;32m      5\u001b[0m         \u001b[1;32mraise\u001b[0m \u001b[0mNotImplementedError\u001b[0m\u001b[1;33m(\u001b[0m\u001b[1;34m'action must be defined!'\u001b[0m\u001b[1;33m)\u001b[0m\u001b[1;33m\u001b[0m\u001b[1;33m\u001b[0m\u001b[0m\n",
      "\u001b[1;32m<ipython-input-18-36536a95adf7>\u001b[0m in \u001b[0;36maction\u001b[1;34m(self)\u001b[0m\n\u001b[0;32m      3\u001b[0m         \u001b[0mself\u001b[0m\u001b[1;33m.\u001b[0m\u001b[0maction\u001b[0m\u001b[1;33m(\u001b[0m\u001b[1;33m)\u001b[0m\u001b[1;33m\u001b[0m\u001b[1;33m\u001b[0m\u001b[0m\n\u001b[0;32m      4\u001b[0m     \u001b[1;32mdef\u001b[0m \u001b[0maction\u001b[0m\u001b[1;33m(\u001b[0m\u001b[0mself\u001b[0m\u001b[1;33m)\u001b[0m\u001b[1;33m:\u001b[0m\u001b[1;33m\u001b[0m\u001b[1;33m\u001b[0m\u001b[0m\n\u001b[1;32m----> 5\u001b[1;33m         \u001b[1;32mraise\u001b[0m \u001b[0mNotImplementedError\u001b[0m\u001b[1;33m(\u001b[0m\u001b[1;34m'action must be defined!'\u001b[0m\u001b[1;33m)\u001b[0m\u001b[1;33m\u001b[0m\u001b[1;33m\u001b[0m\u001b[0m\n\u001b[0m\u001b[0;32m      6\u001b[0m \u001b[1;33m\u001b[0m\u001b[0m\n\u001b[0;32m      7\u001b[0m \u001b[0mX\u001b[0m \u001b[1;33m=\u001b[0m \u001b[0mSuper\u001b[0m\u001b[1;33m(\u001b[0m\u001b[1;33m)\u001b[0m\u001b[1;33m\u001b[0m\u001b[1;33m\u001b[0m\u001b[0m\n",
      "\u001b[1;31mNotImplementedError\u001b[0m: action must be defined!"
     ]
    }
   ],
   "source": [
    "class Sub(Super): pass\n",
    "\n",
    "X = Sub()\n",
    "X.delegate()"
   ]
  },
  {
   "cell_type": "code",
   "execution_count": null,
   "metadata": {},
   "outputs": [
    {
     "name": "stdout",
     "output_type": "stream",
     "text": [
      "spam\n"
     ]
    }
   ],
   "source": [
    "class Sub(Super):\n",
    "    def action(self): print('spam')\n",
    "\n",
    "X = Sub()\n",
    "X.delegate()"
   ]
  },
  {
   "cell_type": "markdown",
   "metadata": {},
   "source": [
    "For a somewhat more realistic example of this section’s concepts in action, see the “Zoo\n",
    "animal hierarchy” exercise (Exercise 8) at the end of [Chapter 32](), and its solution in\n",
    "[“Part VI, Classes and OOP”]() in [Appendix D](). Such taxonomies are a traditional way to\n",
    "introduce OOP, but they’re a bit removed from most developers’ job descriptions (with\n",
    "apologies to any readers who happen to work at the zoo!)."
   ]
  },
  {
   "cell_type": "markdown",
   "metadata": {},
   "source": [
    "#### Abstract superclasses in Python 3.X and 2.6+: Preview\n",
    "\n",
    "As of Python 2.6 and 3.0, the prior section’s abstract superclasses (a.k.a. “abstract base\n",
    "classes”), which require methods to be filled in by subclasses, may also be implemented\n",
    "with special class syntax. The way we code this varies slightly depending on the version.\n",
    "\n",
    "In Python 3.X, we use a keyword argument in a `class` header, along with special `@`\n",
    "decorator syntax, both of which we’ll study in detail later in this book:\n",
    "```python\n",
    "    from abc import ABCMeta, abstractmethod\n",
    "    \n",
    "    class Super(metaclass=ABCMeta):\n",
    "        @abstractmethod\n",
    "        def method(self, ...):\n",
    "            pass\n",
    "```\n",
    "But in Python 2.6 and 2.7, we use a class attribute instead:\n",
    "```python\n",
    "    class Super:\n",
    "        __metaclass__ = ABCMeta\n",
    "        @abstractmethod\n",
    "        def method(self, ...):\n",
    "            pass\n",
    "```\n",
    "Either way, the effect is the same—we can’t make an instance unless the method is\n",
    "defined lower in the class tree. In 3.X, for example, here is the special syntax equivalent\n",
    "of the prior section’s example:\n",
    "\n"
   ]
  },
  {
   "cell_type": "code",
   "execution_count": null,
   "metadata": {},
   "outputs": [
    {
     "ename": "TypeError",
     "evalue": "Can't instantiate abstract class Super with abstract methods action",
     "output_type": "error",
     "traceback": [
      "\u001b[1;31m---------------------------------------------------------------------------\u001b[0m",
      "\u001b[1;31mTypeError\u001b[0m                                 Traceback (most recent call last)",
      "\u001b[1;32m<ipython-input-21-d1c13b02beaf>\u001b[0m in \u001b[0;36m<module>\u001b[1;34m\u001b[0m\n\u001b[0;32m      9\u001b[0m         \u001b[1;32mpass\u001b[0m\u001b[1;33m\u001b[0m\u001b[1;33m\u001b[0m\u001b[0m\n\u001b[0;32m     10\u001b[0m \u001b[1;33m\u001b[0m\u001b[0m\n\u001b[1;32m---> 11\u001b[1;33m \u001b[0mX\u001b[0m \u001b[1;33m=\u001b[0m \u001b[0mSuper\u001b[0m\u001b[1;33m(\u001b[0m\u001b[1;33m)\u001b[0m\u001b[1;33m\u001b[0m\u001b[1;33m\u001b[0m\u001b[0m\n\u001b[0m",
      "\u001b[1;31mTypeError\u001b[0m: Can't instantiate abstract class Super with abstract methods action"
     ]
    }
   ],
   "source": [
    "from abc import ABCMeta, abstractmethod\n",
    "\n",
    "class Super(metaclass=ABCMeta):\n",
    "    def delegate(self):\n",
    "        self.action()\n",
    "        \n",
    "    @abstractmethod\n",
    "    def action(self):\n",
    "        pass\n",
    "\n",
    "X = Super()"
   ]
  },
  {
   "cell_type": "code",
   "execution_count": null,
   "metadata": {},
   "outputs": [
    {
     "ename": "TypeError",
     "evalue": "Can't instantiate abstract class Sub with abstract methods action",
     "output_type": "error",
     "traceback": [
      "\u001b[1;31m---------------------------------------------------------------------------\u001b[0m",
      "\u001b[1;31mTypeError\u001b[0m                                 Traceback (most recent call last)",
      "\u001b[1;32m<ipython-input-22-00dc9e983745>\u001b[0m in \u001b[0;36m<module>\u001b[1;34m\u001b[0m\n\u001b[0;32m      1\u001b[0m \u001b[1;32mclass\u001b[0m \u001b[0mSub\u001b[0m\u001b[1;33m(\u001b[0m\u001b[0mSuper\u001b[0m\u001b[1;33m)\u001b[0m\u001b[1;33m:\u001b[0m \u001b[1;32mpass\u001b[0m\u001b[1;33m\u001b[0m\u001b[1;33m\u001b[0m\u001b[0m\n\u001b[0;32m      2\u001b[0m \u001b[1;33m\u001b[0m\u001b[0m\n\u001b[1;32m----> 3\u001b[1;33m \u001b[0mX\u001b[0m \u001b[1;33m=\u001b[0m \u001b[0mSub\u001b[0m\u001b[1;33m(\u001b[0m\u001b[1;33m)\u001b[0m\u001b[1;33m\u001b[0m\u001b[1;33m\u001b[0m\u001b[0m\n\u001b[0m",
      "\u001b[1;31mTypeError\u001b[0m: Can't instantiate abstract class Sub with abstract methods action"
     ]
    }
   ],
   "source": [
    "class Sub(Super): pass\n",
    "\n",
    "X = Sub()"
   ]
  },
  {
   "cell_type": "code",
   "execution_count": null,
   "metadata": {},
   "outputs": [
    {
     "name": "stdout",
     "output_type": "stream",
     "text": [
      "spam\n"
     ]
    }
   ],
   "source": [
    "class Sub(Super):\n",
    "    def action(self): print('spam')\n",
    "\n",
    "X = Sub()\n",
    "X.delegate()"
   ]
  },
  {
   "cell_type": "markdown",
   "metadata": {},
   "source": [
    "Coded this way, a class with an abstract method cannot be instantiated (that is, we\n",
    "cannot create an instance by calling it) unless all of its abstract methods have been\n",
    "defined in subclasses. Although this requires more code and extra knowledge, the \n",
    "potential advantage of this approach is that errors for missing methods are issued when\n",
    "we attempt to make an instance of the class, not later when we try to call a missing\n",
    "method. This feature may also be used to define an expected interface, automatically\n",
    "verified in client classes.\n",
    "\n",
    "Unfortunately, this scheme also relies on two advanced language tools we have not met\n",
    "yet—*function decorators*, introduced in [Chapter 32]() and covered in depth in \n",
    "[Chapter 39](), as well as *metaclass declarations*, mentioned in [Chapter 32]() and covered in\n",
    "[Chapter 40]()—so we will finesse other facets of this option here. See Python’s standard\n",
    "manuals for more on this, as well as precoded abstract superclasses Python provides."
   ]
  },
  {
   "cell_type": "markdown",
   "metadata": {},
   "source": [
    "## Namespaces: The Conclusion\n",
    "\n",
    "Now that we’ve examined class and instance objects, the Python namespace story is\n",
    "complete. For reference, I’ll quickly summarize all the rules used to resolve names here.\n",
    "The first things you need to remember are that qualified and unqualified names are\n",
    "treated differently, and that some scopes serve to initialize object namespaces:\n",
    "  + Unqualified names (e.g., `X`) deal with scopes.\n",
    "  + Qualified attribute names (e.g., *`object.X`*) use object namespaces.\n",
    "  + Some scopes initialize object namespaces (for modules and classes).\n",
    "  \n",
    "These concepts sometimes interact—in *`object.X`*, for example, `object` is looked up per\n",
    "scopes, and then `X` is looked up in the result objects. Since scopes and namespaces are\n",
    "essential to understanding Python code, let’s summarize the rules in more detail."
   ]
  },
  {
   "cell_type": "markdown",
   "metadata": {},
   "source": [
    "### Simple Names: Global Unless Assigned\n",
    "\n",
    "As we’ve learned, unqualified simple names follow the LEGB lexical scoping rule \n",
    "outlined when we explored functions in [Chapter 17]():\n",
    "- *Assignment* (*`X = value`*)  \n",
    "  Makes names local by default: creates or changes the name *`X`* in the current local\n",
    "  scope, unless declared global (or nonlocal in 3.X).\n",
    "  \n",
    "- *Reference* (*`X`*)  \n",
    "  Looks for the name *`X`* in the current local scope, then any and all enclosing functions, then the current global scope, then the built-in scope, per the LEGB rule.\n",
    "  Enclosing classes are not searched: class names are fetched as object attributes instead.\n",
    "\n",
    "Also per [Chapter 17](), some special-case constructs localize names further (e.g., variables\n",
    "in some comprehensions and `try` statement clauses), but the vast majority of names\n",
    "follow the LEGB rule."
   ]
  },
  {
   "cell_type": "markdown",
   "metadata": {},
   "source": [
    "### Attribute Names: Object Namespaces\n",
    "\n",
    "We’ve also seen that qualified attribute names refer to attributes of specific objects and\n",
    "obey the rules for modules and classes. For class and instance objects, the reference\n",
    "rules are augmented to include the inheritance search procedure:\n",
    "\n",
    "- *Assignment* (*`object.X = value`*)\n",
    "    Creates or alters the attribute name *`X`* in the namespace of the *`object`* being \n",
    "    qualified, and none other. Inheritance-tree climbing happens only on attribute reference, \n",
    "    not on attribute assignment.\n",
    "\n",
    "- *Reference* (*`object.X`*)\n",
    "    For class-based objects, searches for the attribute name *`X`* in *`object`*, then in all\n",
    "    accessible classes above it, using the inheritance search procedure. For nonclass\n",
    "    objects such as modules, fetches *`X`* from *`object`* directly.\n",
    "\n",
    "As noted earlier, the preceding captures the normal and typical case. These attribute\n",
    "rules can vary in classes that utilize more advanced tools, especially for new-style classes\n",
    "—an option in 2.X and the standard in 3.X, which we’ll explore in [Chapter 32](). For\n",
    "example, reference inheritance can be richer than implied here when metaclasses are\n",
    "deployed, and classes which leverage attribute management tools such as properties,\n",
    "descriptors, and `__setattr__` can intercept and route attribute assignments arbitrarily.\n",
    "\n",
    "In fact, some inheritance is run on assignment too, to locate descriptors with a\n",
    "`__set__` method in new-style classes; such tools override the normal rules for both\n",
    "reference and assignment. We’ll explore attribute management tools in depth in [Chapter 38](), \n",
    "and formalize inheritance and its use of descriptors in [Chapter 40](). For now,\n",
    "most readers should focus on the normal rules given here, which cover most Python\n",
    "application code."
   ]
  },
  {
   "cell_type": "markdown",
   "metadata": {},
   "source": [
    "### The “Zen” of Namespaces: Assignments Classify Names\n",
    "\n",
    "With distinct search procedures for qualified and unqualified names, and multiple\n",
    "lookup layers for both, it can sometimes be difficult to tell where a name will wind up\n",
    "going. In Python, the place where you *assign* a name is crucial—it fully determines the\n",
    "scope or object in which a name will reside. The file `manynames.py`  illustrates how this\n",
    "principle translates to code and summarizes the namespace ideas we have seen throughout \n",
    "this notebook (sans obscure special-case scopes like comprehensions):"
   ]
  },
  {
   "cell_type": "code",
   "execution_count": null,
   "metadata": {},
   "outputs": [],
   "source": [
    "# File manynames.py\n",
    "\n",
    "X = 11                  # Global (module) name/attribute (X, or manynames.X)\n",
    "\n",
    "def f():\n",
    "    print(X)            # Access global X (11)\n",
    "\n",
    "def g():\n",
    "    X = 22              # Local (function) variable (X, hides module X)\n",
    "    print(X)\n",
    "\n",
    "class C:\n",
    "    X = 33              # Class attribute (C.X)\n",
    "    def m(self):\n",
    "        X = 44          # Local variable in method (X)\n",
    "        self.X = 55     # Instance attribute (instance.X)"
   ]
  },
  {
   "cell_type": "markdown",
   "metadata": {},
   "source": [
    "This code assigns the same name, `X`, five times—illustrative, though not exactly best\n",
    "practice! Because this name is assigned in five different locations, though, all five `X`s in\n",
    "this program are completely different variables. From top to bottom, the assignments\n",
    "to `X` here generate: a module attribute (`11`), a local variable in a function (`22`), a class\n",
    "attribute (`33`), a local variable in a method (`44`), and an instance attribute (`55`). Although\n",
    "all five are named `X`, the fact that they are all assigned at different places in the source\n",
    "code or to different objects makes all of these unique variables.\n",
    "\n",
    "You should take the time to study this example carefully because it collects ideas we’ve\n",
    "been exploring throughout the last few chapters of this book. When it makes sense to you,\n",
    "you will have achieved Python namespace enlightenment. Or, you can run the code\n",
    "and see what happens—here’s the remainder of this source file, which makes an instance \n",
    "and prints all the `X`s that it can fetch:"
   ]
  },
  {
   "cell_type": "code",
   "execution_count": null,
   "metadata": {},
   "outputs": [
    {
     "name": "stdout",
     "output_type": "stream",
     "text": [
      "11\n",
      "11\n",
      "22\n",
      "11\n",
      "33\n",
      "55\n",
      "33\n"
     ]
    }
   ],
   "source": [
    "# manynames.py, continued\n",
    "\n",
    "if __name__ == '__main__':\n",
    "    print(X)            # 11: module (a.k.a. manynames.X outside file)\n",
    "    f()                 # 11: global\n",
    "    g()                 # 22: local\n",
    "    print(X)            # 11: module name unchanged\n",
    "\n",
    "    obj = C()           # Make instance\n",
    "    print(obj.X)        # 33: class name inherited by instance\n",
    "\n",
    "    obj.m()             # Attach attribute name X to instance now\n",
    "    print(obj.X)        # 55: instance\n",
    "    print(C.X)          # 33: class (a.k.a. obj.X if no X in instance)\n",
    "\n",
    "    #print(C.m.X)       # FAILS: only visible in method\n",
    "    #print(g.X)         # FAILS: only visible in function"
   ]
  },
  {
   "cell_type": "markdown",
   "metadata": {},
   "source": [
    "The outputs that are printed when the file is run are noted in the comments in the code;\n",
    "trace through them to see which variable named `X` is being accessed each time. Notice\n",
    "in particular that we can go through the class to fetch its attribute (`C.X`), but we can\n",
    "never fetch local variables in functions or methods from outside their `def` statements.\n",
    "Locals are visible only to other code within the `def`, and in fact only live in memory\n",
    "while a call to the function or method is executing.\n",
    "\n",
    "Some of the names defined by this file are visible *outside the file* to other modules too,\n",
    "but recall that we must always import before we can access names in another file—\n",
    "name segregation is the main point of modules, after all:"
   ]
  },
  {
   "cell_type": "code",
   "execution_count": null,
   "metadata": {},
   "outputs": [
    {
     "name": "stdout",
     "output_type": "stream",
     "text": [
      "66\n",
      "11\n",
      "11\n",
      "22\n",
      "33\n",
      "33\n",
      "55\n"
     ]
    }
   ],
   "source": [
    "import manynames\n",
    "\n",
    "X = 66\n",
    "print(X)                    # 66: the global here\n",
    "print(manynames.X)          # 11: globals become attributes after imports\n",
    "\n",
    "manynames.f()               # 11: manynames's X, not the one here!\n",
    "manynames.g()               # 22: local in other file's function\n",
    "\n",
    "print(manynames.C.X)        # 33: attribute of class in other module\n",
    "I = manynames.C()\n",
    "print(I.X)                  # 33: still from class here\n",
    "\n",
    "I.m()\n",
    "print(I.X)                  # 55: now from instance!"
   ]
  },
  {
   "cell_type": "markdown",
   "metadata": {},
   "source": [
    "Notice here how `manynames.f()` prints the `X` in `manynames`, not the `X` assigned in this file\n",
    "—scopes are always determined by the position of assignments in your source code\n",
    "(i.e., lexically) and are never influenced by what imports what or who imports whom.\n",
    "Also, notice that the instance’s own `X` is not created until we call `I.m()`—attributes, like\n",
    "all variables, spring into existence when assigned, and not before. Normally we create\n",
    "instance attributes by assigning them in class `__init__` constructor methods, but this\n",
    "isn’t the only option.\n",
    "\n",
    "Finally, as we learned in [Chapter 17](), it’s also possible for a function to *change* names\n",
    "outside itself, with `global` and (in Python 3.X) `nonlocal` statements—these statements\n",
    "provide write access, but also modify assignment’s namespace binding rules:"
   ]
  },
  {
   "cell_type": "code",
   "execution_count": null,
   "metadata": {},
   "outputs": [],
   "source": [
    "X = 11                      # Global in module\n",
    "\n",
    "def g1():\n",
    "    print(X)                # Reference global in module (11)\n",
    "\n",
    "def g2():\n",
    "    global X\n",
    "    X = 22                  # Change global in module\n",
    "\n",
    "def h1():\n",
    "    X = 33                  # Local in function\n",
    "    def nested():\n",
    "        print(X)            # Reference local in enclosing scope (33)\n",
    "\n",
    "def h2():\n",
    "    X = 33                  # Local in function\n",
    "    def nested():\n",
    "        nonlocal X          # Python 3.X statement\n",
    "        X = 44              # Change local in enclosing scope"
   ]
  },
  {
   "cell_type": "markdown",
   "metadata": {},
   "source": [
    "Of course, you generally shouldn’t use the same name for every variable in your script\n",
    "—but as this example demonstrates, even if you do, Python’s namespaces will work to\n",
    "keep names used in one context from accidentally clashing with those used in another."
   ]
  },
  {
   "cell_type": "markdown",
   "metadata": {},
   "source": [
    "### Nested Classes: The LEGB Scopes Rule Revisited\n",
    "\n",
    "The preceding example summarized the effect of nested functions on scopes, which we\n",
    "studied in [Chapter 17](). It turns out that classes can be nested too—a useful coding\n",
    "pattern in some types of programs, with scope implications that follow naturally from\n",
    "what you already know, but that may not be obvious on first encounter. This section\n",
    "illustrates the concept by example.\n",
    "\n",
    "Though they are normally coded at the top level of a module, classes also sometimes\n",
    "appear nested in functions that generate them—a variation on the “factory function”\n",
    "(a.k.a. *closure*) theme in [Chapter 17](), with similar state retention roles. There we noted\n",
    "that `class` statements introduce new local scopes much like function `def` statements,\n",
    "which follow the same LEGB scope lookup rule as function definitions.\n",
    "\n",
    "This rule applies both to the top level of the class itself, as well as to the top level of\n",
    "method functions nested within it. Both form the *L* layer in this rule—they are normal\n",
    "local scopes, with access to their names, names in any enclosing functions, globals in\n",
    "the enclosing module, and built-ins. Like modules, the class’s local scope *morphs* into\n",
    "an attribute namespace after the `class` statement is run.\n",
    "\n",
    "Although classes have access to enclosing functions’ scopes, though, they do not act\n",
    "as enclosing scopes to code nested within the class: Python searches enclosing functions\n",
    "for referenced names, but *never* any enclosing classes. That is, a class *is* a local scope\n",
    "and has access to enclosing local scopes, but it does not serve as an enclosing local scope\n",
    "to further nested code. Because the search for names used in method functions skips\n",
    "the enclosing class, class attributes must be fetched as object attributes using inheritance.\n",
    "\n",
    "For example, in the following `nester` function, all references to `X` are routed to the global\n",
    "scope except the last, which picks up a local scope redefinition:"
   ]
  },
  {
   "cell_type": "code",
   "execution_count": null,
   "metadata": {},
   "outputs": [
    {
     "name": "stdout",
     "output_type": "stream",
     "text": [
      "1\n",
      "1\n",
      "1\n",
      "1\n",
      "3\n",
      "----------------------------------------\n"
     ]
    }
   ],
   "source": [
    "X = 1\n",
    "\n",
    "def nester():\n",
    "    print(X)                    # Global: 1\n",
    "    class C:\n",
    "        print(X)                # Global: 1\n",
    "        def method1(self):\n",
    "            print(X)            # Global: 1\n",
    "        def method2(self):\n",
    "            X = 3               # Hides global\n",
    "            print(X)            # Local: 3\n",
    "    I = C()\n",
    "    I.method1()\n",
    "    I.method2()\n",
    "\n",
    "print(X)                        # Global: 1\n",
    "nester()                        # Rest: 1, 1, 1, 3\n",
    "print('-'*40)"
   ]
  },
  {
   "cell_type": "markdown",
   "metadata": {},
   "source": [
    "Watch what happens, though, when we reassign the same name in nested function\n",
    "layers: the redefinitions of X create locals that hide those in enclosing scopes, just as for\n",
    "simple nested functions; the enclosing class layer does not change this rule, and in fact\n",
    "is irrelevant to it:"
   ]
  },
  {
   "cell_type": "code",
   "execution_count": null,
   "metadata": {},
   "outputs": [
    {
     "name": "stdout",
     "output_type": "stream",
     "text": [
      "1\n",
      "2\n",
      "2\n",
      "2\n",
      "3\n",
      "----------------------------------------\n"
     ]
    }
   ],
   "source": [
    "X = 1\n",
    "\n",
    "def nester():\n",
    "    X = 2                       # Hides global\n",
    "    print(X)                    # Local: 2\n",
    "    class C:\n",
    "        print(X)                # In enclosing def (nester): 2\n",
    "        def method1(self):\n",
    "            print(X)            # In enclosing def (nester): 2\n",
    "        def method2(self):\n",
    "            X = 3               # Hides enclosing (nester)\n",
    "            print(X)            # Local: 3\n",
    "    I = C()\n",
    "    I.method1()\n",
    "    I.method2()\n",
    "\n",
    "print(X)                        # Global: 1\n",
    "nester()                        # Rest: 2, 2, 2, 3\n",
    "print('-'*40)"
   ]
  },
  {
   "cell_type": "markdown",
   "metadata": {},
   "source": [
    "And here’s what happens when we reassign the same name at multiple stops along the\n",
    "way: assignments in the local scopes of both functions and classes hide globals or \n",
    "enclosing function locals of the same name, regardless of the nesting involved:"
   ]
  },
  {
   "cell_type": "code",
   "execution_count": null,
   "metadata": {},
   "outputs": [
    {
     "name": "stdout",
     "output_type": "stream",
     "text": [
      "1\n",
      "2\n",
      "3\n",
      "2\n",
      "3\n",
      "4\n",
      "5\n",
      "----------------------------------------\n"
     ]
    }
   ],
   "source": [
    "X = 1\n",
    "def nester():\n",
    "    X = 2                       # Hides global\n",
    "    print(X)                    # Local: 2\n",
    "    class C:\n",
    "        X = 3                   # Class local hides nester's: C.X or I.X (not scoped)\n",
    "        print(X)                # Local: 3\n",
    "        def method1(self):\n",
    "            print(X)            # In enclosing def (not 3 in class!): 2\n",
    "            print(self.X)       # Inherited class local: 3\n",
    "        def method2(self):\n",
    "            X = 4               # Hides enclosing (nester, not class)\n",
    "            print(X)            # Local: 4\n",
    "            self.X = 5          # Hides class\n",
    "            print(self.X)       # Located in instance: 5\n",
    "    I = C()\n",
    "    I.method1()\n",
    "    I.method2()\n",
    "    \n",
    "print(X)                        # Global: 1\n",
    "nester()                        # Rest: 2, 3, 2, 3, 4, 5\n",
    "print('-'*40)"
   ]
  },
  {
   "cell_type": "markdown",
   "metadata": {},
   "source": [
    "Most importantly, the lookup rules for simple names like `X` never search enclosing\n",
    "`class` statements—just `def`s, modules, and built-ins (it’s the LEGB rule, not CLEGB!).\n",
    "In `method1`, for example, `X` is found in a `def` outside the enclosing class that has the same\n",
    "name in its local scope. To get to names assigned in the class (e.g., methods), we must\n",
    "fetch them as class or instance object attributes, via `self.X` in this case.\n",
    "\n",
    "Believe it or not, we’ll see use cases for this nested classes coding pattern later in this\n",
    "notebook, especially in some of [Chapter 39]()’s *decorators*. In this role, the enclosing function\n",
    "usually both serves as a class factory and provides retained state for later use in the\n",
    "enclosed class or its methods."
   ]
  },
  {
   "cell_type": "markdown",
   "metadata": {},
   "source": [
    "### Namespace Dictionaries: Review\n",
    "\n",
    "In [Chapter 23](), we learned that module namespaces have a concrete implementation as\n",
    "dictionaries, exposed with the built-in `__dict__` attribute. In [Chapter 27]() and \n",
    "[Chapter 28](), we learned that the same holds true for class and instance objects—attribute\n",
    "qualification is mostly a dictionary indexing operation internally, and attribute inheritance \n",
    "is largely a matter of searching linked dictionaries. In fact, within Python, \n",
    "instance and class objects are mostly just dictionaries with links between them. Python\n",
    "exposes these dictionaries, as well as their links, for use in advanced roles (e.g., for\n",
    "coding tools).\n",
    "\n",
    "We put some of these tools to work in the prior chapter, but to summarize and help\n",
    "you better understand how attributes work internally, let’s work through an interactive\n",
    "session that traces the way namespace dictionaries grow when classes are involved.\n",
    "Now that we know more about methods and superclasses, we can also embellish the\n",
    "coverage here for a better look. First, let’s define a superclass and a subclass with methods that will store data in their instances:\n"
   ]
  },
  {
   "cell_type": "code",
   "execution_count": null,
   "metadata": {},
   "outputs": [],
   "source": [
    "class Super:\n",
    "    def hello(self):\n",
    "        self.data1 = 'spam'\n",
    "\n",
    "class Sub(Super):\n",
    "    def hola(self):\n",
    "        self.data2 = 'eggs'"
   ]
  },
  {
   "cell_type": "markdown",
   "metadata": {},
   "source": [
    "When we make an instance of the subclass, the instance starts out with an empty\n",
    "namespace dictionary, but it has links back to the class for the inheritance search to\n",
    "follow. In fact, the inheritance tree is explicitly available in special attributes, which\n",
    "you can inspect. Instances have a `__class__` attribute that links to their class, and classes\n",
    "have a `__bases__` attribute that is a tuple containing links to higher superclasses:"
   ]
  },
  {
   "cell_type": "code",
   "execution_count": null,
   "metadata": {},
   "outputs": [
    {
     "data": {
      "text/plain": [
       "{}"
      ]
     },
     "execution_count": 32,
     "metadata": {},
     "output_type": "execute_result"
    }
   ],
   "source": [
    "X = Sub()\n",
    "X.__dict__                          # Instance namespace dict"
   ]
  },
  {
   "cell_type": "code",
   "execution_count": null,
   "metadata": {},
   "outputs": [
    {
     "data": {
      "text/plain": [
       "__main__.Sub"
      ]
     },
     "execution_count": 33,
     "metadata": {},
     "output_type": "execute_result"
    }
   ],
   "source": [
    "X.__class__                         # Class of instance"
   ]
  },
  {
   "cell_type": "code",
   "execution_count": null,
   "metadata": {},
   "outputs": [
    {
     "data": {
      "text/plain": [
       "(__main__.Super,)"
      ]
     },
     "execution_count": 34,
     "metadata": {},
     "output_type": "execute_result"
    }
   ],
   "source": [
    "Sub.__bases__                       # Superclasses of class"
   ]
  },
  {
   "cell_type": "code",
   "execution_count": null,
   "metadata": {},
   "outputs": [
    {
     "data": {
      "text/plain": [
       "(object,)"
      ]
     },
     "execution_count": 35,
     "metadata": {},
     "output_type": "execute_result"
    }
   ],
   "source": [
    "Super.__bases__                     # () empty tuple in Python 2.X"
   ]
  },
  {
   "cell_type": "markdown",
   "metadata": {},
   "source": [
    "As classes assign to `self` attributes, they populate the instance objects—that is, \n",
    "attributes wind up in the instances’ attribute namespace dictionaries, not in the classes’.\n",
    "An instance object’s namespace records data that can vary from instance to instance,\n",
    "and `self` is a hook into that namespace:"
   ]
  },
  {
   "cell_type": "code",
   "execution_count": null,
   "metadata": {},
   "outputs": [
    {
     "data": {
      "text/plain": [
       "{'data1': 'spam'}"
      ]
     },
     "execution_count": 36,
     "metadata": {},
     "output_type": "execute_result"
    }
   ],
   "source": [
    "Y = Sub()\n",
    "X.hello()\n",
    "X.__dict__"
   ]
  },
  {
   "cell_type": "code",
   "execution_count": null,
   "metadata": {},
   "outputs": [
    {
     "data": {
      "text/plain": [
       "{'data1': 'spam', 'data2': 'eggs'}"
      ]
     },
     "execution_count": 37,
     "metadata": {},
     "output_type": "execute_result"
    }
   ],
   "source": [
    "X.hola()\n",
    "X.__dict__"
   ]
  },
  {
   "cell_type": "code",
   "execution_count": null,
   "metadata": {},
   "outputs": [
    {
     "data": {
      "text/plain": [
       "['__module__', 'hola', '__doc__']"
      ]
     },
     "execution_count": 38,
     "metadata": {},
     "output_type": "execute_result"
    }
   ],
   "source": [
    "list(Sub.__dict__.keys())"
   ]
  },
  {
   "cell_type": "code",
   "execution_count": null,
   "metadata": {},
   "outputs": [
    {
     "data": {
      "text/plain": [
       "['__module__', 'hello', '__dict__', '__weakref__', '__doc__']"
      ]
     },
     "execution_count": 39,
     "metadata": {},
     "output_type": "execute_result"
    }
   ],
   "source": [
    "list(Super.__dict__.keys())"
   ]
  },
  {
   "cell_type": "code",
   "execution_count": null,
   "metadata": {},
   "outputs": [
    {
     "data": {
      "text/plain": [
       "{}"
      ]
     },
     "execution_count": 40,
     "metadata": {},
     "output_type": "execute_result"
    }
   ],
   "source": [
    "Y.__dict__"
   ]
  },
  {
   "cell_type": "markdown",
   "metadata": {},
   "source": [
    "Notice the extra underscore names in the class dictionaries; Python sets these automatically, \n",
    "and we can filter them out with the generator expressions we saw in [Chapter 27]() and \n",
    "[Chapter 28]() that we won’t repeat here. Most are not used in typical programs,\n",
    "but there are tools that use some of them (e.g., `__doc__` holds the docstrings discussed\n",
    "in [Chapter 15]()).\n",
    "\n",
    "Also, observe that `Y`, a second instance made at the start of this series, still has an empty\n",
    "namespace dictionary at the end, even though `X`’s dictionary has been populated by\n",
    "assignments in methods. Again, each instance has an independent namespace dictionary, \n",
    "which starts out empty and can record completely different attributes than those\n",
    "recorded by the namespace dictionaries of other instances of the same class.\n",
    "\n",
    "Because attributes are actually dictionary keys inside Python, there are really two ways\n",
    "to fetch and assign their values—by qualification, or by key indexing:"
   ]
  },
  {
   "cell_type": "code",
   "execution_count": null,
   "metadata": {},
   "outputs": [
    {
     "data": {
      "text/plain": [
       "('spam', 'spam')"
      ]
     },
     "execution_count": 41,
     "metadata": {},
     "output_type": "execute_result"
    }
   ],
   "source": [
    "X.data1, X.__dict__['data1']"
   ]
  },
  {
   "cell_type": "code",
   "execution_count": null,
   "metadata": {},
   "outputs": [
    {
     "data": {
      "text/plain": [
       "{'data1': 'spam', 'data2': 'eggs', 'data3': 'toast'}"
      ]
     },
     "execution_count": 42,
     "metadata": {},
     "output_type": "execute_result"
    }
   ],
   "source": [
    "X.data3 = 'toast'\n",
    "X.__dict__"
   ]
  },
  {
   "cell_type": "code",
   "execution_count": null,
   "metadata": {},
   "outputs": [
    {
     "data": {
      "text/plain": [
       "'ham'"
      ]
     },
     "execution_count": 43,
     "metadata": {},
     "output_type": "execute_result"
    }
   ],
   "source": [
    "X.__dict__['data3'] = 'ham'\n",
    "X.data3"
   ]
  },
  {
   "cell_type": "markdown",
   "metadata": {},
   "source": [
    "This equivalence applies only to attributes actually attached to the *instance*, though.\n",
    "Because attribute fetch qualification also performs an inheritance search, it can access\n",
    "*inherited* attributes that namespace dictionary indexing cannot. The inherited attribute\n",
    "`X.hello`, for instance, cannot be accessed by `X.__dict__['hello']`.\n",
    "\n",
    "Experiment with these special attributes on your own to get a better feel for how \n",
    "namespaces actually do their attribute business. Also try running these objects through the\n",
    "`dir` function we met in the prior two chapters—`dir(X)` is similar to\n",
    "`X.__dict__.keys()`, but `dir` sorts its list and includes some inherited and built-in \n",
    "attributes. Even if you will never use these in the kinds of programs you write, seeing that\n",
    "they are just normal dictionaries can help solidify namespaces in general."
   ]
  },
  {
   "cell_type": "markdown",
   "metadata": {},
   "source": [
    "### Namespace Links: A Tree Climber\n",
    "\n",
    "The prior section demonstrated the special `__class__` and `__bases__` instance and class\n",
    "attributes, without really explaining why you might care about them. In short, these\n",
    "attributes allow you to inspect inheritance hierarchies within your own code. For example, \n",
    "they can be used to display a class tree, as in the following Python 3.X and 2.X example:"
   ]
  },
  {
   "cell_type": "code",
   "execution_count": null,
   "metadata": {},
   "outputs": [],
   "source": [
    "#!python\n",
    "\"\"\"\n",
    "classtree.py: Climb inheritance trees using namespace links,\n",
    "displaying higher superclasses with indentation for height\n",
    "\"\"\"\n",
    "\n",
    "def classtree(cls, indent):\n",
    "    print('.' * indent + cls.__name__) # Print class name here\n",
    "    for supercls in cls.__bases__: # Recur to all superclasses\n",
    "        classtree(supercls, indent+3) # May visit super > once\n",
    "\n",
    "def instancetree(inst):\n",
    "    print('Tree of %s' % inst) # Show instance\n",
    "    classtree(inst.__class__, 3) # Climb to its class\n",
    "\n",
    "def selftest():\n",
    "    class A: pass\n",
    "    class B(A): pass\n",
    "    class C(A): pass\n",
    "    class D(B,C): pass\n",
    "    class E: pass\n",
    "    class F(D,E): pass\n",
    "    instancetree(B())\n",
    "    instancetree(F())"
   ]
  },
  {
   "cell_type": "markdown",
   "metadata": {},
   "source": [
    "The `classtree` function in this script is *recursive*—it prints a class’s name using\n",
    "`__name__`, then climbs up to the superclasses by calling itself. This allows the function\n",
    "to traverse arbitrarily shaped class trees; the recursion climbs to the top, and stops at\n",
    "root superclasses that have empty `__bases__` attributes. When using recursion, each\n",
    "active level of a function gets its own copy of the local scope; here, this means that\n",
    "`cls` and `indent` are different at each `classtree` level.\n",
    "\n",
    "Most of this code is self-test code. \n",
    "When run by Python 3.X, the tree includes the implied object superclass that is \n",
    "automatically added above standalone root (i.e., topmost) classes, because all classes are\n",
    "“new style” in 3.X—more on this change in [Chapter 32]():"
   ]
  },
  {
   "cell_type": "code",
   "execution_count": null,
   "metadata": {},
   "outputs": [
    {
     "name": "stdout",
     "output_type": "stream",
     "text": [
      "Tree of <__main__.selftest.<locals>.B object at 0x000001C4294ABD60>\n",
      "...B\n",
      "......A\n",
      ".........object\n",
      "Tree of <__main__.selftest.<locals>.F object at 0x000001C4294ABD60>\n",
      "...F\n",
      "......D\n",
      ".........B\n",
      "............A\n",
      "...............object\n",
      ".........C\n",
      "............A\n",
      "...............object\n",
      "......E\n",
      ".........object\n"
     ]
    }
   ],
   "source": [
    "if __name__ == '__main__': selftest()"
   ]
  },
  {
   "cell_type": "markdown",
   "metadata": {},
   "source": [
    "Here, indentation marked by periods is used to denote class tree height. Of course, we\n",
    "could improve on this output format, and perhaps even sketch it in a GUI display. Even\n",
    "as is, though, we can import these functions anywhere we want a quick display of a\n",
    "physical class tree:"
   ]
  },
  {
   "cell_type": "code",
   "execution_count": null,
   "metadata": {},
   "outputs": [
    {
     "name": "stdout",
     "output_type": "stream",
     "text": [
      "Tree of <__main__.Person object at 0x000001C4295AE0D0>\n",
      "...Person\n",
      "......Emp\n",
      ".........object\n"
     ]
    }
   ],
   "source": [
    "class Emp: pass\n",
    "class Person(Emp): pass\n",
    "bob = Person()\n",
    "\n",
    "instancetree(bob)"
   ]
  },
  {
   "cell_type": "markdown",
   "metadata": {},
   "source": [
    "Regardless of whether you will ever code or use such tools, this example demonstrates\n",
    "one of the many ways that you can make use of special attributes that expose interpreter\n",
    "internals. You’ll see another when we code the `lister.py` general-purpose class display\n",
    "tools in [Chapter 31]()’s section [“Multiple Inheritance: “Mix-in” Classes”]()\n",
    "—there, we will extend this technique to also display attributes in each object in a class\n",
    "tree and function as a common superclass."
   ]
  },
  {
   "cell_type": "markdown",
   "metadata": {},
   "source": [
    "## Documentation Strings Revisited\n",
    "\n",
    "The last section’s example includes a docstring for its module, but remember that docstrings can be used for class components as well. Docstrings, which we covered in detail\n",
    "in [Chapter 15](), are string literals that show up at the top of various structures and are\n",
    "automatically saved by Python in the corresponding objects’ `__doc__` attributes. This\n",
    "works for module files, function `def`s, and classes and methods.\n",
    "\n",
    "Now that we know more about classes and methods, the following file, `docstr.py`, \n",
    "provides a quick but comprehensive example that summarizes the places where docstrings\n",
    "can show up in your code. All of these can be triple-quoted blocks or simpler one-liner\n",
    "literals like those here:"
   ]
  },
  {
   "cell_type": "code",
   "execution_count": null,
   "metadata": {},
   "outputs": [],
   "source": [
    "\"I am: docstr.__doc__\"\n",
    "\n",
    "def func(args):\n",
    "    \"I am: docstr.func.__doc__\"\n",
    "    pass\n",
    "\n",
    "class spam:\n",
    "    \"I am: spam.__doc__ or docstr.spam.__doc__ or self.__doc__\"\n",
    "    \n",
    "    def method(self):\n",
    "        \"I am: spam.method.__doc__ or self.method.__doc__\"\n",
    "\n",
    "        print(self.__doc__)\n",
    "        print(self.method.__doc__)"
   ]
  },
  {
   "cell_type": "markdown",
   "metadata": {},
   "source": [
    "The main advantage of documentation strings is that they stick around at runtime.\n",
    "Thus, if it’s been coded as a docstring, you can qualify an object with its `__doc__` \n",
    "attribute to fetch its documentation (printing the result interprets line breaks if it’s a\n",
    "multiline string):"
   ]
  },
  {
   "cell_type": "code",
   "execution_count": null,
   "metadata": {},
   "outputs": [
    {
     "data": {
      "text/plain": [
       "'I am: docstr.__doc__'"
      ]
     },
     "execution_count": 48,
     "metadata": {},
     "output_type": "execute_result"
    }
   ],
   "source": [
    "import docstr\n",
    "\n",
    "docstr.__doc__"
   ]
  },
  {
   "cell_type": "code",
   "execution_count": null,
   "metadata": {},
   "outputs": [
    {
     "data": {
      "text/plain": [
       "'I am: docstr.func.__doc__'"
      ]
     },
     "execution_count": 49,
     "metadata": {},
     "output_type": "execute_result"
    }
   ],
   "source": [
    "docstr.func.__doc__"
   ]
  },
  {
   "cell_type": "code",
   "execution_count": null,
   "metadata": {},
   "outputs": [
    {
     "data": {
      "text/plain": [
       "'I am: spam.__doc__ or docstr.spam.__doc__ or self.__doc__'"
      ]
     },
     "execution_count": 50,
     "metadata": {},
     "output_type": "execute_result"
    }
   ],
   "source": [
    "docstr.spam.__doc__"
   ]
  },
  {
   "cell_type": "code",
   "execution_count": null,
   "metadata": {},
   "outputs": [
    {
     "data": {
      "text/plain": [
       "'I am: spam.method.__doc__ or self.method.__doc__'"
      ]
     },
     "execution_count": 51,
     "metadata": {},
     "output_type": "execute_result"
    }
   ],
   "source": [
    "docstr.spam.method.__doc__"
   ]
  },
  {
   "cell_type": "code",
   "execution_count": null,
   "metadata": {},
   "outputs": [
    {
     "name": "stdout",
     "output_type": "stream",
     "text": [
      "I am: spam.__doc__ or docstr.spam.__doc__ or self.__doc__\n",
      "I am: spam.method.__doc__ or self.method.__doc__\n"
     ]
    }
   ],
   "source": [
    "x = docstr.spam()\n",
    "x.method()"
   ]
  },
  {
   "cell_type": "markdown",
   "metadata": {},
   "source": [
    "A discussion of the *PyDoc* tool, which knows how to format all these strings in reports\n",
    "and web pages, appears in [Chapter 15](). Here it is running its `help` function on our code:"
   ]
  },
  {
   "cell_type": "code",
   "execution_count": null,
   "metadata": {},
   "outputs": [
    {
     "name": "stdout",
     "output_type": "stream",
     "text": [
      "Help on module docstr:\n",
      "\n",
      "NAME\n",
      "    docstr - I am: docstr.__doc__\n",
      "\n",
      "CLASSES\n",
      "    builtins.object\n",
      "        spam\n",
      "    \n",
      "    class spam(builtins.object)\n",
      "     |  I am: spam.__doc__ or docstr.spam.__doc__ or self.__doc__\n",
      "     |  \n",
      "     |  Methods defined here:\n",
      "     |  \n",
      "     |  method(self)\n",
      "     |      I am: spam.method.__doc__ or self.method.__doc__\n",
      "     |  \n",
      "     |  ----------------------------------------------------------------------\n",
      "     |  Data descriptors defined here:\n",
      "     |  \n",
      "     |  __dict__\n",
      "     |      dictionary for instance variables (if defined)\n",
      "     |  \n",
      "     |  __weakref__\n",
      "     |      list of weak references to the object (if defined)\n",
      "\n",
      "FUNCTIONS\n",
      "    func(args)\n",
      "        I am: docstr.func.__doc__\n",
      "\n",
      "FILE\n",
      "    f:\\2b. python path\\2b.1. python language\\sanhyew_lpy\\p1__basics\\5__class\\docstr.py\n",
      "\n",
      "\n"
     ]
    }
   ],
   "source": [
    "help(docstr)"
   ]
  },
  {
   "cell_type": "markdown",
   "metadata": {},
   "source": [
    "Documentation strings are available at runtime, but they are less flexible syntactically\n",
    "than `#` comments, which can appear anywhere in a program. Both forms are useful\n",
    "tools, and any program documentation is good (as long as it’s accurate, of course!). As\n",
    "stated before, the Python “best practice” rule of thumb is to use docstrings for \n",
    "functional documentation (what your objects do) and hash-mark comments for more \n",
    "micro-level documentation (how arcane bits of code work)."
   ]
  },
  {
   "cell_type": "markdown",
   "metadata": {},
   "source": [
    "## Classes Versus Modules\n",
    "\n",
    "Finally, let’s wrap up this chapter by briefly comparing the topics of this book’s last\n",
    "two parts: modules and classes. Because they’re both about namespaces, the distinction\n",
    "can be confusing. In short:\n",
    "\n",
    "+ Modules\n",
    "  - Implement data/logic packages\n",
    "  - Are created with Python files or other-language extensions\n",
    "  - Are used by being imported\n",
    "  - Form the top-level in Python program structure\n",
    "+ Classes\n",
    "  - Implement new full-featured objects\n",
    "  - Are created with class statements\n",
    "  - Are used by being called\n",
    "  - Always live within a module\n",
    "\n",
    "Classes also support extra features that modules don’t, such as operator overloading,\n",
    "multiple instance generation, and inheritance. Although both classes and modules are\n",
    "namespaces, you should be able to tell by now that they are very different things. We\n",
    "need to move ahead to see just how different classes can be."
   ]
  },
  {
   "cell_type": "markdown",
   "metadata": {},
   "source": [
    "## Summary\n",
    "\n",
    "This section took us on a second, more in-depth tour of the OOP mechanisms of the\n",
    "Python language. We learned more about classes, methods, and inheritance, and we\n",
    "wrapped up the namespaces and scopes story in Python by extending it to cover its\n",
    "application to classes. Along the way, we looked at some more advanced concepts,\n",
    "such as abstract superclasses, class data attributes, namespace dictionaries and links,\n",
    "and manual calls to superclass methods and constructors.\n",
    "\n",
    "Now that we’ve learned all about the mechanics of coding classes in Python, [Chapter 30]() \n",
    "turns to a specific facet of those mechanics: *operator overloading*. After that we’ll\n",
    "explore common design patterns, looking at some of the ways that classes are \n",
    "commonly used and combined to optimize code reuse. Before you read ahead, though, \n",
    "be sure to work through the usual chapter quiz to review what we’ve covered here."
   ]
  },
  {
   "cell_type": "markdown",
   "metadata": {},
   "source": [
    "## Test Your Knowledge\n",
    "\n",
    "\n",
    "### Quiz\n",
    "\n",
    "1. What is an abstract superclass?\n",
    "\n",
    "2. What happens when a simple assignment statement appears at the top level of a\n",
    "`class` statement?\n",
    "\n",
    "3. Why might a class need to manually call the `__init__` method in a superclass?\n",
    "\n",
    "4. How can you augment, instead of completely replacing, an inherited method?\n",
    "\n",
    "5. How does a class’s local scope differ from that of a function?\n",
    "\n",
    "6. What...was the capital of Assyria?\n",
    "\n",
    "\n",
    "### Answers\n",
    "\n",
    "1. An abstract superclass is a class that calls a method, but does not inherit or define\n",
    "    it—it expects the method to be filled in by a subclass. This is often used as a way\n",
    "    to generalize classes when behavior cannot be predicted until a more specific \n",
    "    subclass is coded. OOP frameworks also use this as a way to dispatch to client-defined,\n",
    "    customizable operations.\n",
    "\n",
    "2. When a simple assignment statement (`X = Y`) appears at the top level of a `class`\n",
    "    statement, it attaches a data attribute to the class (*`Class.X`*). Like all class attributes,\n",
    "    this will be shared by all instances; data attributes are not callable method functions, though.\n",
    "\n",
    "3. A class must manually call the `__init__` method in a superclass if it defines an\n",
    "    `__init__` constructor of its own and still wants the superclass’s construction code\n",
    "    to run. Python itself automatically runs just *one* constructor—the lowest one in\n",
    "    the tree. Superclass constructors are usually called through the class name, passing\n",
    "    in the `self` instance manually: `Superclass.__init__(self, ...)`.\n",
    "\n",
    "4. To augment instead of completely replacing an inherited method, redefine it in a\n",
    "    subclass, but call back to the superclass’s version of the method manually from the\n",
    "    new version of the method in the subclass. That is, pass the `self` instance to the\n",
    "    superclass’s version of the method manually: `Superclass. method(self, ...)`.\n",
    "\n",
    "5. A class is a local scope and has access to enclosing local scopes, but it does not\n",
    "    serve as an enclosing local scope to further nested code. Like modules, the class\n",
    "    local scope morphs into an attribute namespace after the `class` statement is run.\n",
    "\n",
    "6. Ashur (or Qalat Sherqat), Calah (or Nimrud), the short-lived Dur Sharrukin (or\n",
    "    Khorsabad), and finally Nineveh."
   ]
  }
 ],
 "metadata": {
  "interpreter": {
   "hash": "c97461ed06fc3eed5ba645d4221719a96ff8e1e800c131564c8e628fd4e8725a"
  },
  "kernelspec": {
   "display_name": "Python 3.8.8 ('base')",
   "language": "python",
   "name": "python3"
  },
  "language_info": {
   "codemirror_mode": {
    "name": "ipython",
    "version": 3
   },
   "file_extension": ".py",
   "mimetype": "text/x-python",
   "name": "python",
   "nbconvert_exporter": "python",
   "pygments_lexer": "ipython3",
   "version": "3.8.8"
  },
  "orig_nbformat": 4
 },
 "nbformat": 4,
 "nbformat_minor": 2
}
