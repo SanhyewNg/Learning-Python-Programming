{
 "cells": [
  {
   "cell_type": "markdown",
   "metadata": {},
   "source": [
    "# The “New Style” Class\n",
    "\n",
    "\n",
    "\n"
   ]
  },
  {
   "cell_type": "markdown",
   "metadata": {},
   "source": [
    "## The “New Style” Class Model\n",
    "\n",
    "\n",
    "In release 2.2, Python introduced a new flavor of classes, known as *new-style* classes;\n",
    "classes following the original and traditional model became known as *classic* classes\n",
    "when compared to the new kind. In 3.X the class story has merged, but it remains split\n",
    "for Python 2.X users and code:\n",
    "\n",
    "  + In *Python 3.X*, all classes are automatically what were formerly called “new style,”\n",
    "    whether they explicitly inherit from `object` or not. Coding the `object` superclass is\n",
    "    optional and implied.\n",
    "\n",
    "  + In *Python 2.X*, classes must explicitly inherit from `object` (or another built-in type)\n",
    "    to be considered “new style” and enable and obtain all new-style behavior. Classes\n",
    "    without this are “classic.”\n",
    "\n",
    "Because all classes are automatically new-style in 3.X, the features of new-style classes\n",
    "are simply normal class features in that line. I’ve opted to keep their descriptions in this\n",
    "section separate, however, in deference to users of Python 2.X code—classes in such\n",
    "code acquire new-style features and behavior only when they are derived from `object`.\n",
    "\n",
    "In other words, when Python 3.X users see descriptions of “new style” topics in this\n",
    "book, they should take them to be descriptions of existing properties of their classes.\n",
    "For 2.X readers, these are a set of optional changes and extensions that you may choose\n",
    "to enable or not, unless the code you must use already employs them.\n",
    "\n",
    "In Python 2.X, the identifying *syntactic* difference for new-style classes is that they are\n",
    "derived from either a built-in type, such as `list`, or a special built-in class known as\n",
    "`object`. The built-in name `object` is provided to serve as a superclass for new-style\n",
    "classes if no other built-in type is appropriate to use:\n",
    "\n",
    "```python\n",
    "    class newstyle(object):                 # 2.X explicit new-style derivation\n",
    "    ...normal class code...                 # Not required in 3.X: automatic\n",
    "```\n",
    "\n",
    "Any class derived from `object`, or any other built-in type, is automatically treated as a\n",
    "new-style class. That is, as long as a built-in type is somewhere in its superclass tree, a\n",
    "2.X class acquires new-style class behavior and extensions. Classes not derived from\n",
    "built-ins such as object are considered classic."
   ]
  },
  {
   "cell_type": "markdown",
   "metadata": {},
   "source": [
    "### Just How New Is New-Style?\n",
    "\n",
    "\n",
    "As we’ll see, new-style classes come with profound differences that impact programs\n",
    "broadly, especially when code leverages their added advanced features. In fact, at least\n",
    "in terms of its OOP support, these changes on some levels transform Python into a\n",
    "*different language altogether*—one that’s mandated in the 3.X line, one that’s optional\n",
    "in 2.X only if ignored by every programmer, and one that borrows much more from\n",
    "(and is often as complex as) other languages in this domain.\n",
    "\n",
    "New-style classes stem in part from an attempt to merge the notion of *class* with that\n",
    "of *type* around the time of Python 2.2, though they went unnoticed by many until they\n",
    "were escalated to required knowledge in 3.X. You’ll need to judge the success of that\n",
    "merging for yourself, but as we’ll see, there are still distinctions in the model—now\n",
    "between *class* and *metaclass*—and one of its side effects is to make normal classes more\n",
    "powerful but also substantially more complex. The new-style inheritance algorithm\n",
    "formalized in [Chapter 40](), for example, grows in complexity by at least a factor of 2.\n",
    "\n",
    "Still, some programmers using straightforward application code may notice only slight\n",
    "divergence from traditional “classic” classes. After all, we’ve managed to get to this\n",
    "point in this book writing substantial class examples, with mostly just passing mentions\n",
    "of this change. Moreover, the classic class model still available in 2.X works exactly as\n",
    "it has for some two decades.\n",
    "\n",
    "However, because they modify core class behaviors, new-style classes had to be introduced \n",
    "in Python 2.X as a distinct tool so as to avoid impacting any existing code that\n",
    "depends on the prior model. For example, some subtle differences, such as diamond\n",
    "pattern inheritance search and the interaction of built-in operations and managed \n",
    "attribute methods such as `__getattr__` can cause some existing code to fail if left \n",
    "unchanged. Using optional extensions in the new model such as slots can have the same\n",
    "effect.\n",
    "\n",
    "The class model split is removed in Python 3.X, which *mandates* new-style classes, but\n",
    "it still exists for readers using 2.X, or reusing the vast amount of existing 2.X code in\n",
    "production use. Because this has been an optional extension in 2.X, code written for\n",
    "that line may use either class model.\n",
    "\n",
    "The next two top-level sections provide overviews of the ways in which new-style\n",
    "classes differ and the new tools they provide. These topics represent potential changes\n",
    "to some Python 2.X readers, but simply additional advanced class topics to many\n",
    "Python 3.X readers. If you’re in the latter group, you’ll find full coverage here, though\n",
    "some of it is presented in the context of changes—which you can accept as features,\n",
    "but only if you never must deal with any of the millions of lines of existing 2.X code."
   ]
  },
  {
   "cell_type": "markdown",
   "metadata": {},
   "source": [
    "## New-Style Class Changes\n",
    "\n",
    "\n",
    "New-style classes differ from classic classes in a number of ways, some of which are\n",
    "subtle but can impact both existing 2.X code and common coding styles. As preview\n",
    "and summary, here are some of the most prominent ways they differ:\n",
    "\n",
    "  + *Attribute fetch for built-ins: instance skipped*  \n",
    "    The `__getattr__` and `__getattribute__` generic attribute interception methods are\n",
    "    still run for attributes accessed by explicit name, but no longer for attributes \n",
    "    implicitly fetched by built-in operations. They are not called for `__X__` operator \n",
    "    overloading method names in built-in contexts only—the search for such names begins\n",
    "    at classes, not instances. This breaks or complicates objects that serve as *proxies*\n",
    "    for another object’s interface, if wrapped objects implement operator overloading.\n",
    "    Such methods must be redefined for the sake of differing built-ins dispatch in \n",
    "    new-style classes.\n",
    "\n",
    "  + *Classes and types merged: type testing*  \n",
    "    Classes are now types, and types are now classes. In fact, the two are essentially\n",
    "    synonyms, though the *metaclasses* that now subsume types are still somewhat distinct \n",
    "    from normal classes. The `type(I)` built-in returns the class an instance is made\n",
    "    from, instead of a generic instance type, and is normally the same as `I.__class__`.\n",
    "    Moreover, classes are instances of the `type` class, and `type` may be subclassed to\n",
    "    customize class creation with metaclasses coded with `class` statements. This can\n",
    "    impact code that tests types or otherwise relies on the prior type model.\n",
    "\n",
    "  + *Automatic object root class: defaults*  \n",
    "    All new-style classes (and hence types) inherit from `object`, which comes with a\n",
    "    small set of default operator overloading methods (e.g., `__repr__`). In 3.X, this class\n",
    "    is added automatically above the user-defined root (i.e., *topmost*) classes in a tree,\n",
    "    and need not be listed as a superclass explicitly. This can affect code that assumes\n",
    "    the absence of method defaults and root classes.\n",
    "\n",
    "  + *Inheritance search order: MRO and diamonds*  \n",
    "    Diamond patterns of multiple inheritance have a slightly different search order—\n",
    "    roughly, at diamonds they are searched across before up, and more breadth-first\n",
    "    than depth-first. This attribute search order, known as the MRO, can be traced\n",
    "    with a new `__mro__` attribute available on new-style classes. The new search order\n",
    "    largely applies only to diamond class trees, though the new model’s implied\n",
    "    object root itself forms a diamond in all multiple inheritance trees. Code that relies\n",
    "    on the prior order will not work the same.\n",
    "\n",
    "  + *Inheritance algorithm: [Chapter 40]()*  \n",
    "    The algorithm used for inheritance in new-style classes is substantially more complex \n",
    "    than the depth-first model of classic classes, incorporating special cases for\n",
    "    descriptors, metaclasses, and built-ins. We won’t be able to formalize this until\n",
    "    [Chapter 40]() after we’ve studied metaclasses and descriptors in more depth, but it\n",
    "    can impact code that does not anticipate its extra convolutions.\n",
    "\n",
    "  + *New advanced tools: code impacts*  \n",
    "    New-style classes have a set of new class tools, including *slots*, *properties*, *descriptors*, `super`, and the `__getattribute__` method. Most of these have very specific\n",
    "    tool-building purposes. Their use can also impact or break existing code, though;\n",
    "    slots, for example, sometimes prevent creation of an instance namespace dictionary\n",
    "    altogether, and generic attribute handlers may require different coding.\n",
    "\n",
    "We’ll explore the *extensions* noted in the last of these items in a later top-level section\n",
    "of its own, and will defer formal inheritance algorithm coverage until [Chapter 40]() as\n",
    "noted. Because the other items on this list have the potential to break traditional Python\n",
    "code, though, let’s take a closer look at each in turn here.\n"
   ]
  },
  {
   "cell_type": "markdown",
   "metadata": {},
   "source": [
    "### Attribute Fetch for Built-ins Skips Instances\n",
    "\n",
    "\n",
    "We introduced this new-style class change in sidebars in both [Chapter 28]() and [Chapter 31]() \n",
    "because of their impact on prior examples and topics. In new-style classes (and\n",
    "hence all classes in 3.X), the generic instance attribute interception methods \n",
    "`__getattr__` and `__getattribute__` are no longer called by built-in operations for `__X__` \n",
    "operator overloading method names—the search for such names begins at classes, not\n",
    "instances. Attributes accessed by explicit name, however, are routed through these\n",
    "methods, even if they are `__X__` names. Hence, this is primarily a change to the behavior\n",
    "of built-in operations.\n",
    "\n",
    "More formally, if a class defines a `__getitem__` index overload method and `X` is an \n",
    "instance of this class, then an index expression like X[I]  is roughly equivalent to \n",
    "`X.__getitem__(I)` for classic classes, but `type(X).__getitem__(X, I)` for new-style classes—the\n",
    "latter beginning its search in the class, and thus skipping a `__getattr__` step from the\n",
    "instance for an undefined name.\n",
    "\n",
    "Technically, this method search for built-in operations like `X[I]`  uses normal inheritance \n",
    "beginning at the class level, and inspects only the *namespace dictionaries* of all\n",
    "the classes from which `X` derives—a distinction that can matter in the *metaclass* model\n",
    "we’ll meet later in this section and focus on in [Chapter 40](), where classes may acquire\n",
    "behavior differently. The instance, however, is omitted by built-ins’ search."
   ]
  },
  {
   "cell_type": "markdown",
   "metadata": {},
   "source": [
    "#### Why the lookup change?\n",
    "\n",
    "\n",
    "You can find formal rationales for this change elsewhere; this book is disinclined to\n",
    "parrot justifications for a change that breaks many working programs. But this is \n",
    "imagined as both an *optimization* path and a solution to a seemingly obscure *call pattern* \n",
    "issue. The former rationale is supported by the frequency of built-in operations. If\n",
    "every `+`, for example, requires extra steps at the instance, it can degrade program speed\n",
    "—especially so given the new-style model’s many attribute-level extensions.\n",
    "\n",
    "The latter rationale is more obscure, and is described in Python manuals; in short, it\n",
    "reflects a conundrum introduced by the *metaclass* model. Because classes are now \n",
    "instances of metaclasses, and because metaclasses can define built-in operator methods\n",
    "to process the classes they generate, a method call run for a class must skip the class\n",
    "itself and look one level higher to pick up a method that processes the class, rather than\n",
    "selecting the class’s own version. Its own version would result in an unbound method\n",
    "call, because the class’s own method processes lower instances. This is just the usual\n",
    "unbound method model we discussed in the prior section, but is potentially aggravated\n",
    "by the fact that classes can acquire type behavior from metaclasses too.\n",
    "\n",
    "As a result, because classes are both types and instances in their own right, all instances\n",
    "are skipped for built-in operation method lookup. This is supposedly applied to normal\n",
    "instances for uniformity and consistency, but both non-built-in names and direct and\n",
    "explicit calls to built-in names still check the instance anyhow. Though perhaps a \n",
    "consequence of the new-style class model, to some this may seem a solution arrived at for\n",
    "the sake of a usage pattern that was more artificial and obscure than the widely used\n",
    "one it broke. Its role as optimization path seems more defensible, but also not without\n",
    "repercussions.\n",
    "\n",
    "In particular, this has potentially broad implications for the *delegation*-based classes,\n",
    "often known as ***proxy classes***, when embedded objects implement operator overloading. \n",
    "In new-style classes, such a proxy object’s class must generally *redefine* any such\n",
    "names to catch and delegate, either manually or with tools. The net effect is to either\n",
    "significantly complicate or wholly obviate an *entire category of programs*. We explored\n",
    "delegation in [Chapter 28]() and [Chapter 31](); it’s a common pattern used to augment or\n",
    "adapt another class’s interface—to add validation, tracing, timing, and many other\n",
    "sorts of logic. Though proxies may be more the exception than the rule in typical Python\n",
    "code, many Python programs depend upon them."
   ]
  },
  {
   "cell_type": "markdown",
   "metadata": {},
   "source": [
    "#### Implications for attribute interception\n",
    "\n",
    "\n",
    "In simple terms, and run in Python 2.X to show how new-style classes differ, indexing\n",
    "and prints are routed to `__getattr__` in traditional classes, but not for new-style classes,\n",
    "where printing uses a default:\n",
    "\n",
    "```python\n",
    "    >>> class C:\n",
    "                data = 'spam'\n",
    "                def __getattr__(self, name):  # Classic in 2.X: catches built-ins\n",
    "                    print(name)\n",
    "                    return getattr(self.data, name)\n",
    "    >>> X = C()\n",
    "    >>> X[0]\n",
    "    __getitem__\n",
    "    's'\n",
    "    >>> print(X) # Classic doesn't inherit default\n",
    "    __str__\n",
    "    spam\n",
    "```"
   ]
  },
  {
   "cell_type": "code",
   "execution_count": null,
   "metadata": {},
   "outputs": [
    {
     "ename": "TypeError",
     "evalue": "'C' object is not subscriptable",
     "output_type": "error",
     "traceback": [
      "\u001b[1;31m---------------------------------------------------------------------------\u001b[0m\n",
      "\u001b[1;31mTypeError\u001b[0m                                 Traceback (most recent call last)\n",
      "\u001b[1;32m<ipython-input-5-24372c252d91>\u001b[0m in \u001b[0;36m<module>\u001b[1;34m\u001b[0m\n",
      "\u001b[0;32m      6\u001b[0m \u001b[1;33m\u001b[0m\u001b[0m\n",
      "\u001b[0;32m      7\u001b[0m \u001b[0mX\u001b[0m \u001b[1;33m=\u001b[0m \u001b[0mC\u001b[0m\u001b[1;33m(\u001b[0m\u001b[1;33m)\u001b[0m \u001b[1;31m# Built-ins not routed to getattr\u001b[0m\u001b[1;33m\u001b[0m\u001b[1;33m\u001b[0m\u001b[0m\n",
      "\u001b[1;32m----> 8\u001b[1;33m \u001b[0mX\u001b[0m\u001b[1;33m[\u001b[0m\u001b[1;36m0\u001b[0m\u001b[1;33m]\u001b[0m\u001b[1;33m\u001b[0m\u001b[1;33m\u001b[0m\u001b[0m\n",
      "\u001b[0m\n",
      "\u001b[1;31mTypeError\u001b[0m: 'C' object is not subscriptable"
     ]
    }
   ],
   "source": [
    "class C(object):  # New-style in 2.X and 3.X\n",
    "    data = 'spam'\n",
    "    def __getattr__(self, name):  # Classic in 2.X: catches built-ins\n",
    "        print(name)\n",
    "        return getattr(self.data, name)\n",
    "\n",
    "X = C() # Built-ins not routed to getattr\n",
    "X[0]"
   ]
  },
  {
   "cell_type": "code",
   "execution_count": null,
   "metadata": {},
   "outputs": [
    {
     "name": "stdout",
     "output_type": "stream",
     "text": [
      "<__main__.C object at 0x000002B0DDA8D7F0>\n"
     ]
    }
   ],
   "source": [
    "print(X)"
   ]
  },
  {
   "cell_type": "markdown",
   "metadata": {},
   "source": [
    "Though apparently rationalized in the name of class metaclass methods and optimizing\n",
    "built-in operations, this divergence is not addressed by special-casing normal instances\n",
    "having a `__getattr__`, and applies only to built-in operations—not to normally named\n",
    "methods, or explicit calls to built-in methods by name:\n",
    "\n",
    "```python\n",
    "    >>> class C: pass                               # 2.X classic class\n",
    "    >>> X = C()\n",
    "    >>> X.normal = lambda: 99\n",
    "    >>> X.normal()\n",
    "    99\n",
    "    >>> X.__add__ = lambda(y): 88 + y\n",
    "    >>> X.__add__(1)\n",
    "    89\n",
    "    >>> X + 1\n",
    "    89\n",
    "```"
   ]
  },
  {
   "cell_type": "code",
   "execution_count": null,
   "metadata": {},
   "outputs": [
    {
     "data": {
      "text/plain": [
       "99"
      ]
     },
     "metadata": {},
     "output_type": "display_data"
    }
   ],
   "source": [
    "class C(object): pass                           # 2.X/3.X new-style class\n",
    "X = C()\n",
    "X.normal = lambda: 99\n",
    "X.normal()                                      # Normals still from instance"
   ]
  },
  {
   "cell_type": "code",
   "execution_count": null,
   "metadata": {},
   "outputs": [
    {
     "data": {
      "text/plain": [
       "89"
      ]
     },
     "metadata": {},
     "output_type": "display_data"
    }
   ],
   "source": [
    "X.__add__ = lambda y: 88 + y\n",
    "X.__add__(1)                                    # Ditto for explicit built-in names"
   ]
  },
  {
   "cell_type": "code",
   "execution_count": null,
   "metadata": {},
   "outputs": [
    {
     "ename": "TypeError",
     "evalue": "unsupported operand type(s) for +: 'C' and 'int'",
     "output_type": "error",
     "traceback": [
      "\u001b[1;31m---------------------------------------------------------------------------\u001b[0m\n",
      "\u001b[1;31mTypeError\u001b[0m                                 Traceback (most recent call last)\n",
      "\u001b[1;32m<ipython-input-20-7efd7e90ed41>\u001b[0m in \u001b[0;36m<module>\u001b[1;34m\u001b[0m\n",
      "\u001b[1;32m----> 1\u001b[1;33m \u001b[0mX\u001b[0m \u001b[1;33m+\u001b[0m \u001b[1;36m1\u001b[0m\u001b[1;33m\u001b[0m\u001b[1;33m\u001b[0m\u001b[0m\n",
      "\u001b[0m\n",
      "\u001b[1;31mTypeError\u001b[0m: unsupported operand type(s) for +: 'C' and 'int'"
     ]
    }
   ],
   "source": [
    "X + 1"
   ]
  },
  {
   "cell_type": "markdown",
   "metadata": {},
   "source": [
    "This behavior winds up being inherited by the `__getattr__` attribute interception\n",
    "method:"
   ]
  },
  {
   "cell_type": "code",
   "execution_count": null,
   "metadata": {},
   "outputs": [
    {
     "name": "stdout",
     "output_type": "stream",
     "text": [
      "normal\n"
     ]
    }
   ],
   "source": [
    "class C(object):\n",
    "    def __getattr__(self, name): print(name)\n",
    "\n",
    "X = C()\n",
    "X.normal                            # Normal names are still routed to getattr"
   ]
  },
  {
   "cell_type": "code",
   "execution_count": null,
   "metadata": {},
   "outputs": [
    {
     "name": "stdout",
     "output_type": "stream",
     "text": [
      "__add__\n"
     ]
    }
   ],
   "source": [
    "X.__add__                           # Direct calls by name are too, but expressions are not!"
   ]
  },
  {
   "cell_type": "code",
   "execution_count": null,
   "metadata": {},
   "outputs": [
    {
     "ename": "TypeError",
     "evalue": "unsupported operand type(s) for +: 'C' and 'int'",
     "output_type": "error",
     "traceback": [
      "\u001b[1;31m---------------------------------------------------------------------------\u001b[0m\n",
      "\u001b[1;31mTypeError\u001b[0m                                 Traceback (most recent call last)\n",
      "\u001b[1;32m<ipython-input-23-7efd7e90ed41>\u001b[0m in \u001b[0;36m<module>\u001b[1;34m\u001b[0m\n",
      "\u001b[1;32m----> 1\u001b[1;33m \u001b[0mX\u001b[0m \u001b[1;33m+\u001b[0m \u001b[1;36m1\u001b[0m\u001b[1;33m\u001b[0m\u001b[1;33m\u001b[0m\u001b[0m\n",
      "\u001b[0m\n",
      "\u001b[1;31mTypeError\u001b[0m: unsupported operand type(s) for +: 'C' and 'int'"
     ]
    }
   ],
   "source": [
    "X + 1"
   ]
  },
  {
   "cell_type": "markdown",
   "metadata": {},
   "source": [
    "#### Proxy coding requirements\n",
    "\n",
    "\n",
    "In a more realistic delegation scenario, this means that built-in operations like \n",
    "expressions no longer work the same as their traditional direct-call equivalent. \n",
    "Asymmetrically, direct calls to built-in method names still work, but equivalent expressions do\n",
    "not because through-type calls fail for names not at the class level and above. In other\n",
    "words, this distinction arises in *built-in operations only*; explicit fetches run correctly:"
   ]
  },
  {
   "cell_type": "code",
   "execution_count": null,
   "metadata": {},
   "outputs": [
    {
     "name": "stdout",
     "output_type": "stream",
     "text": [
      "getattr: __getitem__\n"
     ]
    },
    {
     "data": {
      "text/plain": [
       "'p'"
      ]
     },
     "metadata": {},
     "output_type": "display_data"
    }
   ],
   "source": [
    "class C(object):\n",
    "    data = 'spam'\n",
    "    def __getattr__(self, name):\n",
    "        print('getattr: ' + name)\n",
    "        return getattr(self.data, name)\n",
    "\n",
    "X = C()\n",
    "X.__getitem__(1)                        # Traditional mapping works but new-style's does not"
   ]
  },
  {
   "cell_type": "code",
   "execution_count": null,
   "metadata": {},
   "outputs": [
    {
     "ename": "TypeError",
     "evalue": "'C' object is not subscriptable",
     "output_type": "error",
     "traceback": [
      "\u001b[1;31m---------------------------------------------------------------------------\u001b[0m\n",
      "\u001b[1;31mTypeError\u001b[0m                                 Traceback (most recent call last)\n",
      "\u001b[1;32m<ipython-input-25-b33b232e0a5f>\u001b[0m in \u001b[0;36m<module>\u001b[1;34m\u001b[0m\n",
      "\u001b[1;32m----> 1\u001b[1;33m \u001b[0mX\u001b[0m\u001b[1;33m[\u001b[0m\u001b[1;36m1\u001b[0m\u001b[1;33m]\u001b[0m\u001b[1;33m\u001b[0m\u001b[1;33m\u001b[0m\u001b[0m\n",
      "\u001b[0m\n",
      "\u001b[1;31mTypeError\u001b[0m: 'C' object is not subscriptable"
     ]
    }
   ],
   "source": [
    "X[1]"
   ]
  },
  {
   "cell_type": "code",
   "execution_count": null,
   "metadata": {},
   "outputs": [
    {
     "ename": "AttributeError",
     "evalue": "type object 'C' has no attribute '__getitem__'",
     "output_type": "error",
     "traceback": [
      "\u001b[1;31m---------------------------------------------------------------------------\u001b[0m\n",
      "\u001b[1;31mAttributeError\u001b[0m                            Traceback (most recent call last)\n",
      "\u001b[1;32m<ipython-input-26-babf2b7ecbe3>\u001b[0m in \u001b[0;36m<module>\u001b[1;34m\u001b[0m\n",
      "\u001b[1;32m----> 1\u001b[1;33m \u001b[0mtype\u001b[0m\u001b[1;33m(\u001b[0m\u001b[0mX\u001b[0m\u001b[1;33m)\u001b[0m\u001b[1;33m.\u001b[0m\u001b[0m__getitem__\u001b[0m\u001b[1;33m(\u001b[0m\u001b[0mX\u001b[0m\u001b[1;33m,\u001b[0m \u001b[1;36m1\u001b[0m\u001b[1;33m)\u001b[0m\u001b[1;33m\u001b[0m\u001b[1;33m\u001b[0m\u001b[0m\n",
      "\u001b[0m\n",
      "\u001b[1;31mAttributeError\u001b[0m: type object 'C' has no attribute '__getitem__'"
     ]
    }
   ],
   "source": [
    "type(X).__getitem__(X, 1)"
   ]
  },
  {
   "cell_type": "code",
   "execution_count": null,
   "metadata": {},
   "outputs": [
    {
     "name": "stdout",
     "output_type": "stream",
     "text": [
      "getattr: __add__\n"
     ]
    },
    {
     "data": {
      "text/plain": [
       "'spameggs'"
      ]
     },
     "metadata": {},
     "output_type": "display_data"
    }
   ],
   "source": [
    "X.__add__('eggs')                   # Ditto for +: instance skipped for expression only"
   ]
  },
  {
   "cell_type": "code",
   "execution_count": null,
   "metadata": {},
   "outputs": [
    {
     "ename": "TypeError",
     "evalue": "unsupported operand type(s) for +: 'C' and 'str'",
     "output_type": "error",
     "traceback": [
      "\u001b[1;31m---------------------------------------------------------------------------\u001b[0m\n",
      "\u001b[1;31mTypeError\u001b[0m                                 Traceback (most recent call last)\n",
      "\u001b[1;32m<ipython-input-28-ea3b1784662d>\u001b[0m in \u001b[0;36m<module>\u001b[1;34m\u001b[0m\n",
      "\u001b[1;32m----> 1\u001b[1;33m \u001b[0mX\u001b[0m \u001b[1;33m+\u001b[0m \u001b[1;34m'eggs'\u001b[0m\u001b[1;33m\u001b[0m\u001b[1;33m\u001b[0m\u001b[0m\n",
      "\u001b[0m\n",
      "\u001b[1;31mTypeError\u001b[0m: unsupported operand type(s) for +: 'C' and 'str'"
     ]
    }
   ],
   "source": [
    "X + 'eggs'"
   ]
  },
  {
   "cell_type": "code",
   "execution_count": null,
   "metadata": {},
   "outputs": [
    {
     "ename": "AttributeError",
     "evalue": "type object 'C' has no attribute '__add__'",
     "output_type": "error",
     "traceback": [
      "\u001b[1;31m---------------------------------------------------------------------------\u001b[0m\n",
      "\u001b[1;31mAttributeError\u001b[0m                            Traceback (most recent call last)\n",
      "\u001b[1;32m<ipython-input-29-55553ad8f84b>\u001b[0m in \u001b[0;36m<module>\u001b[1;34m\u001b[0m\n",
      "\u001b[1;32m----> 1\u001b[1;33m \u001b[0mtype\u001b[0m\u001b[1;33m(\u001b[0m\u001b[0mX\u001b[0m\u001b[1;33m)\u001b[0m\u001b[1;33m.\u001b[0m\u001b[0m__add__\u001b[0m\u001b[1;33m(\u001b[0m\u001b[0mX\u001b[0m\u001b[1;33m,\u001b[0m \u001b[1;34m'eggs'\u001b[0m\u001b[1;33m)\u001b[0m\u001b[1;33m\u001b[0m\u001b[1;33m\u001b[0m\u001b[0m\n",
      "\u001b[0m\n",
      "\u001b[1;31mAttributeError\u001b[0m: type object 'C' has no attribute '__add__'"
     ]
    }
   ],
   "source": [
    "type(X).__add__(X, 'eggs')"
   ]
  },
  {
   "cell_type": "markdown",
   "metadata": {},
   "source": [
    "The net effect: to code a proxy of an object whose interface may in part be invoked by\n",
    "built-in operations, new-style classes require both `__getattr__` for normal names, as\n",
    "well as method *redefinitions* for all names accessed by built-in operations—whether\n",
    "coded manually, obtained from superclasses, or generated by tools. When redefinitions\n",
    "are so incorporated, calls through *both* instances and types are equivalent to built-in\n",
    "operations, though redefined names are no longer routed to the generic `__getattr__`\n",
    "undefined name handler, even for explicit name calls:"
   ]
  },
  {
   "cell_type": "code",
   "execution_count": null,
   "metadata": {},
   "outputs": [
    {
     "name": "stdout",
     "output_type": "stream",
     "text": [
      "getattr: upper\n"
     ]
    },
    {
     "data": {
      "text/plain": [
       "<function str.upper()>"
      ]
     },
     "metadata": {},
     "output_type": "display_data"
    }
   ],
   "source": [
    "class C(object):                                        # New-style: 3.X and 2.X\n",
    "    data = 'spam'\n",
    "    def __getattr__(self, name):                        # Catch normal names\n",
    "        print('getattr: ' + name)\n",
    "        return getattr(self.data, name)\n",
    "    def __getitem__(self, i):                           # Redefine built-ins\n",
    "        print('getitem: ' + str(i))\n",
    "        return self.data[i]                             # Run expr or getattr\n",
    "    def __add__(self, other):\n",
    "        print('add: ' + other)\n",
    "        return getattr(self.data, '__add__')(other)\n",
    "\n",
    "X = C()\n",
    "X.upper"
   ]
  },
  {
   "cell_type": "code",
   "execution_count": null,
   "metadata": {},
   "outputs": [
    {
     "name": "stdout",
     "output_type": "stream",
     "text": [
      "getattr: upper\n"
     ]
    },
    {
     "data": {
      "text/plain": [
       "'SPAM'"
      ]
     },
     "metadata": {},
     "output_type": "display_data"
    }
   ],
   "source": [
    "X.upper()"
   ]
  },
  {
   "cell_type": "code",
   "execution_count": null,
   "metadata": {},
   "outputs": [
    {
     "name": "stdout",
     "output_type": "stream",
     "text": [
      "getitem: 1\n"
     ]
    },
    {
     "data": {
      "text/plain": [
       "'p'"
      ]
     },
     "metadata": {},
     "output_type": "display_data"
    }
   ],
   "source": [
    "X[1]                                        # Built-in operation (implicit)"
   ]
  },
  {
   "cell_type": "code",
   "execution_count": null,
   "metadata": {},
   "outputs": [
    {
     "name": "stdout",
     "output_type": "stream",
     "text": [
      "getitem: 1\n"
     ]
    },
    {
     "data": {
      "text/plain": [
       "'p'"
      ]
     },
     "metadata": {},
     "output_type": "display_data"
    }
   ],
   "source": [
    "X.__getitem__(1)                            # Traditional equivalence (explicit)"
   ]
  },
  {
   "cell_type": "code",
   "execution_count": null,
   "metadata": {},
   "outputs": [
    {
     "name": "stdout",
     "output_type": "stream",
     "text": [
      "getitem: 1\n"
     ]
    },
    {
     "data": {
      "text/plain": [
       "'p'"
      ]
     },
     "metadata": {},
     "output_type": "display_data"
    }
   ],
   "source": [
    "type(X).__getitem__(X, 1)                   # New-style equivalence"
   ]
  },
  {
   "cell_type": "code",
   "execution_count": null,
   "metadata": {},
   "outputs": [
    {
     "name": "stdout",
     "output_type": "stream",
     "text": [
      "getitem: 1\n"
     ]
    },
    {
     "data": {
      "text/plain": [
       "'p'"
      ]
     },
     "metadata": {},
     "output_type": "display_data"
    }
   ],
   "source": [
    "type(X).__getitem__(X, 1)                   # New-style equivalence"
   ]
  },
  {
   "cell_type": "code",
   "execution_count": null,
   "metadata": {},
   "outputs": [
    {
     "name": "stdout",
     "output_type": "stream",
     "text": [
      "add: eggs\n"
     ]
    },
    {
     "data": {
      "text/plain": [
       "'spameggs'"
      ]
     },
     "metadata": {},
     "output_type": "display_data"
    }
   ],
   "source": [
    "X + 'eggs'                                  # Ditto for + and others"
   ]
  },
  {
   "cell_type": "code",
   "execution_count": null,
   "metadata": {},
   "outputs": [
    {
     "name": "stdout",
     "output_type": "stream",
     "text": [
      "add: eggs\n"
     ]
    },
    {
     "data": {
      "text/plain": [
       "'spameggs'"
      ]
     },
     "metadata": {},
     "output_type": "display_data"
    }
   ],
   "source": [
    "X.__add__('eggs')"
   ]
  },
  {
   "cell_type": "code",
   "execution_count": null,
   "metadata": {},
   "outputs": [
    {
     "name": "stdout",
     "output_type": "stream",
     "text": [
      "add: eggs\n"
     ]
    },
    {
     "data": {
      "text/plain": [
       "'spameggs'"
      ]
     },
     "metadata": {},
     "output_type": "display_data"
    }
   ],
   "source": [
    "type(X).__add__(X, 'eggs')"
   ]
  },
  {
   "cell_type": "markdown",
   "metadata": {},
   "source": [
    "#### For more details\n",
    "\n",
    "\n",
    "We will revisit this change in [Chapter 40]() on metaclasses, and by example in the contexts\n",
    "of attribute management in [Chapter 38]() and privacy decorators in [Chapter 39](). In the\n",
    "latter of these, we’ll also explore coding structures for providing proxies with the \n",
    "required operator methods generically—it’s not an impossible task, and may need to be\n",
    "coded just once if done well. For more of the sort of code influenced by this issue, see\n",
    "those later chapters, as well as the earlier examples in [Chapter 28]() and [Chapter 31]().\n",
    "\n",
    "Because we’ll expand on this issue later in the book, we’ll cut the coverage short here.\n",
    "For external links and pointers on this issue, though, see the following (along with your\n",
    "local search engine):\n",
    "\n",
    "  + *Python Issue 643841*: this issue has been discussed widely, but its most official\n",
    "    history seems to be documented at http://bugs.python.org/issue643841 . There, it\n",
    "    was raised as a concern for real programs and escalated to be addressed, but a\n",
    "    proposed library remedy or broader change in Python was struck down in favor of\n",
    "    a simple documentation change to describe the new mandated behavior.\n",
    "\n",
    "  + *Tool recipes*: also see http://code.activestate.com/recipes/252151 , an Active State\n",
    "    Python recipe that describes a tool that automatically fills in special method names\n",
    "    as generic call dispatchers in a proxy class created with metaclass techniques \n",
    "    introduced later in this section. This tool still must ask you to pass in the operator\n",
    "    method names that a wrapped object may implement, though (it must, as interface\n",
    "    components of a wrapped object may be inherited from arbitrary sources).\n",
    "\n",
    "  + *Other approaches*: a web search today will uncover numerous additional tools that\n",
    "    similarly populate proxy classes with overloading methods; it’s a widespread concern! Again, in [Chapter 39](), we’ll also see how to code straightforward and general\n",
    "    superclasses once that provide the required methods or attributes as *mix-ins*,\n",
    "    without metaclasses, redundant code generation, or similarly complex techniques.\n",
    "\n",
    "This story may evolve over time, of course, but has been an issue for many years. As\n",
    "this stands today, classic class proxies for objects that do any operator overloading are\n",
    "effectively broken as new-style classes. Such classes in both 2.X and 3.X require coding\n",
    "or generating wrappers for all the implicitly invoked operator methods a wrapped object \n",
    "may support. This is not ideal for such programs—some proxies may require dozens of \n",
    "wrapper methods (potentially over 50!)—but reflects, or is at least an artifact of,\n",
    "the design goals of new-style class developers."
   ]
  },
  {
   "cell_type": "markdown",
   "metadata": {},
   "source": [
    "### Type Model Changes\n",
    "\n",
    "\n",
    "On to our next new-style change: depending on your assessment, in new-style classes\n",
    "the distinction between *type* and *class* has either been greatly muted or has vanished\n",
    "entirely. Specifically:\n",
    "\n",
    "- *Classes are types*\n",
    "\n",
    "    The `type` object generates classes as its instances, and classes generate instances of\n",
    "    themselves. Both are considered types, because they generate instances. In fact,\n",
    "    there is no real difference between built-in types like lists and strings and \n",
    "    user-defined types coded as classes. This is why we can subclass built-in types, as shown\n",
    "    earlier in this section—a subclass of a built-in type such as `list` qualifies as a \n",
    "    newstyle class and becomes a new user-defined type.\n",
    "\n",
    "- *Types are classes*\n",
    "\n",
    "    New class-generating types may be coded in Python as the *metaclasses* we’ll meet\n",
    "    later in this section—user-defined type subclasses that are coded with normal\n",
    "    class statements, and control creation of the classes that are their instances. As\n",
    "    we’ll see, metaclasses are both class and type, though they are distinct enough to\n",
    "    support a reasonable argument that the prior type/class dichotomy has become\n",
    "    one of metaclass/class, perhaps at the cost of added complexity in normal classes.\n",
    "\n",
    "Besides allowing us to subclass built-in types and code metaclasses, one of the most\n",
    "practical contexts where this type/class merging becomes most obvious is when we do\n",
    "explicit type testing. With Python 2.X’s classic classes, the type of a class instance is a\n",
    "generic “instance,” but the types of built-in objects are more specific.\n",
    "\n",
    "With new-style classes in 2.X, the type of a class instance is the class it’s created\n",
    "from, since classes are simply user-defined types—the type of an instance is its class,\n",
    "and the type of a user-defined class is the same as the type of a built-in object type.\n",
    "Classes have a `__class__` attribute now, too, because they are instances of `type`.\n",
    "\n",
    "The same is true for all classes in Python 3.X, since all classes are automatically new-style, \n",
    "even if they have no explicit superclasses. In fact, the distinction between built-in types \n",
    "and user-defined class types seems to melt away altogether in 3.X:\n"
   ]
  },
  {
   "cell_type": "code",
   "execution_count": null,
   "metadata": {},
   "outputs": [
    {
     "data": {
      "text/plain": [
       "(__main__.C, __main__.C)"
      ]
     },
     "metadata": {},
     "output_type": "display_data"
    }
   ],
   "source": [
    "class C: pass\n",
    "\n",
    "I = C()                         # All classes are new-style in 3.X\n",
    "type(I), I.__class__            # Type of instance is class it's made from"
   ]
  },
  {
   "cell_type": "code",
   "execution_count": null,
   "metadata": {},
   "outputs": [
    {
     "data": {
      "text/plain": [
       "(type, type)"
      ]
     },
     "metadata": {},
     "output_type": "display_data"
    }
   ],
   "source": [
    "type(C), C.__class__            # Class is a type, and type is a class"
   ]
  },
  {
   "cell_type": "code",
   "execution_count": null,
   "metadata": {},
   "outputs": [
    {
     "data": {
      "text/plain": [
       "(list, list)"
      ]
     },
     "metadata": {},
     "output_type": "display_data"
    }
   ],
   "source": [
    "type([1, 2, 3]), [1, 2, 3].__class__"
   ]
  },
  {
   "cell_type": "code",
   "execution_count": null,
   "metadata": {},
   "outputs": [
    {
     "data": {
      "text/plain": [
       "(type, type)"
      ]
     },
     "metadata": {},
     "output_type": "display_data"
    }
   ],
   "source": [
    "type(list), list.__class__ # Classes and built-in types work the same"
   ]
  },
  {
   "cell_type": "markdown",
   "metadata": {},
   "source": [
    "As you can see, in 3.X classes are types, but types are also classes. Technically, each\n",
    "class is generated by a *metaclass*—a class that is normally either *type* itself, or a subclass\n",
    "of it customized to augment or manage generated classes. Besides impacting code that\n",
    "does type testing, this turns out to be an important hook for tool developers. We’ll talk\n",
    "more about metaclasses later in this section, and again in more detail in [Chapter 40]()."
   ]
  },
  {
   "cell_type": "markdown",
   "metadata": {},
   "source": [
    "#### Implications for type testing\n",
    "\n",
    "\n",
    "Besides providing for built-in type customization and metaclass hooks, the merging of\n",
    "classes and types in the new-style class model can impact code that does type testing.\n",
    "In Python 3.X, for example, the types of class instances compare directly and meaningfully, \n",
    "and in the same way as built-in type objects. This follows from the fact that\n",
    "classes are now types, and an instance’s type is the instance’s class:"
   ]
  },
  {
   "cell_type": "code",
   "execution_count": null,
   "metadata": {},
   "outputs": [
    {
     "data": {
      "text/plain": [
       "False"
      ]
     },
     "metadata": {},
     "output_type": "display_data"
    }
   ],
   "source": [
    "class C: pass\n",
    "class D: pass\n",
    "\n",
    "c, d = C(), D()\n",
    "type(c) == type(d)                      # 3.X: compares the instances' classes"
   ]
  },
  {
   "cell_type": "code",
   "execution_count": null,
   "metadata": {},
   "outputs": [
    {
     "data": {
      "text/plain": [
       "(__main__.C, __main__.D)"
      ]
     },
     "metadata": {},
     "output_type": "display_data"
    }
   ],
   "source": [
    "type(c), type(d)"
   ]
  },
  {
   "cell_type": "code",
   "execution_count": null,
   "metadata": {},
   "outputs": [
    {
     "data": {
      "text/plain": [
       "(__main__.C, __main__.D)"
      ]
     },
     "metadata": {},
     "output_type": "display_data"
    }
   ],
   "source": [
    "c.__class__, d.__class__"
   ]
  },
  {
   "cell_type": "code",
   "execution_count": null,
   "metadata": {},
   "outputs": [
    {
     "data": {
      "text/plain": [
       "True"
      ]
     },
     "metadata": {},
     "output_type": "display_data"
    }
   ],
   "source": [
    "c1, c2 = C(), C()\n",
    "type(c1) == type(c2)"
   ]
  },
  {
   "cell_type": "markdown",
   "metadata": {},
   "source": [
    "### All Classes Derive from “object”\n",
    "\n",
    "\n",
    "Another ramification of the type change in the new-style class model is that because all\n",
    "classes derive (inherit) from the class `object` either implicitly or explicitly, and because\n",
    "all types are now classes, every object derives from the `object` built-in class, whether\n",
    "directly or through a superclass. Consider the following interaction in Python 3.X:"
   ]
  },
  {
   "cell_type": "code",
   "execution_count": null,
   "metadata": {},
   "outputs": [
    {
     "data": {
      "text/plain": [
       "(__main__.C, type)"
      ]
     },
     "metadata": {},
     "output_type": "display_data"
    }
   ],
   "source": [
    "class C: pass # For new-style classes\n",
    "X = C()\n",
    "type(X), type(C) # Type is class instance was created from"
   ]
  },
  {
   "cell_type": "markdown",
   "metadata": {},
   "source": [
    "As before, the type of a class *instance* is the class it was made from, and the type of a\n",
    "*class* is the `type` class because classes and types have merged. It is also true, though,\n",
    "that the instance and class are both derived from the built-in `object` class and type, an\n",
    "implicit or explicit superclass of every class:"
   ]
  },
  {
   "cell_type": "code",
   "execution_count": null,
   "metadata": {},
   "outputs": [
    {
     "data": {
      "text/plain": [
       "(True, True)"
      ]
     },
     "metadata": {},
     "output_type": "display_data"
    }
   ],
   "source": [
    "isinstance(X, object), isinstance(C, object)        # Classes always inherit from object"
   ]
  },
  {
   "cell_type": "markdown",
   "metadata": {},
   "source": [
    "In fact, `type` itself derives from `object`, and `object` derives from `type`, even though the\n",
    "two are different objects—a circular relationship that caps the object model and stems\n",
    "from the fact that types are classes that generate classes:"
   ]
  },
  {
   "cell_type": "code",
   "execution_count": null,
   "metadata": {},
   "outputs": [
    {
     "data": {
      "text/plain": [
       "type"
      ]
     },
     "metadata": {},
     "output_type": "display_data"
    }
   ],
   "source": [
    "type(type)                                          # All classes are types, and vice versa"
   ]
  },
  {
   "cell_type": "code",
   "execution_count": null,
   "metadata": {},
   "outputs": [
    {
     "data": {
      "text/plain": [
       "type"
      ]
     },
     "metadata": {},
     "output_type": "display_data"
    }
   ],
   "source": [
    "type(object)"
   ]
  },
  {
   "cell_type": "code",
   "execution_count": null,
   "metadata": {},
   "outputs": [
    {
     "data": {
      "text/plain": [
       "True"
      ]
     },
     "metadata": {},
     "output_type": "display_data"
    }
   ],
   "source": [
    "isinstance(type, object)                    # All classes derive from object, even type"
   ]
  },
  {
   "cell_type": "code",
   "execution_count": null,
   "metadata": {},
   "outputs": [
    {
     "data": {
      "text/plain": [
       "True"
      ]
     },
     "metadata": {},
     "output_type": "display_data"
    }
   ],
   "source": [
    "isinstance(object, type)                    # Types make classes, and type is a class"
   ]
  },
  {
   "cell_type": "code",
   "execution_count": null,
   "metadata": {},
   "outputs": [
    {
     "data": {
      "text/plain": [
       "False"
      ]
     },
     "metadata": {},
     "output_type": "display_data"
    }
   ],
   "source": [
    "type is object"
   ]
  },
  {
   "cell_type": "markdown",
   "metadata": {},
   "source": [
    "#### Implications for defaults\n",
    "\n",
    "\n",
    "The preceding may seem obscure, but this model has a number of practical implications. \n",
    "For one thing, it means that we sometimes must be aware of the method defaults\n",
    "that come with the explicit or implicit *object* root class in new-style classes only:"
   ]
  },
  {
   "cell_type": "code",
   "execution_count": null,
   "metadata": {},
   "outputs": [
    {
     "name": "stdout",
     "output_type": "stream",
     "text": [
      "['__class__', '__delattr__', '__dir__', '__doc__', '__eq__', '__format__', '__ge__', '__getattribute__', '__gt__', '__hash__', '__init__', '__init_subclass__', '__le__', '__lt__', '__ne__', '__new__', '__reduce__', '__reduce_ex__', '__repr__', '__setattr__', '__sizeof__', '__str__', '__subclasshook__']\n"
     ]
    }
   ],
   "source": [
    "print(dir(object))"
   ]
  },
  {
   "cell_type": "code",
   "execution_count": null,
   "metadata": {},
   "outputs": [
    {
     "data": {
      "text/plain": [
       "(object,)"
      ]
     },
     "metadata": {},
     "output_type": "display_data"
    }
   ],
   "source": [
    "class C: pass\n",
    "C.__bases__ # Classic classes do not inherit from object"
   ]
  },
  {
   "cell_type": "code",
   "execution_count": null,
   "metadata": {},
   "outputs": [
    {
     "data": {
      "text/plain": [
       "<method-wrapper '__repr__' of C object at 0x000002B0DDA8D0D0>"
      ]
     },
     "metadata": {},
     "output_type": "display_data"
    }
   ],
   "source": [
    "X = C()\n",
    "X.__repr__"
   ]
  },
  {
   "cell_type": "markdown",
   "metadata": {},
   "source": [
    "This model also makes for fewer special cases than the prior type/class distinction of\n",
    "classic classes, and it allows us to write code that can safely assume and use an\n",
    "`object` superclass (e.g., by assuming it as an “anchor” in some `super` built-in roles \n",
    "described ahead, and by passing it method calls to invoke default behavior). We’ll see\n",
    "examples of the latter later in the book; for now, let’s move on to explore the last major\n",
    "new-style change."
   ]
  },
  {
   "cell_type": "markdown",
   "metadata": {},
   "source": [
    "### Diamond Inheritance Change\n",
    "\n",
    "\n",
    "Our final new-style class model change is also one of its most visible: its slightly different\n",
    "inheritance search order for so-called ***diamond pattern multiple inheritance trees***—a\n",
    "tree pattern in which more than one superclass leads to the same higher superclass\n",
    "further above (and whose name comes from the diamond shape of the tree if you sketch\n",
    "out—a square resting on one of its corners).\n",
    "\n",
    "The diamond pattern is a fairly advanced design concept, only occurs in multiple inheritance \n",
    "trees, and tends to be coded rarely in Python practice, so we won’t cover this\n",
    "topic in full depth. In short, though, the differing search orders were introduced briefly\n",
    "in the prior section’s multiple inheritance coverage:\n",
    "\n",
    "- *For classic classes (the default in 2.X): DFLR*\n",
    "\n",
    "    The inheritance search path is strictly depth first, and then left to right—Python\n",
    "    climbs all the way to the top, hugging the left side of the tree, before it backs up\n",
    "    and begins to look further to the right. This search order is known as ***DFLR*** for the\n",
    "    first letters in its path’s directions.\n",
    "\n",
    "- *For new-style classes (optional in 2.X and automatic in 3.X): MRO*\n",
    "\n",
    "    The inheritance search path is more breadth-first in diamond cases—Python first\n",
    "    looks in any superclasses to the right of the one just searched before ascending to\n",
    "    the common superclass at the top. In other words, this search proceeds across by\n",
    "    levels before moving up. This search order is called the new-style ***MRO*** for “method\n",
    "    resolution order” (and often just MRO for short when used in contrast with the\n",
    "    DFLR order). Despite the name, this is used for all attributes in Python, not just\n",
    "    methods.\n",
    "\n",
    "The new-style MRO algorithm is a bit more complex than just described—and we’ll\n",
    "expand on it a bit more formally later—but this is as much as many programmers need\n",
    "to know. Still, it has both important benefits for new-style class code, as well as \n",
    "program-breaking potential for existing classic class code.\n",
    "\n",
    "For example, the new-style MRO allows lower superclasses to overload attributes of\n",
    "higher superclasses, regardless of the sort of multiple inheritance trees they are mixed\n",
    "into. Moreover, the new-style search rule avoids visiting the same superclass more than\n",
    "once when it is accessible from multiple subclasses. It’s arguably better than DFLR, but\n",
    "applies to a small subset of Python user code; as we’ll see, though, the new-style class\n",
    "model *itself* makes diamonds much more common, and the MRO more important.\n",
    "\n",
    "At the same time, the new MRO will locate attributes differently, creating a potential\n",
    "incompatibility for 2.X classic classes. Let’s move on to some code to see how its \n",
    "differences pan out in practice."
   ]
  },
  {
   "cell_type": "markdown",
   "metadata": {},
   "source": [
    "#### Implications for diamond inheritance trees\n",
    "\n",
    "\n",
    "To illustrate how the new-style MRO search differs, consider this simplistic incarnation\n",
    "of the diamond multiple inheritance pattern for *classic classes*. Here, `D`’s superclasses\n",
    "`B` and `C` both lead to the same common ancestor, `A`:\n",
    "\n",
    "```python\n",
    "    >>> class A:  attr = 1 # Classic (Python 2.X)\n",
    "    >>> class B(A):  pass # B and C both lead to A\n",
    "    >>> class C(A):  attr = 2\n",
    "    >>> class D(B, C): pass # Tries A before C\n",
    "    >>> x = D()\n",
    "    >>> x.attr # Searches x, D, B, A\n",
    "    1\n",
    "```\n",
    "\n",
    "The attribute `x.attr` here is found in superclass `A`, because with classic classes, the\n",
    "inheritance search climbs as high as it can before backing up and moving right. The\n",
    "full DFLR search order would visit `x`, `D`, `B`, `A`, `C`, and then `A`. For this attribute, the search\n",
    "stops as soon as `attr` is found in `A`, above `B`.\n",
    "\n",
    "However, with *new-style classes* derived from a built-in like `object` (and all classes in\n",
    "3.X), the search order is different: Python looks in `C` to the right of `B`, before trying `A`\n",
    "above `B`. The full MRO search order would visit `x`, `D`, `B`, `C`, and then `A`. For this attribute,\n",
    "the search stops as soon as `attr` is found in C:"
   ]
  },
  {
   "cell_type": "code",
   "execution_count": null,
   "metadata": {},
   "outputs": [
    {
     "data": {
      "text/plain": [
       "2"
      ]
     },
     "metadata": {},
     "output_type": "display_data"
    }
   ],
   "source": [
    "class A(object): attr = 1                   # New-style (\"object\" not required in 3.X)\n",
    "class B(A): pass\n",
    "class C(A): attr = 2\n",
    "class D(B, C):  pass                        # Tries C before A\n",
    "\n",
    "x = D()\n",
    "x.attr                                      # Searches x, D, B, C"
   ]
  },
  {
   "cell_type": "markdown",
   "metadata": {},
   "source": [
    "This change in the inheritance search procedure is based upon the assumption that if\n",
    "you mix in `C` lower in the tree, you probably intend to grab its attributes in preference\n",
    "to `A`’s. It also assumes that `C` is always intended to override `A`’s attributes in all contexts,\n",
    "which is probably true when it’s used standalone but may not be when it’s mixed into\n",
    "a diamond with classic classes—you might not even know that `C` may be mixed in like\n",
    "this when you code it.\n",
    "\n",
    "Since it is most likely that the programmer meant that `C` should override `A` in this case,\n",
    "though, new-style classes visit `C` first. Otherwise, `C` could be essentially pointless in a\n",
    "diamond context for any names in `A` too—it could not customize `A` and would be used\n",
    "only for names unique to `C`."
   ]
  },
  {
   "cell_type": "markdown",
   "metadata": {},
   "source": [
    "#### Explicit conflict resolution\n",
    "\n",
    "\n",
    "Of course, the problem with assumptions is that they assume things! If this search order\n",
    "deviation seems too subtle to remember, or if you want more control over the search\n",
    "process, you can always force the selection of an attribute from anywhere in the tree\n",
    "by assigning or otherwise naming the one you want at the place where the classes are\n",
    "mixed together. The following, for example, chooses new-style order in a classic class\n",
    "by resolving the choice explicitly:\n",
    "\n",
    "```python\n",
    "    >>> class A:  attr = 1                      # Classic\n",
    "    >>> class B(A): pass\n",
    "    >>> class C(A): attr = 2\n",
    "    >>> class D(B, C): attr = C.attr            # <== Choose C, to the right\n",
    "    \n",
    "    >>> x = D()\n",
    "    >>> x.attr                                  # Works like new-style (all 3.X)\n",
    "    2\n",
    "```\n",
    "\n",
    "Here, a tree of classic classes is emulating the search order of new-style classes for a\n",
    "specific attribute: the assignment to the attribute in `D` picks the version in `C`, thereby\n",
    "subverting the normal inheritance search path (`D.attr` will be lowest in the tree). \n",
    "Newstyle classes can similarly emulate classic classes by choosing the higher version of the\n",
    "target attribute at the place where the classes are mixed together:"
   ]
  },
  {
   "cell_type": "code",
   "execution_count": null,
   "metadata": {},
   "outputs": [
    {
     "data": {
      "text/plain": [
       "1"
      ]
     },
     "metadata": {},
     "output_type": "display_data"
    }
   ],
   "source": [
    "class A(object): attr = 1                       # New-style\n",
    "class B(A):  pass\n",
    "class C(A): attr = 2\n",
    "class D(B, C):  attr = B.attr                   # <== Choose A.attr, above\n",
    "\n",
    "x = D()\n",
    "x.attr                                          # Works like classic (default 2.X)"
   ]
  },
  {
   "cell_type": "markdown",
   "metadata": {},
   "source": [
    "If you are willing to always resolve conflicts like this, you may be able to largely ignore\n",
    "the search order difference and not rely on assumptions about what you meant when\n",
    "you coded your classes.\n",
    "\n",
    "Naturally, attributes picked this way can also be method functions—methods are normal, \n",
    "assignable attributes that happen to reference callable function objects:\n",
    "\n",
    "```bash\n",
    "    >>> class A:\n",
    "            def meth(s): print('A.meth')\n",
    "\n",
    "    >>> class C(A):\n",
    "            def meth(s): print('C.meth')\n",
    "            \n",
    "    >>> class B(A):\n",
    "            pass\n",
    "\n",
    "    >>> class D(B, C): pass                         # Use default search order\n",
    "\n",
    "    >>> x = D()                                     # Will vary per class type\n",
    "    >>> x.meth()                                    # Defaults to classic order in 2.X\n",
    "    A.meth\n",
    "\n",
    "    >>> class D(B, C): meth = C.meth                # <== Pick C's method: new-style (and 3.X)\n",
    "    >>> x = D()\n",
    "    >>> x.meth()\n",
    "    C.meth\n",
    "\n",
    "    >>> class D(B, C): meth = B.meth                # <== Pick B's method: classic\n",
    "    >>> x = D()\n",
    "    >>> x.meth()\n",
    "    A.meth\n",
    "```"
   ]
  },
  {
   "cell_type": "code",
   "execution_count": null,
   "metadata": {},
   "outputs": [
    {
     "name": "stdout",
     "output_type": "stream",
     "text": [
      "C.meth\n"
     ]
    }
   ],
   "source": [
    "class A:\n",
    "    def meth(s): print('A.meth')\n",
    "\n",
    "class C(A):\n",
    "    def meth(s): print('C.meth')\n",
    "\n",
    "class B(A):\n",
    "    pass\n",
    "\n",
    "class D(B, C): pass                         # Use default search order\n",
    "\n",
    "x = D()                                     # Will vary per class type\n",
    "x.meth()                                    # Defaults to classic order in 2.X"
   ]
  },
  {
   "cell_type": "markdown",
   "metadata": {},
   "source": [
    "Here, we select methods by explicitly assigning to names lower in the tree. We might\n",
    "also simply call the desired class explicitly; in practice, this pattern might be more\n",
    "common, especially for things like constructors:\n",
    "\n",
    "```python\n",
    "    class D(B, C):\n",
    "        def meth(self):                     # Redefine lower\n",
    "            ...\n",
    "            C.meth(self)                    # <== Pick C's method by calling\n",
    "```\n",
    "\n",
    "Such selections by assignment or call at mix-in points can effectively insulate your code\n",
    "from this difference in class flavors. This applies only to the attributes you handle this\n",
    "way, of course, but explicitly resolving the conflicts ensures that your code won’t vary\n",
    "per Python version, at least in terms of attribute conflict selection. In other words, this\n",
    "can serve as a *portability* technique for classes that may need to be run under both the\n",
    "new-style and classic class models."
   ]
  },
  {
   "cell_type": "markdown",
   "metadata": {},
   "source": [
    "**Note**  \n",
    "*Explicit is better than implicit—for method resolution too*: Even without\n",
    "the classic/new-style class divergence, the explicit method resolution\n",
    "technique shown here may come in handy in multiple inheritance scenarios \n",
    "in general. For instance, if you want part of a superclass on the\n",
    "left and part of a superclass on the right, you might need to tell Python\n",
    "which same-named attributes to choose by using explicit assignments\n",
    "or calls in subclasses. We’ll revisit this notion in a “gotcha” at the end\n",
    "of this section.\n",
    "\n",
    "Also note that diamond inheritance patterns might be more problematic\n",
    "in some cases than I’ve implied here (e.g., what if `B` and `C` both have\n",
    "required constructors that call to the constructor in `A`?). Since such \n",
    "contexts are rare in real-world Python, we’ll defer this topic until we explore\n",
    "the `super` built-in function near the end of this section; besides providing \n",
    "generic access to superclasses in single inheritance trees, `super` supports \n",
    "a cooperative mode for resolving conflicts in multiple inheritance\n",
    "trees by ordering method calls per the MRO—assuming this order\n",
    "makes sense in this context too!"
   ]
  },
  {
   "cell_type": "markdown",
   "metadata": {},
   "source": [
    "#### Scope of search order change\n",
    "\n",
    "\n",
    "In sum, by default, the diamond pattern is searched differently for classic and new-style\n",
    "classes, and this is a non-backward-compatible change. Keep in mind, though, that this\n",
    "change primarily affects diamond pattern cases of multiple inheritance; new-style class\n",
    "inheritance works the same for most other inheritance tree structures. Further, it’s not\n",
    "impossible that this entire issue may be of more theoretical than practical importance\n",
    "—because the new-style search wasn’t significant enough to address until Python 2.2\n",
    "and didn’t become standard until 3.0, it seems unlikely to impact most Python code.\n",
    "\n",
    "Having said that, I should also note that even though you might not code diamond\n",
    "patterns in classes you write yourself, because the implied `object` superclass is above\n",
    "every root class in 3.X as we saw earlier, *every* case of multiple inheritance exhibits the\n",
    "diamond pattern today. That is, in new-style classes, `object` automatically plays the\n",
    "role that the class `A` does in the example we just considered. Hence the new-style MRO\n",
    "search rule not only modifies logical semantics, but is also an important *performance optimization*—\n",
    "it avoids visiting and searching the same class more than once, even the\n",
    "automatic `object`.\n",
    "\n",
    "Just as important, we’ve also seen that the implied `object` superclass in the new-style\n",
    "model provides *default methods* for a variety of built-in operations, including the\n",
    "`__str__` and `__repr__` display format methods. Run a `dir(object)` to see which methods\n",
    "are provided. Without the new-style MRO search order, in multiple inheritance cases\n",
    "the defaults in `object` would always override redefinitions in user-coded classes, unless\n",
    "they were always made in the leftmost superclass. In other words, the new-style class\n",
    "model itself makes using the new-style search order more critical!\n",
    "\n",
    "For a more visual example of the implied `object` superclass in 3.X, and other examples\n",
    "of diamond patterns created by it, see the `ListTree` class’s output in the `lister.py` example\n",
    "in the preceding section, as well as the `classtree.py` tree walker example in [Chapter 29]()—\n",
    "and the next section."
   ]
  },
  {
   "cell_type": "markdown",
   "metadata": {},
   "source": [
    "### More on the MRO: Method Resolution Order\n",
    "\n",
    "\n",
    "To trace how new-style inheritance works by default, we can also use the new\n",
    "`class.__mro__` attribute mentioned in the preceding section’s class lister examples—\n",
    "technically a new-style extension, but useful here to explore a change. This attribute\n",
    "returns a class’s *MRO*—the order in which inheritance searches classes in a new-style\n",
    "class tree. This MRO is based on the C3 superclass linearization algorithm initially\n",
    "developed in the Dylan programming language, but later adopted by other languages\n",
    "including Python 2.3 and Perl 6."
   ]
  },
  {
   "cell_type": "markdown",
   "metadata": {},
   "source": [
    "#### The MRO algorithm\n",
    "\n",
    "\n",
    "This book avoids a full description of the MRO algorithm deliberately, because many\n",
    "Python programmers don’t need to care (this only impacts diamonds, which are relatively \n",
    "rare in real-world code); because it differs between 2.X and 3.X; and because the\n",
    "details of the MRO are a bit too arcane and academic for this text. As a rule, this book\n",
    "avoids formal algorithms and prefers to teach informally by example.\n",
    "\n",
    "On the other hand, some readers may still have an interest in the formal theory behind\n",
    "new-style MRO. If this set includes you, it’s described in full detail online; search\n",
    "Python’s manuals and the Web for current MRO links. In short, though, the MRO\n",
    "essentially works like this:\n",
    "\n",
    " 1. List all the classes that an instance inherits from using the classic class’s *DFLR*\n",
    "    lookup rule, and include a class multiple times if it’s visited more than once.\n",
    "\n",
    " 2. Scan the resulting list for duplicate classes, removing all but the *last* occurrence of\n",
    "    duplicates in the list.\n",
    "\n",
    "The resulting MRO list for a given class includes the class, its superclasses, and all\n",
    "higher superclasses up to the `object` root class at the top of the tree. It’s ordered such\n",
    "that each class appears before its parents, and multiple parents retain the order in which\n",
    "they appear in the `__bases__` superclass tuple.\n",
    "\n",
    "Crucially, though, because common parents in *diamonds* appear only at the position\n",
    "of their *last* visitation, lower classes are searched first when the MRO list is later used\n",
    "by attribute inheritance. Moreover, each class is included and thus visited just once,\n",
    "no matter how many classes lead to it.\n",
    "\n",
    "We’ll see applications of this algorithm later in this section, including that in `super`—\n",
    "a built-in that elevates the MRO to required reading if you wish to fully understand\n",
    "how methods are dispatched by this call, should you choose to use it. As we’ll see,\n",
    "despite its name, this call invokes the next class on the MRO, which might not be a\n",
    "superclass at all."
   ]
  },
  {
   "cell_type": "markdown",
   "metadata": {},
   "source": [
    "#### Tracing the MRO\n",
    "\n",
    "\n",
    "If you just want to see how Python’s new-style inheritance orders superclasses in general, \n",
    "though, new-style classes (and hence all classes in 3.X) have a *`class`*`.__mro__` attribute, \n",
    "which is a tuple giving the linear search order Python uses to look up attributes\n",
    "in superclasses. Really, this attribute *is* the inheritance order in new-style classes, and\n",
    "is often as much MRO detail as many Python users need.\n",
    "\n",
    "Here are some illustrative examples, run in 3.X; for *diamond* inheritance patterns only,\n",
    "the search is the new order we’ve been studying—*across* before up, per the MRO for\n",
    "new-style classes always used in 3.X, and available as an option in 2.X:"
   ]
  },
  {
   "cell_type": "code",
   "execution_count": null,
   "metadata": {},
   "outputs": [
    {
     "data": {
      "text/plain": [
       "(__main__.D, __main__.B, __main__.C, __main__.A, object)"
      ]
     },
     "metadata": {},
     "output_type": "display_data"
    }
   ],
   "source": [
    "class A: pass\n",
    "class B(A): pass # Diamonds: order differs for newstyle\n",
    "class C(A): pass # Breadth-first across lower levels\n",
    "class D(B, C): pass\n",
    "D.__mro__"
   ]
  },
  {
   "cell_type": "markdown",
   "metadata": {},
   "source": [
    "For *nondiamonds*, though, the search is still as it has always been (albeit with an extra\n",
    "`object` root)—to the top, and then to the right (a.k.a. *DFLR*, depth first and left to\n",
    "right, the model used for all classic classes in 2.X):\n",
    "\n",
    "```bash\n",
    "    >>> class A: pass\n",
    "    >>> class B(A): pass                # Nondiamonds: order same as classic\n",
    "    >>> class C: pass                   # Depth first, then left to right\n",
    "    >>> class D(B, C): pass\n",
    "    >>> D.__mro__\n",
    "    (<class '__main__.D'>, <class '__main__.B'>, <class '__main__.A'>,\n",
    "    <class '__main__.C'>, <class 'object'>)\n",
    "```\n",
    "\n",
    "The MRO of the following tree, for example, is the same as the earlier diamond, per\n",
    "DFLR:"
   ]
  },
  {
   "cell_type": "code",
   "execution_count": null,
   "metadata": {},
   "outputs": [
    {
     "data": {
      "text/plain": [
       "(__main__.D, __main__.B, __main__.C, __main__.A, object)"
      ]
     },
     "metadata": {},
     "output_type": "display_data"
    }
   ],
   "source": [
    "class A: pass\n",
    "class B: pass                               # Another nondiamond: DFLR\n",
    "class C(A): pass\n",
    "class D(B, C): pass\n",
    "D.__mro__"
   ]
  },
  {
   "cell_type": "markdown",
   "metadata": {},
   "source": [
    "Notice how the implied object superclass always shows up at the end of the MRO; as\n",
    "we’ve seen, it’s added automatically above root (*topmost*) classes in new-style class trees\n",
    "in 3.X (and optionally in 2.X):"
   ]
  },
  {
   "cell_type": "code",
   "execution_count": null,
   "metadata": {},
   "outputs": [
    {
     "data": {
      "text/plain": [
       "((object,), (object,), (__main__.A,), (__main__.B, __main__.C))"
      ]
     },
     "metadata": {},
     "output_type": "display_data"
    }
   ],
   "source": [
    "A.__bases__, B.__bases__, C.__bases__, D.__bases__"
   ]
  },
  {
   "cell_type": "markdown",
   "metadata": {},
   "source": [
    "Technically, the implied `object` superclass always creates a diamond in multiple \n",
    "inheritance even if your classes do not—your classes are searched as before, but the \n",
    "new-style MRO ensures that `object` is visited last, so your classes can override its defaults:"
   ]
  },
  {
   "cell_type": "code",
   "execution_count": null,
   "metadata": {},
   "outputs": [
    {
     "data": {
      "text/plain": [
       "[__main__.D, __main__.A, __main__.X, __main__.B, __main__.Y, object]"
      ]
     },
     "metadata": {},
     "output_type": "display_data"
    }
   ],
   "source": [
    "class X: pass\n",
    "class Y: pass\n",
    "class A(X): pass                            # Nondiamond: depth first then left to right\n",
    "class B(Y): pass                            # Though implied \"object\" always forms a diamond\n",
    "class D(A, B): pass\n",
    "D.mro()"
   ]
  },
  {
   "cell_type": "code",
   "execution_count": null,
   "metadata": {},
   "outputs": [
    {
     "data": {
      "text/plain": [
       "((object,), (object,), (__main__.X,), (__main__.Y,))"
      ]
     },
     "metadata": {},
     "output_type": "display_data"
    }
   ],
   "source": [
    "X.__bases__, Y.__bases__, A.__bases__, B.__bases__"
   ]
  },
  {
   "cell_type": "markdown",
   "metadata": {},
   "source": [
    "The *`class`*`.__mro__` attribute is available only on new-style classes; it’s not present in\n",
    "2.X unless classes derive from object. Strictly speaking, new-style classes also have a\n",
    "*`class`*`.mro()` method used in the prior example for variety; it’s called at class instantiation \n",
    "time and its return value is a list used to initialize the `__mro__` attribute when the\n",
    "class is created (the method is available for customization in metaclasses, described\n",
    "later). You can also select MRO names if classes’ object displays are too detailed, though\n",
    "this book usually shows the *objects* to remind you of their true form:"
   ]
  },
  {
   "cell_type": "code",
   "execution_count": null,
   "metadata": {},
   "outputs": [
    {
     "data": {
      "text/plain": [
       "True"
      ]
     },
     "metadata": {},
     "output_type": "display_data"
    }
   ],
   "source": [
    "D.mro() == list(D.__mro__)"
   ]
  },
  {
   "cell_type": "code",
   "execution_count": null,
   "metadata": {},
   "outputs": [
    {
     "data": {
      "text/plain": [
       "['D', 'A', 'X', 'B', 'Y', 'object']"
      ]
     },
     "metadata": {},
     "output_type": "display_data"
    }
   ],
   "source": [
    "[cls.__name__ for cls in D.__mro__]"
   ]
  },
  {
   "cell_type": "markdown",
   "metadata": {},
   "source": [
    "However you access or display them, class MRO paths might be useful to resolve confusion, \n",
    "and in tools that must imitate Python’s inheritance search order. \n",
    "The next section shows the latter role in action."
   ]
  },
  {
   "cell_type": "markdown",
   "metadata": {},
   "source": [
    "### Example: Mapping Attributes to Inheritance Sources\n",
    "\n",
    "\n",
    "As a prime MRO use case, we noted at the end of the prior section that class tree\n",
    "climbers—such as the class tree lister mix-in we wrote there—might benefit from the\n",
    "MRO. As coded, the tree lister gave the *physical* locations of attributes in a class tree.\n",
    "However, by mapping the list of inherited attributes in a `dir` result to the linear MRO\n",
    "sequence (or DFLR order for classic classes), such tools can more directly associate\n",
    "attributes with the classes from which they are *inherited*—also a useful relationship for\n",
    "programmers.\n",
    "\n",
    "We won’t recode our tree lister here, but as a first major step, the following file,\n",
    "`mapattrs.py`, implements tools that can be used to associate attributes with their \n",
    "inheritance source; as an added bonus, its `mapattrs` function demonstrates how inheritance \n",
    "actually searches for attributes in class tree objects, though the new-style MRO\n",
    "is largely automated for us:"
   ]
  },
  {
   "cell_type": "code",
   "execution_count": null,
   "metadata": {},
   "outputs": [
    {
     "name": "stdout",
     "output_type": "stream",
     "text": [
      "Classic classes in 2.X, new-style in 3.X\n",
      "Py=>3\n",
      "INH\n",
      "(<__main__.D object at 0x000001998BB0C970>,\n",
      " <class '__main__.D'>,\n",
      " <class '__main__.B'>,\n",
      " <class '__main__.C'>,\n",
      " <class '__main__.A'>,\n",
      " <class 'object'>)\n",
      "\n",
      "ATTRS\n",
      "{'__dict__': <class '__main__.A'>,\n",
      " '__doc__': <class '__main__.D'>,\n",
      " '__module__': <class '__main__.D'>,\n",
      " '__weakref__': <class '__main__.A'>,\n",
      " 'attr1': <class '__main__.C'>,\n",
      " 'attr2': <class '__main__.B'>}\n",
      "\n",
      "OBJS\n",
      "{<class '__main__.A'>: ['__dict__', '__weakref__'],\n",
      " <class '__main__.B'>: ['attr2'],\n",
      " <class '__main__.C'>: ['attr1'],\n",
      " <class '__main__.D'>: ['__doc__', '__module__']}\n",
      "\n",
      "New-style classes in 2.X and 3.X\n",
      "Py=>3\n",
      "INH\n",
      "(<__main__.D object at 0x000001998BAE8310>,\n",
      " <class '__main__.D'>,\n",
      " <class '__main__.B'>,\n",
      " <class '__main__.C'>,\n",
      " <class '__main__.A'>,\n",
      " <class 'object'>)\n",
      "\n",
      "ATTRS\n",
      "{'__dict__': <class '__main__.A'>,\n",
      " '__doc__': <class '__main__.D'>,\n",
      " '__module__': <class '__main__.D'>,\n",
      " '__weakref__': <class '__main__.A'>,\n",
      " 'attr1': <class '__main__.C'>,\n",
      " 'attr2': <class '__main__.B'>}\n",
      "\n",
      "OBJS\n",
      "{<class '__main__.A'>: ['__dict__', '__weakref__'],\n",
      " <class '__main__.B'>: ['attr2'],\n",
      " <class '__main__.D'>: ['__doc__', '__module__'],\n",
      " <class '__main__.C'>: ['attr1']}\n",
      "\n"
     ]
    }
   ],
   "source": [
    "\"\"\"\n",
    "File mapattrs.py (3.X + 2.X)\n",
    "\n",
    "Main tool: mapattrs() maps all attributes on or inherited by an\n",
    "instance to the instance or class from which they are inherited.\n",
    "\n",
    "Assumes dir() gives all attributes of an instance. To simulate\n",
    "inheritance, uses either the class's MRO tuple, which gives the\n",
    "search order for new-style classes (and all in 3.X), or a recursive\n",
    "traversal to infer the DFLR order of classic classes in 2.X.\n",
    "\n",
    "Also here: inheritance() gives version-neutral class ordering;\n",
    "assorted dictionary tools using 3.X/2.7 comprehensions.\n",
    "\"\"\"\n",
    "\n",
    "import pprint\n",
    "\n",
    "def trace(X, label='', end='\\n'):\n",
    "    print(label + pprint.pformat(X) + end)                          # Print nicely\n",
    "\n",
    "def filterdictvals(D, V):\n",
    "    \"\"\"\n",
    "    dict D with entries for value V removed.\n",
    "    filterdictvals(dict(a=1, b=2, c=1), 1) => {'b': 2}\n",
    "    \"\"\"\n",
    "    return {K: V2 for (K, V2) in D.items() if V2 != V}\n",
    "\n",
    "def invertdict(D):\n",
    "    \"\"\"\n",
    "    dict D with values changed to keys (grouped by values).\n",
    "    Values must all be hashable to work as dict/set keys.\n",
    "    invertdict(dict(a=1, b=2, c=1)) => {1: ['a', 'c'], 2: ['b']}\n",
    "    \"\"\"\n",
    "    \n",
    "    def keysof(V):\n",
    "        return sorted(K for K in D.keys() if D[K] == V)\n",
    "    return {V: keysof(V) for V in set(D.values())}\n",
    "\n",
    "def dflr(cls):\n",
    "    \"\"\"\n",
    "    Classic depth-first left-to-right order of class tree at cls.\n",
    "    Cycles not possible: Python disallows on __bases__ changes.\n",
    "    \"\"\"\n",
    "    here = [cls]\n",
    "    for sup in cls.__bases__:\n",
    "        here += dflr(sup)\n",
    "    return here\n",
    "\n",
    "def inheritance(instance):\n",
    "    \"\"\"\n",
    "    Inheritance order sequence: new-style (MRO) or classic (DFLR)\n",
    "    \"\"\"\n",
    "    if hasattr(instance.__class__, '__mro__'):\n",
    "        return (instance,) + instance.__class__.__mro__\n",
    "    else:\n",
    "        return [instance] + dflr(instance.__class__)\n",
    "\n",
    "def mapattrs(instance, withobject=False, bysource=False):\n",
    "    \"\"\"\n",
    "    dict with keys giving all inherited attributes of instance,\n",
    "    with values giving the object that each is inherited from.\n",
    "    withobject: False=remove object built-in class attributes.\n",
    "    bysource: True=group result by objects instead of attributes.\n",
    "    Supports classes with slots that preclude __dict__ in instances.\n",
    "    \"\"\"\n",
    "    attr2obj = {}\n",
    "    inherits = inheritance(instance)\n",
    "    for attr in dir(instance):\n",
    "        for obj in inherits:\n",
    "            if hasattr(obj, '__dict__') and attr in obj.__dict__:   # See slots\n",
    "                attr2obj[attr] = obj\n",
    "                break\n",
    "    if not withobject:\n",
    "        attr2obj = filterdictvals(attr2obj, object)\n",
    "    return attr2obj if not bysource else invertdict(attr2obj)\n",
    "\n",
    "\n",
    "if __name__ == '__main__':\n",
    "    print('Classic classes in 2.X, new-style in 3.X')\n",
    "    class A: attr1 = 1\n",
    "    class B(A): attr2 = 2\n",
    "    class C(A): attr1 = 3\n",
    "    class D(B, C): pass\n",
    "    I = D()\n",
    "    print('Py=>%s' % I.attr1)                                       # Python's search == ours?\n",
    "    trace(inheritance(I), 'INH\\n')                                  # [Inheritance order]\n",
    "    trace(mapattrs(I), 'ATTRS\\n')                                   # Attrs => Source\n",
    "    trace(mapattrs(I, bysource=True), 'OBJS\\n')                     # Source => [Attrs]\n",
    "    \n",
    "    print('New-style classes in 2.X and 3.X')\n",
    "    class A(object): attr1 = 1                                      # \"(object)\" optional in 3.X\n",
    "    class B(A): attr2 = 2\n",
    "    class C(A): attr1 = 3\n",
    "    class D(B, C): pass\n",
    "    I = D()\n",
    "    print('Py=>%s' % I.attr1)\n",
    "    trace(inheritance(I), 'INH\\n')\n",
    "    trace(mapattrs(I), 'ATTRS\\n')\n",
    "    trace(mapattrs(I, bysource=True), 'OBJS\\n')"
   ]
  },
  {
   "cell_type": "markdown",
   "metadata": {},
   "source": [
    "This file assumes `dir` gives all an instance’s attributes. It maps each attribute in a `dir`\n",
    "result to its source by scanning either the MRO order for new-style classes, or the DFLR\n",
    "order for classic classes, searching each object’s namespace `__dict__` along the way.\n",
    "For classic classes, the DFLR order is computed with a simple recursive scan. The net\n",
    "effect is to simulate Python’s inheritance search in both class models.\n",
    "\n",
    "This file’s self-test code applies its tools to the diamond multiple-inheritance trees we\n",
    "saw earlier. It uses Python’s `pprint` library module to display lists and dictionaries nicely\n",
    "—`pprint.pprint` is its basic call, and its `pformat` returns a print string. Run this on\n",
    "Python 2.7 to see both classic DFLR and new-style MRO search orders; on Python 3.3,\n",
    "the `object` derivation is unnecessary, and both tests give the same, new-style results.\n",
    "Importantly, `attr1`, whose value is labeled with “`Py=>`” and whose name appears in\n",
    "the results lists, is inherited from class `A` in classic search, but from class `C` in new-style\n",
    "search.\n",
    "\n",
    "As a larger application of these tools, the following is our inheritance simulator at work\n",
    "in 3.3 on the preceding section’s `testmixin0.py` file’s test classes (I’ve deleted some \n",
    "built-in names here for space; as usual, run live for the whole list). Notice how `__X` pseudoprivate names are mapped to their defining classes, and how `ListInstance` appears in\n",
    "the MRO *before* `object`, which has a `__str__` that would otherwise be chosen first—as\n",
    "you’ll recall, mixing this method in was the whole point of the lister classes!"
   ]
  },
  {
   "cell_type": "code",
   "execution_count": null,
   "metadata": {},
   "outputs": [
    {
     "name": "stdout",
     "output_type": "stream",
     "text": [
      "[<class 'testmixin0.Sub'>,\n",
      " <class 'testmixin0.Super'>,\n",
      " <class 'object'>,\n",
      " <class 'listinstance.ListInstance'>,\n",
      " <class 'object'>]\n",
      "\n"
     ]
    }
   ],
   "source": [
    "# from mapattrs import trace, dflr, inheritance, mapattrs\n",
    "from testmixin0 import Sub\n",
    "I = Sub()                       # Sub inherits from Super and ListInstance roots\n",
    "trace(dflr(I.__class__))        # 2.X search order: implied object before lister!"
   ]
  },
  {
   "cell_type": "code",
   "execution_count": null,
   "metadata": {},
   "outputs": [
    {
     "name": "stdout",
     "output_type": "stream",
     "text": [
      "(<testmixin0.Sub object at 0x000001998BB1D4C0>,\n",
      " <class 'testmixin0.Sub'>,\n",
      " <class 'testmixin0.Super'>,\n",
      " <class 'listinstance.ListInstance'>,\n",
      " <class 'object'>)\n",
      "\n"
     ]
    }
   ],
   "source": [
    "trace(inheritance(I))           # 3.X (+ 2.X newstyle) search order: lister first"
   ]
  },
  {
   "cell_type": "code",
   "execution_count": null,
   "metadata": {},
   "outputs": [
    {
     "name": "stdout",
     "output_type": "stream",
     "text": [
      "{'_ListInstance__attrnames': <class 'listinstance.ListInstance'>,\n",
      " '__dict__': <class 'testmixin0.Super'>,\n",
      " '__doc__': <class 'testmixin0.Sub'>,\n",
      " '__init__': <class 'testmixin0.Sub'>,\n",
      " '__module__': <class 'testmixin0.Sub'>,\n",
      " '__str__': <class 'listinstance.ListInstance'>,\n",
      " '__weakref__': <class 'testmixin0.Super'>,\n",
      " 'data1': <testmixin0.Sub object at 0x000001998BB1D4C0>,\n",
      " 'data2': <testmixin0.Sub object at 0x000001998BB1D4C0>,\n",
      " 'data3': <testmixin0.Sub object at 0x000001998BB1D4C0>,\n",
      " 'ham': <class 'testmixin0.Super'>,\n",
      " 'spam': <class 'testmixin0.Sub'>}\n",
      "\n"
     ]
    }
   ],
   "source": [
    "trace(mapattrs(I))"
   ]
  },
  {
   "cell_type": "code",
   "execution_count": null,
   "metadata": {},
   "outputs": [
    {
     "name": "stdout",
     "output_type": "stream",
     "text": [
      "{<testmixin0.Sub object at 0x000001998BB1D4C0>: ['data1', 'data2', 'data3'],\n",
      " <class 'testmixin0.Sub'>: ['__doc__', '__init__', '__module__', 'spam'],\n",
      " <class 'testmixin0.Super'>: ['__dict__', '__weakref__', 'ham'],\n",
      " <class 'listinstance.ListInstance'>: ['_ListInstance__attrnames', '__str__']}\n",
      "\n"
     ]
    }
   ],
   "source": [
    "trace(mapattrs(I, bysource=True))"
   ]
  },
  {
   "cell_type": "code",
   "execution_count": null,
   "metadata": {},
   "outputs": [
    {
     "name": "stdout",
     "output_type": "stream",
     "text": [
      "{'_ListInstance__attrnames': <class 'listinstance.ListInstance'>,\n",
      " '__class__': <class 'object'>,\n",
      " '__delattr__': <class 'object'>,\n",
      " '__dict__': <class 'testmixin0.Super'>,\n",
      " '__dir__': <class 'object'>,\n",
      " '__doc__': <class 'testmixin0.Sub'>,\n",
      " '__eq__': <class 'object'>,\n",
      " '__format__': <class 'object'>,\n",
      " '__ge__': <class 'object'>,\n",
      " '__getattribute__': <class 'object'>,\n",
      " '__gt__': <class 'object'>,\n",
      " '__hash__': <class 'object'>,\n",
      " '__init__': <class 'testmixin0.Sub'>,\n",
      " '__init_subclass__': <class 'object'>,\n",
      " '__le__': <class 'object'>,\n",
      " '__lt__': <class 'object'>,\n",
      " '__module__': <class 'testmixin0.Sub'>,\n",
      " '__ne__': <class 'object'>,\n",
      " '__new__': <class 'object'>,\n",
      " '__reduce__': <class 'object'>,\n",
      " '__reduce_ex__': <class 'object'>,\n",
      " '__repr__': <class 'object'>,\n",
      " '__setattr__': <class 'object'>,\n",
      " '__sizeof__': <class 'object'>,\n",
      " '__str__': <class 'listinstance.ListInstance'>,\n",
      " '__subclasshook__': <class 'object'>,\n",
      " '__weakref__': <class 'testmixin0.Super'>,\n",
      " 'data1': <testmixin0.Sub object at 0x000001998BB1D4C0>,\n",
      " 'data2': <testmixin0.Sub object at 0x000001998BB1D4C0>,\n",
      " 'data3': <testmixin0.Sub object at 0x000001998BB1D4C0>,\n",
      " 'ham': <class 'testmixin0.Super'>,\n",
      " 'spam': <class 'testmixin0.Sub'>}\n",
      "\n"
     ]
    }
   ],
   "source": [
    "trace(mapattrs(I, withobject=True))"
   ]
  },
  {
   "cell_type": "markdown",
   "metadata": {},
   "source": [
    "Here’s the bit you might run if you want to label class objects with names inherited by\n",
    "an instance, though you may want to filter out some built-in double-underscore names\n",
    "for the sake of users’ eyesight!"
   ]
  },
  {
   "cell_type": "code",
   "execution_count": null,
   "metadata": {},
   "outputs": [
    {
     "name": "stdout",
     "output_type": "stream",
     "text": [
      "{<testmixin0.Sub object at 0x000001998BB1D4C0>: ['data1', 'data2', 'data3'],\n",
      " <class 'testmixin0.Sub'>: ['__doc__', '__init__', '__module__', 'spam'],\n",
      " <class 'testmixin0.Super'>: ['__dict__', '__weakref__', 'ham'],\n",
      " <class 'listinstance.ListInstance'>: ['_ListInstance__attrnames', '__str__'],\n",
      " <class 'object'>: ['__class__',\n",
      "                    '__delattr__',\n",
      "                    '__dir__',\n",
      "                    '__eq__',\n",
      "                    '__format__',\n",
      "                    '__ge__',\n",
      "                    '__getattribute__',\n",
      "                    '__gt__',\n",
      "                    '__hash__',\n",
      "                    '__init_subclass__',\n",
      "                    '__le__',\n",
      "                    '__lt__',\n",
      "                    '__ne__',\n",
      "                    '__new__',\n",
      "                    '__reduce__',\n",
      "                    '__reduce_ex__',\n",
      "                    '__repr__',\n",
      "                    '__setattr__',\n",
      "                    '__sizeof__',\n",
      "                    '__subclasshook__']}\n",
      "\n"
     ]
    }
   ],
   "source": [
    "amap = mapattrs(I, withobject=True, bysource=True)\n",
    "trace(amap)"
   ]
  },
  {
   "cell_type": "markdown",
   "metadata": {},
   "source": [
    "Finally, and as both a follow-up to the prior section’s ruminations and segue to the\n",
    "next section here, the following shows how this scheme works for class-based *slots*\n",
    "attributes too. Because a class’s `__dict__` includes both normal class attributes and\n",
    "individual entries for the instance attributes defined by its `__slots__` list, the slots \n",
    "attributes inherited by an instance will be correctly associated with the implementing\n",
    "class from which they are acquired, even though they are not physically stored in the\n",
    "instance’s `__dict__` itself:"
   ]
  },
  {
   "cell_type": "code",
   "execution_count": null,
   "metadata": {},
   "outputs": [
    {
     "name": "stdout",
     "output_type": "stream",
     "text": [
      "{<__main__.D object at 0x000001998BB73A40>: ['name'],\n",
      " <class '__main__.A'>: ['a', 'y'],\n",
      " <class '__main__.B'>: ['__slots__', 'b', 'c'],\n",
      " <class '__main__.D'>: ['__dict__',\n",
      "                        '__doc__',\n",
      "                        '__init__',\n",
      "                        '__module__',\n",
      "                        '__weakref__',\n",
      "                        'z'],\n",
      " <class '__main__.C'>: ['x']}\n",
      "\n"
     ]
    }
   ],
   "source": [
    "# mapattrs-slots.py: test __slots__ attribute inheritance\n",
    "\n",
    "from mapattrs import mapattrs, trace\n",
    "\n",
    "class A(object): __slots__ = ['a', 'b']; x = 1; y = 2\n",
    "class B(A): __slots__ = ['b', 'c']\n",
    "class C(A): x = 2\n",
    "class D(B, C):\n",
    "    z = 3\n",
    "    def __init__(self): self.name = 'Bob';\n",
    "    \n",
    "I = D()\n",
    "trace(mapattrs(I, bysource=True)) # Also: trace(mapattrs(I))"
   ]
  },
  {
   "cell_type": "markdown",
   "metadata": {},
   "source": [
    "For explicitly new-style classes like those in this file, the results are the same under both\n",
    "2.7 and 3.3, though 3.3 adds an extra built-in name to the set. The attribute names here\n",
    "reflect all those inherited by the instance from user-defined classes, even those implemented \n",
    "by slots defined at classes and stored in space allocated in the instance.\n",
    "\n",
    "But we need to move ahead to understand the role of slots better—and understand why\n",
    "`mapattrs` must be careful to check to see if a `__dict__` is present before fetching it!\n",
    "\n",
    "Study this code for more insight. For the prior chapter’s tree lister, your next step might\n",
    "be to index the `mapattrs` function’s `bysource=True` dictionary result to obtain an object’s\n",
    "attributes during the tree sketch traversal, instead of (or perhaps in addition to?) its\n",
    "current physical `__dict__` scan. You’ll probably need to use `getattr` on the instance to\n",
    "fetch attribute values, because some may be implemented as slots or other “virtual”\n",
    "attributes at their source classes, and fetching these at the class directly won’t return\n",
    "the instance’s value. If I code anymore here, though, I’ll deprive readers of the remaining\n",
    "fun, and the next section of its subject matter."
   ]
  },
  {
   "cell_type": "markdown",
   "metadata": {},
   "source": [
    "## New-Style Class Extensions\n",
    "\n",
    "\n",
    "Beyond the changes described in the prior section (some of which, frankly, may seem\n",
    "too academic and obscure to matter to many readers of this book), new-style classes\n",
    "provide a handful of more advanced class tools that have more direct and practical\n",
    "application—*slots*, *properties*, *descriptors*, and more. The following sections provide an\n",
    "overview of each of these additional features, available for new-style class in Python\n",
    "2.X and all classes in Python 3.X. Also in this extensions category are the `__mro__` attribute and the `super` call, both covered elsewhere—the former in the previous section\n",
    "to explore a change, and the latter postponed until chapter end to serve as a larger case\n",
    "study."
   ]
  },
  {
   "cell_type": "markdown",
   "metadata": {},
   "source": [
    "### Slots: Attribute Declarations\n",
    "\n",
    "\n",
    "By assigning a sequence of string attribute names to a special `__slots__` class attribute,\n",
    "we can enable a new-style class to both limit the set of legal attributes that instances of\n",
    "the class will have, and optimize memory usage and possibly program speed. As we’ll\n",
    "find, though, slots should be used only in applications that clearly warrant the added\n",
    "complexity. They will complicate your code, may complicate or break code you may\n",
    "use, and require universal deployment to be effective.\n",
    "\n"
   ]
  },
  {
   "cell_type": "markdown",
   "metadata": {},
   "source": [
    "#### Slot basics\n",
    "\n",
    "\n",
    "To use slots, assign a sequence of string names to the special `__slots__` variable and\n",
    "attribute at the top level of a `class` statement: only those names in the `__slots__` list\n",
    "can be assigned as instance attributes. However, like all names in Python, instance\n",
    "attribute names must still be assigned before they can be referenced, even if they’re\n",
    "listed in `__slots__`:"
   ]
  },
  {
   "cell_type": "code",
   "execution_count": null,
   "metadata": {},
   "outputs": [
    {
     "ename": "AttributeError",
     "evalue": "age",
     "output_type": "error",
     "traceback": [
      "\u001b[1;31m---------------------------------------------------------------------------\u001b[0m\n",
      "\u001b[1;31mAttributeError\u001b[0m                            Traceback (most recent call last)\n",
      "\u001b[1;32m<ipython-input-10-ae48db571041>\u001b[0m in \u001b[0;36m<module>\u001b[1;34m\u001b[0m\n",
      "\u001b[0;32m      3\u001b[0m \u001b[1;33m\u001b[0m\u001b[0m\n",
      "\u001b[0;32m      4\u001b[0m \u001b[0mx\u001b[0m \u001b[1;33m=\u001b[0m \u001b[0mlimiter\u001b[0m\u001b[1;33m(\u001b[0m\u001b[1;33m)\u001b[0m\u001b[1;33m\u001b[0m\u001b[1;33m\u001b[0m\u001b[0m\n",
      "\u001b[1;32m----> 5\u001b[1;33m \u001b[0mx\u001b[0m\u001b[1;33m.\u001b[0m\u001b[0mage\u001b[0m                                           \u001b[1;31m# Must assign before use\u001b[0m\u001b[1;33m\u001b[0m\u001b[1;33m\u001b[0m\u001b[0m\n",
      "\u001b[0m\n",
      "\u001b[1;31mAttributeError\u001b[0m: age"
     ]
    }
   ],
   "source": [
    "class limiter(object):\n",
    "    __slots__ = ['age', 'name', 'job']\n",
    "\n",
    "x = limiter()\n",
    "x.age                                           # Must assign before use"
   ]
  },
  {
   "cell_type": "code",
   "execution_count": null,
   "metadata": {},
   "outputs": [
    {
     "data": {
      "text/plain": [
       "40"
      ]
     },
     "metadata": {},
     "output_type": "display_data"
    }
   ],
   "source": [
    "x.age = 40                                      # Looks like instance data\n",
    "x.age"
   ]
  },
  {
   "cell_type": "code",
   "execution_count": null,
   "metadata": {},
   "outputs": [
    {
     "ename": "AttributeError",
     "evalue": "'limiter' object has no attribute 'ape'",
     "output_type": "error",
     "traceback": [
      "\u001b[1;31m---------------------------------------------------------------------------\u001b[0m\n",
      "\u001b[1;31mAttributeError\u001b[0m                            Traceback (most recent call last)\n",
      "\u001b[1;32m<ipython-input-12-412be933bd2f>\u001b[0m in \u001b[0;36m<module>\u001b[1;34m\u001b[0m\n",
      "\u001b[1;32m----> 1\u001b[1;33m \u001b[0mx\u001b[0m\u001b[1;33m.\u001b[0m\u001b[0mape\u001b[0m \u001b[1;33m=\u001b[0m \u001b[1;36m1000\u001b[0m                                    \u001b[1;31m# Illegal: not in __slots__\u001b[0m\u001b[1;33m\u001b[0m\u001b[1;33m\u001b[0m\u001b[0m\n",
      "\u001b[0m\n",
      "\u001b[1;31mAttributeError\u001b[0m: 'limiter' object has no attribute 'ape'"
     ]
    }
   ],
   "source": [
    "x.ape = 1000                                    # Illegal: not in __slots__"
   ]
  },
  {
   "cell_type": "markdown",
   "metadata": {},
   "source": [
    "This feature is envisioned as both a way to catch typo errors like this (assignments to\n",
    "illegal attribute names not in `__slots__` are detected) as well as an optimization mechanism.\n",
    "\n",
    "Allocating a namespace dictionary for every instance object can be expensive in terms\n",
    "of memory if many instances are created and only a few attributes are required. To save\n",
    "space, instead of allocating a dictionary for each instance, Python reserves just enough\n",
    "space in each *instance* to hold a value for each slot attribute, along with inherited \n",
    "attributes in the common class to manage slot access. This might additionally speed\n",
    "execution, though this benefit is less clear and might vary per program, platform, and\n",
    "Python.\n",
    "\n",
    "Slots are also something of a major break with Python’s core dynamic nature, which\n",
    "dictates that any name may be created by assignment. In fact, they imitate C++ for\n",
    "efficiency at the expense of flexibility, and even have the potential to *break* some programs. \n",
    "As we’ll see, slots also come with a plethora of special-case usage rules. Per\n",
    "Python’s own manual, they should *not* be used except in clearly warranted cases—they\n",
    "are difficult to use correctly, and are, to quote the manual:\n",
    "\n",
    "```\n",
    "    best reserved for rare cases where there are large numbers of instances \n",
    "    in a memory-critical application.\n",
    "```\n",
    "\n",
    "In other words, this is yet another feature that should be used only if clearly warranted.\n",
    "Unfortunately, slots seem to be showing up in Python code much more often than they\n",
    "should; their obscurity seems to be a draw in itself. As usual, knowledge is your best\n",
    "ally in such things, so let’s take a quick look here."
   ]
  },
  {
   "cell_type": "markdown",
   "metadata": {},
   "source": [
    "#### Slots and namespace dictionaries\n",
    "\n",
    "\n",
    "Potential benefits aside, slots can complicate the class model—and code that relies on\n",
    "it—substantially. In fact, some instances with slots may not have a `__dict__` attribute\n",
    "namespace dictionary at all, and others will have data attributes that this dictionary\n",
    "does not include. To be clear: this is a *major incompatibility* with the traditional class\n",
    "model—one that can complicate any code that accesses attributes generically, and may\n",
    "even cause some programs to fail altogether.\n",
    "\n",
    "For instance, programs that list or access instance attributes by name string may need\n",
    "to use more storage-neutral interfaces than `__dict__` if slots may be used. Because an\n",
    "instance’s data may include class-level names such as slots—either in addition to or\n",
    "instead of namespace dictionary storage—both attribute sources may need to be queried \n",
    "for completeness.\n",
    "\n",
    "Let’s see what this means in terms of code, and explore more about slots along the way.\n",
    "First off, when slots are used, instances do not normally have an attribute dictionary\n",
    "—instead, Python uses the class *descriptors* feature introduced ahead to allocate and\n",
    "manage space reserved for slot attributes in the instance. In Python 3.X, and in 2.X for\n",
    "new-style classes derived from object:"
   ]
  },
  {
   "cell_type": "code",
   "execution_count": null,
   "metadata": {},
   "outputs": [
    {
     "data": {
      "text/plain": [
       "1"
      ]
     },
     "metadata": {},
     "output_type": "display_data"
    }
   ],
   "source": [
    "class C:                                    # Requires \"(object)\" in 2.X only\n",
    "    __slots__ = ['a', 'b']                  # __slots__ means no __dict__ by default\n",
    "\n",
    "X = C()\n",
    "X.a = 1\n",
    "X.a"
   ]
  },
  {
   "cell_type": "code",
   "execution_count": null,
   "metadata": {},
   "outputs": [
    {
     "ename": "AttributeError",
     "evalue": "'C' object has no attribute '__dict__'",
     "output_type": "error",
     "traceback": [
      "\u001b[1;31m---------------------------------------------------------------------------\u001b[0m\n",
      "\u001b[1;31mAttributeError\u001b[0m                            Traceback (most recent call last)\n",
      "\u001b[1;32m<ipython-input-14-b2412a113e8c>\u001b[0m in \u001b[0;36m<module>\u001b[1;34m\u001b[0m\n",
      "\u001b[1;32m----> 1\u001b[1;33m \u001b[0mX\u001b[0m\u001b[1;33m.\u001b[0m\u001b[0m__dict__\u001b[0m\u001b[1;33m\u001b[0m\u001b[1;33m\u001b[0m\u001b[0m\n",
      "\u001b[0m\n",
      "\u001b[1;31mAttributeError\u001b[0m: 'C' object has no attribute '__dict__'"
     ]
    }
   ],
   "source": [
    "X.__dict__"
   ]
  },
  {
   "cell_type": "markdown",
   "metadata": {},
   "source": [
    "However, we can still fetch and set slot-based attributes by name string using \n",
    "storage-neutral tools such as `getattr` and `setattr` (which look beyond the instance `__dict__`\n",
    "and thus include class-level names like slots) and `dir` (which collects all inherited names\n",
    "throughout a class tree):"
   ]
  },
  {
   "cell_type": "code",
   "execution_count": null,
   "metadata": {},
   "outputs": [
    {
     "data": {
      "text/plain": [
       "1"
      ]
     },
     "metadata": {},
     "output_type": "display_data"
    }
   ],
   "source": [
    "getattr(X, 'a')"
   ]
  },
  {
   "cell_type": "code",
   "execution_count": null,
   "metadata": {},
   "outputs": [],
   "source": [
    "setattr(X, 'b',  2)"
   ]
  },
  {
   "cell_type": "code",
   "execution_count": null,
   "metadata": {},
   "outputs": [
    {
     "data": {
      "text/plain": [
       "(True, True)"
      ]
     },
     "metadata": {},
     "output_type": "display_data"
    }
   ],
   "source": [
    "'a' in dir(X), 'b' in dir(X)                    # And dir() finds slot attributes too"
   ]
  },
  {
   "cell_type": "markdown",
   "metadata": {},
   "source": [
    "Also keep in mind that without an attribute namespace dictionary, it’s not possible to\n",
    "assign new names to instances that are not names in the slots list:"
   ]
  },
  {
   "cell_type": "code",
   "execution_count": null,
   "metadata": {},
   "outputs": [
    {
     "ename": "AttributeError",
     "evalue": "'D' object has no attribute 'd'",
     "output_type": "error",
     "traceback": [
      "\u001b[1;31m---------------------------------------------------------------------------\u001b[0m\n",
      "\u001b[1;31mAttributeError\u001b[0m                            Traceback (most recent call last)\n",
      "\u001b[1;32m<ipython-input-18-635cb802785b>\u001b[0m in \u001b[0;36m<module>\u001b[1;34m\u001b[0m\n",
      "\u001b[0;32m      4\u001b[0m         \u001b[0mself\u001b[0m\u001b[1;33m.\u001b[0m\u001b[0md\u001b[0m \u001b[1;33m=\u001b[0m \u001b[1;36m4\u001b[0m \u001b[1;31m# Cannot add new names if no __dict__\u001b[0m\u001b[1;33m\u001b[0m\u001b[1;33m\u001b[0m\u001b[0m\n",
      "\u001b[0;32m      5\u001b[0m \u001b[1;33m\u001b[0m\u001b[0m\n",
      "\u001b[1;32m----> 6\u001b[1;33m \u001b[0mX\u001b[0m \u001b[1;33m=\u001b[0m \u001b[0mD\u001b[0m\u001b[1;33m(\u001b[0m\u001b[1;33m)\u001b[0m\u001b[1;33m\u001b[0m\u001b[1;33m\u001b[0m\u001b[0m\n",
      "\u001b[0m\n",
      "\u001b[1;32m<ipython-input-18-635cb802785b>\u001b[0m in \u001b[0;36m__init__\u001b[1;34m(self)\u001b[0m\n",
      "\u001b[0;32m      2\u001b[0m     \u001b[0m__slots__\u001b[0m \u001b[1;33m=\u001b[0m \u001b[1;33m[\u001b[0m\u001b[1;34m'a'\u001b[0m\u001b[1;33m,\u001b[0m \u001b[1;34m'b'\u001b[0m\u001b[1;33m]\u001b[0m\u001b[1;33m\u001b[0m\u001b[1;33m\u001b[0m\u001b[0m\n",
      "\u001b[0;32m      3\u001b[0m     \u001b[1;32mdef\u001b[0m \u001b[0m__init__\u001b[0m\u001b[1;33m(\u001b[0m\u001b[0mself\u001b[0m\u001b[1;33m)\u001b[0m\u001b[1;33m:\u001b[0m\u001b[1;33m\u001b[0m\u001b[1;33m\u001b[0m\u001b[0m\n",
      "\u001b[1;32m----> 4\u001b[1;33m         \u001b[0mself\u001b[0m\u001b[1;33m.\u001b[0m\u001b[0md\u001b[0m \u001b[1;33m=\u001b[0m \u001b[1;36m4\u001b[0m \u001b[1;31m# Cannot add new names if no __dict__\u001b[0m\u001b[1;33m\u001b[0m\u001b[1;33m\u001b[0m\u001b[0m\n",
      "\u001b[0m\u001b[0;32m      5\u001b[0m \u001b[1;33m\u001b[0m\u001b[0m\n",
      "\u001b[0;32m      6\u001b[0m \u001b[0mX\u001b[0m \u001b[1;33m=\u001b[0m \u001b[0mD\u001b[0m\u001b[1;33m(\u001b[0m\u001b[1;33m)\u001b[0m\u001b[1;33m\u001b[0m\u001b[1;33m\u001b[0m\u001b[0m\n",
      "\n",
      "\u001b[1;31mAttributeError\u001b[0m: 'D' object has no attribute 'd'"
     ]
    }
   ],
   "source": [
    "class D:  # Use D(object) for same result in 2.X\n",
    "    __slots__ = ['a', 'b']\n",
    "    def __init__(self):\n",
    "        self.d = 4 # Cannot add new names if no __dict__\n",
    "\n",
    "X = D()"
   ]
  },
  {
   "cell_type": "markdown",
   "metadata": {},
   "source": [
    "We can still accommodate extra attributes, though, by including `__dict__` explicitly in\n",
    "`__slots__`, in order to create an attribute namespace dictionary too:"
   ]
  },
  {
   "cell_type": "code",
   "execution_count": null,
   "metadata": {},
   "outputs": [
    {
     "data": {
      "text/plain": [
       "(4, 3)"
      ]
     },
     "metadata": {},
     "output_type": "display_data"
    }
   ],
   "source": [
    "class D:\n",
    "    __slots__ = ['a', 'b', '__dict__']          # Name __dict__ to include one too\n",
    "    c = 3                                       # Class attrs work normally\n",
    "    def __init__(self):\n",
    "        self.d = 4                              # d stored in __dict__, a is a slot\n",
    "\n",
    "X = D()\n",
    "X.d, X.c"
   ]
  },
  {
   "cell_type": "code",
   "execution_count": null,
   "metadata": {},
   "outputs": [
    {
     "ename": "AttributeError",
     "evalue": "a",
     "output_type": "error",
     "traceback": [
      "\u001b[1;31m---------------------------------------------------------------------------\u001b[0m\n",
      "\u001b[1;31mAttributeError\u001b[0m                            Traceback (most recent call last)\n",
      "\u001b[1;32m<ipython-input-21-c7e7e80b62fe>\u001b[0m in \u001b[0;36m<module>\u001b[1;34m\u001b[0m\n",
      "\u001b[1;32m----> 1\u001b[1;33m \u001b[0mX\u001b[0m\u001b[1;33m.\u001b[0m\u001b[0ma\u001b[0m\u001b[1;33m\u001b[0m\u001b[1;33m\u001b[0m\u001b[0m\n",
      "\u001b[0m\n",
      "\u001b[1;31mAttributeError\u001b[0m: a"
     ]
    }
   ],
   "source": [
    "X.a                                     # All instance attrs undefined until assigned"
   ]
  },
  {
   "cell_type": "code",
   "execution_count": null,
   "metadata": {},
   "outputs": [],
   "source": [
    "X.a = 1\n",
    "X.b = 2"
   ]
  },
  {
   "cell_type": "markdown",
   "metadata": {},
   "source": [
    "In this case, *both* storage mechanisms are used. This renders `__dict__` too limited for\n",
    "code that wishes to treat slots as instance data, but generic tools such as `getattr` still\n",
    "allow us to process both storage forms as a single set of attributes:"
   ]
  },
  {
   "cell_type": "code",
   "execution_count": null,
   "metadata": {},
   "outputs": [
    {
     "data": {
      "text/plain": [
       "{'d': 4}"
      ]
     },
     "metadata": {},
     "output_type": "display_data"
    }
   ],
   "source": [
    "X.__dict__                  # Some objects have both __dict__ and slot names \n",
    "                            # getattr() can fetch either type of attr"
   ]
  },
  {
   "cell_type": "code",
   "execution_count": null,
   "metadata": {},
   "outputs": [
    {
     "data": {
      "text/plain": [
       "['a', 'b', '__dict__']"
      ]
     },
     "metadata": {},
     "output_type": "display_data"
    }
   ],
   "source": [
    "X.__slots__"
   ]
  },
  {
   "cell_type": "code",
   "execution_count": null,
   "metadata": {},
   "outputs": [
    {
     "data": {
      "text/plain": [
       "(1, 3, 4)"
      ]
     },
     "metadata": {},
     "output_type": "display_data"
    }
   ],
   "source": [
    "getattr(X, 'a'), getattr(X, 'c'), getattr(X, 'd')       # Fetches all 3 forms"
   ]
  },
  {
   "cell_type": "markdown",
   "metadata": {},
   "source": [
    "Because `dir` also returns all *inherited* attributes, though, it might be too broad in some\n",
    "contexts; it also includes class-level methods, and even all `object` defaults. Code that\n",
    "wishes to list *just* instance attributes may in principle still need to allow for both storage\n",
    "forms explicitly. We might at first naively code this as follows:"
   ]
  },
  {
   "cell_type": "code",
   "execution_count": null,
   "metadata": {},
   "outputs": [
    {
     "name": "stdout",
     "output_type": "stream",
     "text": [
      "d => 4\n",
      "a => 1\n",
      "b => 2\n",
      "__dict__ => {'d': 4}\n"
     ]
    }
   ],
   "source": [
    "for attr in list(X.__dict__) + X.__slots__:             # Wrong...\n",
    "    print(attr, '=>', getattr(X, attr))"
   ]
  },
  {
   "cell_type": "markdown",
   "metadata": {},
   "source": [
    "Since either can be omitted, we may more correctly code this as follows, using \n",
    "`getattr` to allow for defaults—a noble but nonetheless inaccurate approach, as the next\n",
    "section will explain:"
   ]
  },
  {
   "cell_type": "code",
   "execution_count": null,
   "metadata": {},
   "outputs": [
    {
     "name": "stdout",
     "output_type": "stream",
     "text": [
      "d => 4\n",
      "a => 1\n",
      "b => 2\n",
      "__dict__ => {'d': 4}\n"
     ]
    }
   ],
   "source": [
    "for attr in list(getattr(X, '__dict__', [])) + getattr(X, '__slots__', []):\n",
    "    print(attr, '=>', getattr(X, attr))"
   ]
  },
  {
   "cell_type": "markdown",
   "metadata": {},
   "source": [
    "#### Multiple `__slot__` lists in superclasses\n",
    "\n",
    "\n",
    "The preceding code works in this specific case, but in general it’s *not entirely accurate*. \n",
    "Specifically, this code addresses only slot names in the *lowest* `__slots__` attribute\n",
    "inherited by an instance, but slot lists may appear more than once in a class tree. That\n",
    "is, a name’s absence in the lowest `__slots__` list does not preclude its existence in a\n",
    "higher `__slots__`. Because slot names become class-level attributes, instances acquire\n",
    "the union of all slot names anywhere in the tree, by the normal inheritance rule:"
   ]
  },
  {
   "cell_type": "code",
   "execution_count": null,
   "metadata": {},
   "outputs": [
    {
     "data": {
      "text/plain": [
       "(1, 3)"
      ]
     },
     "metadata": {},
     "output_type": "display_data"
    }
   ],
   "source": [
    "class E:\n",
    "    __slots__ = ['c', 'd']              # Superclass has slots\n",
    "\n",
    "class D(E):\n",
    "    __slots__ = ['a', '__dict__']       # But so does its subclass\n",
    "\n",
    "X = D()\n",
    "X.a = 1; X.b = 2; X.c = 3               # The instance is the union (slots: a, c)\n",
    "X.a, X.c"
   ]
  },
  {
   "cell_type": "markdown",
   "metadata": {},
   "source": [
    "Inspecting just the inherited slots list won’t pick up slots defined higher in a class tree:"
   ]
  },
  {
   "cell_type": "code",
   "execution_count": null,
   "metadata": {},
   "outputs": [
    {
     "data": {
      "text/plain": [
       "(['c', 'd'], ['a', '__dict__'])"
      ]
     },
     "metadata": {},
     "output_type": "display_data"
    }
   ],
   "source": [
    "E.__slots__, D.__slots__                    # But slots are not concatenated"
   ]
  },
  {
   "cell_type": "code",
   "execution_count": null,
   "metadata": {},
   "outputs": [
    {
     "data": {
      "text/plain": [
       "['a', '__dict__']"
      ]
     },
     "metadata": {},
     "output_type": "display_data"
    }
   ],
   "source": [
    "X.__slots__                         # Instance inherits *lowest* __slots__"
   ]
  },
  {
   "cell_type": "code",
   "execution_count": null,
   "metadata": {},
   "outputs": [
    {
     "data": {
      "text/plain": [
       "{'b': 2}"
      ]
     },
     "metadata": {},
     "output_type": "display_data"
    }
   ],
   "source": [
    "X.__dict__                          # And has its own an attr dict"
   ]
  },
  {
   "cell_type": "code",
   "execution_count": null,
   "metadata": {},
   "outputs": [
    {
     "name": "stdout",
     "output_type": "stream",
     "text": [
      "b => 2\n",
      "a => 1\n",
      "__dict__ => {'b': 2}\n"
     ]
    }
   ],
   "source": [
    "for attr in list(getattr(X, '__dict__', [])) + getattr(X, '__slots__', []):\n",
    "    print(attr, '=>', getattr(X, attr))             # Other superclass slots missed!"
   ]
  },
  {
   "cell_type": "code",
   "execution_count": null,
   "metadata": {},
   "outputs": [
    {
     "name": "stdout",
     "output_type": "stream",
     "text": [
      "['__class__', '__delattr__', '__dict__', '__dir__', '__doc__', '__eq__', '__format__', '__ge__', '__getattribute__', '__gt__', '__hash__', '__init__', '__init_subclass__', '__le__', '__lt__', '__module__', '__ne__', '__new__', '__reduce__', '__reduce_ex__', '__repr__', '__setattr__', '__sizeof__', '__slots__', '__str__', '__subclasshook__', 'a', 'b', 'c', 'd']\n"
     ]
    }
   ],
   "source": [
    "print(dir(X))                          # But dir() includes all slot names"
   ]
  },
  {
   "cell_type": "markdown",
   "metadata": {},
   "source": [
    "In other words, in terms of listing instance attributes generically, one `__slots__` isn’t\n",
    "always enough—they are potentially subject to the full inheritance search procedure.\n",
    "See the earlier `mapattrs-slots.py` for another example of slots appearing in multiple\n",
    "superclasses. If multiple classes in a class tree have their own `__slots__` attributes,\n",
    "generic programs must develop other policies for listing attributes—as the next section\n",
    "explains."
   ]
  },
  {
   "cell_type": "markdown",
   "metadata": {},
   "source": [
    "#### Handling slots and other “virtual” attributes generically\n",
    "\n",
    "\n",
    "At this point, you may wish to review the discussion of slots policy options at the\n",
    "coverage of the `lister.py` display mix-in classes near the end of the preceding section—\n",
    "a prime example of why generic programs may need to care about slots. Such tools that\n",
    "attempt to list instance data attributes generically must account for slots, and perhaps\n",
    "other such “virtual” instance attributes like `properties` and `descriptors` discussed ahead\n",
    "—names that similarly reside in classes but may provide attribute values for instances\n",
    "on request. Slots are the most data-centric of these, but are representative of a larger\n",
    "category.\n",
    "\n",
    "Such attributes require inclusive approaches, special handling, or general avoidance—\n",
    "the latter of which becomes unsatisfactory as soon as any programmer uses slots in\n",
    "subject code. Really, class-level instance attributes like slots probably necessitate a \n",
    "redefinition of the term *instance data*—as locally stored attributes, the union of all \n",
    "inherited attributes, or some subset thereof.\n",
    "\n",
    "For example, some programs might classify slot names as attributes of *classes* instead\n",
    "of instances; these attributes do not exist in instance namespace dictionaries, after all.\n",
    "Alternatively, as shown earlier, programs can be more inclusive by relying on `dir` to\n",
    "fetch all inherited attribute names and `getattr` to fetch their corresponding values for\n",
    "the instance—without regard to their physical location or implementation. If you must\n",
    "support slots as instance data, this is likely the most robust way to proceed:"
   ]
  },
  {
   "cell_type": "code",
   "execution_count": null,
   "metadata": {},
   "outputs": [
    {
     "data": {
      "text/plain": [
       "(1, 2, 3)"
      ]
     },
     "metadata": {},
     "output_type": "display_data"
    }
   ],
   "source": [
    "class Slotful:\n",
    "    __slots__ = ['a', 'b', '__dict__']\n",
    "    def __init__(self, data):\n",
    "        self.c = data\n",
    "    \n",
    "I = Slotful(3)\n",
    "I.a, I.b = 1, 2\n",
    "I.a, I.b, I.c                           # Normal attribute fetch"
   ]
  },
  {
   "cell_type": "code",
   "execution_count": null,
   "metadata": {},
   "outputs": [
    {
     "data": {
      "text/plain": [
       "{'c': 3}"
      ]
     },
     "metadata": {},
     "output_type": "display_data"
    }
   ],
   "source": [
    "I.__dict__                              # Both __dict__ and slots storage"
   ]
  },
  {
   "cell_type": "code",
   "execution_count": null,
   "metadata": {},
   "outputs": [
    {
     "data": {
      "text/plain": [
       "['a', 'b', 'c']"
      ]
     },
     "metadata": {},
     "output_type": "display_data"
    }
   ],
   "source": [
    "[x for x in dir(I) if not x.startswith('__')]"
   ]
  },
  {
   "cell_type": "code",
   "execution_count": null,
   "metadata": {},
   "outputs": [
    {
     "data": {
      "text/plain": [
       "3"
      ]
     },
     "metadata": {},
     "output_type": "display_data"
    }
   ],
   "source": [
    "I.__dict__['c']                         # __dict__ is only one attr source"
   ]
  },
  {
   "cell_type": "code",
   "execution_count": null,
   "metadata": {},
   "outputs": [
    {
     "data": {
      "text/plain": [
       "(3, 1)"
      ]
     },
     "metadata": {},
     "output_type": "display_data"
    }
   ],
   "source": [
    "getattr(I, 'c'), getattr(I, 'a')        # dir+getattr is broader than __dict__\n",
    "                                        # applies to slots, properties, descrip"
   ]
  },
  {
   "cell_type": "code",
   "execution_count": null,
   "metadata": {},
   "outputs": [
    {
     "name": "stdout",
     "output_type": "stream",
     "text": [
      "a 1\n",
      "b 2\n",
      "c 3\n"
     ]
    }
   ],
   "source": [
    "for a in (x for x in dir(I) if not x.startswith('__')):\n",
    "    print(a, getattr(I, a))"
   ]
  },
  {
   "cell_type": "markdown",
   "metadata": {},
   "source": [
    "Under this `dir`/`getattr` model, you can still map attributes to their inheritance sources,\n",
    "and filter them more selectively by source or type if needed, by scanning the *MRO*—\n",
    "as we did earlier in both `mapattrs.py` and its application to slots in `mapattrs-slots.py`.\n",
    "As an added bonus, such tools and policies for handling slots will potentially apply\n",
    "automatically to *properties* and *descriptors* too, though these attributes are more \n",
    "explicitly computed values, and less obviously instance-related data than slots.\n",
    "\n",
    "Also keep in mind that this is not just a tools issue. Class-based instance attributes like\n",
    "slots also impact the traditional coding of the `__setattr__` operator overloading method\n",
    "we met in [Chapter 30](). Because slots and some other attributes are not stored in the\n",
    "instance `__dict__`, and may even imply its *absence*, new-style classes must instead \n",
    "generally run attribute assignments by routing them to the `object` superclass. In practice,\n",
    "this may make this method fundamentally different in some classic and new-style\n",
    "classes."
   ]
  },
  {
   "cell_type": "markdown",
   "metadata": {},
   "source": [
    "#### Slot usage rules\n",
    "\n",
    "\n",
    "Slot declarations can appear in multiple classes in a class tree, but when they do they\n",
    "are subject to a number of constraints that are somewhat difficult to rationalize unless\n",
    "you understand the implementation of slots as class-level *descriptors* for each slot name\n",
    "that are inherited by the instances where the managed space is reserved (descriptors\n",
    "are an advanced tool we’ll study in detail in the last part of this book):\n",
    "\n",
    "  + *Slots in subs are pointless when absent in supers*: If a subclass inherits from a \n",
    "    superclass without a `__slots__`, the instance `__dict__` attribute created for the \n",
    "    superclass will always be accessible, making a `__slots__` in the subclass largely \n",
    "    pointless. The subclass still manages its slots, but doesn’t compute their values in any\n",
    "    way, and doesn’t avoid a dictionary—the main reason to use slots.\n",
    "\n",
    "  + *Slots in supers are pointless when absent in subs*: Similarly, because the meaning of\n",
    "    a `__slots__` declaration is limited to the class in which it appears, subclasses will\n",
    "    produce an instance `__dict__` if they do not define a `__slots__`, rendering a\n",
    "    `__slots__` in a superclass largely pointless.\n",
    "\n",
    "  + *Redefinition renders super slots pointless*: If a class defines the same slot name as a\n",
    "    superclass, its redefinition hides the slot in the superclass per normal inheritance.\n",
    "    You can access the version of the name defined by the superclass slot only by\n",
    "    fetching its descriptor directly from the superclass.\n",
    "\n",
    "  + *Slots prevent class-level defaults*: Because slots are implemented as class-level \n",
    "    descriptors (along with per-instance space), you cannot use class attributes of the\n",
    "    same name to provide defaults as you can for normal instance attributes: assigning\n",
    "    the same name in the class overwrites the slot descriptor.\n",
    "\n",
    "  + *Slots and `__dict__`*: As shown earlier, `__slots__` preclude both an instance\n",
    "    `__dict__` and assigning names not listed, unless `__dict__` is listed explicitly too.\n",
    "\n",
    "We’ve already seen the last of these in action, and the earlier `mapattrs-slots.py` illustrates\n",
    "the third. It’s easy to demonstrate how the new rules here translate to actual code—\n",
    "most crucially, a namespace dictionary is created when any class in a tree omits slots,\n",
    "thereby negating the memory optimization benefit:"
   ]
  },
  {
   "cell_type": "code",
   "execution_count": null,
   "metadata": {},
   "outputs": [
    {
     "data": {
      "text/plain": [
       "{'b': 2}"
      ]
     },
     "metadata": {},
     "output_type": "display_data"
    }
   ],
   "source": [
    "class C: pass                           # Bullet 1: slots in sub but not super\n",
    "class D(C): __slots__ = ['a']           # Makes instance dict for nonslots\n",
    "X = D()                                 # But slot name still managed in class\n",
    "X.a = 1; X.b = 2\n",
    "X.__dict__"
   ]
  },
  {
   "cell_type": "code",
   "execution_count": null,
   "metadata": {},
   "outputs": [
    {
     "data": {
      "text/plain": [
       "dict_keys(['__module__', '__slots__', 'a', '__doc__'])"
      ]
     },
     "metadata": {},
     "output_type": "display_data"
    }
   ],
   "source": [
    "D.__dict__.keys()"
   ]
  },
  {
   "cell_type": "code",
   "execution_count": null,
   "metadata": {},
   "outputs": [
    {
     "data": {
      "text/plain": [
       "{'b': 2}"
      ]
     },
     "metadata": {},
     "output_type": "display_data"
    }
   ],
   "source": [
    "class C: __slots__ = ['a']              # Bullet 2: slots in super but not sub\n",
    "class D(C): pass                        # Makes instance dict for nonslots\n",
    "X = D()                                 # But slot name still managed in class\n",
    "X.a = 1; X.b = 2\n",
    "X.__dict__"
   ]
  },
  {
   "cell_type": "code",
   "execution_count": null,
   "metadata": {},
   "outputs": [
    {
     "data": {
      "text/plain": [
       "dict_keys(['__module__', '__slots__', 'a', '__doc__'])"
      ]
     },
     "metadata": {},
     "output_type": "display_data"
    }
   ],
   "source": [
    "C.__dict__.keys()"
   ]
  },
  {
   "cell_type": "code",
   "execution_count": null,
   "metadata": {},
   "outputs": [
    {
     "ename": "ValueError",
     "evalue": "'a' in __slots__ conflicts with class variable",
     "output_type": "error",
     "traceback": [
      "\u001b[1;31m---------------------------------------------------------------------------\u001b[0m\n",
      "\u001b[1;31mValueError\u001b[0m                                Traceback (most recent call last)\n",
      "\u001b[1;32m<ipython-input-47-8c2fcb5a0e25>\u001b[0m in \u001b[0;36m<module>\u001b[1;34m\u001b[0m\n",
      "\u001b[0;32m      1\u001b[0m \u001b[1;32mclass\u001b[0m \u001b[0mC\u001b[0m\u001b[1;33m:\u001b[0m \u001b[0m__slots__\u001b[0m \u001b[1;33m=\u001b[0m \u001b[1;33m[\u001b[0m\u001b[1;34m'a'\u001b[0m\u001b[1;33m]\u001b[0m \u001b[1;31m# Bullet 3: only lowest slot accessible\u001b[0m\u001b[1;33m\u001b[0m\u001b[1;33m\u001b[0m\u001b[0m\n",
      "\u001b[0;32m      2\u001b[0m \u001b[1;32mclass\u001b[0m \u001b[0mD\u001b[0m\u001b[1;33m(\u001b[0m\u001b[0mC\u001b[0m\u001b[1;33m)\u001b[0m\u001b[1;33m:\u001b[0m \u001b[0m__slots__\u001b[0m \u001b[1;33m=\u001b[0m \u001b[1;33m[\u001b[0m\u001b[1;34m'a'\u001b[0m\u001b[1;33m]\u001b[0m\u001b[1;33m\u001b[0m\u001b[1;33m\u001b[0m\u001b[0m\n",
      "\u001b[1;32m----> 3\u001b[1;33m \u001b[1;32mclass\u001b[0m \u001b[0mC\u001b[0m\u001b[1;33m:\u001b[0m \u001b[0m__slots__\u001b[0m \u001b[1;33m=\u001b[0m \u001b[1;33m[\u001b[0m\u001b[1;34m'a'\u001b[0m\u001b[1;33m]\u001b[0m\u001b[1;33m;\u001b[0m \u001b[0ma\u001b[0m \u001b[1;33m=\u001b[0m \u001b[1;36m99\u001b[0m \u001b[1;31m# Bullet 4: no class-level defaults\u001b[0m\u001b[1;33m\u001b[0m\u001b[1;33m\u001b[0m\u001b[0m\n",
      "\u001b[0m\n",
      "\u001b[1;31mValueError\u001b[0m: 'a' in __slots__ conflicts with class variable"
     ]
    }
   ],
   "source": [
    "class C: __slots__ = ['a']              # Bullet 3: only lowest slot accessible\n",
    "class D(C): __slots__ = ['a']\n",
    "class C: __slots__ = ['a']; a = 99      # Bullet 4: no class-level defaults"
   ]
  },
  {
   "cell_type": "markdown",
   "metadata": {},
   "source": [
    "In other words, besides their program-breaking potential, slots essentially require \n",
    "*both universal and careful deployment* to be effective—because slots do not compute values\n",
    "dynamically like properties (coming up in the next section), they are largely pointless\n",
    "unless each class in a tree uses them and is cautious to define only new slot names not\n",
    "defined by other classes. It’s an *all-or-nothing* feature—an unfortunate property shared\n",
    "by the `super` call discussed ahead:"
   ]
  },
  {
   "cell_type": "code",
   "execution_count": null,
   "metadata": {},
   "outputs": [
    {
     "ename": "AttributeError",
     "evalue": "'D' object has no attribute '__dict__'",
     "output_type": "error",
     "traceback": [
      "\u001b[1;31m---------------------------------------------------------------------------\u001b[0m\n",
      "\u001b[1;31mAttributeError\u001b[0m                            Traceback (most recent call last)\n",
      "\u001b[1;32m<ipython-input-48-f18b39a9423a>\u001b[0m in \u001b[0;36m<module>\u001b[1;34m\u001b[0m\n",
      "\u001b[0;32m      3\u001b[0m \u001b[0mX\u001b[0m \u001b[1;33m=\u001b[0m \u001b[0mD\u001b[0m\u001b[1;33m(\u001b[0m\u001b[1;33m)\u001b[0m\u001b[1;33m\u001b[0m\u001b[1;33m\u001b[0m\u001b[0m\n",
      "\u001b[0;32m      4\u001b[0m \u001b[0mX\u001b[0m\u001b[1;33m.\u001b[0m\u001b[0ma\u001b[0m \u001b[1;33m=\u001b[0m \u001b[1;36m1\u001b[0m\u001b[1;33m;\u001b[0m \u001b[0mX\u001b[0m\u001b[1;33m.\u001b[0m\u001b[0mb\u001b[0m \u001b[1;33m=\u001b[0m \u001b[1;36m2\u001b[0m\u001b[1;33m\u001b[0m\u001b[1;33m\u001b[0m\u001b[0m\n",
      "\u001b[1;32m----> 5\u001b[1;33m \u001b[0mX\u001b[0m\u001b[1;33m.\u001b[0m\u001b[0m__dict__\u001b[0m\u001b[1;33m\u001b[0m\u001b[1;33m\u001b[0m\u001b[0m\n",
      "\u001b[0m\n",
      "\u001b[1;31mAttributeError\u001b[0m: 'D' object has no attribute '__dict__'"
     ]
    }
   ],
   "source": [
    "class C: __slots__ = ['a']              # Assumes universal use, differing names\n",
    "class D(C): __slots__ = ['b']\n",
    "X = D()\n",
    "X.a = 1; X.b = 2\n",
    "X.__dict__"
   ]
  },
  {
   "cell_type": "code",
   "execution_count": null,
   "metadata": {},
   "outputs": [
    {
     "data": {
      "text/plain": [
       "(dict_keys(['__module__', '__slots__', 'a', '__doc__']),\n",
       " dict_keys(['__module__', '__slots__', 'b', '__doc__']))"
      ]
     },
     "metadata": {},
     "output_type": "display_data"
    }
   ],
   "source": [
    "C.__dict__.keys(), D.__dict__.keys()"
   ]
  },
  {
   "cell_type": "markdown",
   "metadata": {},
   "source": [
    "Such rules—among others regarding *weak references* omitted here for space—are part\n",
    "of the reason slots are not generally recommended, except in pathological cases where\n",
    "their space reduction is significant. Even then, their potential to complicate or break\n",
    "code should be ample cause to carefully consider the tradeoffs. Not only must they be\n",
    "spread almost *neurotically* throughout a framework, they may also break tools you rely\n",
    "on."
   ]
  },
  {
   "cell_type": "markdown",
   "metadata": {},
   "source": [
    "##### Example impacts of slots: `ListTree` and mapattrs\n",
    "\n",
    "\n",
    "As a more realistic example of slots’ effects, due to the first bullet in the prior section,\n",
    "[Chapter 31]()’s `ListTree` class does *not fail* when mixed in to a class that defines\n",
    "`__slots__`, even though it scans instance namespace dictionaries. The lister class’s own\n",
    "lack of slots is enough to ensure that the instance will still have a `__dict__`, and hence\n",
    "not trigger an exception when fetched or indexed. For example, both of the following\n",
    "display without error—the second also allows names not in the slots list to be assigned\n",
    "as instances attributes, including any required by the superclass:\n",
    "\n",
    "```python\n",
    "    class C(ListTree): pass\n",
    "    X = C() # OK: no __slots__ used\n",
    "    print(X)\n",
    "\n",
    "    class C(ListTree): __slots__ = ['a', 'b']   # OK: superclass produces __dict__\n",
    "    X = C()\n",
    "    X.c = 3\n",
    "    print(X)                                    # Displays c at X, a and b at C\n",
    "```\n",
    "\n",
    "The following classes display correctly as well—*any* nonslot class like `ListTree` \n",
    "generates an instance `__dict__`, and can thus safely assume its presence:\n",
    "\n",
    "```python\n",
    "    class A: __slots__ = ['a']                  # Both OK by bullet 1 above\n",
    "    class B(A, ListTree): pass\n",
    "\n",
    "    class A: __slots__ = ['a']\n",
    "    class B(A, ListTree): __slots__ = ['b']     # Displays b at B, a at A\n",
    "```\n",
    "\n",
    "Although it renders subclass slots pointless, this is a positive side effect for tools classes\n",
    "like `ListTree` (and its [Chapter 28]() predecessor). In general, though, some tools might\n",
    "need to catch exceptions when `__dict__` is absent or use a `hasattr` or `getattr` to test or\n",
    "provide defaults if slot usage may preclude a namespace dictionary in instance objects\n",
    "inspected.\n",
    "\n",
    "For example, you should now be able to understand why the `mapattrs.py` program\n",
    "earlier in this section must check for the presence of a `__dict__` before fetching it—\n",
    "instance objects created from classes with `__slots__` won’t have one. In fact, if we use\n",
    "the highlighted alternative line in the following, the `mapattrs` function fails with an\n",
    "exception when attempting to look for an attribute name in the instance at the front of\n",
    "the inheritance path sequence:\n",
    "\n",
    "```python\n",
    "    def mapattrs(instance, withobject=False, bysource=False):\n",
    "        for attr in dir(instance):\n",
    "            for obj in inherits:\n",
    "                if attr in obj.__dict__: # May fail if __slots__ used\n",
    "\n",
    "    >>> class C: __slots__ = ['a']\n",
    "    >>> X = C()\n",
    "    >>> mapattrs(X)\n",
    "    AttributeError: 'C' object has no attribute '__dict__'\n",
    "```\n",
    "\n",
    "Either of the following works around the issue, and allows the tool to support slots—\n",
    "the first provides a default, and the second is more verbose but seems marginally more\n",
    "explicit in its intent:\n",
    "\n",
    "```python\n",
    "    if attr in getattr(obj, '__dict__', {}):\n",
    "    if hasattr(obj, '__dict__') and attr in obj.__dict__:\n",
    "```\n",
    "\n",
    "As mentioned earlier, some tools may benefit from mapping `dir` results to objects in\n",
    "the MRO this way, instead of scanning an instance `__dict__` in general—without this\n",
    "more inclusive approach, attributes implemented by class-level tools like slots won’t\n",
    "be reported as instance data. Even so, this doesn’t necessarily excuse such tools from\n",
    "allowing for a missing `__dict__` in the instance too!"
   ]
  },
  {
   "cell_type": "markdown",
   "metadata": {},
   "source": [
    "#### What about slots speed?\n",
    "\n",
    "\n",
    "Finally, while slots primarily optimize memory use, their speed impact is less clear-cut.\n",
    "Here’s a simple test script using the `timeit` techniques we studied in [Chapter 21](). For\n",
    "both the slots and nonslots (instance dictionary) storage models, it makes 1,000 instances, assigns and fetches 4 attributes on each, and repeats 1,000 times—for both\n",
    "models taking the best of 3 runs that each exercise a total of 8M attribute operations:"
   ]
  },
  {
   "cell_type": "code",
   "execution_count": null,
   "metadata": {},
   "outputs": [
    {
     "name": "stdout",
     "output_type": "stream",
     "text": [
      "Slots => 1.0686648000000787\n",
      "Nonslots=> 1.2949225000002116\n"
     ]
    }
   ],
   "source": [
    "# File slots-test.py\n",
    "from __future__ import print_function\n",
    "import timeit\n",
    "base = \"\"\"\n",
    "Is = []\n",
    "for i in range(1000):\n",
    "    X = C()\n",
    "    X.a = 1; X.b = 2; X.c = 3; X.d = 4\n",
    "    t = X.a + X.b + X.c + X.d\n",
    "    Is.append(X)\n",
    "\"\"\"\n",
    "\n",
    "stmt = \"\"\"\n",
    "class C:\n",
    "    __slots__ = ['a', 'b', 'c', 'd']\n",
    "\"\"\" + base\n",
    "print('Slots =>', end=' ')\n",
    "print(min(timeit.repeat(stmt, number=1000, repeat=3)))\n",
    "\n",
    "stmt = \"\"\"\n",
    "class C:\n",
    "    pass\n",
    "\"\"\" + base\n",
    "print('Nonslots=>', end=' ')\n",
    "print(min(timeit.repeat(stmt, number=1000, repeat=3)))"
   ]
  },
  {
   "cell_type": "markdown",
   "metadata": {},
   "source": [
    "At least on this code, on my laptop, and in my installed versions (Python 3.3 and 2.7),\n",
    "the best times imply that slots are slightly quicker in 3.X and a wash in 2.X, though this\n",
    "says little about memory space, and is prone to change arbitrarily in the future:"
   ]
  },
  {
   "cell_type": "code",
   "execution_count": null,
   "metadata": {},
   "outputs": [
    {
     "name": "stdout",
     "output_type": "stream",
     "text": [
      "Slots => 1.0692428999999999\n",
      "Nonslots=> 1.2588049999999997\n"
     ]
    }
   ],
   "source": [
    "!python slots-test.py"
   ]
  },
  {
   "cell_type": "markdown",
   "metadata": {},
   "source": [
    "For more on slots in general, see the Python standard manual set. Also watch for the\n",
    "`Private` decorator case study of [Chapter 39]()—an example that naturally allows for \n",
    "attributes based on both `__slots__` and `__dict__` storage, by using delegation and \n",
    "storage-neutral accessor tools like `getattr`."
   ]
  },
  {
   "cell_type": "markdown",
   "metadata": {},
   "source": [
    "### Properties: Attribute Accessors\n",
    "\n",
    "\n",
    "Our next new-style extension is *properties*—a mechanism that provides another way\n",
    "for new-style classes to define methods called automatically for access or assignment\n",
    "to instance attributes. This feature is similar to properties (a.k.a. “getters” and “setters”)\n",
    "in languages like Java and C#, but in Python is generally best used sparingly, as a way\n",
    "to add accessors to attributes *after the fact* as needs evolve and warrant. Where needed,\n",
    "though, properties allow attribute values to be computed dynamically without requiring \n",
    "method calls at the point of access.\n",
    "\n",
    "Though properties cannot support generic attribute routing goals, at least for specific\n",
    "attributes they are an alternative to some traditional uses of the `__getattr__` and\n",
    "`__setattr__` overloading methods we first studied in [Chapter 30](). Properties have a\n",
    "similar effect to these two methods, but by contrast incur an extra method call only for\n",
    "accesses to names that require dynamic computation—other nonproperty names are\n",
    "accessed normally with no extra calls. Although `__getattr__` is invoked only for undefined \n",
    "names, the `__setattr__` method is instead called for assignment to *every* attribute.\n",
    "\n",
    "Properties and slots are related too, but serve different goals. Both implement instance\n",
    "attributes that are not physically stored in instance namespace dictionaries—a sort of\n",
    "“virtual” attribute—and both are based on the notion of class-level attribute *descriptors*. \n",
    "In contrast, slots manage instance storage, while properties intercept access and\n",
    "compute values arbitrarily. Because their underlying descriptor implementation tool is\n",
    "too advanced for us to cover here, properties and descriptors both get full treatment in\n",
    "[Chapter 38]()."
   ]
  },
  {
   "cell_type": "markdown",
   "metadata": {},
   "source": [
    "#### Property basics\n",
    "\n",
    "\n",
    "As a brief introduction, though, a property is a type of object assigned to a class attribute\n",
    "name. You generate a property by calling the `property` built-in function, passing in up\n",
    "to three accessor methods—handlers for get, set, and delete operations—as well as an\n",
    "optional docstring for the property. If any argument is passed as `None` or omitted, that\n",
    "operation is not supported.\n",
    "\n",
    "The resulting property object is typically assigned to a name at the top level of a\n",
    "`class` statement (e.g., `name=property()`), and a special `@` syntax we’ll meet later is \n",
    "available to automate this step. When thus assigned, later accesses to the class property\n",
    "name itself as an object attribute (e.g., `obj.name`) are automatically routed to one of the\n",
    "accessor methods passed into the `property` call.\n",
    "\n",
    "For example, we’ve seen how the `__getattr__` operator overloading method allows\n",
    "classes to intercept undefined attribute references in both classic and new-style classes:"
   ]
  },
  {
   "cell_type": "code",
   "execution_count": null,
   "metadata": {},
   "outputs": [
    {
     "data": {
      "text/plain": [
       "40"
      ]
     },
     "metadata": {},
     "output_type": "display_data"
    }
   ],
   "source": [
    "class operators:\n",
    "    def __getattr__(self, name):\n",
    "        if name == 'age':\n",
    "            return 40\n",
    "        else:\n",
    "            raise AttributeError(name)\n",
    "\n",
    "x = operators()\n",
    "x.age                                       # Runs __getattr__"
   ]
  },
  {
   "cell_type": "code",
   "execution_count": null,
   "metadata": {},
   "outputs": [
    {
     "ename": "AttributeError",
     "evalue": "name",
     "output_type": "error",
     "traceback": [
      "\u001b[1;31m---------------------------------------------------------------------------\u001b[0m\n",
      "\u001b[1;31mAttributeError\u001b[0m                            Traceback (most recent call last)\n",
      "\u001b[1;32m<ipython-input-63-7a8bb287c399>\u001b[0m in \u001b[0;36m<module>\u001b[1;34m\u001b[0m\n",
      "\u001b[1;32m----> 1\u001b[1;33m \u001b[0mx\u001b[0m\u001b[1;33m.\u001b[0m\u001b[0mname\u001b[0m\u001b[1;33m\u001b[0m\u001b[1;33m\u001b[0m\u001b[0m\n",
      "\u001b[0m\n",
      "\u001b[1;32m<ipython-input-62-8c2e747c1c9c>\u001b[0m in \u001b[0;36m__getattr__\u001b[1;34m(self, name)\u001b[0m\n",
      "\u001b[0;32m      4\u001b[0m             \u001b[1;32mreturn\u001b[0m \u001b[1;36m40\u001b[0m\u001b[1;33m\u001b[0m\u001b[1;33m\u001b[0m\u001b[0m\n",
      "\u001b[0;32m      5\u001b[0m         \u001b[1;32melse\u001b[0m\u001b[1;33m:\u001b[0m\u001b[1;33m\u001b[0m\u001b[1;33m\u001b[0m\u001b[0m\n",
      "\u001b[1;32m----> 6\u001b[1;33m             \u001b[1;32mraise\u001b[0m \u001b[0mAttributeError\u001b[0m\u001b[1;33m(\u001b[0m\u001b[0mname\u001b[0m\u001b[1;33m)\u001b[0m\u001b[1;33m\u001b[0m\u001b[1;33m\u001b[0m\u001b[0m\n",
      "\u001b[0m\u001b[0;32m      7\u001b[0m \u001b[1;33m\u001b[0m\u001b[0m\n",
      "\u001b[0;32m      8\u001b[0m \u001b[0mx\u001b[0m \u001b[1;33m=\u001b[0m \u001b[0moperators\u001b[0m\u001b[1;33m(\u001b[0m\u001b[1;33m)\u001b[0m\u001b[1;33m\u001b[0m\u001b[1;33m\u001b[0m\u001b[0m\n",
      "\n",
      "\u001b[1;31mAttributeError\u001b[0m: name"
     ]
    }
   ],
   "source": [
    "x.name                                      # Runs __getattr__"
   ]
  },
  {
   "cell_type": "markdown",
   "metadata": {},
   "source": [
    "Here is the same example, coded with properties instead; note that properties are\n",
    "available for all classes but require the new-style `object` derivation in 2.X to work \n",
    "properly for intercepting attribute *assignments* (and won’t complain if you forget this—but\n",
    "will silently overwrite your property with the new data!):"
   ]
  },
  {
   "cell_type": "code",
   "execution_count": null,
   "metadata": {},
   "outputs": [
    {
     "data": {
      "text/plain": [
       "40"
      ]
     },
     "metadata": {},
     "output_type": "display_data"
    }
   ],
   "source": [
    "class properties(object):                       # Need object in 2.X for setters\n",
    "    def getage(self):\n",
    "        return 40\n",
    "    age = property(getage, None, None, None)    # (get, set, del, docs), or use @\n",
    "\n",
    "x = properties()\n",
    "x.age                                           # Runs getage"
   ]
  },
  {
   "cell_type": "code",
   "execution_count": null,
   "metadata": {},
   "outputs": [
    {
     "ename": "AttributeError",
     "evalue": "'properties' object has no attribute 'name'",
     "output_type": "error",
     "traceback": [
      "\u001b[1;31m---------------------------------------------------------------------------\u001b[0m\n",
      "\u001b[1;31mAttributeError\u001b[0m                            Traceback (most recent call last)\n",
      "\u001b[1;32m<ipython-input-65-5d41ede41b7d>\u001b[0m in \u001b[0;36m<module>\u001b[1;34m\u001b[0m\n",
      "\u001b[1;32m----> 1\u001b[1;33m \u001b[0mx\u001b[0m\u001b[1;33m.\u001b[0m\u001b[0mname\u001b[0m                                          \u001b[1;31m# Normal fetch\u001b[0m\u001b[1;33m\u001b[0m\u001b[1;33m\u001b[0m\u001b[0m\n",
      "\u001b[0m\n",
      "\u001b[1;31mAttributeError\u001b[0m: 'properties' object has no attribute 'name'"
     ]
    }
   ],
   "source": [
    "x.name                                          # Normal fetch"
   ]
  },
  {
   "cell_type": "markdown",
   "metadata": {},
   "source": [
    "For some coding tasks, properties can be less complex and quicker to run than the\n",
    "traditional techniques. For example, when we add attribute *assignment* support, \n",
    "properties become more attractive—there’s less code to type, and no extra method calls are\n",
    "incurred for assignments to attributes we don’t wish to compute dynamically:"
   ]
  },
  {
   "cell_type": "code",
   "execution_count": null,
   "metadata": {},
   "outputs": [
    {
     "data": {
      "text/plain": [
       "40"
      ]
     },
     "metadata": {},
     "output_type": "display_data"
    }
   ],
   "source": [
    "class properties(object):                   # Need object in 2.X for setters\n",
    "    def getage(self):\n",
    "        return 40\n",
    "    def setage(self, value):\n",
    "        print('set age: %s' % value)\n",
    "        self._age = value\n",
    "    age = property(getage, setage, None, None)\n",
    "\n",
    "x = properties()\n",
    "x.age                                       # Runs getage"
   ]
  },
  {
   "cell_type": "code",
   "execution_count": null,
   "metadata": {},
   "outputs": [
    {
     "name": "stdout",
     "output_type": "stream",
     "text": [
      "set age: 42\n"
     ]
    }
   ],
   "source": [
    "x.age = 42                                  # Runs setage"
   ]
  },
  {
   "cell_type": "code",
   "execution_count": null,
   "metadata": {},
   "outputs": [
    {
     "data": {
      "text/plain": [
       "42"
      ]
     },
     "metadata": {},
     "output_type": "display_data"
    }
   ],
   "source": [
    "x._age                                      # Normal fetch: no getage call"
   ]
  },
  {
   "cell_type": "code",
   "execution_count": null,
   "metadata": {},
   "outputs": [
    {
     "data": {
      "text/plain": [
       "40"
      ]
     },
     "metadata": {},
     "output_type": "display_data"
    }
   ],
   "source": [
    "x.age                                       # Runs getage"
   ]
  },
  {
   "cell_type": "code",
   "execution_count": null,
   "metadata": {},
   "outputs": [
    {
     "data": {
      "text/plain": [
       "'trainer'"
      ]
     },
     "metadata": {},
     "output_type": "display_data"
    }
   ],
   "source": [
    "x.job = 'trainer'                           # Normal assign: no setage call\n",
    "x.job                                       # Normal fetch: no getage call"
   ]
  },
  {
   "cell_type": "markdown",
   "metadata": {},
   "source": [
    "The equivalent class based on operator overloading incurs extra method calls for \n",
    "assignments to attributes not being managed and needs to route attribute assignments\n",
    "through the attribute dictionary to avoid loops (or, for new-style classes, to the\n",
    "`object` superclass’s `__setattr__` to better support “virtual” attributes such as slots and\n",
    "properties coded in other classes):"
   ]
  },
  {
   "cell_type": "code",
   "execution_count": null,
   "metadata": {},
   "outputs": [
    {
     "data": {
      "text/plain": [
       "40"
      ]
     },
     "metadata": {},
     "output_type": "display_data"
    }
   ],
   "source": [
    "class operators:\n",
    "    def __getattr__(self, name):                # On undefined reference\n",
    "        if name == 'age':\n",
    "            return 40\n",
    "        else:\n",
    "            raise AttributeError(name)\n",
    "    def __setattr__(self, name, value):         # On all assignments\n",
    "        print('set: %s %s' % (name, value))\n",
    "        if name == 'age':\n",
    "            self.__dict__['_age'] = value       # Or object.__setattr__()\n",
    "        else:\n",
    "            self.__dict__[name] = value\n",
    "\n",
    "x = operators()\n",
    "x.age                                           # Runs __getattr__"
   ]
  },
  {
   "cell_type": "code",
   "execution_count": null,
   "metadata": {},
   "outputs": [
    {
     "name": "stdout",
     "output_type": "stream",
     "text": [
      "set: age 41\n"
     ]
    }
   ],
   "source": [
    "x.age = 41                                      # Runs __setattr__"
   ]
  },
  {
   "cell_type": "code",
   "execution_count": null,
   "metadata": {},
   "outputs": [
    {
     "data": {
      "text/plain": [
       "41"
      ]
     },
     "metadata": {},
     "output_type": "display_data"
    }
   ],
   "source": [
    "x._age                                          # Defined: no __getattr__ call"
   ]
  },
  {
   "cell_type": "code",
   "execution_count": null,
   "metadata": {},
   "outputs": [
    {
     "data": {
      "text/plain": [
       "40"
      ]
     },
     "metadata": {},
     "output_type": "display_data"
    }
   ],
   "source": [
    "x.age                                           # Runs __getattr__"
   ]
  },
  {
   "cell_type": "code",
   "execution_count": null,
   "metadata": {},
   "outputs": [
    {
     "name": "stdout",
     "output_type": "stream",
     "text": [
      "set: job trainer\n"
     ]
    }
   ],
   "source": [
    "x.job = 'trainer'                               # Runs __setattr__ again"
   ]
  },
  {
   "cell_type": "code",
   "execution_count": null,
   "metadata": {},
   "outputs": [
    {
     "data": {
      "text/plain": [
       "'trainer'"
      ]
     },
     "metadata": {},
     "output_type": "display_data"
    }
   ],
   "source": [
    "x.job                                           # Defined: no __getattr__ call"
   ]
  },
  {
   "cell_type": "markdown",
   "metadata": {},
   "source": [
    "Properties seem like a win for this simple example. However, some applications of\n",
    "`__getattr__` and `__setattr__` still require more dynamic or generic interfaces than\n",
    "properties directly provide.\n",
    "\n",
    "For example, in many cases the set of attributes to be supported cannot be determined\n",
    "when the class is coded, and may not even exist in any tangible form (e.g., when\n",
    "*delegating* arbitrary attribute references to a wrapped/embedded object generically). In\n",
    "such contexts, a generic `__getattr__` or a `__setattr__` attribute handler with a passed-in \n",
    "attribute name is usually preferable. Because such generic handlers can also support\n",
    "simpler cases, properties are often an optional and redundant extension—albeit one\n",
    "that may avoid extra calls on assignments, and one that some programmers may prefer\n",
    "when applicable.\n",
    "\n",
    "For more details on both options, stay tuned for [Chapter 38]() in the final part of this\n",
    "book. As we’ll see there, it’s also possible to code properties using the `@` symbol \n",
    "*function decorator syntax*—a topic introduced later in this section, and an equivalent and automatic alternative to manual assignment in the class scope:\n",
    "\n",
    "```python\n",
    "    class properties(object):\n",
    "        @property                       # Coding properties with decorators: ahead\n",
    "        def age(self):\n",
    "            ...\n",
    "        @age.setter\n",
    "        def age(self, value):\n",
    "            ...\n",
    "```\n",
    "\n",
    "To make sense of this decorator syntax, though, we must move ahead."
   ]
  },
  {
   "cell_type": "markdown",
   "metadata": {},
   "source": [
    "### `__getattribute__` and Descriptors: Attribute Tools\n",
    "\n",
    "\n",
    "Also in the class extensions department, the `__getattribute__` operator overloading\n",
    "method, available for new-style classes only, allows a class to intercept *all* attribute\n",
    "references, not just undefined references. This makes it more potent than its `__getattr__` cousin we used in the prior section, but also trickier to use—it’s prone to loops\n",
    "much like `__setattr__`, but in different ways.\n",
    "\n",
    "For more specialized attribute interception goals, in addition to properties and operator\n",
    "overloading methods, Python supports the notion of attribute *descriptors*—classes with\n",
    "`__get__` and `__set__` methods, assigned to class attributes and inherited by instances,\n",
    "that intercept read and write accesses to specific attributes. As a preview, here’s one of\n",
    "the simplest descriptors you’re likely to encounter:"
   ]
  },
  {
   "cell_type": "code",
   "execution_count": null,
   "metadata": {},
   "outputs": [
    {
     "data": {
      "text/plain": [
       "40"
      ]
     },
     "metadata": {},
     "output_type": "display_data"
    }
   ],
   "source": [
    "class AgeDesc(object):\n",
    "    def __get__(self, instance, owner): return 40\n",
    "    def __set__(self, instance, value): instance._age = value\n",
    "\n",
    "class descriptors(object):\n",
    "    age = AgeDesc()\n",
    "\n",
    "x = descriptors()\n",
    "x.age                               # Runs AgeDesc.__get__"
   ]
  },
  {
   "cell_type": "code",
   "execution_count": null,
   "metadata": {},
   "outputs": [
    {
     "data": {
      "text/plain": [
       "42"
      ]
     },
     "metadata": {},
     "output_type": "display_data"
    }
   ],
   "source": [
    "x.age = 42                          # Runs AgeDesc.__set__\n",
    "x._age                              # Normal fetch: no AgeDesc call"
   ]
  },
  {
   "cell_type": "markdown",
   "metadata": {},
   "source": [
    "Descriptors have access to state in instances of themselves as well as their client class,\n",
    "and are in a sense a more general form of properties; in fact, properties are a simplified\n",
    "way to define a specific type of descriptor—one that runs functions on access. \n",
    "Descriptors are also used to implement the slots feature we met earlier, and other Python\n",
    "tools.\n",
    "\n",
    "Because `__getattribute__` and descriptors are too substantial to cover well here, we’ll\n",
    "defer the rest of their coverage, as well as much more on properties, to [Chapter 38]() in\n",
    "the final part of this book. We’ll also employ them in examples in [Chapter 39]() and study\n",
    "how they factor into inheritance in [Chapter 40]()."
   ]
  },
  {
   "cell_type": "markdown",
   "metadata": {},
   "source": [
    "## Other Class Changes and Extensions\n",
    "\n",
    "\n",
    "As mentioned, we’re also postponing coverage of the super built-in—an additional\n",
    "major new-style class extension that relies on its MRO—until the end of this ssection.\n",
    "Before we get there, though, we’re going to explore additional class-related changes\n",
    "and extensions that are not necessarily bound to new-style classes, but were introduced\n",
    "at roughly the same time: static and class methods, decorators, and more.\n",
    "\n",
    "Many of the changes and feature additions of new-style classes integrate with the notion\n",
    "of subclassable types mentioned earlier in this ssection, because subclassable types and\n",
    "new-style classes were introduced in conjunction with a merging of the type/class \n",
    "dichotomy in Python 2.2 and beyond. As we’ve seen, in 3.X, this merging is complete:\n",
    "classes are now types, and types are classes, and Python classes today still reflect both\n",
    "that conceptual merging and its implementation.\n",
    "\n",
    "Along with these changes, Python also grew a more coherent and generalized protocol\n",
    "for coding *metaclasses*—classes that subclass the `type` object, intercept class creation\n",
    "calls, and may provide behavior acquired by classes. Accordingly, they provide a \n",
    "well-defined hook for management and augmentation of class objects. They are also an\n",
    "advanced topic that is optional for most Python programmers, so we’ll postpone further\n",
    "details here. We’ll glimpse metaclasses again later in this ssection in conjunction with\n",
    "class decorators—a feature whose roles often overlap—but we’ll postpone their full\n",
    "coverage until [Chapter 40](), in the final part of this book. For our purpose here, let’s\n",
    "move on to a handful of additional class-related extensions."
   ]
  }
 ],
 "metadata": {
  "language_info": {
   "name": "python"
  },
  "orig_nbformat": 4
 },
 "nbformat": 4,
 "nbformat_minor": 2
}
