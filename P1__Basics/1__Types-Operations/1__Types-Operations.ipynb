{
 "cells": [
  {
   "cell_type": "markdown",
   "metadata": {},
   "source": [
    "# 1. Data Types and Operations\n",
    "\n",
    "\n",
    "\n",
    "\n",
    "\n",
    "- [1.1. Basic Concept](1.1__Basic-Concept.ipynb)\n",
    "- [1.2. Basic Data Types](1.2__Basic-Types.ipynb)\n",
    "- [1.3. Collection Data Types](1.3__Collections.ipynb)\n",
    "- [1.4. Python Expression Operators](1.4__Exp-Ops.ipynb)\n",
    "- [1.5. Core Types Review and Summary](1.5__Review.ipynb)\n"
   ]
  }
 ],
 "metadata": {
  "language_info": {
   "name": "python"
  },
  "orig_nbformat": 4
 },
 "nbformat": 4,
 "nbformat_minor": 2
}
