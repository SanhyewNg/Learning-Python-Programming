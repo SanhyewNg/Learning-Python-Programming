{
 "cells": [
  {
   "cell_type": "markdown",
   "metadata": {},
   "source": [
    "# 1.1. Basic Concept\n",
    "\n",
    "In an informal sense, in Python we do things with stuff. “Things” take the form of operations like addition and concatenation, and “stuff” refers to the objects on which we perform those operations.\n",
    "\n",
    "Somewhat more formally, in Python, data takes the form of objects—either built-in objects that Python provides, or objects we create using Python classes or external language tools such as C extension libraries. Although we’ll firm up this definition later, objects are essentially just pieces of memory, with values and sets of associated operations. As we’ll see, everything is an object in a Python script. Even simple numbers qualify, with values (e.g., `99`), and supported operations (addition, subtraction, and so on)."
   ]
  },
  {
   "cell_type": "markdown",
   "metadata": {},
   "source": [
    "## The Python Conceptual Hierarchy\n",
    "\n",
    "From a more concrete perspective, Python programs can be decomposed into modules, statements, expressions, and objects, as follows:\n",
    "\n",
    "1. Programs are composed of modules.\n",
    "2. Modules contain statements.\n",
    "3. Statements contain expressions.\n",
    "4. ***Expressions create and process objects.***"
   ]
  },
  {
   "cell_type": "markdown",
   "metadata": {},
   "source": [
    "## Object, Literal and Variable"
   ]
  },
  {
   "cell_type": "markdown",
   "metadata": {},
   "source": [
    "*Everything* we process in Python programs is a kind of ***object***. Objects can be created by assigning *literals* to *variables*, for example,"
   ]
  },
  {
   "cell_type": "code",
   "execution_count": 5,
   "metadata": {},
   "outputs": [
    {
     "data": {
      "text/plain": [
       "17"
      ]
     },
     "execution_count": 5,
     "metadata": {},
     "output_type": "execute_result"
    }
   ],
   "source": [
    "x = 17\n",
    "x"
   ]
  },
  {
   "cell_type": "markdown",
   "metadata": {},
   "source": [
    "or by calling the relevant data type as a function, for example,"
   ]
  },
  {
   "cell_type": "code",
   "execution_count": null,
   "metadata": {},
   "outputs": [
    {
     "name": "stdout",
     "output_type": "stream",
     "text": [
      "17\n"
     ]
    }
   ],
   "source": [
    "x = int(17)\n",
    "print(x)"
   ]
  },
  {
   "cell_type": "markdown",
   "metadata": {},
   "source": [
    "The term ***literal*** simply means an expression whose syntax generates an object—sometimes also called a ***constant***. Note that the term “constant” does not imply objects or variables that can never be changed (i.e., this term is unrelated to C++’s `const` or Python’s “immutable”—a topic explored in the section “Immutability”).\n",
    "\n",
    "For instance, when you run the following code with characters surrounded by quotes:\n"
   ]
  },
  {
   "cell_type": "code",
   "execution_count": null,
   "metadata": {},
   "outputs": [
    {
     "data": {
      "text/plain": [
       "'spam'"
      ]
     },
     "metadata": {},
     "output_type": "display_data"
    }
   ],
   "source": [
    "'spam'"
   ]
  },
  {
   "cell_type": "code",
   "execution_count": 21,
   "metadata": {},
   "outputs": [
    {
     "data": {
      "text/plain": [
       "str"
      ]
     },
     "execution_count": 21,
     "metadata": {},
     "output_type": "execute_result"
    }
   ],
   "source": [
    "type('spam')"
   ]
  },
  {
   "cell_type": "markdown",
   "metadata": {},
   "source": [
    "you are, technically speaking, running a *literal* expression that generates and returns a new *string* ***object***. There is specific Python language syntax to make this object. Similarly, an expression wrapped in square brackets makes a *list*, one in curly braces makes a *dictionary*, and so on. \n"
   ]
  },
  {
   "cell_type": "markdown",
   "metadata": {},
   "source": [
    "**Variables** are simply names—created by you or Python—that are used to keep track of information in your program. \n",
    " - Variables are created when they are first assigned values.\n",
    " - Variables are replaced with their values when used in expressions.\n",
    " - Variables must be assigned before they can be used in expressions.\n",
    " - Variables refer to objects and are never declared ahead of time.\n",
    "\n",
    "In other words, these assignments cause the variables `a` and `b` to spring into existence automatically:"
   ]
  },
  {
   "cell_type": "code",
   "execution_count": 7,
   "metadata": {},
   "outputs": [],
   "source": [
    "a = 3                  # Name created: not declared ahead of time\n",
    "b = 4"
   ]
  },
  {
   "cell_type": "markdown",
   "metadata": {},
   "source": [
    "## Python’s Core(Built-in) Object Types\n",
    "Python’s **built-in object types** are as follows: \n",
    "\n",
    " - Numbers \n",
    " - Strings \n",
    " - Lists \n",
    " - Tuples \n",
    " - Sets \n",
    " - Files \n",
    " - Other core types \n",
    " - Program unit types \n",
    " - Implementation-related types \n",
    "\n",
    "We usually call the other object types in the above list as **core data types**, though, because they are effectively built into the Python language—that is, there is specific expression syntax for generating most of them. \n",
    "\n",
    "***Program units*** such as *functions*, *modules*, and *classes*—which we’ll meet in later—are objects in Python too; they are created with *statements* and *expressions* such as `def`, `class`, `import`, and `lambda` and may be passed around scripts freely, stored within other objects, and so on. \n",
    "\n",
    "Python also provides a set of *implementation-related types* such as *compiled code* objects, which are generally of interest to tool builders more than application developers.\n",
    "\n",
    "Even though, as we’ll see, there are no *type declarations* in Python, the syntax of the *expressions* you run determines the types of objects you create and use. Just as importantly, once you create an object, you bind its operation set for all time—you can perform only string operations on a string and list operations on a list. In formal terms, this means that Python is ***dynamically typed***, a model that keeps track of types for you automatically instead of requiring declaration code, but it is also ***strongly typed***, a constraint that means you can perform on an object only operations that are valid for its type.\n"
   ]
  },
  {
   "cell_type": "markdown",
   "metadata": {},
   "source": [
    "### Why Use Built-in Types?\n",
    "If you’ve used lower-level languages such as C or C++, you know that much of your work centers on implementing *objects*—also known as *data structures*—to represent the components in your application’s domain. You need to lay out memory structures, manage memory allocation, implement search and access routines, and so on. These chores are about as tedious (and error-prone) as they sound, and they usually distract from your program’s real goals.\n",
    "\n",
    "In typical Python programs, most of this grunt work goes away. Because Python provides powerful object types as an intrinsic part of the language, there’s usually no need to code object implementations before you start solving problems. In fact, unless you have a need for special processing that built-in types don’t provide, you’re almost always better off using a built-in object instead of implementing your own. Here are some reasons why:\n",
    "\n",
    " - **Built-in objects make programs easy to write.** \n",
    "     For simple tasks, built-in types are often all you need to represent the structure of problem domains. Because you get powerful tools such as collections (lists) and search tables (dictionaries) for free, you can use them immediately. You can get a lot of work done with Python’s built-in object types alone.\n",
    "\n",
    " - **Built-in objects are components of extensions.** \n",
    "     For more complex tasks, you may need to provide your own objects using Python classes or C language interfaces. But objects implemented manually are often built on top of built-in types such as lists and dictionaries. For instance, a stack data structure may be implemented as a class that manages or customizes a built-in list.\n",
    "\n",
    " - **Built-in  objects  are  often  more  efficient  than  custom  data  structures.** \n",
    "     Python’s built-in types employ already optimized data structure algorithms that are implemented in C for speed. Although you can write similar object types on your own, you’ll usually be hard-pressed to get the level of performance built-in object types provide.\n",
    "\n",
    " - **Built-in objects are a standard part of the language.** \n",
    "     In some ways, Python borrows both from languages that rely on built-in tools (e.g., LISP) and languages that rely on the programmer to provide tool implementations or frameworks of their own (e.g., C++). Although you can implement unique object types in Python, you don’t need to do so just to get started. Moreover, because Python’s built-ins are standard, they’re always the same; proprietary frameworks, on the other hand, tend to differ from site to site.\n",
    " \n",
    "In other words, not only do built-in object types make programming easier, but they’re also more powerful and efficient than most of what can be created from scratch. Regardless of whether you implement new object types, built-in objects form the core of every Python program.\n"
   ]
  },
  {
   "cell_type": "markdown",
   "metadata": {},
   "source": [
    "## Immutability\n",
    "In Python, both `str` and the basic numeric types such as `int` are ***immutable***—that is, once set, their value cannot be changed. At ﬁrst this appears to be a rather strange limitation, but Python’s syntax means that this is a non-issue in practice. \n",
    "\n",
    "Every string operation is defined to produce a new string as its result, because strings are immutable in Python—they cannot be changed in place after they are created. In other words, you can never overwrite the values of immutable objects. For example, you can’t change a string by assigning to one of its positions, but you can always build a new one and assign it to the same name. Because Python cleans up old objects as you go, this isn’t as inefficient as it may sound:"
   ]
  },
  {
   "cell_type": "code",
   "execution_count": null,
   "metadata": {},
   "outputs": [
    {
     "data": {
      "text/plain": [
       "'Spam'"
      ]
     },
     "metadata": {},
     "output_type": "display_data"
    }
   ],
   "source": [
    "S = 'Spam'\n",
    "S"
   ]
  },
  {
   "cell_type": "code",
   "execution_count": null,
   "metadata": {},
   "outputs": [
    {
     "ename": "TypeError",
     "evalue": "'str' object does not support item assignment",
     "output_type": "error",
     "traceback": [
      "\u001b[1;31m---------------------------------------------------------------------------\u001b[0m\n",
      "\u001b[1;31mTypeError\u001b[0m                                 Traceback (most recent call last)\n",
      "\u001b[1;32m<ipython-input-10-b4219d267701>\u001b[0m in \u001b[0;36m<module>\u001b[1;34m\u001b[0m\n",
      "\u001b[1;32m----> 1\u001b[1;33m \u001b[0mS\u001b[0m\u001b[1;33m[\u001b[0m\u001b[1;36m0\u001b[0m\u001b[1;33m]\u001b[0m \u001b[1;33m=\u001b[0m \u001b[1;34m'z'\u001b[0m             \u001b[1;31m# Immutable objects cannot be changed\u001b[0m\u001b[1;33m\u001b[0m\u001b[1;33m\u001b[0m\u001b[0m\n",
      "\u001b[0m\n",
      "\u001b[1;31mTypeError\u001b[0m: 'str' object does not support item assignment"
     ]
    }
   ],
   "source": [
    "S[0] = 'z'             # Immutable objects cannot be changed"
   ]
  },
  {
   "cell_type": "code",
   "execution_count": null,
   "metadata": {},
   "outputs": [
    {
     "data": {
      "text/plain": [
       "'zpam'"
      ]
     },
     "metadata": {},
     "output_type": "display_data"
    }
   ],
   "source": [
    "S = 'z' + S[1:]        # But we can run expressions to make new objects\n",
    "S"
   ]
  },
  {
   "cell_type": "markdown",
   "metadata": {},
   "source": [
    "Every object in Python is classified as either immutable (unchangeable) or not. \n",
    "In terms of the core types, *numbers*, *strings*, and *tuples* are *immutable*; \n",
    "*lists*, *dictionaries*, and *sets* are not—they can be changed *in place* freely, \n",
    "as can most new objects you’ll code with classes. \n",
    "\n"
   ]
  },
  {
   "cell_type": "code",
   "execution_count": null,
   "metadata": {},
   "outputs": [
    {
     "data": {
      "text/plain": [
       "['s', 'p', 'a', 'm', 3, 4]"
      ]
     },
     "metadata": {},
     "output_type": "display_data"
    }
   ],
   "source": [
    "L = ['s', 'p', 'a', 'm', 3, 4]    # A list Object\n",
    "L"
   ]
  },
  {
   "cell_type": "code",
   "execution_count": null,
   "metadata": {},
   "outputs": [
    {
     "data": {
      "text/plain": [
       "['z', 'p', 'a', 'm', 3, 4]"
      ]
     },
     "metadata": {},
     "output_type": "display_data"
    }
   ],
   "source": [
    "L[0] = 'z'                        # list object can be changed in place\n",
    "L"
   ]
  },
  {
   "cell_type": "markdown",
   "metadata": {},
   "source": [
    "This distinction turns out to be crucial in Python work, in ways that we can’t yet fully explore. \n",
    "Among other things, immutability can be used to guarantee that an object remains constant throughout your program; \n",
    "mutable objects’ values can be changed at any time and place (and whether you expect it or not).\n"
   ]
  },
  {
   "cell_type": "markdown",
   "metadata": {},
   "source": [
    "## Object References\n",
    "\n",
    "For example, when we say this to assign a variable a value:"
   ]
  },
  {
   "cell_type": "code",
   "execution_count": 12,
   "metadata": {},
   "outputs": [],
   "source": [
    "a = 3                # Assign a name to an object"
   ]
  },
  {
   "cell_type": "markdown",
   "metadata": {},
   "source": [
    "at least conceptually, Python will perform three distinct steps to carry out the request. \n",
    "These steps reflect the operation of all assignments in the Python language:\n",
    "1. Create an object to represent the value `3`.\n",
    "2. Create the variable `a`, if it does not yet exist.\n",
    "3. Link the variable `a` to the new object `3`.\n",
    "\n",
    "The net result will be a structure inside Python that resembles the figure below:\n",
    "\n",
    "![Variable reference](../../imgs/variable_reference.jpg)\n",
    ":label:`fig_var_ref`\n",
    "\n",
    "Variables and objects are stored in different parts of memory and \n",
    "are associated by links (the link is shown as a pointer in the figure). \n",
    "Variables always link to objects and never to other variables, \n",
    "but larger objects may link to other objects (for instance, \n",
    "a list object has links to the objects it contains). \n",
    "These links from variables to objects are called ***references*** in Python—that is, \n",
    "a reference is a kind of association, implemented as a pointer in memory.\n",
    "\n",
    "Whenever the variables are later used (i.e., referenced), Python automatically follows the variable-to-object links. This is all simpler than the terminology may imply. In concrete terms:\n",
    " - Variables are entries in a system table, with spaces for links to objects.\n",
    " - Objects are pieces of allocated memory, with enough space to represent the values for which they stand.\n",
    " - References are automatically followed pointers from variables to objects.\n",
    "\n",
    "At least conceptually, each time you generate a new value in your script by running an expression, Python creates a new object (i.e., a chunk of memory) to represent that value. As an optimization, Python internally caches and reuses certain kinds of unchangeable objects, such as small integers and strings (each 0 is not really a new piece of memory—more on this caching behavior later). But from a logical perspective, it works as though each expression’s result value is a distinct object and each object is a distinct piece of memory.\n",
    "\n",
    "Technically speaking, objects have more structure than just enough space to represent their values. Each object also has two standard header fields: a ***type designator*** used to mark the type of the object, and a ***reference counter*** used to determine when it’s OK to reclaim the object. To understand how these two header fields factor into the model, we need to move on.\n"
   ]
  },
  {
   "cell_type": "markdown",
   "metadata": {},
   "source": [
    "## Types Live with Objects, Not Variables\n",
    "To see how object types come into play, watch what happens if we assign a variable multiple times:\n"
   ]
  },
  {
   "cell_type": "code",
   "execution_count": null,
   "metadata": {},
   "outputs": [],
   "source": [
    "a = 3             # It's an integer\n",
    "a = 'spam'        # Now it's a string\n",
    "a = 1.23          # Now it's a floating point"
   ]
  },
  {
   "cell_type": "markdown",
   "metadata": {},
   "source": [
    "This isn’t typical Python code, but it does work—`a` starts out as an integer, \n",
    "then becomes a string, and finally becomes a floating-point number. \n",
    "This example tends to look especially odd to ex-C programmers, \n",
    "as it appears as though the type of a changes from integer to string when we say `a = 'spam'`.\n",
    "\n",
    "However, that’s not really what’s happening. \n",
    "In Python, things work more simply. Names have no types; as stated earlier, \n",
    "types live with objects, not names. In the preceding listing, \n",
    "we’ve simply changed `a` to reference different objects. \n",
    "Because variables have no type, we haven’t actually changed the type of the variable `a`; \n",
    "we’ve simply made the variable reference a different type of object. \n",
    "In fact, again, all we can ever say about a variable in Python is that \n",
    "it references a particular object at a particular point in time.\n",
    "\n",
    "Objects, on the other hand, know what type they are—\n",
    "each object contains a header field that tags the object with its type. \n",
    "The integer object `3`, for example, will contain the value `3`, \n",
    "plus a designator that tells Python that the object is an integer \n",
    "(strictly speaking, a pointer to an object called `int`, the name of the integer type). \n",
    "The type designator of the `'spam'` string object points to the string type (called `str`) instead. \n",
    "Because objects know their types, variables don’t have to.\n",
    "\n",
    "To recap, types are associated with objects in Python, not with variables. \n",
    "In typical code, a given variable usually will reference just one kind of object. \n",
    "Because this isn’t a requirement, though, \n",
    "you’ll find that Python code tends to be much more flexible \n",
    "than you may be accustomed to—if you use Python well, \n",
    "your code might work on many types automatically.\n",
    "\n",
    "It was mentioned that objects have two header fields, \n",
    "a *type designator* and a *reference counter*. \n",
    "To understand the latter of these, \n",
    "we need to move on and take a brief look at what happens at the end of an object’s life.\n",
    "\n"
   ]
  },
  {
   "cell_type": "markdown",
   "metadata": {},
   "source": [
    "## Garbage-Collection\n",
    "In the prior section’s listings, \n",
    "we assigned the variable `a` to different types of objects in each assignment. \n",
    "But when we reassign a variable, what happens to the object it was previously referencing? \n",
    "For example, after the following statements, what happens to the object `3`?\n"
   ]
  },
  {
   "cell_type": "code",
   "execution_count": null,
   "metadata": {},
   "outputs": [],
   "source": [
    "a = 3\n",
    "a = 'spam'"
   ]
  },
  {
   "cell_type": "markdown",
   "metadata": {},
   "source": [
    "The answer is that in Python, whenever a name is assigned to a new object, \n",
    "the space held by the prior object is reclaimed if it is not referenced by any other name or object. \n",
    "This automatic reclamation of objects’ space is known as ***garbage collection***, \n",
    "and makes life much simpler for programmers of languages like Python that support it.\n",
    "\n",
    "To illustrate, consider the following example, which sets the name x to a different object on each assignment:\n"
   ]
  },
  {
   "cell_type": "code",
   "execution_count": 11,
   "metadata": {},
   "outputs": [],
   "source": [
    "x = 42\n",
    "x = 'shrubbery'          # Reclaim 42 now (unless referenced elsewhere)\n",
    "x = 3.1415               # Reclaim 'shrubbery' now\n",
    "x = [1, 2, 3]            # Reclaim 3.1415 now"
   ]
  },
  {
   "cell_type": "markdown",
   "metadata": {},
   "source": [
    "First, notice that `x` is set to a different type of object each time. \n",
    "Again, though this is not really the case, \n",
    "the effect is as though the type of `x` is changing over time. \n",
    "Remember, in Python types live with objects, not names. \n",
    "Because names are just generic references to objects, \n",
    "this sort of code works naturally.\n",
    "\n",
    "Second, notice that references to objects are discarded along the way. \n",
    "Each time `x` is assigned to a new object, Python reclaims the prior object’s space. \n",
    "For instance, when it is assigned the string `'shrubbery'`, \n",
    "the object `42` is immediately reclaimed (assuming it is not referenced anywhere else)—\n",
    "that is, the object’s space is automatically thrown back into the free space pool, \n",
    "to be reused for a future object.\n",
    "\n",
    "Internally, Python accomplishes this feat by keeping a counter in every object \n",
    "that keeps track of the number of references currently pointing to that object. \n",
    "As soon as (and exactly when) this counter drops to zero, \n",
    "the object’s memory space is automatically reclaimed. \n",
    "\n",
    "In the preceding listing, we’re assuming that each time `x` is assigned to a new object, \n",
    "the prior object’s reference counter drops to zero, causing it to be reclaimed.\n",
    "The most immediately tangible benefit of *garbage collection* is that \n",
    "it means you can use objects liberally without ever needing to allocate or free up space in your script. \n",
    "Python will clean up unused space for you as your program runs. \n",
    "In practice, this eliminates a substantial amount of bookkeeping code \n",
    "required in lower-level languages such as C and C++.\n",
    "\n"
   ]
  },
  {
   "cell_type": "markdown",
   "metadata": {},
   "source": [
    "## Shared References\n",
    "So far, we’ve seen what happens as a single variable is assigned references to objects. \n",
    "Now let’s introduce another variable into our interaction and watch what happens to its names and objects:\n"
   ]
  },
  {
   "cell_type": "code",
   "execution_count": 15,
   "metadata": {},
   "outputs": [
    {
     "data": {
      "text/plain": [
       "(3, 3)"
      ]
     },
     "execution_count": 15,
     "metadata": {},
     "output_type": "execute_result"
    }
   ],
   "source": [
    "a = 3\n",
    "b = a\n",
    "\n",
    "a, b"
   ]
  },
  {
   "cell_type": "markdown",
   "metadata": {},
   "source": [
    "Typing these two statements generates the scene captured in the figure below. \n",
    "The second command causes Python to create the variable `b`; \n",
    "the variable `a` is being used and not assigned here, \n",
    "so it is replaced with the object it references (`3`), \n",
    "and `b` is made to reference that object. \n",
    "The net effect is that the variables `a` and `b` wind up referencing the same object \n",
    "(that is, pointing to the same chunk of memory).\n",
    "\n",
    "![Shared References](../../imgs\\shared_references_1.jpg)\n",
    "\n",
    "This scenario in Python—with multiple names referencing the same object—\n",
    "is usually called a ***shared reference*** (and sometimes just a ***shared object***). \n",
    "Note that the names `a` and `b` are not linked to each other directly when this happens; \n",
    "in fact, there is no way to ever link a variable to another variable in Python. \n",
    "Rather, both variables point to the same object via their references.\n",
    "\n",
    "Next, suppose we extend the session with one more statement:\n"
   ]
  },
  {
   "cell_type": "code",
   "execution_count": 16,
   "metadata": {},
   "outputs": [
    {
     "data": {
      "text/plain": [
       "('spam', 3)"
      ]
     },
     "execution_count": 16,
     "metadata": {},
     "output_type": "execute_result"
    }
   ],
   "source": [
    "a = 3\n",
    "b = a\n",
    "a = 'spam'\n",
    "\n",
    "a, b"
   ]
  },
  {
   "cell_type": "markdown",
   "metadata": {},
   "source": [
    "As with all Python assignments, this statement simply makes a new object to represent the string value `'spam'` \n",
    "and sets a to reference this new object. It does not, however, change the value of `b`; \n",
    "`b` still references the original object, the integer `3`. \n",
    "The resulting reference structure is shown in the figure below.\n",
    "\n",
    "![Shared References_2](../../imgs\\shared_references_2.jpg)\n",
    "\n",
    "The same sort of thing would happen if we changed `b` to `'spam'` instead—the assignment would change only `b`, not `a`. \n",
    "This behavior also occurs if there are no type differences at all. For example, consider these three statements:\n",
    "\n"
   ]
  },
  {
   "cell_type": "code",
   "execution_count": 17,
   "metadata": {},
   "outputs": [
    {
     "data": {
      "text/plain": [
       "(5, 3)"
      ]
     },
     "execution_count": 17,
     "metadata": {},
     "output_type": "execute_result"
    }
   ],
   "source": [
    "a = 3\n",
    "b = a\n",
    "a = a + 2\n",
    "\n",
    "a, b"
   ]
  },
  {
   "cell_type": "markdown",
   "metadata": {},
   "source": [
    "In this sequence, the same events transpire. \n",
    "Python makes the variable `a` reference the object `3` and \n",
    "makes `b` reference the same object as `a`; \n",
    "as before, the last assignment then sets `a` to a completely different object \n",
    "(in this case, the integer `5`, which is the result of the `+` expression). \n",
    "It does not change `b` as a side effect. In fact, \n",
    "there is no way to ever overwrite the value of the object `3`. \n",
    "Integers are *immutable* and thus can never be changed in place.\n",
    "\n",
    "One way to think of this is that, unlike in some languages, \n",
    "in Python variables are always pointers to objects, not labels of changeable memory areas: \n",
    "setting a variable to a new value does not alter the original object, \n",
    "but rather causes the variable to reference an entirely different object. \n",
    "The net effect is that assignment to a variable itself can impact \n",
    "only the single variable being assigned. \n",
    "When *mutable* objects and *in-place* changes enter the equation, \n",
    "though, the picture changes somewhat; to see how, let’s move on.\n"
   ]
  },
  {
   "cell_type": "markdown",
   "metadata": {},
   "source": [
    "## Shared References and In-Place Changes\n",
    "There are objects and operations \n",
    "that perform *in-place* object changes—Python’s *mutable* types, \n",
    "including lists, dictionaries, and sets. \n",
    "For instance, an assignment to an offset in a list \n",
    "actually changes the list object itself in place, \n",
    "rather than generating a brand-new list object.\n",
    "\n",
    "This distinction can matter much in your programs. \n",
    "For objects that support such in-place changes, \n",
    "you need to be more aware of shared references, \n",
    "since a change from one name may impact others. \n",
    "Otherwise, your objects may seem to change for no apparent reason. \n",
    "Given that all assignments are based on references \n",
    "(including function argument passing), \n",
    "it’s a pervasive potential.\n",
    "\n",
    "To illustrate, let’s take another look at the list objects. \n",
    "Lists, which do support in-place assignments to positions, \n",
    "are simply collections of other objects, coded in square brackets:\n"
   ]
  },
  {
   "cell_type": "code",
   "execution_count": 25,
   "metadata": {},
   "outputs": [
    {
     "data": {
      "text/plain": [
       "([2, 3, 4], [2, 3, 4])"
      ]
     },
     "execution_count": 25,
     "metadata": {},
     "output_type": "execute_result"
    }
   ],
   "source": [
    "L1 = [2, 3, 4]\n",
    "L2 = L1\n",
    "\n",
    "L1, L2"
   ]
  },
  {
   "cell_type": "markdown",
   "metadata": {},
   "source": [
    "`L1` here is a list containing the objects `2`, `3`, and `4`. \n",
    "Items inside a list are accessed by their positions, \n",
    "so `L1[0]` refers to object `2`, the first item in the list `L1`. \n",
    "Of course, lists are also objects in their own right, just like integers and strings. \n",
    "After running the two prior assignments, \n",
    "`L1` and `L2` reference the same shared object, \n",
    "just like `a` and `b` in the prior example. \n",
    "Now say that, as before, we extend this interaction to say the following:\n"
   ]
  },
  {
   "cell_type": "code",
   "execution_count": 26,
   "metadata": {},
   "outputs": [
    {
     "data": {
      "text/plain": [
       "(24, [2, 3, 4])"
      ]
     },
     "execution_count": 26,
     "metadata": {},
     "output_type": "execute_result"
    }
   ],
   "source": [
    "L1 = 24\n",
    "L1, L2"
   ]
  },
  {
   "cell_type": "markdown",
   "metadata": {},
   "source": [
    "This assignment simply sets `L1` to a different object; `L2` still references the original list.\n",
    "\n",
    "If we change this statement’s syntax slightly, however, it has a radically different effect:\n"
   ]
  },
  {
   "cell_type": "code",
   "execution_count": 27,
   "metadata": {},
   "outputs": [
    {
     "data": {
      "text/plain": [
       "([24, 3, 4], [24, 3, 4])"
      ]
     },
     "execution_count": 27,
     "metadata": {},
     "output_type": "execute_result"
    }
   ],
   "source": [
    "L1 = [2, 3, 4]        # A mutable object\n",
    "L2 = L1               # Make a reference to the same object\n",
    "L1[0] = 24            # An in-place change\n",
    "\n",
    "L1, L2                # L1 is different, but so is L2!\n"
   ]
  },
  {
   "cell_type": "markdown",
   "metadata": {},
   "source": [
    "Really, we haven’t changed `L1` itself here; \n",
    "we’ve changed a component of the object that `L1` references. \n",
    "This sort of change overwrites part of the list object’s value ***in place***. \n",
    "Because the list object is shared by (referenced from) other variables, \n",
    "though, an in-place change like this doesn’t affect only `L1`—that is, \n",
    "you must be aware that when you make such changes, \n",
    "they can impact other parts of your program. \n",
    "\n",
    "In this example, the effect shows up in `L2` as well \n",
    "because it references the same object as `L1`. \n",
    "Again, we haven’t actually changed `L2`, either, \n",
    "but its value will appear different \n",
    "because it refers to an object that has been overwritten in place.\n",
    "\n",
    "This behavior only occurs for *mutable* objects that support *in-place* changes, \n",
    "and is usually what you want, but you should be aware of how it works, so that it’s expected. \n",
    "\n",
    "It’s also just the default: if you don’t want such behavior, \n",
    "you can use the `copy` method or the built-in `list` function."
   ]
  },
  {
   "cell_type": "code",
   "execution_count": 30,
   "metadata": {},
   "outputs": [
    {
     "data": {
      "text/plain": [
       "([24, 3, 4], [2, 3, 4])"
      ]
     },
     "execution_count": 30,
     "metadata": {},
     "output_type": "execute_result"
    }
   ],
   "source": [
    "L1 = [2, 3, 4]\n",
    "L2 = L1.copy()            # Make a copy of L1 (or list(L1))\n",
    "L1[0] = 24\n",
    "\n",
    "L1, L2                    # L2 is not changed"
   ]
  },
  {
   "cell_type": "markdown",
   "metadata": {},
   "source": [
    "\n",
    "Here, the change made through `L1` is not reflected into `L2` \n",
    "because `L2` references a copy of the object `L1` references, \n",
    "not the original; that is, the two variables point to different pieces of memory."
   ]
  },
  {
   "cell_type": "code",
   "execution_count": 31,
   "metadata": {},
   "outputs": [
    {
     "data": {
      "text/plain": [
       "([24, 3, 4], [2, 3, 4])"
      ]
     },
     "execution_count": 31,
     "metadata": {},
     "output_type": "execute_result"
    }
   ],
   "source": [
    "L1 = [2, 3, 4]\n",
    "L2 = list(L1)\n",
    "L1[0] = 24\n",
    "\n",
    "L1, L2                    # L2 is not changed"
   ]
  },
  {
   "cell_type": "markdown",
   "metadata": {},
   "source": [
    "## Dynamic Typing \n",
    "In sum, variables are created when assigned, can *reference* any type of object, and must be assigned before they are referenced. This means that you never need to declare names used by your script, but you must initialize names before you can update them; counters, for example, must be initialized to zero before you can add to them.\n",
    "\n",
    "This ***dynamic typing*** model is strikingly different from the typing model of traditional languages. When you are first starting out, the model is usually easier to understand if you keep clear the distinction between names and objects. \n",
    "\n",
    "Of course, you don’t really need to draw name/object diagrams with circles and arrows to use Python. When you’re starting out, though, it sometimes helps you understand unusual cases if you can trace their reference structures as we’ve done here.\n",
    "\n",
    "Moreover, even if dynamic typing seems a little abstract at this point, you probably will care about it eventually. Because everything seems to work by assignment and references in Python, a basic understanding of this model is useful in many different contexts. It works the same in assignment statements, function arguments, for loop variables, module imports, class attributes, and more. The good news is that there is just one assignment model in Python; once you get a handle on dynamic typing, you’ll find that it works the same everywhere in the language.\n",
    "\n",
    "At the most practical level, dynamic typing means there is less code for you to write. Just as importantly, though, dynamic typing is also the root of Python’s *polymorphism*\n",
    "\n",
    "### “Weak” References\n",
    "You may occasionally see the term “weak reference” in the Python world. This is a somewhat advanced tool, but is related to the reference model we’ve explored here, and like the `is` operator, can’t really be understood without it.\n",
    "\n",
    "In short, a weak reference, implemented by the `weakref` standard library module, is a reference to an object that does not by itself prevent the referenced object from being garbage-collected. If the last remaining references to an object are weak references, the object is reclaimed and the weak references to it are automatically deleted (or otherwise notified).\n",
    "This can be useful in dictionary-based caches of large objects, for example; otherwise, the cache’s reference alone would keep the object in memory indefinitely. Still, this is really just a special-case extension to the reference model. For more details, see Python’s library manual.\n",
    "\n",
    "\n"
   ]
  },
  {
   "cell_type": "code",
   "execution_count": null,
   "metadata": {},
   "outputs": [],
   "source": []
  }
 ],
 "metadata": {
  "kernelspec": {
   "display_name": "Python 3",
   "language": "python",
   "name": "python3"
  },
  "language_info": {
   "codemirror_mode": {
    "name": "ipython",
    "version": 3
   },
   "file_extension": ".py",
   "mimetype": "text/x-python",
   "name": "python",
   "nbconvert_exporter": "python",
   "pygments_lexer": "ipython3",
   "version": "3.8.8"
  }
 },
 "nbformat": 4,
 "nbformat_minor": 2
}
